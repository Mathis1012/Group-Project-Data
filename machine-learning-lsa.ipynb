{
 "cells": [
  {
   "cell_type": "markdown",
   "id": "d4c6c53e",
   "metadata": {
    "papermill": {
     "duration": 0.01897,
     "end_time": "2024-12-09T09:37:14.093627",
     "exception": false,
     "start_time": "2024-12-09T09:37:14.074657",
     "status": "completed"
    },
    "tags": []
   },
   "source": [
    "# Machine learing"
   ]
  },
  {
   "cell_type": "markdown",
   "id": "622d1d8c",
   "metadata": {
    "papermill": {
     "duration": 0.016474,
     "end_time": "2024-12-09T09:37:14.127289",
     "exception": false,
     "start_time": "2024-12-09T09:37:14.110815",
     "status": "completed"
    },
    "tags": []
   },
   "source": [
    "## Further preprocessing"
   ]
  },
  {
   "cell_type": "markdown",
   "id": "6cd296c0",
   "metadata": {
    "papermill": {
     "duration": 0.016925,
     "end_time": "2024-12-09T09:37:14.160873",
     "exception": false,
     "start_time": "2024-12-09T09:37:14.143948",
     "status": "completed"
    },
    "tags": []
   },
   "source": [
    "### Reading the necessary libraries and import data"
   ]
  },
  {
   "cell_type": "code",
   "execution_count": 1,
   "id": "1e8aacf4",
   "metadata": {
    "execution": {
     "iopub.execute_input": "2024-12-09T09:37:14.203385Z",
     "iopub.status.busy": "2024-12-09T09:37:14.202846Z",
     "iopub.status.idle": "2024-12-09T09:37:15.378651Z",
     "shell.execute_reply": "2024-12-09T09:37:15.376649Z"
    },
    "papermill": {
     "duration": 1.19911,
     "end_time": "2024-12-09T09:37:15.381343",
     "exception": false,
     "start_time": "2024-12-09T09:37:14.182233",
     "status": "completed"
    },
    "tags": []
   },
   "outputs": [],
   "source": [
    "import pandas as pd\n",
    "import matplotlib.pyplot as plt\n",
    "\n",
    "import warnings;\n",
    "warnings.filterwarnings('ignore');"
   ]
  },
  {
   "cell_type": "markdown",
   "id": "0d02784b",
   "metadata": {
    "papermill": {
     "duration": 0.01784,
     "end_time": "2024-12-09T09:37:15.416593",
     "exception": false,
     "start_time": "2024-12-09T09:37:15.398753",
     "status": "completed"
    },
    "tags": []
   },
   "source": [
    "Reading the preprocessed machine learning data formed in R\n",
    "And removing the unnamed:0 kolom that will be inserted."
   ]
  },
  {
   "cell_type": "code",
   "execution_count": 2,
   "id": "b075be9f",
   "metadata": {
    "execution": {
     "iopub.execute_input": "2024-12-09T09:37:15.456343Z",
     "iopub.status.busy": "2024-12-09T09:37:15.455806Z",
     "iopub.status.idle": "2024-12-09T09:37:15.580530Z",
     "shell.execute_reply": "2024-12-09T09:37:15.579010Z"
    },
    "papermill": {
     "duration": 0.148008,
     "end_time": "2024-12-09T09:37:15.584145",
     "exception": false,
     "start_time": "2024-12-09T09:37:15.436137",
     "status": "completed"
    },
    "tags": []
   },
   "outputs": [
    {
     "name": "stdout",
     "output_type": "stream",
     "text": [
      "     B_cells  basophils  CD16_pos_monocytes  CD16_pos_CD14_pos_monocytes  \\\n",
      "1       34.4       1.45                5.85                         1.55   \n",
      "2       41.0       0.19                7.78                         1.33   \n",
      "3       34.6       0.21                4.10                         0.58   \n",
      "4       34.8       0.29                1.64                         1.29   \n",
      "5       40.8       0.64                3.45                         0.55   \n",
      "..       ...        ...                 ...                          ...   \n",
      "300     84.5       0.61               12.90                         4.48   \n",
      "301     71.2       0.56               20.00                         8.72   \n",
      "302     74.2       0.30               11.30                         3.41   \n",
      "303     57.7       0.44                3.10                         1.14   \n",
      "304     73.2       0.67                3.89                         3.05   \n",
      "\n",
      "     CD16_pos_CD14_neg_monocytes  CD16_neg_CD56bright_NK_cells  \\\n",
      "1                           4.46                          3.79   \n",
      "2                           6.69                          1.96   \n",
      "3                           3.59                          2.26   \n",
      "4                           0.40                          2.66   \n",
      "5                           3.04                          0.72   \n",
      "..                           ...                           ...   \n",
      "300                         8.68                          0.62   \n",
      "301                        12.20                          0.89   \n",
      "302                         8.08                          0.87   \n",
      "303                         2.00                          2.71   \n",
      "304                         1.04                          1.67   \n",
      "\n",
      "     CD161_pos_NK_cells  CD161_pos_NKT_cells  CD161_pos_CD4_pos_T_cells  \\\n",
      "1                  65.6                 62.6                      11.40   \n",
      "2                  48.3                 41.5                       4.71   \n",
      "3                  80.8                 61.5                       8.31   \n",
      "4                  49.9                 64.6                      12.50   \n",
      "5                  69.0                 24.4                      13.70   \n",
      "..                  ...                  ...                        ...   \n",
      "300                62.8                 22.9                       4.36   \n",
      "301                89.2                 74.6                       4.70   \n",
      "302                82.8                 82.6                      12.90   \n",
      "303                71.7                 74.8                       5.55   \n",
      "304                40.7                 83.9                       3.55   \n",
      "\n",
      "     CD161_pos_CD45RA_pos_Tregs  ...  CD33_pos_monocytes  CD8_neg_T_cells  \\\n",
      "1                          1.66  ...           89.691667        61.479167   \n",
      "2                          0.43  ...           89.691667        61.479167   \n",
      "3                          0.51  ...           89.691667        61.479167   \n",
      "4                          0.17  ...           89.691667        61.479167   \n",
      "5                          0.20  ...           89.691667        61.479167   \n",
      "..                          ...  ...                 ...              ...   \n",
      "300                        0.08  ...           89.691667        61.479167   \n",
      "301                        0.08  ...           89.691667        61.479167   \n",
      "302                        0.24  ...           89.691667        61.479167   \n",
      "303                        0.11  ...           89.691667        61.479167   \n",
      "304                        0.30  ...           89.691667        61.479167   \n",
      "\n",
      "     CXCR3_pos_B_cells  CXCR3_pos_CD33_pos_monocytes  CXCR3_pos_NK_cells  \\\n",
      "1             6.999583                     16.940833             34.1875   \n",
      "2             6.999583                     16.940833             34.1875   \n",
      "3             6.999583                     16.940833             34.1875   \n",
      "4             6.999583                     16.940833             34.1875   \n",
      "5             6.999583                     16.940833             34.1875   \n",
      "..                 ...                           ...                 ...   \n",
      "300           6.999583                     16.940833             34.1875   \n",
      "301           6.999583                     16.940833             34.1875   \n",
      "302           6.999583                     16.940833             34.1875   \n",
      "303           6.999583                     16.940833             34.1875   \n",
      "304           6.999583                     16.940833             34.1875   \n",
      "\n",
      "     CXCR3_pos_CD4_pos_T_cells  CXCR3_pos_CD8_pos_T_cells  \\\n",
      "1                    35.566667                    72.5625   \n",
      "2                    35.566667                    72.5625   \n",
      "3                    35.566667                    72.5625   \n",
      "4                    35.566667                    72.5625   \n",
      "5                    35.566667                    72.5625   \n",
      "..                         ...                        ...   \n",
      "300                  35.566667                    72.5625   \n",
      "301                  35.566667                    72.5625   \n",
      "302                  35.566667                    72.5625   \n",
      "303                  35.566667                    72.5625   \n",
      "304                  35.566667                    72.5625   \n",
      "\n",
      "     CD28_pos_CD4_pos_T_cells  CD314_pos_CD94_pos_CD8_pos_T_cells  \\\n",
      "1                   97.745833                             5.99125   \n",
      "2                   97.745833                             5.99125   \n",
      "3                   97.745833                             5.99125   \n",
      "4                   97.745833                             5.99125   \n",
      "5                   97.745833                             5.99125   \n",
      "..                        ...                                 ...   \n",
      "300                 97.745833                             5.99125   \n",
      "301                 97.745833                             5.99125   \n",
      "302                 97.745833                             5.99125   \n",
      "303                 97.745833                             5.99125   \n",
      "304                 97.745833                             5.99125   \n",
      "\n",
      "     vaccine_response  \n",
      "1                   0  \n",
      "2                   0  \n",
      "3                   0  \n",
      "4                   0  \n",
      "5                   0  \n",
      "..                ...  \n",
      "300                 0  \n",
      "301                 0  \n",
      "302                 0  \n",
      "303                 0  \n",
      "304                 0  \n",
      "\n",
      "[304 rows x 412 columns]\n"
     ]
    }
   ],
   "source": [
    "Influ_data_P = pd.read_csv(\"/kaggle/input/combined-data-p/combined_data_P.csv\", index_col=0)\n",
    "#Drop the donor IDs. These can't be used to make the machine learning model.\n",
    "Influ_data_P = Influ_data_P.drop(\"donor_id\", axis = 1)\n",
    "print(Influ_data_P)"
   ]
  },
  {
   "cell_type": "markdown",
   "id": "c9b5d077",
   "metadata": {
    "papermill": {
     "duration": 0.017125,
     "end_time": "2024-12-09T09:37:15.619333",
     "exception": false,
     "start_time": "2024-12-09T09:37:15.602208",
     "status": "completed"
    },
    "tags": []
   },
   "source": [
    "### Dividing the data in a trainset and testset"
   ]
  },
  {
   "cell_type": "code",
   "execution_count": 3,
   "id": "6f8ecc69",
   "metadata": {
    "execution": {
     "iopub.execute_input": "2024-12-09T09:37:15.660467Z",
     "iopub.status.busy": "2024-12-09T09:37:15.660034Z",
     "iopub.status.idle": "2024-12-09T09:37:17.619003Z",
     "shell.execute_reply": "2024-12-09T09:37:17.617787Z"
    },
    "papermill": {
     "duration": 1.982292,
     "end_time": "2024-12-09T09:37:17.621237",
     "exception": false,
     "start_time": "2024-12-09T09:37:15.638945",
     "status": "completed"
    },
    "tags": []
   },
   "outputs": [
    {
     "name": "stdout",
     "output_type": "stream",
     "text": [
      "Train set: (212, 411), (212,)\n",
      "Test set: (92, 411), (92,)\n"
     ]
    }
   ],
   "source": [
    "from sklearn.model_selection import train_test_split\n",
    "\n",
    "# Difining the features (X) and target (y)\n",
    "X = Influ_data_P.drop('vaccine_response', axis=1)\n",
    "y = Influ_data_P['vaccine_response']\n",
    "\n",
    "# Dividing the data in train- en testdatasets\n",
    "X_train, X_test, y_train, y_test = train_test_split(X, y, test_size=0.3, random_state=42, stratify=y)\n",
    "#test_size=0,30 means that we use 30% as test data and 70% as traindata.\n",
    "#Random_state=42 ensures that the distribution, between the train and testdata,is reproducible. By using a fixed number, we get always the same distribution if we run our code again from the beginning.\n",
    "#Stratify=y is ensuring that both the training and test sets have a similar proportion of each class by stratified splitting. This helps maintain the class distribution in both sets.\n",
    "\n",
    "# Control the split up of both datasets\n",
    "print(f'Train set: {X_train.shape}, {y_train.shape}')\n",
    "print(f'Test set: {X_test.shape}, {y_test.shape}')"
   ]
  },
  {
   "cell_type": "markdown",
   "id": "d88d6380",
   "metadata": {
    "papermill": {
     "duration": 0.017106,
     "end_time": "2024-12-09T09:37:17.655580",
     "exception": false,
     "start_time": "2024-12-09T09:37:17.638474",
     "status": "completed"
    },
    "tags": []
   },
   "source": [
    "Control if vaccine_response is out the X dataframe."
   ]
  },
  {
   "cell_type": "code",
   "execution_count": 4,
   "id": "1004cc38",
   "metadata": {
    "execution": {
     "iopub.execute_input": "2024-12-09T09:37:17.691373Z",
     "iopub.status.busy": "2024-12-09T09:37:17.690841Z",
     "iopub.status.idle": "2024-12-09T09:37:17.710951Z",
     "shell.execute_reply": "2024-12-09T09:37:17.709628Z"
    },
    "papermill": {
     "duration": 0.041541,
     "end_time": "2024-12-09T09:37:17.713943",
     "exception": false,
     "start_time": "2024-12-09T09:37:17.672402",
     "status": "completed"
    },
    "tags": []
   },
   "outputs": [
    {
     "name": "stdout",
     "output_type": "stream",
     "text": [
      "     B_cells  basophils  CD16_pos_monocytes  CD16_pos_CD14_pos_monocytes  \\\n",
      "1       34.4       1.45                5.85                         1.55   \n",
      "2       41.0       0.19                7.78                         1.33   \n",
      "3       34.6       0.21                4.10                         0.58   \n",
      "4       34.8       0.29                1.64                         1.29   \n",
      "5       40.8       0.64                3.45                         0.55   \n",
      "..       ...        ...                 ...                          ...   \n",
      "300     84.5       0.61               12.90                         4.48   \n",
      "301     71.2       0.56               20.00                         8.72   \n",
      "302     74.2       0.30               11.30                         3.41   \n",
      "303     57.7       0.44                3.10                         1.14   \n",
      "304     73.2       0.67                3.89                         3.05   \n",
      "\n",
      "     CD16_pos_CD14_neg_monocytes  CD16_neg_CD56bright_NK_cells  \\\n",
      "1                           4.46                          3.79   \n",
      "2                           6.69                          1.96   \n",
      "3                           3.59                          2.26   \n",
      "4                           0.40                          2.66   \n",
      "5                           3.04                          0.72   \n",
      "..                           ...                           ...   \n",
      "300                         8.68                          0.62   \n",
      "301                        12.20                          0.89   \n",
      "302                         8.08                          0.87   \n",
      "303                         2.00                          2.71   \n",
      "304                         1.04                          1.67   \n",
      "\n",
      "     CD161_pos_NK_cells  CD161_pos_NKT_cells  CD161_pos_CD4_pos_T_cells  \\\n",
      "1                  65.6                 62.6                      11.40   \n",
      "2                  48.3                 41.5                       4.71   \n",
      "3                  80.8                 61.5                       8.31   \n",
      "4                  49.9                 64.6                      12.50   \n",
      "5                  69.0                 24.4                      13.70   \n",
      "..                  ...                  ...                        ...   \n",
      "300                62.8                 22.9                       4.36   \n",
      "301                89.2                 74.6                       4.70   \n",
      "302                82.8                 82.6                      12.90   \n",
      "303                71.7                 74.8                       5.55   \n",
      "304                40.7                 83.9                       3.55   \n",
      "\n",
      "     CD161_pos_CD45RA_pos_Tregs  ...  CD314_neg_CD94_neg_CD8_neg_T_cells  \\\n",
      "1                          1.66  ...                               86.85   \n",
      "2                          0.43  ...                               86.85   \n",
      "3                          0.51  ...                               86.85   \n",
      "4                          0.17  ...                               86.85   \n",
      "5                          0.20  ...                               86.85   \n",
      "..                          ...  ...                                 ...   \n",
      "300                        0.08  ...                               86.85   \n",
      "301                        0.08  ...                               86.85   \n",
      "302                        0.24  ...                               86.85   \n",
      "303                        0.11  ...                               86.85   \n",
      "304                        0.30  ...                               86.85   \n",
      "\n",
      "     CD33_pos_monocytes  CD8_neg_T_cells  CXCR3_pos_B_cells  \\\n",
      "1             89.691667        61.479167           6.999583   \n",
      "2             89.691667        61.479167           6.999583   \n",
      "3             89.691667        61.479167           6.999583   \n",
      "4             89.691667        61.479167           6.999583   \n",
      "5             89.691667        61.479167           6.999583   \n",
      "..                  ...              ...                ...   \n",
      "300           89.691667        61.479167           6.999583   \n",
      "301           89.691667        61.479167           6.999583   \n",
      "302           89.691667        61.479167           6.999583   \n",
      "303           89.691667        61.479167           6.999583   \n",
      "304           89.691667        61.479167           6.999583   \n",
      "\n",
      "     CXCR3_pos_CD33_pos_monocytes  CXCR3_pos_NK_cells  \\\n",
      "1                       16.940833             34.1875   \n",
      "2                       16.940833             34.1875   \n",
      "3                       16.940833             34.1875   \n",
      "4                       16.940833             34.1875   \n",
      "5                       16.940833             34.1875   \n",
      "..                            ...                 ...   \n",
      "300                     16.940833             34.1875   \n",
      "301                     16.940833             34.1875   \n",
      "302                     16.940833             34.1875   \n",
      "303                     16.940833             34.1875   \n",
      "304                     16.940833             34.1875   \n",
      "\n",
      "     CXCR3_pos_CD4_pos_T_cells  CXCR3_pos_CD8_pos_T_cells  \\\n",
      "1                    35.566667                    72.5625   \n",
      "2                    35.566667                    72.5625   \n",
      "3                    35.566667                    72.5625   \n",
      "4                    35.566667                    72.5625   \n",
      "5                    35.566667                    72.5625   \n",
      "..                         ...                        ...   \n",
      "300                  35.566667                    72.5625   \n",
      "301                  35.566667                    72.5625   \n",
      "302                  35.566667                    72.5625   \n",
      "303                  35.566667                    72.5625   \n",
      "304                  35.566667                    72.5625   \n",
      "\n",
      "     CD28_pos_CD4_pos_T_cells  CD314_pos_CD94_pos_CD8_pos_T_cells  \n",
      "1                   97.745833                             5.99125  \n",
      "2                   97.745833                             5.99125  \n",
      "3                   97.745833                             5.99125  \n",
      "4                   97.745833                             5.99125  \n",
      "5                   97.745833                             5.99125  \n",
      "..                        ...                                 ...  \n",
      "300                 97.745833                             5.99125  \n",
      "301                 97.745833                             5.99125  \n",
      "302                 97.745833                             5.99125  \n",
      "303                 97.745833                             5.99125  \n",
      "304                 97.745833                             5.99125  \n",
      "\n",
      "[304 rows x 411 columns]\n"
     ]
    }
   ],
   "source": [
    "print(X)"
   ]
  },
  {
   "cell_type": "code",
   "execution_count": 5,
   "id": "f9122277",
   "metadata": {
    "execution": {
     "iopub.execute_input": "2024-12-09T09:37:17.751299Z",
     "iopub.status.busy": "2024-12-09T09:37:17.750900Z",
     "iopub.status.idle": "2024-12-09T09:37:17.764765Z",
     "shell.execute_reply": "2024-12-09T09:37:17.763530Z"
    },
    "papermill": {
     "duration": 0.035213,
     "end_time": "2024-12-09T09:37:17.767052",
     "exception": false,
     "start_time": "2024-12-09T09:37:17.731839",
     "status": "completed"
    },
    "tags": []
   },
   "outputs": [
    {
     "data": {
      "text/plain": [
       "vaccine_response\n",
       "0    150\n",
       "1     62\n",
       "Name: count, dtype: int64"
      ]
     },
     "execution_count": 5,
     "metadata": {},
     "output_type": "execute_result"
    }
   ],
   "source": [
    "y_train.value_counts()"
   ]
  },
  {
   "cell_type": "code",
   "execution_count": 6,
   "id": "e2e8eda0",
   "metadata": {
    "execution": {
     "iopub.execute_input": "2024-12-09T09:37:17.803536Z",
     "iopub.status.busy": "2024-12-09T09:37:17.803101Z",
     "iopub.status.idle": "2024-12-09T09:37:17.812337Z",
     "shell.execute_reply": "2024-12-09T09:37:17.811181Z"
    },
    "papermill": {
     "duration": 0.030357,
     "end_time": "2024-12-09T09:37:17.814987",
     "exception": false,
     "start_time": "2024-12-09T09:37:17.784630",
     "status": "completed"
    },
    "tags": []
   },
   "outputs": [
    {
     "data": {
      "text/plain": [
       "vaccine_response\n",
       "0    65\n",
       "1    27\n",
       "Name: count, dtype: int64"
      ]
     },
     "execution_count": 6,
     "metadata": {},
     "output_type": "execute_result"
    }
   ],
   "source": [
    "y_test.value_counts()"
   ]
  },
  {
   "cell_type": "markdown",
   "id": "bf6cf6c9",
   "metadata": {
    "papermill": {
     "duration": 0.01696,
     "end_time": "2024-12-09T09:37:17.850767",
     "exception": false,
     "start_time": "2024-12-09T09:37:17.833807",
     "status": "completed"
    },
    "tags": []
   },
   "source": [
    "We can see that the amount of non-vaccine responders is double the  amount of vaccine responders. Thus we have a class imbalance."
   ]
  },
  {
   "cell_type": "markdown",
   "id": "7d0d6c73",
   "metadata": {
    "papermill": {
     "duration": 0.017083,
     "end_time": "2024-12-09T09:37:17.885740",
     "exception": false,
     "start_time": "2024-12-09T09:37:17.868657",
     "status": "completed"
    },
    "tags": []
   },
   "source": [
    "### Standardization of the data"
   ]
  },
  {
   "cell_type": "markdown",
   "id": "3432029d",
   "metadata": {
    "papermill": {
     "duration": 0.01691,
     "end_time": "2024-12-09T09:37:17.919446",
     "exception": false,
     "start_time": "2024-12-09T09:37:17.902536",
     "status": "completed"
    },
    "tags": []
   },
   "source": [
    "**Using StandardScaler()**"
   ]
  },
  {
   "cell_type": "markdown",
   "id": "de8a1a7a",
   "metadata": {
    "papermill": {
     "duration": 0.018216,
     "end_time": "2024-12-09T09:37:17.954670",
     "exception": false,
     "start_time": "2024-12-09T09:37:17.936454",
     "status": "completed"
    },
    "tags": []
   },
   "source": [
    "*A) The train set (X_train)*"
   ]
  },
  {
   "cell_type": "markdown",
   "id": "dae996de",
   "metadata": {
    "papermill": {
     "duration": 0.018999,
     "end_time": "2024-12-09T09:37:17.992309",
     "exception": false,
     "start_time": "2024-12-09T09:37:17.973310",
     "status": "completed"
    },
    "tags": []
   },
   "source": [
    "First looking at the summary of alle the features. They are all expressed in the same units,% of Parent, see preprocessing in R. But the numbers are not on the same scale. Some are 0.-numbers and others are 80+-numbers."
   ]
  },
  {
   "cell_type": "code",
   "execution_count": 7,
   "id": "a145e338",
   "metadata": {
    "execution": {
     "iopub.execute_input": "2024-12-09T09:37:18.035347Z",
     "iopub.status.busy": "2024-12-09T09:37:18.034913Z",
     "iopub.status.idle": "2024-12-09T09:37:18.882849Z",
     "shell.execute_reply": "2024-12-09T09:37:18.880944Z"
    },
    "papermill": {
     "duration": 0.873204,
     "end_time": "2024-12-09T09:37:18.887097",
     "exception": false,
     "start_time": "2024-12-09T09:37:18.013893",
     "status": "completed"
    },
    "tags": []
   },
   "outputs": [
    {
     "name": "stdout",
     "output_type": "stream",
     "text": [
      "          B_cells   basophils  CD16_pos_monocytes  \\\n",
      "count  304.000000  304.000000          304.000000   \n",
      "mean    47.801902    0.460686            4.979733   \n",
      "std     13.592041    0.265305            3.891695   \n",
      "min      8.586667    0.020000            0.000000   \n",
      "25%     38.683333    0.327500            2.377500   \n",
      "50%     47.500000    0.453684            4.430000   \n",
      "75%     56.425000    0.477600            6.042500   \n",
      "max     86.600000    1.800000           25.700000   \n",
      "\n",
      "       CD16_pos_CD14_pos_monocytes  CD16_pos_CD14_neg_monocytes  \\\n",
      "count                   304.000000                   304.000000   \n",
      "mean                      2.419688                     2.760503   \n",
      "std                       1.740978                     2.962802   \n",
      "min                       0.000000                     0.000000   \n",
      "25%                       1.782500                     0.807500   \n",
      "50%                       2.035575                     2.275000   \n",
      "75%                       3.347600                     3.176404   \n",
      "max                      15.100000                    22.300000   \n",
      "\n",
      "       CD16_neg_CD56bright_NK_cells  CD161_pos_NK_cells  CD161_pos_NKT_cells  \\\n",
      "count                    304.000000          304.000000           304.000000   \n",
      "mean                       1.783250           63.645001            47.327939   \n",
      "std                        0.744752           16.252526            14.287502   \n",
      "min                        0.250000            8.680000             6.560000   \n",
      "25%                        1.502500           53.600000            43.504200   \n",
      "50%                        1.754211           64.428696            48.910789   \n",
      "75%                        1.853400           75.600000            49.008092   \n",
      "max                        5.970000           96.600000            92.600000   \n",
      "\n",
      "       CD161_pos_CD4_pos_T_cells  CD161_pos_CD45RA_pos_Tregs  ...  \\\n",
      "count                 304.000000                  304.000000  ...   \n",
      "mean                    9.430807                    0.417451  ...   \n",
      "std                     4.268972                    0.480581  ...   \n",
      "min                     1.490000                    0.000000  ...   \n",
      "25%                     6.155000                    0.037500  ...   \n",
      "50%                     9.195000                    0.225000  ...   \n",
      "75%                    11.925000                    0.670000  ...   \n",
      "max                    27.000000                    2.180000  ...   \n",
      "\n",
      "       CD314_neg_CD94_neg_CD8_neg_T_cells  CD33_pos_monocytes  \\\n",
      "count                          304.000000          304.000000   \n",
      "mean                            87.699013           90.155208   \n",
      "std                              2.679654            1.190060   \n",
      "min                             56.600000           82.250000   \n",
      "25%                             86.850000           89.691667   \n",
      "50%                             86.850000           89.691667   \n",
      "75%                             89.750000           91.275000   \n",
      "max                             96.800000           96.450000   \n",
      "\n",
      "       CD8_neg_T_cells  CXCR3_pos_B_cells  CXCR3_pos_CD33_pos_monocytes  \\\n",
      "count       304.000000         304.000000                    304.000000   \n",
      "mean         62.334279           5.721794                     13.720195   \n",
      "std           2.928314           2.595241                      5.933097   \n",
      "min          34.200000           1.700000                      1.600000   \n",
      "25%          61.479167           2.635000                      5.940000   \n",
      "50%          61.479167           6.999583                     16.940833   \n",
      "75%          64.400000           6.999583                     16.940833   \n",
      "max          74.400000          26.500000                     38.300000   \n",
      "\n",
      "       CXCR3_pos_NK_cells  CXCR3_pos_CD4_pos_T_cells  \\\n",
      "count          304.000000                 304.000000   \n",
      "mean            31.146423                  31.975439   \n",
      "std              6.003382                   6.830199   \n",
      "min             14.500000                  15.300000   \n",
      "25%             23.800000                  23.300000   \n",
      "50%             34.187500                  35.566667   \n",
      "75%             34.187500                  35.566667   \n",
      "max             69.400000                  77.100000   \n",
      "\n",
      "       CXCR3_pos_CD8_pos_T_cells  CD28_pos_CD4_pos_T_cells  \\\n",
      "count                 304.000000                304.000000   \n",
      "mean                   70.099630                 98.244751   \n",
      "std                     4.986273                  1.187345   \n",
      "min                    45.600000                 86.500000   \n",
      "25%                    64.150000                 97.745833   \n",
      "50%                    72.562500                 97.745833   \n",
      "75%                    72.562500                 99.450000   \n",
      "max                    94.900000                100.000000   \n",
      "\n",
      "       CD314_pos_CD94_pos_CD8_pos_T_cells  \n",
      "count                          304.000000  \n",
      "mean                             4.914979  \n",
      "std                              2.546697  \n",
      "min                              0.390000  \n",
      "25%                              2.315000  \n",
      "50%                              5.991250  \n",
      "75%                              5.991250  \n",
      "max                             34.400000  \n",
      "\n",
      "[8 rows x 411 columns]\n"
     ]
    }
   ],
   "source": [
    "print(X.describe())"
   ]
  },
  {
   "cell_type": "markdown",
   "id": "1f92d160",
   "metadata": {
    "papermill": {
     "duration": 0.017988,
     "end_time": "2024-12-09T09:37:18.926385",
     "exception": false,
     "start_time": "2024-12-09T09:37:18.908397",
     "status": "completed"
    },
    "tags": []
   },
   "source": [
    "> Visualize the data in boxplots."
   ]
  },
  {
   "cell_type": "code",
   "execution_count": 8,
   "id": "0ebfdcb2",
   "metadata": {
    "execution": {
     "iopub.execute_input": "2024-12-09T09:37:18.989023Z",
     "iopub.status.busy": "2024-12-09T09:37:18.988638Z",
     "iopub.status.idle": "2024-12-09T09:37:19.488539Z",
     "shell.execute_reply": "2024-12-09T09:37:19.487146Z"
    },
    "papermill": {
     "duration": 0.536089,
     "end_time": "2024-12-09T09:37:19.491365",
     "exception": false,
     "start_time": "2024-12-09T09:37:18.955276",
     "status": "completed"
    },
    "tags": []
   },
   "outputs": [
    {
     "data": {
      "image/png": "[encoded data removed]",
      "text/plain": [
       "<Figure size 1800x600 with 1 Axes>"
      ]
     },
     "metadata": {},
     "output_type": "display_data"
    }
   ],
   "source": [
    "plt.figure(figsize=(18,6)) #set the size of the plot\n",
    "X_train.sample(10, axis=\"columns\").boxplot()\n",
    "plt.xticks(rotation=90) #rotate the gene names on the x-axis\n",
    "plt.show() #show the plot"
   ]
  },
  {
   "cell_type": "markdown",
   "id": "4447f2a4",
   "metadata": {
    "papermill": {
     "duration": 0.020218,
     "end_time": "2024-12-09T09:37:19.530199",
     "exception": false,
     "start_time": "2024-12-09T09:37:19.509981",
     "status": "completed"
    },
    "tags": []
   },
   "source": [
    "We can see that the features have clearly different scales and there are some outliers. We will normalize the features using StandardScaler."
   ]
  },
  {
   "cell_type": "code",
   "execution_count": 9,
   "id": "3461c6b3",
   "metadata": {
    "execution": {
     "iopub.execute_input": "2024-12-09T09:37:19.622668Z",
     "iopub.status.busy": "2024-12-09T09:37:19.622292Z",
     "iopub.status.idle": "2024-12-09T09:37:19.627678Z",
     "shell.execute_reply": "2024-12-09T09:37:19.626391Z"
    },
    "papermill": {
     "duration": 0.081493,
     "end_time": "2024-12-09T09:37:19.630041",
     "exception": false,
     "start_time": "2024-12-09T09:37:19.548548",
     "status": "completed"
    },
    "tags": []
   },
   "outputs": [],
   "source": [
    "from sklearn.preprocessing import StandardScaler\n",
    "scaler_std = StandardScaler()"
   ]
  },
  {
   "cell_type": "code",
   "execution_count": 10,
   "id": "e1ee947d",
   "metadata": {
    "execution": {
     "iopub.execute_input": "2024-12-09T09:37:19.668843Z",
     "iopub.status.busy": "2024-12-09T09:37:19.668457Z",
     "iopub.status.idle": "2024-12-09T09:37:19.691695Z",
     "shell.execute_reply": "2024-12-09T09:37:19.690335Z"
    },
    "papermill": {
     "duration": 0.046336,
     "end_time": "2024-12-09T09:37:19.695285",
     "exception": false,
     "start_time": "2024-12-09T09:37:19.648949",
     "status": "completed"
    },
    "tags": []
   },
   "outputs": [
    {
     "name": "stdout",
     "output_type": "stream",
     "text": [
      "Means:\n",
      "[4.66561407e+01 4.73234260e-01 4.96995085e+00 2.47604630e+00\n",
      " 2.71825119e+00 1.82005546e+00 6.36977289e+01 4.66239087e+01\n",
      " 9.37417243e+00 4.18897036e-01 3.25989545e+00 1.00815123e+01\n",
      " 2.94754417e+01 8.33347760e+01 7.43649623e+01 5.59100255e+01\n",
      " 9.04196515e+01 9.55987388e+01 4.74745288e+01 2.72156912e+00\n",
      " 1.65602542e+01 3.10378762e+01 3.52487606e+00 1.54872827e+01\n",
      " 8.27846185e+01 1.17618357e+00 6.47701910e+00 3.24423008e+01\n",
      " 6.13594517e+00 2.90585157e+00 1.84209367e+01 1.28729348e+01\n",
      " 2.12840628e+01 3.13327628e+00 2.25978860e+00 4.35041685e-01\n",
      " 1.42372952e+00 2.28270463e+00 2.30562331e+00 9.88676883e+00\n",
      " 8.38652845e+00 2.59640700e+01 1.40086558e+01 9.81710857e+00\n",
      " 6.86960129e+01 1.19142719e+01 9.57175992e+00 2.31815736e+01\n",
      " 1.63885051e+01 1.69716588e+01 8.00194500e+01 5.17811190e+01\n",
      " 5.41719441e+01 1.82663552e+01 3.97613695e+00 1.14484312e+01\n",
      " 1.36197266e+01 1.05779278e+01 1.39312025e+00 6.78783688e+01\n",
      " 1.59365560e+01 3.29712790e+00 3.86791539e+01 5.06715531e+01\n",
      " 3.67109007e+01 5.46078798e+01 3.39332637e+00 2.84771529e+00\n",
      " 5.79262637e+00 5.40624300e+01 4.28504915e+01 5.35446503e+01\n",
      " 2.66970953e+01 2.54081653e+00 4.40466922e+00 6.25110247e+00\n",
      " 1.73693396e+00 1.66582075e+00 1.65462264e+00 1.76883962e+00\n",
      " 1.77820755e+00 1.47468868e+00 1.59296226e+00 1.52804717e+00\n",
      " 2.07308491e+00 2.07842453e+00 1.96609434e+00 2.07789623e+00\n",
      " 2.17499057e+00 1.88941509e+00 2.08516038e+00 1.94287736e+00\n",
      " 6.59333019e+01 6.51774528e+01 6.63203774e+01 6.46233019e+01\n",
      " 6.38283962e+01 6.85754717e+01 6.56300943e+01 6.52716981e+01\n",
      " 7.75558491e+00 7.71623585e+00 7.75711321e+00 2.74192453e+00\n",
      " 2.69683962e+00 7.46612264e+00 2.48720755e+00 7.82767925e+00\n",
      " 6.41088679e+01 6.33310377e+01 6.30367925e+01 6.10631132e+01\n",
      " 6.03285849e+01 6.13133019e+01 5.79937736e+01 6.21796226e+01\n",
      " 2.48935377e+01 2.41946226e+01 2.35236321e+01 2.04400943e+01\n",
      " 2.04475472e+01 1.99925943e+01 1.88904245e+01 2.42175472e+01\n",
      " 3.33223585e+01 3.24436792e+01 3.23971698e+01 3.01556604e+01\n",
      " 3.00647170e+01 3.10463208e+01 2.95733019e+01 3.34350943e+01\n",
      " 8.73038679e+00 8.34559434e+00 8.18074528e+00 9.12970755e+00\n",
      " 1.04287453e+01 8.61116981e+00 9.02831132e+00 8.38435849e+00\n",
      " 5.91881132e+01 5.95765094e+01 5.96471698e+01 5.97368868e+01\n",
      " 5.96428302e+01 5.97559434e+01 5.94317925e+01 5.94357547e+01\n",
      " 1.00746321e+01 1.05623679e+01 9.97205660e+00 5.07324528e+00\n",
      " 4.78175472e+00 1.02049717e+01 5.03079245e+00 9.63476415e+00\n",
      " 4.48917925e+01 4.37583962e+01 4.22422642e+01 3.99618868e+01\n",
      " 4.07395283e+01 4.28629245e+01 3.95257547e+01 4.24255660e+01\n",
      " 1.38986887e+01 1.48015849e+01 1.46706226e+01 1.00231792e+01\n",
      " 9.54894340e+00 1.49433019e+01 9.61236792e+00 1.45157830e+01\n",
      " 3.14534906e+01 3.11860377e+01 3.10992453e+01 3.09469811e+01\n",
      " 3.09066038e+01 3.08990566e+01 3.11999057e+01 3.09700000e+01\n",
      " 5.02512264e+00 4.82490566e+00 4.76494340e+00 4.75475472e+00\n",
      " 4.95322642e+00 4.68778302e+00 4.92049057e+00 4.50903774e+00\n",
      " 2.60618868e+00 2.59621698e+00 2.42826415e+00 2.51929245e+00\n",
      " 2.57693396e+00 2.37412264e+00 2.49218868e+00 2.32881132e+00\n",
      " 2.16778302e+00 2.13601887e+00 2.08495283e+00 2.12733962e+00\n",
      " 2.15199057e+00 2.08823585e+00 2.17438679e+00 2.21737736e+00\n",
      " 5.50801887e+00 4.69514151e+00 4.49150000e+00 4.64004717e+00\n",
      " 4.80210377e+00 4.41462264e+00 4.96933019e+00 4.81551887e+00\n",
      " 8.99792453e-01 7.83264151e-01 7.48820755e-01 7.56386792e-01\n",
      " 7.58386792e-01 7.25283019e-01 8.19415094e-01 7.79528302e-01\n",
      " 6.29896226e-01 4.84915094e-01 4.29858491e-01 4.17688679e-01\n",
      " 4.37792453e-01 3.84396226e-01 4.07547170e-01 4.25160377e-01\n",
      " 4.39349057e+01 4.29607547e+01 4.22685849e+01 4.21266981e+01\n",
      " 4.28722642e+01 3.98576415e+01 4.26418868e+01 4.48700943e+01\n",
      " 6.76667925e+00 6.67336792e+00 6.87153774e+00 2.02838679e+00\n",
      " 1.80368868e+00 7.22433962e+00 1.88278302e+00 6.79853774e+00\n",
      " 1.90937075e+01 2.02066981e+01 1.90861792e+01 1.61241509e+01\n",
      " 1.59557547e+01 2.00505660e+01 1.53640566e+01 1.71599717e+01\n",
      " 8.65240566e+00 8.72670755e+00 8.38445283e+00 4.71411321e+00\n",
      " 4.57962264e+00 8.41268868e+00 2.88830189e+00 8.72401887e+00\n",
      " 4.62505660e+01 4.80429717e+01 4.64802830e+01 4.32276415e+01\n",
      " 4.32170755e+01 4.68883019e+01 4.59785849e+01 4.72656604e+01\n",
      " 4.15874528e+01 3.85941038e+01 4.16183491e+01 3.59217925e+01\n",
      " 3.62609434e+01 4.02349057e+01 3.57551887e+01 4.23983019e+01\n",
      " 7.11445283e+01 7.21135849e+01 7.19131132e+01 7.00652830e+01\n",
      " 7.03483019e+01 7.26133962e+01 7.07968868e+01 7.15283019e+01\n",
      " 7.07883962e+00 6.97779245e+00 6.86906604e+00 1.94088679e+00\n",
      " 1.87933019e+00 6.87143396e+00 1.78253774e+00 7.16395283e+00\n",
      " 3.87996226e+01 3.83217925e+01 3.52433019e+01 3.15383113e+01\n",
      " 3.51088302e+01 3.16539623e+01 2.96518491e+01 3.83321887e+01\n",
      " 1.80625283e+01 1.70621509e+01 1.72867264e+01 1.32381887e+01\n",
      " 1.33073208e+01 1.70027642e+01 1.25237075e+01 1.73596415e+01\n",
      " 8.67232547e+01 8.70657075e+01 8.72186321e+01 9.23575472e+01\n",
      " 9.21586792e+01 8.73009906e+01 9.20934906e+01 8.73128774e+01\n",
      " 8.60666981e+01 8.70351887e+01 8.74488679e+01 9.24289623e+01\n",
      " 9.21814151e+01 8.76425472e+01 9.21432075e+01 8.72440566e+01\n",
      " 2.39062453e+01 2.31639623e+01 2.34850377e+01 1.96970377e+01\n",
      " 1.95337642e+01 2.44524340e+01 2.14864340e+01 2.49506038e+01\n",
      " 6.03617925e+00 6.08759434e+00 6.13118868e+00 1.01201887e+00\n",
      " 9.17632075e-01 6.19345283e+00 9.54669811e-01 6.18002830e+00\n",
      " 7.10776415e+00 7.05969811e+00 7.14876415e+00 2.00022642e+00\n",
      " 1.92976415e+00 7.15490566e+00 2.00820755e+00 7.16729245e+00\n",
      " 1.92808868e+01 1.94242264e+01 1.94909811e+01 1.47481981e+01\n",
      " 1.44794717e+01 1.90846415e+01 1.48910943e+01 1.95004151e+01\n",
      " 6.29221698e+01 6.04748113e+01 5.64163208e+01 5.56505660e+01\n",
      " 5.60986792e+01 5.51612264e+01 5.04655660e+01 6.13584906e+01\n",
      " 6.38016038e+01 6.32767925e+01 6.32331132e+01 6.37197170e+01\n",
      " 6.37661321e+01 6.38229245e+01 6.42222642e+01 6.46927358e+01\n",
      " 9.51121698e+00 9.34418868e+00 9.60020755e+00 4.71603774e+00\n",
      " 4.02994340e+00 9.49124528e+00 4.54837736e+00 9.69935849e+00\n",
      " 5.25709434e+00 5.25292453e+00 5.27540566e+00 7.22924528e-02\n",
      " 9.06603774e-02 5.26183962e+00 8.91886792e-02 5.26099057e+00\n",
      " 5.17474057e+01 6.84346698e+01 3.13197524e+01 4.81547170e+01\n",
      " 3.22580189e+00 4.65224057e+01 8.87629717e+01 8.97301887e+00\n",
      " 8.55212264e-01 6.12735849e-02 6.29009434e-02 4.45816038e+00\n",
      " 6.35044811e+00 8.77330189e+01 9.02143868e+01 6.24441038e+01\n",
      " 5.64181604e+00 1.37165094e+01 3.09483491e+01 3.17801887e+01\n",
      " 7.01271226e+01 9.82903302e+01 4.83686321e+00]\n",
      "Variances:\n",
      "[1.67230981e+02 7.73227556e-02 1.33047794e+01 2.95147742e+00\n",
      " 7.98693830e+00 5.22546155e-01 2.61295816e+02 2.09184763e+02\n",
      " 1.86922826e+01 2.35645641e-01 7.47657837e+00 3.68043384e+01\n",
      " 3.04728566e+02 1.87761741e+02 2.12160091e+02 7.40482093e+01\n",
      " 5.44336779e+01 1.97176166e+01 1.05057013e+02 4.17022862e+00\n",
      " 1.13800406e+02 5.67203604e+01 7.67448699e+00 1.25952835e+02\n",
      " 1.03521682e+02 1.20990385e+00 1.62240048e+01 1.08547557e+02\n",
      " 1.42255869e+01 6.51322865e+00 1.77722120e+02 5.16877642e+01\n",
      " 1.23353830e+02 4.57901268e+00 6.62355140e+00 5.24379535e-01\n",
      " 7.98329318e+00 1.78741638e+00 9.18018780e+00 3.28555524e+02\n",
      " 2.22270515e+02 4.36492641e+01 1.28220593e+01 2.08168049e+01\n",
      " 1.02891552e+02 3.77794331e+01 3.19760957e+01 9.30284684e+01\n",
      " 6.85359339e+01 9.22482123e+01 6.77026152e+01 2.23772682e+02\n",
      " 3.46758310e+02 1.28393874e+02 8.59193613e+00 2.58913105e+01\n",
      " 4.03662464e+01 4.55694344e+01 2.16290197e+00 1.49829146e+02\n",
      " 1.94775360e+01 1.68639086e+00 6.97057397e+01 1.55490794e+02\n",
      " 3.89899856e+01 2.70028997e+02 2.33577849e+00 2.80548992e+00\n",
      " 7.44018410e+00 8.86299667e+01 1.76510276e+02 5.86924019e+01\n",
      " 2.37440018e+02 3.69506725e+00 2.24716392e+00 1.72893870e+01\n",
      " 8.43360639e-02 9.54385905e-02 9.92202132e-02 1.03728019e-01\n",
      " 1.21092288e-01 9.38471788e-02 1.13194610e-01 7.75766552e-02\n",
      " 4.40770343e-01 3.80283458e-01 3.15764038e-01 4.41450092e-01\n",
      " 5.47090518e-01 4.84194648e-01 4.62624609e-01 3.51843354e-01\n",
      " 6.92027894e+00 7.19827348e+00 5.18626285e+00 7.40886675e+00\n",
      " 8.02838770e+00 4.82018211e+00 6.63058591e+00 7.34741381e+00\n",
      " 1.33967258e+01 1.35373503e+01 1.38438218e+01 7.98228884e-02\n",
      " 7.47442573e-02 1.42611192e+01 6.63603038e-02 1.38758039e+01\n",
      " 9.62021483e+00 6.19504638e+00 8.99495981e+00 3.34245751e+00\n",
      " 7.68865359e+00 1.95859242e+01 1.01498672e+01 1.19169595e+01\n",
      " 1.08284184e+01 9.24179155e+00 8.81764933e+00 2.58722046e+00\n",
      " 1.83814594e+00 8.59123706e+00 1.28220871e+00 1.03779478e+01\n",
      " 5.30172550e+00 4.41476310e+00 5.02479605e+00 4.55598030e+00\n",
      " 1.92360010e+00 4.12008617e+00 1.99930506e+00 5.63479567e+00\n",
      " 4.74606153e-02 1.10031291e-01 5.53823720e-02 1.63939068e-01\n",
      " 3.07826340e-01 6.22792440e-02 4.59681759e-01 6.63759499e-02\n",
      " 2.02963191e+01 1.95665508e+01 1.88279637e+01 1.72718537e+01\n",
      " 1.85749946e+01 1.87355732e+01 1.87064904e+01 1.84816355e+01\n",
      " 1.23506328e+01 1.21121368e+01 1.33550019e+01 3.01631721e-01\n",
      " 3.81334079e-01 1.52773797e+01 3.90409186e-01 1.51936568e+01\n",
      " 4.65344105e+00 4.97122080e+00 4.51523232e+00 4.17903389e+00\n",
      " 4.79561560e+00 5.83572454e+00 4.21799896e+00 6.12512098e+00\n",
      " 1.85982796e+01 2.07276621e+01 1.61454423e+01 1.98124151e+00\n",
      " 1.47362303e+00 1.63905324e+01 1.32354371e+00 1.70154500e+01\n",
      " 1.03534832e+01 9.95048691e+00 9.83017331e+00 8.97447173e+00\n",
      " 1.00646951e+01 9.64546355e+00 9.51739143e+00 9.59916502e+00\n",
      " 4.48000954e+00 3.78434379e+00 3.79011337e+00 3.88009551e+00\n",
      " 4.16515313e+00 3.57430876e+00 3.90387192e+00 3.29947991e+00\n",
      " 1.35950337e+00 1.35571907e+00 1.24216073e+00 1.35176035e+00\n",
      " 1.56338425e+00 1.17548743e+00 1.23130869e+00 1.07363904e+00\n",
      " 2.94259417e-01 3.40229445e-01 3.18640310e-01 2.89229189e-01\n",
      " 2.87614988e-01 3.32810187e-01 2.11223463e-01 2.93918823e-01\n",
      " 3.64563875e+00 3.78370684e+00 3.52409217e+00 3.60338828e+00\n",
      " 3.59305208e+00 3.54828683e+00 3.70358013e+00 3.92647009e+00\n",
      " 1.99184192e-01 1.15974326e-01 1.06939357e-01 1.21796093e-01\n",
      " 1.02636595e-01 9.09186064e-02 1.18184793e-01 1.29074016e-01\n",
      " 1.66435602e-01 1.10319901e-01 9.19259959e-02 8.31312688e-02\n",
      " 8.11897305e-02 7.28189780e-02 6.59452173e-02 6.41127363e-02\n",
      " 2.33351096e+01 1.75103280e+01 1.74081543e+01 1.91081831e+01\n",
      " 1.92634168e+01 1.77112198e+01 1.67881747e+01 1.67157781e+01\n",
      " 1.10669700e+01 1.09148901e+01 1.13020634e+01 1.06756406e-01\n",
      " 7.85021368e-02 1.28444715e+01 9.93041198e-02 1.06609531e+01\n",
      " 2.29907751e+00 2.39154657e+00 5.22609625e+00 2.02843937e+00\n",
      " 4.31679620e+00 5.09946187e+00 8.86486446e+00 1.17136916e+01\n",
      " 1.05694675e+01 8.91690405e+00 1.00630901e+01 1.03472005e+00\n",
      " 1.23237649e+00 1.10428973e+01 4.21022370e-01 1.84446655e+01\n",
      " 3.08955856e+01 4.30206236e+01 4.32290738e+01 1.52600834e+01\n",
      " 2.46791332e+01 3.16545470e+01 1.08410803e+01 1.17299720e+01\n",
      " 1.15372683e+01 8.04502964e+00 9.75191683e+00 1.86959847e+01\n",
      " 1.69834546e+01 7.36513138e+00 8.98885015e+00 5.92088797e+00\n",
      " 6.88067296e+00 9.79877510e+00 8.91542267e+00 5.66230387e+00\n",
      " 5.45976388e+00 8.90371140e+00 4.05747550e+00 9.64259523e+00\n",
      " 1.24166386e+01 1.21592358e+01 1.14079702e+01 7.71423805e-02\n",
      " 7.34241334e-02 1.11546932e+01 5.26845135e-02 1.12756840e+01\n",
      " 1.29237781e+02 1.44619294e+02 1.15971252e+02 9.34522682e+01\n",
      " 1.20667194e+02 1.40227092e+02 7.88910491e+01 1.12904833e+02\n",
      " 4.76811268e+00 3.35061017e+00 3.62743506e+00 6.80626894e+00\n",
      " 7.08112655e+00 3.65224379e+00 6.11453606e+00 3.68986631e+00\n",
      " 3.21951553e+01 2.89083865e+01 2.83735949e+01 4.80685523e+00\n",
      " 5.20658693e+00 2.75050759e+01 5.36117490e+00 2.84502987e+01\n",
      " 2.75961956e+01 2.37444516e+01 2.28467902e+01 5.56492650e+00\n",
      " 6.17080743e+00 2.13698151e+01 5.54054791e+00 2.09945843e+01\n",
      " 2.43186650e+01 2.42619910e+01 2.20642835e+01 7.73917650e+00\n",
      " 7.48969697e+00 2.46783097e+01 8.28840114e+00 2.07582496e+01\n",
      " 1.33964541e+01 1.36089314e+01 1.35307221e+01 3.14292798e-02\n",
      " 2.20684960e-02 1.34610654e+01 3.23048619e-02 1.37094001e+01\n",
      " 1.47077756e+01 1.55361852e+01 1.53268402e+01 2.22487470e-01\n",
      " 2.29726541e-01 1.59626111e+01 1.89338224e-01 1.59802747e+01\n",
      " 1.80401170e+01 1.67262763e+01 2.02156826e+01 1.90651840e+00\n",
      " 2.05353878e+00 1.90459145e+01 2.42071621e+00 1.71647851e+01\n",
      " 1.24072604e+02 1.44508685e+02 9.91752421e+01 1.18932535e+02\n",
      " 1.24809939e+02 1.35364605e+02 7.83508499e+01 1.28231739e+02\n",
      " 6.83348988e+00 5.66328753e+00 5.79442122e+00 5.63489528e+00\n",
      " 6.15046646e+00 4.99001627e+00 5.45216207e+00 6.44494041e+00\n",
      " 1.87484786e+01 2.20725082e+01 2.11445029e+01 1.91110970e+00\n",
      " 1.59533646e+00 2.12389455e+01 1.81809670e+00 2.09218439e+01\n",
      " 1.29990376e+01 1.29624943e+01 1.29527959e+01 2.01294733e-04\n",
      " 1.23076238e-04 1.29579549e+01 2.14293863e-04 1.30384655e+01\n",
      " 3.59801613e+01 9.86205567e+00 1.01622373e+01 6.05263771e+01\n",
      " 1.65531618e+00 4.67233689e+01 1.15592058e+01 2.82753743e+00\n",
      " 1.10975535e-01 1.98135754e-03 8.56944197e-04 2.28915837e+00\n",
      " 4.00918293e+00 8.24872108e+00 1.31889286e+00 6.53304208e+00\n",
      " 5.33013973e+00 3.63263548e+01 3.63175710e+01 4.35107710e+01\n",
      " 2.72736777e+01 1.00074278e+00 3.83831708e+00]\n"
     ]
    }
   ],
   "source": [
    "scaler_std.fit(X_train)\n",
    "#fit computes the mean and the standard deviation for each attribute.\n",
    "\n",
    "print(\"Means:\")\n",
    "print(scaler_std.mean_)\n",
    "print(\"Variances:\")\n",
    "print(scaler_std.var_)"
   ]
  },
  {
   "cell_type": "markdown",
   "id": "a8e54593",
   "metadata": {
    "papermill": {
     "duration": 0.018824,
     "end_time": "2024-12-09T09:37:19.733163",
     "exception": false,
     "start_time": "2024-12-09T09:37:19.714339",
     "status": "completed"
    },
    "tags": []
   },
   "source": [
    "Now, Normalize the features in the train set\n",
    "The scaler object has a function transform() that uses the means and variances computed by the fit() function to normalize the feature"
   ]
  },
  {
   "cell_type": "code",
   "execution_count": 11,
   "id": "5f71327c",
   "metadata": {
    "execution": {
     "iopub.execute_input": "2024-12-09T09:37:19.771923Z",
     "iopub.status.busy": "2024-12-09T09:37:19.771556Z",
     "iopub.status.idle": "2024-12-09T09:37:19.785086Z",
     "shell.execute_reply": "2024-12-09T09:37:19.783886Z"
    },
    "papermill": {
     "duration": 0.035598,
     "end_time": "2024-12-09T09:37:19.787354",
     "exception": false,
     "start_time": "2024-12-09T09:37:19.751756",
     "status": "completed"
    },
    "tags": []
   },
   "outputs": [
    {
     "data": {
      "text/plain": [
       "array([[-1.17974003,  0.70761303, -0.56474581, ..., -1.14451191,\n",
       "         1.15923936, -1.28721503],\n",
       "       [-0.82402726, -0.08355553,  0.05758602, ...,  0.46633113,\n",
       "        -0.54429475,  0.58922467],\n",
       "       [-0.94002055, -0.07030629, -0.71004796, ...,  0.46633113,\n",
       "        -0.54429475,  0.58922467],\n",
       "       ...,\n",
       "       [-0.27499232, -1.62993044, -1.35979529, ...,  0.46633113,\n",
       "        -0.54429475,  0.58922467],\n",
       "       [-1.43492528,  0.01570016, -0.78681136, ..., -1.14451191,\n",
       "         1.15923936, -1.28721503],\n",
       "       [ 0.54469364, -1.01857291, -0.41670212, ...,  0.46633113,\n",
       "        -0.54429475,  0.58922467]])"
      ]
     },
     "execution_count": 11,
     "metadata": {},
     "output_type": "execute_result"
    }
   ],
   "source": [
    "X_train_std = scaler_std.transform(X_train)\n",
    "\n",
    "X_train_std"
   ]
  },
  {
   "cell_type": "markdown",
   "id": "c54bbaae",
   "metadata": {
    "papermill": {
     "duration": 0.018169,
     "end_time": "2024-12-09T09:37:19.824698",
     "exception": false,
     "start_time": "2024-12-09T09:37:19.806529",
     "status": "completed"
    },
    "tags": []
   },
   "source": [
    "The column names are missing after the transform() function. So we add them back by making a new panda dataframe."
   ]
  },
  {
   "cell_type": "code",
   "execution_count": 12,
   "id": "3f947fb7",
   "metadata": {
    "execution": {
     "iopub.execute_input": "2024-12-09T09:37:19.863686Z",
     "iopub.status.busy": "2024-12-09T09:37:19.863276Z",
     "iopub.status.idle": "2024-12-09T09:37:19.896788Z",
     "shell.execute_reply": "2024-12-09T09:37:19.895536Z"
    },
    "papermill": {
     "duration": 0.055618,
     "end_time": "2024-12-09T09:37:19.899173",
     "exception": false,
     "start_time": "2024-12-09T09:37:19.843555",
     "status": "completed"
    },
    "tags": []
   },
   "outputs": [
    {
     "data": {
      "text/html": [
       "<div>\n",
       "<style scoped>\n",
       "    .dataframe tbody tr th:only-of-type {\n",
       "        vertical-align: middle;\n",
       "    }\n",
       "\n",
       "    .dataframe tbody tr th {\n",
       "        vertical-align: top;\n",
       "    }\n",
       "\n",
       "    .dataframe thead th {\n",
       "        text-align: right;\n",
       "    }\n",
       "</style>\n",
       "<table border=\"1\" class=\"dataframe\">\n",
       "  <thead>\n",
       "    <tr style=\"text-align: right;\">\n",
       "      <th></th>\n",
       "      <th>B_cells</th>\n",
       "      <th>basophils</th>\n",
       "      <th>CD16_pos_monocytes</th>\n",
       "      <th>CD16_pos_CD14_pos_monocytes</th>\n",
       "      <th>CD16_pos_CD14_neg_monocytes</th>\n",
       "      <th>CD16_neg_CD56bright_NK_cells</th>\n",
       "      <th>CD161_pos_NK_cells</th>\n",
       "      <th>CD161_pos_NKT_cells</th>\n",
       "      <th>CD161_pos_CD4_pos_T_cells</th>\n",
       "      <th>CD161_pos_CD45RA_pos_Tregs</th>\n",
       "      <th>...</th>\n",
       "      <th>CD314_neg_CD94_neg_CD8_neg_T_cells</th>\n",
       "      <th>CD33_pos_monocytes</th>\n",
       "      <th>CD8_neg_T_cells</th>\n",
       "      <th>CXCR3_pos_B_cells</th>\n",
       "      <th>CXCR3_pos_CD33_pos_monocytes</th>\n",
       "      <th>CXCR3_pos_NK_cells</th>\n",
       "      <th>CXCR3_pos_CD4_pos_T_cells</th>\n",
       "      <th>CXCR3_pos_CD8_pos_T_cells</th>\n",
       "      <th>CD28_pos_CD4_pos_T_cells</th>\n",
       "      <th>CD314_pos_CD94_pos_CD8_pos_T_cells</th>\n",
       "    </tr>\n",
       "  </thead>\n",
       "  <tbody>\n",
       "    <tr>\n",
       "      <th>0</th>\n",
       "      <td>-1.179740</td>\n",
       "      <td>0.707613</td>\n",
       "      <td>-0.564746</td>\n",
       "      <td>0.124537</td>\n",
       "      <td>-0.901679</td>\n",
       "      <td>0.138260</td>\n",
       "      <td>-0.667984</td>\n",
       "      <td>-1.121736</td>\n",
       "      <td>0.103118</td>\n",
       "      <td>0.826278</td>\n",
       "      <td>...</td>\n",
       "      <td>0.702277</td>\n",
       "      <td>0.923533</td>\n",
       "      <td>0.765223</td>\n",
       "      <td>-1.302380</td>\n",
       "      <td>-1.290250</td>\n",
       "      <td>-1.186171</td>\n",
       "      <td>-1.285604</td>\n",
       "      <td>-1.144512</td>\n",
       "      <td>1.159239</td>\n",
       "      <td>-1.287215</td>\n",
       "    </tr>\n",
       "    <tr>\n",
       "      <th>1</th>\n",
       "      <td>-0.824027</td>\n",
       "      <td>-0.083556</td>\n",
       "      <td>0.057586</td>\n",
       "      <td>1.661220</td>\n",
       "      <td>-0.710604</td>\n",
       "      <td>-1.826122</td>\n",
       "      <td>0.878601</td>\n",
       "      <td>0.427020</td>\n",
       "      <td>0.607344</td>\n",
       "      <td>2.721491</td>\n",
       "      <td>...</td>\n",
       "      <td>-0.307452</td>\n",
       "      <td>-0.455160</td>\n",
       "      <td>-0.377521</td>\n",
       "      <td>0.588107</td>\n",
       "      <td>0.534968</td>\n",
       "      <td>0.537493</td>\n",
       "      <td>0.574033</td>\n",
       "      <td>0.466331</td>\n",
       "      <td>-0.544295</td>\n",
       "      <td>0.589225</td>\n",
       "    </tr>\n",
       "    <tr>\n",
       "      <th>2</th>\n",
       "      <td>-0.940021</td>\n",
       "      <td>-0.070306</td>\n",
       "      <td>-0.710048</td>\n",
       "      <td>-0.256388</td>\n",
       "      <td>0.162114</td>\n",
       "      <td>-0.091088</td>\n",
       "      <td>0.606402</td>\n",
       "      <td>0.158117</td>\n",
       "      <td>0.630474</td>\n",
       "      <td>-0.739333</td>\n",
       "      <td>...</td>\n",
       "      <td>-0.307452</td>\n",
       "      <td>-0.455160</td>\n",
       "      <td>-0.377521</td>\n",
       "      <td>0.588107</td>\n",
       "      <td>0.534968</td>\n",
       "      <td>0.537493</td>\n",
       "      <td>0.574033</td>\n",
       "      <td>0.466331</td>\n",
       "      <td>-0.544295</td>\n",
       "      <td>0.589225</td>\n",
       "    </tr>\n",
       "    <tr>\n",
       "      <th>3</th>\n",
       "      <td>-0.932288</td>\n",
       "      <td>-0.946648</td>\n",
       "      <td>-0.238501</td>\n",
       "      <td>-1.103645</td>\n",
       "      <td>0.308462</td>\n",
       "      <td>0.608605</td>\n",
       "      <td>1.058005</td>\n",
       "      <td>1.028546</td>\n",
       "      <td>-0.246139</td>\n",
       "      <td>0.187673</td>\n",
       "      <td>...</td>\n",
       "      <td>-0.307452</td>\n",
       "      <td>-0.455160</td>\n",
       "      <td>-0.377521</td>\n",
       "      <td>0.588107</td>\n",
       "      <td>0.534968</td>\n",
       "      <td>0.537493</td>\n",
       "      <td>0.574033</td>\n",
       "      <td>0.466331</td>\n",
       "      <td>-0.544295</td>\n",
       "      <td>0.589225</td>\n",
       "    </tr>\n",
       "    <tr>\n",
       "      <th>4</th>\n",
       "      <td>-1.999426</td>\n",
       "      <td>-1.378195</td>\n",
       "      <td>-0.715531</td>\n",
       "      <td>0.473784</td>\n",
       "      <td>-0.901679</td>\n",
       "      <td>2.088809</td>\n",
       "      <td>-0.896879</td>\n",
       "      <td>0.019089</td>\n",
       "      <td>0.792382</td>\n",
       "      <td>0.620276</td>\n",
       "      <td>...</td>\n",
       "      <td>0.702277</td>\n",
       "      <td>0.923533</td>\n",
       "      <td>0.765223</td>\n",
       "      <td>-1.302380</td>\n",
       "      <td>-1.290250</td>\n",
       "      <td>-1.186171</td>\n",
       "      <td>-1.285604</td>\n",
       "      <td>-1.144512</td>\n",
       "      <td>1.159239</td>\n",
       "      <td>-1.287215</td>\n",
       "    </tr>\n",
       "    <tr>\n",
       "      <th>...</th>\n",
       "      <td>...</td>\n",
       "      <td>...</td>\n",
       "      <td>...</td>\n",
       "      <td>...</td>\n",
       "      <td>...</td>\n",
       "      <td>...</td>\n",
       "      <td>...</td>\n",
       "      <td>...</td>\n",
       "      <td>...</td>\n",
       "      <td>...</td>\n",
       "      <td>...</td>\n",
       "      <td>...</td>\n",
       "      <td>...</td>\n",
       "      <td>...</td>\n",
       "      <td>...</td>\n",
       "      <td>...</td>\n",
       "      <td>...</td>\n",
       "      <td>...</td>\n",
       "      <td>...</td>\n",
       "      <td>...</td>\n",
       "      <td>...</td>\n",
       "    </tr>\n",
       "    <tr>\n",
       "      <th>207</th>\n",
       "      <td>-1.318932</td>\n",
       "      <td>-0.070306</td>\n",
       "      <td>-0.397511</td>\n",
       "      <td>-0.256388</td>\n",
       "      <td>0.162114</td>\n",
       "      <td>-0.091088</td>\n",
       "      <td>0.074377</td>\n",
       "      <td>0.158117</td>\n",
       "      <td>0.445437</td>\n",
       "      <td>-0.739333</td>\n",
       "      <td>...</td>\n",
       "      <td>-0.307452</td>\n",
       "      <td>-0.455160</td>\n",
       "      <td>-0.377521</td>\n",
       "      <td>0.588107</td>\n",
       "      <td>0.534968</td>\n",
       "      <td>0.537493</td>\n",
       "      <td>0.574033</td>\n",
       "      <td>0.466331</td>\n",
       "      <td>-0.544295</td>\n",
       "      <td>0.589225</td>\n",
       "    </tr>\n",
       "    <tr>\n",
       "      <th>208</th>\n",
       "      <td>-1.272535</td>\n",
       "      <td>-0.982611</td>\n",
       "      <td>1.625753</td>\n",
       "      <td>4.082660</td>\n",
       "      <td>0.152771</td>\n",
       "      <td>-1.272775</td>\n",
       "      <td>-0.581375</td>\n",
       "      <td>-0.520210</td>\n",
       "      <td>-0.000965</td>\n",
       "      <td>2.309488</td>\n",
       "      <td>...</td>\n",
       "      <td>-0.307452</td>\n",
       "      <td>-0.455160</td>\n",
       "      <td>-0.377521</td>\n",
       "      <td>0.588107</td>\n",
       "      <td>0.534968</td>\n",
       "      <td>0.537493</td>\n",
       "      <td>0.574033</td>\n",
       "      <td>0.466331</td>\n",
       "      <td>-0.544295</td>\n",
       "      <td>0.589225</td>\n",
       "    </tr>\n",
       "    <tr>\n",
       "      <th>209</th>\n",
       "      <td>-0.274992</td>\n",
       "      <td>-1.629930</td>\n",
       "      <td>-1.359795</td>\n",
       "      <td>-1.435428</td>\n",
       "      <td>-0.961832</td>\n",
       "      <td>-1.839956</td>\n",
       "      <td>1.614775</td>\n",
       "      <td>2.114058</td>\n",
       "      <td>1.740697</td>\n",
       "      <td>1.382482</td>\n",
       "      <td>...</td>\n",
       "      <td>-0.307452</td>\n",
       "      <td>-0.455160</td>\n",
       "      <td>-0.377521</td>\n",
       "      <td>0.588107</td>\n",
       "      <td>0.534968</td>\n",
       "      <td>0.537493</td>\n",
       "      <td>0.574033</td>\n",
       "      <td>0.466331</td>\n",
       "      <td>-0.544295</td>\n",
       "      <td>0.589225</td>\n",
       "    </tr>\n",
       "    <tr>\n",
       "      <th>210</th>\n",
       "      <td>-1.434925</td>\n",
       "      <td>0.015700</td>\n",
       "      <td>-0.786811</td>\n",
       "      <td>0.507311</td>\n",
       "      <td>-0.340556</td>\n",
       "      <td>0.046128</td>\n",
       "      <td>-0.222568</td>\n",
       "      <td>-0.215699</td>\n",
       "      <td>-0.051850</td>\n",
       "      <td>-0.862934</td>\n",
       "      <td>...</td>\n",
       "      <td>0.702277</td>\n",
       "      <td>0.923533</td>\n",
       "      <td>0.765223</td>\n",
       "      <td>-1.302380</td>\n",
       "      <td>-1.290250</td>\n",
       "      <td>-1.186171</td>\n",
       "      <td>-1.285604</td>\n",
       "      <td>-1.144512</td>\n",
       "      <td>1.159239</td>\n",
       "      <td>-1.287215</td>\n",
       "    </tr>\n",
       "    <tr>\n",
       "      <th>211</th>\n",
       "      <td>0.544694</td>\n",
       "      <td>-1.018573</td>\n",
       "      <td>-0.416702</td>\n",
       "      <td>-1.336475</td>\n",
       "      <td>0.237693</td>\n",
       "      <td>0.304264</td>\n",
       "      <td>-0.587562</td>\n",
       "      <td>0.841866</td>\n",
       "      <td>1.116196</td>\n",
       "      <td>-0.656933</td>\n",
       "      <td>...</td>\n",
       "      <td>-0.307452</td>\n",
       "      <td>-0.455160</td>\n",
       "      <td>-0.377521</td>\n",
       "      <td>0.588107</td>\n",
       "      <td>0.534968</td>\n",
       "      <td>0.537493</td>\n",
       "      <td>0.574033</td>\n",
       "      <td>0.466331</td>\n",
       "      <td>-0.544295</td>\n",
       "      <td>0.589225</td>\n",
       "    </tr>\n",
       "  </tbody>\n",
       "</table>\n",
       "<p>212 rows × 411 columns</p>\n",
       "</div>"
      ],
      "text/plain": [
       "      B_cells  basophils  CD16_pos_monocytes  CD16_pos_CD14_pos_monocytes  \\\n",
       "0   -1.179740   0.707613           -0.564746                     0.124537   \n",
       "1   -0.824027  -0.083556            0.057586                     1.661220   \n",
       "2   -0.940021  -0.070306           -0.710048                    -0.256388   \n",
       "3   -0.932288  -0.946648           -0.238501                    -1.103645   \n",
       "4   -1.999426  -1.378195           -0.715531                     0.473784   \n",
       "..        ...        ...                 ...                          ...   \n",
       "207 -1.318932  -0.070306           -0.397511                    -0.256388   \n",
       "208 -1.272535  -0.982611            1.625753                     4.082660   \n",
       "209 -0.274992  -1.629930           -1.359795                    -1.435428   \n",
       "210 -1.434925   0.015700           -0.786811                     0.507311   \n",
       "211  0.544694  -1.018573           -0.416702                    -1.336475   \n",
       "\n",
       "     CD16_pos_CD14_neg_monocytes  CD16_neg_CD56bright_NK_cells  \\\n",
       "0                      -0.901679                      0.138260   \n",
       "1                      -0.710604                     -1.826122   \n",
       "2                       0.162114                     -0.091088   \n",
       "3                       0.308462                      0.608605   \n",
       "4                      -0.901679                      2.088809   \n",
       "..                           ...                           ...   \n",
       "207                     0.162114                     -0.091088   \n",
       "208                     0.152771                     -1.272775   \n",
       "209                    -0.961832                     -1.839956   \n",
       "210                    -0.340556                      0.046128   \n",
       "211                     0.237693                      0.304264   \n",
       "\n",
       "     CD161_pos_NK_cells  CD161_pos_NKT_cells  CD161_pos_CD4_pos_T_cells  \\\n",
       "0             -0.667984            -1.121736                   0.103118   \n",
       "1              0.878601             0.427020                   0.607344   \n",
       "2              0.606402             0.158117                   0.630474   \n",
       "3              1.058005             1.028546                  -0.246139   \n",
       "4             -0.896879             0.019089                   0.792382   \n",
       "..                  ...                  ...                        ...   \n",
       "207            0.074377             0.158117                   0.445437   \n",
       "208           -0.581375            -0.520210                  -0.000965   \n",
       "209            1.614775             2.114058                   1.740697   \n",
       "210           -0.222568            -0.215699                  -0.051850   \n",
       "211           -0.587562             0.841866                   1.116196   \n",
       "\n",
       "     CD161_pos_CD45RA_pos_Tregs  ...  CD314_neg_CD94_neg_CD8_neg_T_cells  \\\n",
       "0                      0.826278  ...                            0.702277   \n",
       "1                      2.721491  ...                           -0.307452   \n",
       "2                     -0.739333  ...                           -0.307452   \n",
       "3                      0.187673  ...                           -0.307452   \n",
       "4                      0.620276  ...                            0.702277   \n",
       "..                          ...  ...                                 ...   \n",
       "207                   -0.739333  ...                           -0.307452   \n",
       "208                    2.309488  ...                           -0.307452   \n",
       "209                    1.382482  ...                           -0.307452   \n",
       "210                   -0.862934  ...                            0.702277   \n",
       "211                   -0.656933  ...                           -0.307452   \n",
       "\n",
       "     CD33_pos_monocytes  CD8_neg_T_cells  CXCR3_pos_B_cells  \\\n",
       "0              0.923533         0.765223          -1.302380   \n",
       "1             -0.455160        -0.377521           0.588107   \n",
       "2             -0.455160        -0.377521           0.588107   \n",
       "3             -0.455160        -0.377521           0.588107   \n",
       "4              0.923533         0.765223          -1.302380   \n",
       "..                  ...              ...                ...   \n",
       "207           -0.455160        -0.377521           0.588107   \n",
       "208           -0.455160        -0.377521           0.588107   \n",
       "209           -0.455160        -0.377521           0.588107   \n",
       "210            0.923533         0.765223          -1.302380   \n",
       "211           -0.455160        -0.377521           0.588107   \n",
       "\n",
       "     CXCR3_pos_CD33_pos_monocytes  CXCR3_pos_NK_cells  \\\n",
       "0                       -1.290250           -1.186171   \n",
       "1                        0.534968            0.537493   \n",
       "2                        0.534968            0.537493   \n",
       "3                        0.534968            0.537493   \n",
       "4                       -1.290250           -1.186171   \n",
       "..                            ...                 ...   \n",
       "207                      0.534968            0.537493   \n",
       "208                      0.534968            0.537493   \n",
       "209                      0.534968            0.537493   \n",
       "210                     -1.290250           -1.186171   \n",
       "211                      0.534968            0.537493   \n",
       "\n",
       "     CXCR3_pos_CD4_pos_T_cells  CXCR3_pos_CD8_pos_T_cells  \\\n",
       "0                    -1.285604                  -1.144512   \n",
       "1                     0.574033                   0.466331   \n",
       "2                     0.574033                   0.466331   \n",
       "3                     0.574033                   0.466331   \n",
       "4                    -1.285604                  -1.144512   \n",
       "..                         ...                        ...   \n",
       "207                   0.574033                   0.466331   \n",
       "208                   0.574033                   0.466331   \n",
       "209                   0.574033                   0.466331   \n",
       "210                  -1.285604                  -1.144512   \n",
       "211                   0.574033                   0.466331   \n",
       "\n",
       "     CD28_pos_CD4_pos_T_cells  CD314_pos_CD94_pos_CD8_pos_T_cells  \n",
       "0                    1.159239                           -1.287215  \n",
       "1                   -0.544295                            0.589225  \n",
       "2                   -0.544295                            0.589225  \n",
       "3                   -0.544295                            0.589225  \n",
       "4                    1.159239                           -1.287215  \n",
       "..                        ...                                 ...  \n",
       "207                 -0.544295                            0.589225  \n",
       "208                 -0.544295                            0.589225  \n",
       "209                 -0.544295                            0.589225  \n",
       "210                  1.159239                           -1.287215  \n",
       "211                 -0.544295                            0.589225  \n",
       "\n",
       "[212 rows x 411 columns]"
      ]
     },
     "execution_count": 12,
     "metadata": {},
     "output_type": "execute_result"
    }
   ],
   "source": [
    "X_train_std = pd.DataFrame(X_train_std, columns=X_train.columns)\n",
    "\n",
    "X_train_std"
   ]
  },
  {
   "cell_type": "markdown",
   "id": "4ca8f48f",
   "metadata": {
    "papermill": {
     "duration": 0.021438,
     "end_time": "2024-12-09T09:37:19.940528",
     "exception": false,
     "start_time": "2024-12-09T09:37:19.919090",
     "status": "completed"
    },
    "tags": []
   },
   "source": [
    "> Visualization of the features after normalization"
   ]
  },
  {
   "cell_type": "code",
   "execution_count": 13,
   "id": "3d73e1ca",
   "metadata": {
    "execution": {
     "iopub.execute_input": "2024-12-09T09:37:19.983888Z",
     "iopub.status.busy": "2024-12-09T09:37:19.983486Z",
     "iopub.status.idle": "2024-12-09T09:37:20.405759Z",
     "shell.execute_reply": "2024-12-09T09:37:20.404353Z"
    },
    "papermill": {
     "duration": 0.44798,
     "end_time": "2024-12-09T09:37:20.408610",
     "exception": false,
     "start_time": "2024-12-09T09:37:19.960630",
     "status": "completed"
    },
    "tags": []
   },
   "outputs": [
    {
     "data": {
      "image/png": "[encoded data removed]",
      "text/plain": [
       "<Figure size 1800x600 with 1 Axes>"
      ]
     },
     "metadata": {},
     "output_type": "display_data"
    }
   ],
   "source": [
    "plt.figure(figsize=(18,6))\n",
    "X_train_std.sample(10, axis=\"columns\").boxplot()\n",
    "plt.xticks(rotation=90)\n",
    "plt.show()"
   ]
  },
  {
   "cell_type": "markdown",
   "id": "006697ef",
   "metadata": {
    "papermill": {
     "duration": 0.023043,
     "end_time": "2024-12-09T09:37:20.454031",
     "exception": false,
     "start_time": "2024-12-09T09:37:20.430988",
     "status": "completed"
    },
    "tags": []
   },
   "source": [
    "We can see that the boxplots are now on the same scale. However there are still some outliers. We will keep them, because we can't know it these were measured wrong."
   ]
  },
  {
   "cell_type": "markdown",
   "id": "114031e9",
   "metadata": {
    "papermill": {
     "duration": 0.021659,
     "end_time": "2024-12-09T09:37:20.498276",
     "exception": false,
     "start_time": "2024-12-09T09:37:20.476617",
     "status": "completed"
    },
    "tags": []
   },
   "source": [
    "*B) The test set (X_test)*"
   ]
  },
  {
   "cell_type": "markdown",
   "id": "239a3eac",
   "metadata": {
    "papermill": {
     "duration": 0.023055,
     "end_time": "2024-12-09T09:37:20.541923",
     "exception": false,
     "start_time": "2024-12-09T09:37:20.518868",
     "status": "completed"
    },
    "tags": []
   },
   "source": [
    "Here we do exactly the same, only we do everything in one line of code for the test set (X_test)."
   ]
  },
  {
   "cell_type": "code",
   "execution_count": 14,
   "id": "ead39f0c",
   "metadata": {
    "execution": {
     "iopub.execute_input": "2024-12-09T09:37:20.590337Z",
     "iopub.status.busy": "2024-12-09T09:37:20.589873Z",
     "iopub.status.idle": "2024-12-09T09:37:20.603337Z",
     "shell.execute_reply": "2024-12-09T09:37:20.601609Z"
    },
    "papermill": {
     "duration": 0.040818,
     "end_time": "2024-12-09T09:37:20.606123",
     "exception": false,
     "start_time": "2024-12-09T09:37:20.565305",
     "status": "completed"
    },
    "tags": []
   },
   "outputs": [],
   "source": [
    "X_test_std = pd.DataFrame(scaler_std.transform(X_test),columns=X_test.columns)"
   ]
  },
  {
   "cell_type": "markdown",
   "id": "eeb58217",
   "metadata": {
    "papermill": {
     "duration": 0.020747,
     "end_time": "2024-12-09T09:37:20.650097",
     "exception": false,
     "start_time": "2024-12-09T09:37:20.629350",
     "status": "completed"
    },
    "tags": []
   },
   "source": [
    "> Visualization after normalization"
   ]
  },
  {
   "cell_type": "code",
   "execution_count": 15,
   "id": "9b03bad8",
   "metadata": {
    "execution": {
     "iopub.execute_input": "2024-12-09T09:37:20.695824Z",
     "iopub.status.busy": "2024-12-09T09:37:20.695421Z",
     "iopub.status.idle": "2024-12-09T09:37:21.098618Z",
     "shell.execute_reply": "2024-12-09T09:37:21.097194Z"
    },
    "papermill": {
     "duration": 0.428673,
     "end_time": "2024-12-09T09:37:21.101116",
     "exception": false,
     "start_time": "2024-12-09T09:37:20.672443",
     "status": "completed"
    },
    "tags": []
   },
   "outputs": [
    {
     "data": {
      "image/png": "[encoded data removed]",
      "text/plain": [
       "<Figure size 1800x600 with 1 Axes>"
      ]
     },
     "metadata": {},
     "output_type": "display_data"
    }
   ],
   "source": [
    "plt.figure(figsize=(18,6))\n",
    "X_test_std.sample(10, axis=\"columns\").boxplot()\n",
    "plt.xticks(rotation=90)\n",
    "plt.show()"
   ]
  },
  {
   "cell_type": "markdown",
   "id": "bb3f0614",
   "metadata": {
    "papermill": {
     "duration": 0.024312,
     "end_time": "2024-12-09T09:37:21.147582",
     "exception": false,
     "start_time": "2024-12-09T09:37:21.123270",
     "status": "completed"
    },
    "tags": []
   },
   "source": [
    "**Standardization with MinMaxScaler()**"
   ]
  },
  {
   "cell_type": "code",
   "execution_count": 16,
   "id": "d454f8f5",
   "metadata": {
    "execution": {
     "iopub.execute_input": "2024-12-09T09:37:21.197101Z",
     "iopub.status.busy": "2024-12-09T09:37:21.196658Z",
     "iopub.status.idle": "2024-12-09T09:37:21.202267Z",
     "shell.execute_reply": "2024-12-09T09:37:21.200990Z"
    },
    "papermill": {
     "duration": 0.032592,
     "end_time": "2024-12-09T09:37:21.205103",
     "exception": false,
     "start_time": "2024-12-09T09:37:21.172511",
     "status": "completed"
    },
    "tags": []
   },
   "outputs": [],
   "source": [
    "from sklearn.preprocessing import MinMaxScaler\n",
    "\n",
    "scaler_minmax = MinMaxScaler()"
   ]
  },
  {
   "cell_type": "code",
   "execution_count": 17,
   "id": "bac02a21",
   "metadata": {
    "execution": {
     "iopub.execute_input": "2024-12-09T09:37:21.252136Z",
     "iopub.status.busy": "2024-12-09T09:37:21.251702Z",
     "iopub.status.idle": "2024-12-09T09:37:21.290835Z",
     "shell.execute_reply": "2024-12-09T09:37:21.289621Z"
    },
    "papermill": {
     "duration": 0.065707,
     "end_time": "2024-12-09T09:37:21.293743",
     "exception": false,
     "start_time": "2024-12-09T09:37:21.228036",
     "status": "completed"
    },
    "tags": []
   },
   "outputs": [
    {
     "data": {
      "text/html": [
       "<div>\n",
       "<style scoped>\n",
       "    .dataframe tbody tr th:only-of-type {\n",
       "        vertical-align: middle;\n",
       "    }\n",
       "\n",
       "    .dataframe tbody tr th {\n",
       "        vertical-align: top;\n",
       "    }\n",
       "\n",
       "    .dataframe thead th {\n",
       "        text-align: right;\n",
       "    }\n",
       "</style>\n",
       "<table border=\"1\" class=\"dataframe\">\n",
       "  <thead>\n",
       "    <tr style=\"text-align: right;\">\n",
       "      <th></th>\n",
       "      <th>B_cells</th>\n",
       "      <th>basophils</th>\n",
       "      <th>CD16_pos_monocytes</th>\n",
       "      <th>CD16_pos_CD14_pos_monocytes</th>\n",
       "      <th>CD16_pos_CD14_neg_monocytes</th>\n",
       "      <th>CD16_neg_CD56bright_NK_cells</th>\n",
       "      <th>CD161_pos_NK_cells</th>\n",
       "      <th>CD161_pos_NKT_cells</th>\n",
       "      <th>CD161_pos_CD4_pos_T_cells</th>\n",
       "      <th>CD161_pos_CD45RA_pos_Tregs</th>\n",
       "      <th>...</th>\n",
       "      <th>CD314_neg_CD94_neg_CD8_neg_T_cells</th>\n",
       "      <th>CD33_pos_monocytes</th>\n",
       "      <th>CD8_neg_T_cells</th>\n",
       "      <th>CXCR3_pos_B_cells</th>\n",
       "      <th>CXCR3_pos_CD33_pos_monocytes</th>\n",
       "      <th>CXCR3_pos_NK_cells</th>\n",
       "      <th>CXCR3_pos_CD4_pos_T_cells</th>\n",
       "      <th>CXCR3_pos_CD8_pos_T_cells</th>\n",
       "      <th>CD28_pos_CD4_pos_T_cells</th>\n",
       "      <th>CD314_pos_CD94_pos_CD8_pos_T_cells</th>\n",
       "    </tr>\n",
       "  </thead>\n",
       "  <tbody>\n",
       "    <tr>\n",
       "      <th>0</th>\n",
       "      <td>0.269902</td>\n",
       "      <td>0.365169</td>\n",
       "      <td>0.141951</td>\n",
       "      <td>0.178146</td>\n",
       "      <td>0.009290</td>\n",
       "      <td>0.272890</td>\n",
       "      <td>0.502957</td>\n",
       "      <td>0.283674</td>\n",
       "      <td>0.326539</td>\n",
       "      <td>0.377880</td>\n",
       "      <td>...</td>\n",
       "      <td>0.824627</td>\n",
       "      <td>0.603448</td>\n",
       "      <td>0.679487</td>\n",
       "      <td>0.05500</td>\n",
       "      <td>0.118256</td>\n",
       "      <td>0.169399</td>\n",
       "      <td>0.12945</td>\n",
       "      <td>0.376268</td>\n",
       "      <td>0.929487</td>\n",
       "      <td>0.088286</td>\n",
       "    </tr>\n",
       "    <tr>\n",
       "      <th>1</th>\n",
       "      <td>0.333150</td>\n",
       "      <td>0.241573</td>\n",
       "      <td>0.252683</td>\n",
       "      <td>0.352980</td>\n",
       "      <td>0.038798</td>\n",
       "      <td>0.017953</td>\n",
       "      <td>0.787307</td>\n",
       "      <td>0.550214</td>\n",
       "      <td>0.411995</td>\n",
       "      <td>0.801843</td>\n",
       "      <td>...</td>\n",
       "      <td>0.752488</td>\n",
       "      <td>0.482120</td>\n",
       "      <td>0.585871</td>\n",
       "      <td>0.31174</td>\n",
       "      <td>0.418006</td>\n",
       "      <td>0.358607</td>\n",
       "      <td>0.32794</td>\n",
       "      <td>0.546907</td>\n",
       "      <td>0.711004</td>\n",
       "      <td>0.404931</td>\n",
       "    </tr>\n",
       "    <tr>\n",
       "      <th>2</th>\n",
       "      <td>0.312526</td>\n",
       "      <td>0.243643</td>\n",
       "      <td>0.116098</td>\n",
       "      <td>0.134806</td>\n",
       "      <td>0.173574</td>\n",
       "      <td>0.243126</td>\n",
       "      <td>0.737261</td>\n",
       "      <td>0.503936</td>\n",
       "      <td>0.415915</td>\n",
       "      <td>0.027650</td>\n",
       "      <td>...</td>\n",
       "      <td>0.752488</td>\n",
       "      <td>0.482120</td>\n",
       "      <td>0.585871</td>\n",
       "      <td>0.31174</td>\n",
       "      <td>0.418006</td>\n",
       "      <td>0.358607</td>\n",
       "      <td>0.32794</td>\n",
       "      <td>0.546907</td>\n",
       "      <td>0.711004</td>\n",
       "      <td>0.404931</td>\n",
       "    </tr>\n",
       "    <tr>\n",
       "      <th>3</th>\n",
       "      <td>0.313901</td>\n",
       "      <td>0.106742</td>\n",
       "      <td>0.200000</td>\n",
       "      <td>0.038411</td>\n",
       "      <td>0.196175</td>\n",
       "      <td>0.333932</td>\n",
       "      <td>0.820291</td>\n",
       "      <td>0.653736</td>\n",
       "      <td>0.267346</td>\n",
       "      <td>0.235023</td>\n",
       "      <td>...</td>\n",
       "      <td>0.752488</td>\n",
       "      <td>0.482120</td>\n",
       "      <td>0.585871</td>\n",
       "      <td>0.31174</td>\n",
       "      <td>0.418006</td>\n",
       "      <td>0.358607</td>\n",
       "      <td>0.32794</td>\n",
       "      <td>0.546907</td>\n",
       "      <td>0.711004</td>\n",
       "      <td>0.404931</td>\n",
       "    </tr>\n",
       "    <tr>\n",
       "      <th>4</th>\n",
       "      <td>0.124158</td>\n",
       "      <td>0.039326</td>\n",
       "      <td>0.115122</td>\n",
       "      <td>0.217881</td>\n",
       "      <td>0.009290</td>\n",
       "      <td>0.526032</td>\n",
       "      <td>0.460874</td>\n",
       "      <td>0.480010</td>\n",
       "      <td>0.443356</td>\n",
       "      <td>0.331797</td>\n",
       "      <td>...</td>\n",
       "      <td>0.824627</td>\n",
       "      <td>0.603448</td>\n",
       "      <td>0.679487</td>\n",
       "      <td>0.05500</td>\n",
       "      <td>0.118256</td>\n",
       "      <td>0.169399</td>\n",
       "      <td>0.12945</td>\n",
       "      <td>0.376268</td>\n",
       "      <td>0.929487</td>\n",
       "      <td>0.088286</td>\n",
       "    </tr>\n",
       "    <tr>\n",
       "      <th>...</th>\n",
       "      <td>...</td>\n",
       "      <td>...</td>\n",
       "      <td>...</td>\n",
       "      <td>...</td>\n",
       "      <td>...</td>\n",
       "      <td>...</td>\n",
       "      <td>...</td>\n",
       "      <td>...</td>\n",
       "      <td>...</td>\n",
       "      <td>...</td>\n",
       "      <td>...</td>\n",
       "      <td>...</td>\n",
       "      <td>...</td>\n",
       "      <td>...</td>\n",
       "      <td>...</td>\n",
       "      <td>...</td>\n",
       "      <td>...</td>\n",
       "      <td>...</td>\n",
       "      <td>...</td>\n",
       "      <td>...</td>\n",
       "      <td>...</td>\n",
       "    </tr>\n",
       "    <tr>\n",
       "      <th>207</th>\n",
       "      <td>0.245153</td>\n",
       "      <td>0.243643</td>\n",
       "      <td>0.171707</td>\n",
       "      <td>0.134806</td>\n",
       "      <td>0.173574</td>\n",
       "      <td>0.243126</td>\n",
       "      <td>0.639445</td>\n",
       "      <td>0.503936</td>\n",
       "      <td>0.384555</td>\n",
       "      <td>0.027650</td>\n",
       "      <td>...</td>\n",
       "      <td>0.752488</td>\n",
       "      <td>0.482120</td>\n",
       "      <td>0.585871</td>\n",
       "      <td>0.31174</td>\n",
       "      <td>0.418006</td>\n",
       "      <td>0.358607</td>\n",
       "      <td>0.32794</td>\n",
       "      <td>0.546907</td>\n",
       "      <td>0.711004</td>\n",
       "      <td>0.404931</td>\n",
       "    </tr>\n",
       "    <tr>\n",
       "      <th>208</th>\n",
       "      <td>0.253403</td>\n",
       "      <td>0.101124</td>\n",
       "      <td>0.531707</td>\n",
       "      <td>0.628477</td>\n",
       "      <td>0.172131</td>\n",
       "      <td>0.089767</td>\n",
       "      <td>0.518881</td>\n",
       "      <td>0.387197</td>\n",
       "      <td>0.308898</td>\n",
       "      <td>0.709677</td>\n",
       "      <td>...</td>\n",
       "      <td>0.752488</td>\n",
       "      <td>0.482120</td>\n",
       "      <td>0.585871</td>\n",
       "      <td>0.31174</td>\n",
       "      <td>0.418006</td>\n",
       "      <td>0.358607</td>\n",
       "      <td>0.32794</td>\n",
       "      <td>0.546907</td>\n",
       "      <td>0.711004</td>\n",
       "      <td>0.404931</td>\n",
       "    </tr>\n",
       "    <tr>\n",
       "      <th>209</th>\n",
       "      <td>0.430771</td>\n",
       "      <td>0.000000</td>\n",
       "      <td>0.000488</td>\n",
       "      <td>0.000662</td>\n",
       "      <td>0.000000</td>\n",
       "      <td>0.016158</td>\n",
       "      <td>0.922657</td>\n",
       "      <td>0.840552</td>\n",
       "      <td>0.604077</td>\n",
       "      <td>0.502304</td>\n",
       "      <td>...</td>\n",
       "      <td>0.752488</td>\n",
       "      <td>0.482120</td>\n",
       "      <td>0.585871</td>\n",
       "      <td>0.31174</td>\n",
       "      <td>0.418006</td>\n",
       "      <td>0.358607</td>\n",
       "      <td>0.32794</td>\n",
       "      <td>0.546907</td>\n",
       "      <td>0.711004</td>\n",
       "      <td>0.404931</td>\n",
       "    </tr>\n",
       "    <tr>\n",
       "      <th>210</th>\n",
       "      <td>0.224529</td>\n",
       "      <td>0.257079</td>\n",
       "      <td>0.102439</td>\n",
       "      <td>0.221695</td>\n",
       "      <td>0.095945</td>\n",
       "      <td>0.260934</td>\n",
       "      <td>0.584850</td>\n",
       "      <td>0.439603</td>\n",
       "      <td>0.300274</td>\n",
       "      <td>0.000000</td>\n",
       "      <td>...</td>\n",
       "      <td>0.824627</td>\n",
       "      <td>0.603448</td>\n",
       "      <td>0.679487</td>\n",
       "      <td>0.05500</td>\n",
       "      <td>0.118256</td>\n",
       "      <td>0.169399</td>\n",
       "      <td>0.12945</td>\n",
       "      <td>0.376268</td>\n",
       "      <td>0.929487</td>\n",
       "      <td>0.088286</td>\n",
       "    </tr>\n",
       "    <tr>\n",
       "      <th>211</th>\n",
       "      <td>0.576516</td>\n",
       "      <td>0.095506</td>\n",
       "      <td>0.168293</td>\n",
       "      <td>0.011921</td>\n",
       "      <td>0.185246</td>\n",
       "      <td>0.294434</td>\n",
       "      <td>0.517743</td>\n",
       "      <td>0.621609</td>\n",
       "      <td>0.498236</td>\n",
       "      <td>0.046083</td>\n",
       "      <td>...</td>\n",
       "      <td>0.752488</td>\n",
       "      <td>0.482120</td>\n",
       "      <td>0.585871</td>\n",
       "      <td>0.31174</td>\n",
       "      <td>0.418006</td>\n",
       "      <td>0.358607</td>\n",
       "      <td>0.32794</td>\n",
       "      <td>0.546907</td>\n",
       "      <td>0.711004</td>\n",
       "      <td>0.404931</td>\n",
       "    </tr>\n",
       "  </tbody>\n",
       "</table>\n",
       "<p>212 rows × 411 columns</p>\n",
       "</div>"
      ],
      "text/plain": [
       "      B_cells  basophils  CD16_pos_monocytes  CD16_pos_CD14_pos_monocytes  \\\n",
       "0    0.269902   0.365169            0.141951                     0.178146   \n",
       "1    0.333150   0.241573            0.252683                     0.352980   \n",
       "2    0.312526   0.243643            0.116098                     0.134806   \n",
       "3    0.313901   0.106742            0.200000                     0.038411   \n",
       "4    0.124158   0.039326            0.115122                     0.217881   \n",
       "..        ...        ...                 ...                          ...   \n",
       "207  0.245153   0.243643            0.171707                     0.134806   \n",
       "208  0.253403   0.101124            0.531707                     0.628477   \n",
       "209  0.430771   0.000000            0.000488                     0.000662   \n",
       "210  0.224529   0.257079            0.102439                     0.221695   \n",
       "211  0.576516   0.095506            0.168293                     0.011921   \n",
       "\n",
       "     CD16_pos_CD14_neg_monocytes  CD16_neg_CD56bright_NK_cells  \\\n",
       "0                       0.009290                      0.272890   \n",
       "1                       0.038798                      0.017953   \n",
       "2                       0.173574                      0.243126   \n",
       "3                       0.196175                      0.333932   \n",
       "4                       0.009290                      0.526032   \n",
       "..                           ...                           ...   \n",
       "207                     0.173574                      0.243126   \n",
       "208                     0.172131                      0.089767   \n",
       "209                     0.000000                      0.016158   \n",
       "210                     0.095945                      0.260934   \n",
       "211                     0.185246                      0.294434   \n",
       "\n",
       "     CD161_pos_NK_cells  CD161_pos_NKT_cells  CD161_pos_CD4_pos_T_cells  \\\n",
       "0              0.502957             0.283674                   0.326539   \n",
       "1              0.787307             0.550214                   0.411995   \n",
       "2              0.737261             0.503936                   0.415915   \n",
       "3              0.820291             0.653736                   0.267346   \n",
       "4              0.460874             0.480010                   0.443356   \n",
       "..                  ...                  ...                        ...   \n",
       "207            0.639445             0.503936                   0.384555   \n",
       "208            0.518881             0.387197                   0.308898   \n",
       "209            0.922657             0.840552                   0.604077   \n",
       "210            0.584850             0.439603                   0.300274   \n",
       "211            0.517743             0.621609                   0.498236   \n",
       "\n",
       "     CD161_pos_CD45RA_pos_Tregs  ...  CD314_neg_CD94_neg_CD8_neg_T_cells  \\\n",
       "0                      0.377880  ...                            0.824627   \n",
       "1                      0.801843  ...                            0.752488   \n",
       "2                      0.027650  ...                            0.752488   \n",
       "3                      0.235023  ...                            0.752488   \n",
       "4                      0.331797  ...                            0.824627   \n",
       "..                          ...  ...                                 ...   \n",
       "207                    0.027650  ...                            0.752488   \n",
       "208                    0.709677  ...                            0.752488   \n",
       "209                    0.502304  ...                            0.752488   \n",
       "210                    0.000000  ...                            0.824627   \n",
       "211                    0.046083  ...                            0.752488   \n",
       "\n",
       "     CD33_pos_monocytes  CD8_neg_T_cells  CXCR3_pos_B_cells  \\\n",
       "0              0.603448         0.679487            0.05500   \n",
       "1              0.482120         0.585871            0.31174   \n",
       "2              0.482120         0.585871            0.31174   \n",
       "3              0.482120         0.585871            0.31174   \n",
       "4              0.603448         0.679487            0.05500   \n",
       "..                  ...              ...                ...   \n",
       "207            0.482120         0.585871            0.31174   \n",
       "208            0.482120         0.585871            0.31174   \n",
       "209            0.482120         0.585871            0.31174   \n",
       "210            0.603448         0.679487            0.05500   \n",
       "211            0.482120         0.585871            0.31174   \n",
       "\n",
       "     CXCR3_pos_CD33_pos_monocytes  CXCR3_pos_NK_cells  \\\n",
       "0                        0.118256            0.169399   \n",
       "1                        0.418006            0.358607   \n",
       "2                        0.418006            0.358607   \n",
       "3                        0.418006            0.358607   \n",
       "4                        0.118256            0.169399   \n",
       "..                            ...                 ...   \n",
       "207                      0.418006            0.358607   \n",
       "208                      0.418006            0.358607   \n",
       "209                      0.418006            0.358607   \n",
       "210                      0.118256            0.169399   \n",
       "211                      0.418006            0.358607   \n",
       "\n",
       "     CXCR3_pos_CD4_pos_T_cells  CXCR3_pos_CD8_pos_T_cells  \\\n",
       "0                      0.12945                   0.376268   \n",
       "1                      0.32794                   0.546907   \n",
       "2                      0.32794                   0.546907   \n",
       "3                      0.32794                   0.546907   \n",
       "4                      0.12945                   0.376268   \n",
       "..                         ...                        ...   \n",
       "207                    0.32794                   0.546907   \n",
       "208                    0.32794                   0.546907   \n",
       "209                    0.32794                   0.546907   \n",
       "210                    0.12945                   0.376268   \n",
       "211                    0.32794                   0.546907   \n",
       "\n",
       "     CD28_pos_CD4_pos_T_cells  CD314_pos_CD94_pos_CD8_pos_T_cells  \n",
       "0                    0.929487                            0.088286  \n",
       "1                    0.711004                            0.404931  \n",
       "2                    0.711004                            0.404931  \n",
       "3                    0.711004                            0.404931  \n",
       "4                    0.929487                            0.088286  \n",
       "..                        ...                                 ...  \n",
       "207                  0.711004                            0.404931  \n",
       "208                  0.711004                            0.404931  \n",
       "209                  0.711004                            0.404931  \n",
       "210                  0.929487                            0.088286  \n",
       "211                  0.711004                            0.404931  \n",
       "\n",
       "[212 rows x 411 columns]"
      ]
     },
     "execution_count": 17,
     "metadata": {},
     "output_type": "execute_result"
    }
   ],
   "source": [
    "scaler_minmax.fit(X_train)\n",
    "X_train_minmax = pd.DataFrame(scaler_minmax.transform(X_train), columns = X_train.columns)\n",
    "X_train_minmax"
   ]
  },
  {
   "cell_type": "code",
   "execution_count": 18,
   "id": "cdeb0c1f",
   "metadata": {
    "execution": {
     "iopub.execute_input": "2024-12-09T09:37:21.340576Z",
     "iopub.status.busy": "2024-12-09T09:37:21.340175Z",
     "iopub.status.idle": "2024-12-09T09:37:21.668877Z",
     "shell.execute_reply": "2024-12-09T09:37:21.667552Z"
    },
    "papermill": {
     "duration": 0.355634,
     "end_time": "2024-12-09T09:37:21.671556",
     "exception": false,
     "start_time": "2024-12-09T09:37:21.315922",
     "status": "completed"
    },
    "tags": []
   },
   "outputs": [
    {
     "data": {
      "image/png": "[encoded data removed]",
      "text/plain": [
       "<Figure size 1800x600 with 1 Axes>"
      ]
     },
     "metadata": {},
     "output_type": "display_data"
    }
   ],
   "source": [
    "plt.figure(figsize=(18,6))\n",
    "X_train_minmax.sample(10, axis=\"columns\").boxplot()\n",
    "plt.xticks(rotation=90)\n",
    "plt.show()"
   ]
  },
  {
   "cell_type": "markdown",
   "id": "3aae3778",
   "metadata": {
    "papermill": {
     "duration": 0.023416,
     "end_time": "2024-12-09T09:37:21.718592",
     "exception": false,
     "start_time": "2024-12-09T09:37:21.695176",
     "status": "completed"
    },
    "tags": []
   },
   "source": [
    "After this we see that the minmax scaling is less good for our dataset. Hereby we use the data with the Standardscaler()"
   ]
  },
  {
   "cell_type": "markdown",
   "id": "2b08ff12",
   "metadata": {
    "papermill": {
     "duration": 0.023229,
     "end_time": "2024-12-09T09:37:21.765146",
     "exception": false,
     "start_time": "2024-12-09T09:37:21.741917",
     "status": "completed"
    },
    "tags": []
   },
   "source": [
    "## Model Training 1: logistic regression"
   ]
  },
  {
   "cell_type": "markdown",
   "id": "23b6e7d0",
   "metadata": {
    "papermill": {
     "duration": 0.023421,
     "end_time": "2024-12-09T09:37:21.812442",
     "exception": false,
     "start_time": "2024-12-09T09:37:21.789021",
     "status": "completed"
    },
    "tags": []
   },
   "source": [
    "### Fit a logistic regression model"
   ]
  },
  {
   "cell_type": "code",
   "execution_count": 19,
   "id": "ccc323c6",
   "metadata": {
    "execution": {
     "iopub.execute_input": "2024-12-09T09:37:21.862303Z",
     "iopub.status.busy": "2024-12-09T09:37:21.861632Z",
     "iopub.status.idle": "2024-12-09T09:37:22.013873Z",
     "shell.execute_reply": "2024-12-09T09:37:22.012470Z"
    },
    "papermill": {
     "duration": 0.180776,
     "end_time": "2024-12-09T09:37:22.016641",
     "exception": false,
     "start_time": "2024-12-09T09:37:21.835865",
     "status": "completed"
    },
    "tags": []
   },
   "outputs": [],
   "source": [
    "from sklearn.linear_model import LogisticRegression\n",
    "cls_std = LogisticRegression()"
   ]
  },
  {
   "cell_type": "markdown",
   "id": "c3219395",
   "metadata": {
    "papermill": {
     "duration": 0.02355,
     "end_time": "2024-12-09T09:37:22.063513",
     "exception": false,
     "start_time": "2024-12-09T09:37:22.039963",
     "status": "completed"
    },
    "tags": []
   },
   "source": [
    "Train the model on the normalized train data"
   ]
  },
  {
   "cell_type": "code",
   "execution_count": 20,
   "id": "0b45a8ff",
   "metadata": {
    "execution": {
     "iopub.execute_input": "2024-12-09T09:37:22.114675Z",
     "iopub.status.busy": "2024-12-09T09:37:22.114220Z",
     "iopub.status.idle": "2024-12-09T09:37:22.174357Z",
     "shell.execute_reply": "2024-12-09T09:37:22.171676Z"
    },
    "papermill": {
     "duration": 0.090733,
     "end_time": "2024-12-09T09:37:22.178984",
     "exception": false,
     "start_time": "2024-12-09T09:37:22.088251",
     "status": "completed"
    },
    "tags": []
   },
   "outputs": [
    {
     "data": {
      "text/html": [
       "<style>#sk-container-id-1 {color: black;background-color: white;}#sk-container-id-1 pre{padding: 0;}#sk-container-id-1 div.sk-toggleable {background-color: white;}#sk-container-id-1 label.sk-toggleable__label {cursor: pointer;display: block;width: 100%;margin-bottom: 0;padding: 0.3em;box-sizing: border-box;text-align: center;}#sk-container-id-1 label.sk-toggleable__label-arrow:before {content: \"▸\";float: left;margin-right: 0.25em;color: #696969;}#sk-container-id-1 label.sk-toggleable__label-arrow:hover:before {color: black;}#sk-container-id-1 div.sk-estimator:hover label.sk-toggleable__label-arrow:before {color: black;}#sk-container-id-1 div.sk-toggleable__content {max-height: 0;max-width: 0;overflow: hidden;text-align: left;background-color: #f0f8ff;}#sk-container-id-1 div.sk-toggleable__content pre {margin: 0.2em;color: black;border-radius: 0.25em;background-color: #f0f8ff;}#sk-container-id-1 input.sk-toggleable__control:checked~div.sk-toggleable__content {max-height: 200px;max-width: 100%;overflow: auto;}#sk-container-id-1 input.sk-toggleable__control:checked~label.sk-toggleable__label-arrow:before {content: \"▾\";}#sk-container-id-1 div.sk-estimator input.sk-toggleable__control:checked~label.sk-toggleable__label {background-color: #d4ebff;}#sk-container-id-1 div.sk-label input.sk-toggleable__control:checked~label.sk-toggleable__label {background-color: #d4ebff;}#sk-container-id-1 input.sk-hidden--visually {border: 0;clip: rect(1px 1px 1px 1px);clip: rect(1px, 1px, 1px, 1px);height: 1px;margin: -1px;overflow: hidden;padding: 0;position: absolute;width: 1px;}#sk-container-id-1 div.sk-estimator {font-family: monospace;background-color: #f0f8ff;border: 1px dotted black;border-radius: 0.25em;box-sizing: border-box;margin-bottom: 0.5em;}#sk-container-id-1 div.sk-estimator:hover {background-color: #d4ebff;}#sk-container-id-1 div.sk-parallel-item::after {content: \"\";width: 100%;border-bottom: 1px solid gray;flex-grow: 1;}#sk-container-id-1 div.sk-label:hover label.sk-toggleable__label {background-color: #d4ebff;}#sk-container-id-1 div.sk-serial::before {content: \"\";position: absolute;border-left: 1px solid gray;box-sizing: border-box;top: 0;bottom: 0;left: 50%;z-index: 0;}#sk-container-id-1 div.sk-serial {display: flex;flex-direction: column;align-items: center;background-color: white;padding-right: 0.2em;padding-left: 0.2em;position: relative;}#sk-container-id-1 div.sk-item {position: relative;z-index: 1;}#sk-container-id-1 div.sk-parallel {display: flex;align-items: stretch;justify-content: center;background-color: white;position: relative;}#sk-container-id-1 div.sk-item::before, #sk-container-id-1 div.sk-parallel-item::before {content: \"\";position: absolute;border-left: 1px solid gray;box-sizing: border-box;top: 0;bottom: 0;left: 50%;z-index: -1;}#sk-container-id-1 div.sk-parallel-item {display: flex;flex-direction: column;z-index: 1;position: relative;background-color: white;}#sk-container-id-1 div.sk-parallel-item:first-child::after {align-self: flex-end;width: 50%;}#sk-container-id-1 div.sk-parallel-item:last-child::after {align-self: flex-start;width: 50%;}#sk-container-id-1 div.sk-parallel-item:only-child::after {width: 0;}#sk-container-id-1 div.sk-dashed-wrapped {border: 1px dashed gray;margin: 0 0.4em 0.5em 0.4em;box-sizing: border-box;padding-bottom: 0.4em;background-color: white;}#sk-container-id-1 div.sk-label label {font-family: monospace;font-weight: bold;display: inline-block;line-height: 1.2em;}#sk-container-id-1 div.sk-label-container {text-align: center;}#sk-container-id-1 div.sk-container {/* jupyter's `normalize.less` sets `[hidden] { display: none; }` but bootstrap.min.css set `[hidden] { display: none !important; }` so we also need the `!important` here to be able to override the default hidden behavior on the sphinx rendered scikit-learn.org. See: https://github.com/scikit-learn/scikit-learn/issues/21755 */display: inline-block !important;position: relative;}#sk-container-id-1 div.sk-text-repr-fallback {display: none;}</style><div id=\"sk-container-id-1\" class=\"sk-top-container\"><div class=\"sk-text-repr-fallback\"><pre>LogisticRegression()</pre><b>In a Jupyter environment, please rerun this cell to show the HTML representation or trust the notebook. <br />On GitHub, the HTML representation is unable to render, please try loading this page with nbviewer.org.</b></div><div class=\"sk-container\" hidden><div class=\"sk-item\"><div class=\"sk-estimator sk-toggleable\"><input class=\"sk-toggleable__control sk-hidden--visually\" id=\"sk-estimator-id-1\" type=\"checkbox\" checked><label for=\"sk-estimator-id-1\" class=\"sk-toggleable__label sk-toggleable__label-arrow\">LogisticRegression</label><div class=\"sk-toggleable__content\"><pre>LogisticRegression()</pre></div></div></div></div></div>"
      ],
      "text/plain": [
       "LogisticRegression()"
      ]
     },
     "execution_count": 20,
     "metadata": {},
     "output_type": "execute_result"
    }
   ],
   "source": [
    "cls_std.fit(X_train_std, y_train)"
   ]
  },
  {
   "cell_type": "markdown",
   "id": "510d49ce",
   "metadata": {
    "papermill": {
     "duration": 0.043972,
     "end_time": "2024-12-09T09:37:22.295715",
     "exception": false,
     "start_time": "2024-12-09T09:37:22.251743",
     "status": "completed"
    },
    "tags": []
   },
   "source": [
    "The fitted modelparameters"
   ]
  },
  {
   "cell_type": "code",
   "execution_count": 21,
   "id": "81b94bf5",
   "metadata": {
    "execution": {
     "iopub.execute_input": "2024-12-09T09:37:22.346990Z",
     "iopub.status.busy": "2024-12-09T09:37:22.345927Z",
     "iopub.status.idle": "2024-12-09T09:37:22.357996Z",
     "shell.execute_reply": "2024-12-09T09:37:22.356645Z"
    },
    "papermill": {
     "duration": 0.040353,
     "end_time": "2024-12-09T09:37:22.360101",
     "exception": false,
     "start_time": "2024-12-09T09:37:22.319748",
     "status": "completed"
    },
    "tags": []
   },
   "outputs": [
    {
     "data": {
      "text/plain": [
       "array([-4.78525088e-03,  1.25201911e-03,  1.32317728e-02,  2.80340577e-02,\n",
       "        3.54104463e-04,  5.75562185e-03,  4.16669402e-03, -2.17752543e-02,\n",
       "        5.18447621e-03,  1.47303250e-02,  1.26484744e-02,  6.05261490e-03,\n",
       "       -3.41514313e-03, -1.04952359e-02,  4.72903749e-03, -1.62636090e-03,\n",
       "       -7.78666286e-03, -6.52875360e-03,  6.58211809e-03,  1.34437304e-03,\n",
       "        5.20855135e-03,  4.39933701e-03,  1.62997997e-02,  9.56012647e-03,\n",
       "       -1.09210815e-02,  6.50055057e-03,  9.18053210e-03,  6.10542982e-03,\n",
       "        9.24477135e-03, -2.27866856e-04, -2.40453145e-03,  6.44688349e-03,\n",
       "        1.04640579e-02, -4.27097090e-03,  7.78142853e-03, -4.91513830e-03,\n",
       "       -2.29661894e-03,  1.28462695e-02,  1.29910421e-03, -9.55566622e-03,\n",
       "       -6.95001749e-03,  4.40017027e-03,  9.91865813e-03, -2.59946864e-02,\n",
       "        5.87279272e-03, -2.94097601e-04,  1.07970531e-02,  1.69364312e-02,\n",
       "        5.12474749e-05,  7.57556772e-03, -8.30951889e-04, -7.53225979e-03,\n",
       "       -6.43089742e-03,  3.52713684e-03,  4.31428549e-03, -6.44088239e-03,\n",
       "       -5.26801151e-03, -3.44492846e-03,  1.62716064e-03, -8.44743343e-04,\n",
       "       -2.64675694e-02,  1.60607682e-02,  2.79709918e-03, -2.27473341e-02,\n",
       "       -3.57433768e-03, -4.18341150e-02, -3.19173032e-02,  1.59000438e-03,\n",
       "       -1.28933047e-02,  3.96096644e-03,  2.30419817e-02,  9.75520785e-03,\n",
       "        2.56518787e-02,  2.98563115e-03, -9.72589383e-03,  6.20460259e-02,\n",
       "       -3.94497757e-02, -4.32719457e-02, -4.13418348e-02, -3.90016969e-02,\n",
       "       -4.76885415e-02, -6.11059668e-02, -4.95418214e-02, -4.03539819e-02,\n",
       "       -4.15724568e-02, -4.21958121e-02, -4.10297897e-02, -3.82147907e-02,\n",
       "       -4.81849309e-02, -4.74874296e-02, -3.63103661e-02, -3.35220219e-02,\n",
       "       -5.89554299e-02, -4.65560846e-02, -5.81043653e-02, -3.56535599e-02,\n",
       "       -1.86725532e-02, -4.10729069e-02, -3.13197898e-02, -5.55154724e-02,\n",
       "       -2.62864418e-02, -2.57867953e-02, -2.64469512e-02,  1.23481072e-02,\n",
       "        2.67058077e-03, -2.81650111e-02,  5.25910747e-03, -2.61753502e-02,\n",
       "       -3.36900878e-02, -4.07122391e-03, -2.99484595e-02, -1.57510545e-02,\n",
       "       -6.48821410e-02, -7.45057308e-02, -7.38197785e-02, -2.64089135e-02,\n",
       "       -2.19981937e-02, -1.25227020e-02, -1.01601310e-02, -3.21426197e-02,\n",
       "       -6.69973547e-03,  3.24094376e-03,  7.87593010e-02, -2.09946082e-02,\n",
       "        5.35767573e-02,  3.84849087e-02,  3.22487680e-02,  8.22502212e-02,\n",
       "        4.74933966e-02,  1.43804168e-02,  6.46559851e-02, -1.11276296e-02,\n",
       "        3.67917792e-03, -2.68872656e-02,  1.30624163e-02, -1.94104169e-02,\n",
       "       -2.54833327e-02,  7.17117150e-02, -3.75033656e-02,  1.20716846e-02,\n",
       "        4.90548317e-02,  4.59485533e-02,  4.88969943e-02,  4.66603660e-02,\n",
       "        4.80581518e-02,  4.85255776e-02,  4.86141942e-02,  4.99013257e-02,\n",
       "       -3.37203744e-02, -3.14318487e-02, -3.12395444e-02, -5.23366602e-02,\n",
       "       -1.48943968e-02, -4.38981095e-02, -2.21868924e-02, -4.21526689e-02,\n",
       "       -3.67896460e-03,  1.64061337e-03,  3.01410003e-02,  3.00734083e-02,\n",
       "        4.32042907e-02, -1.14715926e-02,  6.09026387e-02, -2.53571686e-03,\n",
       "       -3.83119297e-02, -3.10846265e-02, -3.17356987e-02, -3.37106496e-02,\n",
       "       -2.97198868e-02, -1.84752024e-02, -2.35331881e-02, -1.83020949e-02,\n",
       "       -5.52909684e-02, -5.22865792e-02, -5.52334537e-02, -5.00224650e-02,\n",
       "       -5.40770526e-02, -5.68612595e-02, -5.34955475e-02, -5.61385657e-02,\n",
       "       -4.24347488e-02, -4.36420518e-02, -4.20300524e-02, -4.10921708e-02,\n",
       "       -4.23007411e-02, -3.81039238e-02, -4.43071467e-02, -4.36460886e-02,\n",
       "       -3.79119655e-02, -3.82610137e-02, -3.70480241e-02, -3.51245008e-02,\n",
       "       -3.70889573e-02, -3.92014038e-02, -3.73539809e-02, -3.84385241e-02,\n",
       "        4.79308150e-02,  4.97756414e-02,  4.59706000e-02,  4.99684312e-02,\n",
       "        5.05213330e-02,  4.46262313e-02,  4.31029240e-02,  4.35277748e-02,\n",
       "        2.80329734e-02,  3.32988382e-02,  3.39598990e-02,  3.36773008e-02,\n",
       "        3.13340118e-02,  3.73122354e-02,  3.23369704e-02,  3.51606454e-02,\n",
       "       -4.07637659e-02, -2.85434646e-02, -3.20645341e-02, -2.69278782e-02,\n",
       "       -3.82377401e-02, -2.25804303e-02, -2.61934852e-02, -3.50313095e-02,\n",
       "       -2.82412034e-02, -2.26849150e-02, -2.06245559e-02, -1.90893166e-02,\n",
       "       -2.10592505e-02, -2.16136791e-02, -2.47060535e-02, -1.98101857e-02,\n",
       "       -2.17075187e-02, -2.33921844e-02, -1.87359167e-02, -2.44400721e-02,\n",
       "       -2.94907578e-02, -2.10585676e-02, -2.62656489e-02, -2.61636999e-02,\n",
       "       -2.06915035e-02, -2.14279146e-02, -2.29161503e-02,  5.18228775e-02,\n",
       "        6.04382642e-02, -2.40435142e-02,  6.73044780e-02, -1.93426672e-02,\n",
       "        1.57702950e-01, -2.68199791e-05, -4.21680702e-02, -1.50156673e-02,\n",
       "        6.78353895e-02, -7.64535606e-02,  2.99047574e-02, -5.35586366e-02,\n",
       "       -2.81650220e-02, -2.55388583e-02, -5.09327051e-02, -7.14711779e-02,\n",
       "        1.62810792e-02, -3.72750393e-02, -3.05877565e-02, -2.70427034e-02,\n",
       "       -4.90684034e-02, -2.26913339e-02, -6.12596289e-03, -2.35104775e-02,\n",
       "       -6.24201440e-02, -2.08085530e-02,  5.49882512e-02, -2.09592691e-02,\n",
       "       -5.14591595e-02, -2.46048726e-02, -2.46592418e-04,  4.28609786e-02,\n",
       "        3.65136792e-02,  4.28861499e-02, -8.32486278e-02,  3.00129440e-02,\n",
       "       -1.57548922e-02, -3.09767939e-02, -1.39116489e-02, -3.23264680e-02,\n",
       "       -2.79966433e-02, -2.27077803e-02, -2.75460298e-02, -2.48868785e-02,\n",
       "       -2.50428899e-02, -2.72977766e-02, -2.63089828e-02,  6.39760968e-02,\n",
       "        3.85220405e-02, -2.46092313e-02,  5.47387217e-02, -2.34863956e-02,\n",
       "       -4.01992211e-02, -3.74573507e-02, -3.49223662e-02, -3.14901296e-02,\n",
       "       -4.43028143e-02, -3.91916894e-02, -2.78374020e-02, -4.01907526e-02,\n",
       "       -9.99344822e-03,  1.21459744e-02,  1.13651363e-03,  3.74656819e-02,\n",
       "        4.12036303e-02,  4.46014688e-03,  4.50119475e-02, -5.55626223e-03,\n",
       "        3.17269301e-02,  3.04753734e-02,  3.13925249e-02,  2.95892015e-02,\n",
       "        3.16457000e-02,  2.89835159e-02,  3.27752138e-02,  3.16287371e-02,\n",
       "        1.93399962e-02,  1.76876268e-02,  1.76994183e-02, -7.66576593e-03,\n",
       "       -2.85168251e-03,  1.67761608e-02, -5.90808442e-03,  1.67672409e-02,\n",
       "       -9.67361359e-03, -1.20559970e-02, -3.71908179e-03,  9.87063119e-03,\n",
       "        8.94320020e-03, -6.08023663e-03,  2.20300374e-02, -7.53790821e-03,\n",
       "       -2.72612902e-02, -2.73745424e-02, -2.65947498e-02, -3.14732302e-02,\n",
       "       -1.75213195e-02, -2.70063752e-02, -3.44819093e-02, -2.74427147e-02,\n",
       "       -2.66467171e-02, -2.77030274e-02, -2.77410205e-02, -2.34642294e-02,\n",
       "       -2.97105404e-02, -2.88758975e-02, -1.94524911e-02, -2.73561124e-02,\n",
       "       -3.40457727e-02, -3.18751123e-02, -3.83421468e-02, -2.76632845e-02,\n",
       "       -3.82430107e-02, -3.63386864e-02, -4.41319629e-02, -3.18555396e-02,\n",
       "       -2.86115915e-02, -3.65015927e-02, -3.07493871e-02, -3.67815419e-02,\n",
       "       -4.29592714e-02, -2.94992198e-02, -1.12203510e-02, -3.01802004e-02,\n",
       "        2.20328832e-02,  2.12917930e-02,  3.96481042e-02,  1.91895146e-02,\n",
       "        3.54748645e-02,  3.73134008e-02,  3.73142672e-02,  2.72721174e-02,\n",
       "       -2.96908980e-02, -2.96410492e-02, -2.75329623e-02, -3.54699424e-02,\n",
       "       -4.35240376e-02, -3.16173893e-02, -3.12418945e-02, -3.21478135e-02,\n",
       "       -2.75432433e-02, -2.74233000e-02, -2.72793145e-02, -3.64671101e-02,\n",
       "        3.14883092e-02, -2.75021067e-02, -3.46789855e-02, -2.74628112e-02,\n",
       "       -6.95009313e-02, -4.47137954e-02,  2.74910251e-02, -5.32821387e-02,\n",
       "       -4.03491398e-02,  4.55770459e-02,  6.28506179e-02, -3.55859502e-02,\n",
       "        1.10315234e-02, -6.00566310e-02, -5.39814903e-02,  6.54296748e-02,\n",
       "       -3.07073755e-02,  3.96825506e-02,  5.48910095e-02,  4.38400708e-02,\n",
       "       -7.79943327e-02, -7.52502615e-02, -6.90846780e-02, -7.59585704e-02,\n",
       "       -6.61418455e-02,  6.81237127e-02, -7.66843756e-02])"
      ]
     },
     "execution_count": 21,
     "metadata": {},
     "output_type": "execute_result"
    }
   ],
   "source": [
    "cls_std.coef_[0]"
   ]
  },
  {
   "cell_type": "markdown",
   "id": "e4a9d4ce",
   "metadata": {
    "papermill": {
     "duration": 0.025573,
     "end_time": "2024-12-09T09:37:22.410170",
     "exception": false,
     "start_time": "2024-12-09T09:37:22.384597",
     "status": "completed"
    },
    "tags": []
   },
   "source": [
    "Predictions for the datapoints in the test set (X_test_std)"
   ]
  },
  {
   "cell_type": "code",
   "execution_count": 22,
   "id": "db5da85a",
   "metadata": {
    "execution": {
     "iopub.execute_input": "2024-12-09T09:37:22.464484Z",
     "iopub.status.busy": "2024-12-09T09:37:22.464033Z",
     "iopub.status.idle": "2024-12-09T09:37:22.485153Z",
     "shell.execute_reply": "2024-12-09T09:37:22.481001Z"
    },
    "papermill": {
     "duration": 0.054685,
     "end_time": "2024-12-09T09:37:22.491397",
     "exception": false,
     "start_time": "2024-12-09T09:37:22.436712",
     "status": "completed"
    },
    "tags": []
   },
   "outputs": [
    {
     "data": {
      "text/plain": [
       "array([0, 0, 1, 0, 0, 0, 0, 0, 0, 0, 0, 0, 0, 1, 1, 0, 0, 0, 0, 1, 0, 0,\n",
       "       0, 1, 1, 1, 0, 0, 0, 0, 0, 0, 1, 0, 0, 0, 0, 0, 0, 0, 1, 1, 0, 1,\n",
       "       0, 1, 0, 0, 0, 0, 1, 0, 0, 0, 0, 1, 0, 1, 0, 0, 0, 1, 1, 1, 0, 0,\n",
       "       1, 1, 0, 0, 1, 0, 0, 0, 0, 0, 0, 1, 1, 0, 0, 0, 1, 0, 1, 0, 0, 0,\n",
       "       1, 0, 1, 0])"
      ]
     },
     "execution_count": 22,
     "metadata": {},
     "output_type": "execute_result"
    }
   ],
   "source": [
    "predictions_std = cls_std.predict(X_test_std)\n",
    "predictions_std"
   ]
  },
  {
   "cell_type": "markdown",
   "id": "ff3caa7d",
   "metadata": {
    "papermill": {
     "duration": 0.045577,
     "end_time": "2024-12-09T09:37:22.611563",
     "exception": false,
     "start_time": "2024-12-09T09:37:22.565986",
     "status": "completed"
    },
    "tags": []
   },
   "source": [
    "0 represents no vaccine respons and 1 represents vaccine respons.\n",
    "Here showing the predicted class label for each row in the X_test_std (normalized test set)."
   ]
  },
  {
   "cell_type": "markdown",
   "id": "3f1abfbd",
   "metadata": {
    "papermill": {
     "duration": 0.024537,
     "end_time": "2024-12-09T09:37:22.661147",
     "exception": false,
     "start_time": "2024-12-09T09:37:22.636610",
     "status": "completed"
    },
    "tags": []
   },
   "source": [
    "Now looking at the class probabilities in stead of classes. (Using the predict_proba() function."
   ]
  },
  {
   "cell_type": "code",
   "execution_count": 23,
   "id": "6e2d6eae",
   "metadata": {
    "execution": {
     "iopub.execute_input": "2024-12-09T09:37:22.718796Z",
     "iopub.status.busy": "2024-12-09T09:37:22.718246Z",
     "iopub.status.idle": "2024-12-09T09:37:22.741230Z",
     "shell.execute_reply": "2024-12-09T09:37:22.739677Z"
    },
    "papermill": {
     "duration": 0.061114,
     "end_time": "2024-12-09T09:37:22.749090",
     "exception": false,
     "start_time": "2024-12-09T09:37:22.687976",
     "status": "completed"
    },
    "tags": []
   },
   "outputs": [
    {
     "data": {
      "text/plain": [
       "array([[9.99867504e-01, 1.32495593e-04],\n",
       "       [9.99965919e-01, 3.40809563e-05],\n",
       "       [4.99303299e-04, 9.99500697e-01],\n",
       "       [9.99947564e-01, 5.24355802e-05],\n",
       "       [9.99927238e-01, 7.27620300e-05],\n",
       "       [9.99916862e-01, 8.31378471e-05],\n",
       "       [9.89603347e-01, 1.03966535e-02],\n",
       "       [9.99924764e-01, 7.52356207e-05],\n",
       "       [9.99931895e-01, 6.81054845e-05],\n",
       "       [9.99918969e-01, 8.10306790e-05]])"
      ]
     },
     "execution_count": 23,
     "metadata": {},
     "output_type": "execute_result"
    }
   ],
   "source": [
    "predictions_std = cls_std.predict_proba(X_test_std)\n",
    "predictions_std[:10]"
   ]
  },
  {
   "cell_type": "markdown",
   "id": "1143e648",
   "metadata": {
    "papermill": {
     "duration": 0.04067,
     "end_time": "2024-12-09T09:37:22.865082",
     "exception": false,
     "start_time": "2024-12-09T09:37:22.824412",
     "status": "completed"
    },
    "tags": []
   },
   "source": [
    "These are the probabilities that the datapoint belongs to class 0, non-vaccine responder, (first number) and class 1, vaccine responder, (second number) respectively. "
   ]
  },
  {
   "cell_type": "markdown",
   "id": "8908d12e",
   "metadata": {
    "papermill": {
     "duration": 0.025354,
     "end_time": "2024-12-09T09:37:22.915100",
     "exception": false,
     "start_time": "2024-12-09T09:37:22.889746",
     "status": "completed"
    },
    "tags": []
   },
   "source": [
    "What is the accuracy of the predictions?"
   ]
  },
  {
   "cell_type": "code",
   "execution_count": 24,
   "id": "b68cfd4c",
   "metadata": {
    "execution": {
     "iopub.execute_input": "2024-12-09T09:37:22.969460Z",
     "iopub.status.busy": "2024-12-09T09:37:22.969025Z",
     "iopub.status.idle": "2024-12-09T09:37:22.985730Z",
     "shell.execute_reply": "2024-12-09T09:37:22.984047Z"
    },
    "papermill": {
     "duration": 0.052505,
     "end_time": "2024-12-09T09:37:22.994403",
     "exception": false,
     "start_time": "2024-12-09T09:37:22.941898",
     "status": "completed"
    },
    "tags": []
   },
   "outputs": [
    {
     "name": "stdout",
     "output_type": "stream",
     "text": [
      "Accuracy: 1.0\n"
     ]
    }
   ],
   "source": [
    "print(\"Accuracy: {}\".format(cls_std.score(X_test_std,y_test)))"
   ]
  },
  {
   "cell_type": "markdown",
   "id": "6006e3bf",
   "metadata": {
    "papermill": {
     "duration": 0.043595,
     "end_time": "2024-12-09T09:37:23.117980",
     "exception": false,
     "start_time": "2024-12-09T09:37:23.074385",
     "status": "completed"
    },
    "tags": []
   },
   "source": [
    "The accuracy of 1.0 can be due to that the dataset contains a class imbalance, because there are more non-responders then responders in the dataset. Eventhough we used a stratified splitting this cannot be ruled out."
   ]
  },
  {
   "cell_type": "code",
   "execution_count": 25,
   "id": "395130a6",
   "metadata": {
    "execution": {
     "iopub.execute_input": "2024-12-09T09:37:23.175705Z",
     "iopub.status.busy": "2024-12-09T09:37:23.175160Z",
     "iopub.status.idle": "2024-12-09T09:37:23.196691Z",
     "shell.execute_reply": "2024-12-09T09:37:23.194912Z"
    },
    "papermill": {
     "duration": 0.055579,
     "end_time": "2024-12-09T09:37:23.201158",
     "exception": false,
     "start_time": "2024-12-09T09:37:23.145579",
     "status": "completed"
    },
    "tags": []
   },
   "outputs": [
    {
     "name": "stdout",
     "output_type": "stream",
     "text": [
      "Accuracy: 0.717391304347826\n"
     ]
    }
   ],
   "source": [
    "print(\"Accuracy: {}\".format(cls_std.score(X_test,y_test)))"
   ]
  },
  {
   "cell_type": "markdown",
   "id": "27b002f2",
   "metadata": {
    "papermill": {
     "duration": 0.046876,
     "end_time": "2024-12-09T09:37:23.329699",
     "exception": false,
     "start_time": "2024-12-09T09:37:23.282823",
     "status": "completed"
    },
    "tags": []
   },
   "source": [
    "We can see that the normalization of the data had a good effect, because the accurary improved quite a lot."
   ]
  },
  {
   "cell_type": "markdown",
   "id": "83cc7c0c",
   "metadata": {
    "papermill": {
     "duration": 0.030477,
     "end_time": "2024-12-09T09:37:23.385808",
     "exception": false,
     "start_time": "2024-12-09T09:37:23.355331",
     "status": "completed"
    },
    "tags": []
   },
   "source": [
    "### Modelparameters and celtype importance"
   ]
  },
  {
   "cell_type": "code",
   "execution_count": 26,
   "id": "d6efa5ae",
   "metadata": {
    "execution": {
     "iopub.execute_input": "2024-12-09T09:37:23.446132Z",
     "iopub.status.busy": "2024-12-09T09:37:23.445720Z",
     "iopub.status.idle": "2024-12-09T09:37:23.463667Z",
     "shell.execute_reply": "2024-12-09T09:37:23.461998Z"
    },
    "papermill": {
     "duration": 0.049418,
     "end_time": "2024-12-09T09:37:23.466596",
     "exception": false,
     "start_time": "2024-12-09T09:37:23.417178",
     "status": "completed"
    },
    "tags": []
   },
   "outputs": [
    {
     "data": {
      "text/html": [
       "<div>\n",
       "<style scoped>\n",
       "    .dataframe tbody tr th:only-of-type {\n",
       "        vertical-align: middle;\n",
       "    }\n",
       "\n",
       "    .dataframe tbody tr th {\n",
       "        vertical-align: top;\n",
       "    }\n",
       "\n",
       "    .dataframe thead th {\n",
       "        text-align: right;\n",
       "    }\n",
       "</style>\n",
       "<table border=\"1\" class=\"dataframe\">\n",
       "  <thead>\n",
       "    <tr style=\"text-align: right;\">\n",
       "      <th></th>\n",
       "      <th>attribute</th>\n",
       "      <th>parameter_value</th>\n",
       "    </tr>\n",
       "  </thead>\n",
       "  <tbody>\n",
       "    <tr>\n",
       "      <th>0</th>\n",
       "      <td>B_cells</td>\n",
       "      <td>-0.004785</td>\n",
       "    </tr>\n",
       "    <tr>\n",
       "      <th>1</th>\n",
       "      <td>basophils</td>\n",
       "      <td>0.001252</td>\n",
       "    </tr>\n",
       "    <tr>\n",
       "      <th>2</th>\n",
       "      <td>CD16_pos_monocytes</td>\n",
       "      <td>0.013232</td>\n",
       "    </tr>\n",
       "    <tr>\n",
       "      <th>3</th>\n",
       "      <td>CD16_pos_CD14_pos_monocytes</td>\n",
       "      <td>0.028034</td>\n",
       "    </tr>\n",
       "    <tr>\n",
       "      <th>4</th>\n",
       "      <td>CD16_pos_CD14_neg_monocytes</td>\n",
       "      <td>0.000354</td>\n",
       "    </tr>\n",
       "    <tr>\n",
       "      <th>...</th>\n",
       "      <td>...</td>\n",
       "      <td>...</td>\n",
       "    </tr>\n",
       "    <tr>\n",
       "      <th>406</th>\n",
       "      <td>CXCR3_pos_NK_cells</td>\n",
       "      <td>-0.069085</td>\n",
       "    </tr>\n",
       "    <tr>\n",
       "      <th>407</th>\n",
       "      <td>CXCR3_pos_CD4_pos_T_cells</td>\n",
       "      <td>-0.075959</td>\n",
       "    </tr>\n",
       "    <tr>\n",
       "      <th>408</th>\n",
       "      <td>CXCR3_pos_CD8_pos_T_cells</td>\n",
       "      <td>-0.066142</td>\n",
       "    </tr>\n",
       "    <tr>\n",
       "      <th>409</th>\n",
       "      <td>CD28_pos_CD4_pos_T_cells</td>\n",
       "      <td>0.068124</td>\n",
       "    </tr>\n",
       "    <tr>\n",
       "      <th>410</th>\n",
       "      <td>CD314_pos_CD94_pos_CD8_pos_T_cells</td>\n",
       "      <td>-0.076684</td>\n",
       "    </tr>\n",
       "  </tbody>\n",
       "</table>\n",
       "<p>411 rows × 2 columns</p>\n",
       "</div>"
      ],
      "text/plain": [
       "                              attribute  parameter_value\n",
       "0                               B_cells        -0.004785\n",
       "1                             basophils         0.001252\n",
       "2                    CD16_pos_monocytes         0.013232\n",
       "3           CD16_pos_CD14_pos_monocytes         0.028034\n",
       "4           CD16_pos_CD14_neg_monocytes         0.000354\n",
       "..                                  ...              ...\n",
       "406                  CXCR3_pos_NK_cells        -0.069085\n",
       "407           CXCR3_pos_CD4_pos_T_cells        -0.075959\n",
       "408           CXCR3_pos_CD8_pos_T_cells        -0.066142\n",
       "409            CD28_pos_CD4_pos_T_cells         0.068124\n",
       "410  CD314_pos_CD94_pos_CD8_pos_T_cells        -0.076684\n",
       "\n",
       "[411 rows x 2 columns]"
      ]
     },
     "execution_count": 26,
     "metadata": {},
     "output_type": "execute_result"
    }
   ],
   "source": [
    "model_parameters = pd.DataFrame({\"attribute\": X_train.columns, \n",
    "                                 \"parameter_value\" : cls_std.coef_[0]})\n",
    "model_parameters"
   ]
  },
  {
   "cell_type": "markdown",
   "id": "c680c28c",
   "metadata": {
    "papermill": {
     "duration": 0.02463,
     "end_time": "2024-12-09T09:37:23.521222",
     "exception": false,
     "start_time": "2024-12-09T09:37:23.496592",
     "status": "completed"
    },
    "tags": []
   },
   "source": [
    "Sorting them from high to low (using sort_values())"
   ]
  },
  {
   "cell_type": "code",
   "execution_count": 27,
   "id": "7f32a198",
   "metadata": {
    "execution": {
     "iopub.execute_input": "2024-12-09T09:37:23.576232Z",
     "iopub.status.busy": "2024-12-09T09:37:23.575616Z",
     "iopub.status.idle": "2024-12-09T09:37:23.589883Z",
     "shell.execute_reply": "2024-12-09T09:37:23.588233Z"
    },
    "papermill": {
     "duration": 0.043905,
     "end_time": "2024-12-09T09:37:23.592426",
     "exception": false,
     "start_time": "2024-12-09T09:37:23.548521",
     "status": "completed"
    },
    "tags": []
   },
   "outputs": [
    {
     "data": {
      "text/html": [
       "<div>\n",
       "<style scoped>\n",
       "    .dataframe tbody tr th:only-of-type {\n",
       "        vertical-align: middle;\n",
       "    }\n",
       "\n",
       "    .dataframe tbody tr th {\n",
       "        vertical-align: top;\n",
       "    }\n",
       "\n",
       "    .dataframe thead th {\n",
       "        text-align: right;\n",
       "    }\n",
       "</style>\n",
       "<table border=\"1\" class=\"dataframe\">\n",
       "  <thead>\n",
       "    <tr style=\"text-align: right;\">\n",
       "      <th></th>\n",
       "      <th>attribute</th>\n",
       "      <th>parameter_value</th>\n",
       "    </tr>\n",
       "  </thead>\n",
       "  <tbody>\n",
       "    <tr>\n",
       "      <th>244</th>\n",
       "      <td>IFNa_IgA_pos_Ki67_pos_plasmablasts</td>\n",
       "      <td>0.157703</td>\n",
       "    </tr>\n",
       "    <tr>\n",
       "      <th>127</th>\n",
       "      <td>IL_neg_6_CD16_pos_CD56_neg_NK_cells</td>\n",
       "      <td>0.082250</td>\n",
       "    </tr>\n",
       "    <tr>\n",
       "      <th>122</th>\n",
       "      <td>PMA_Iono_CD16_pos_monocytes</td>\n",
       "      <td>0.078759</td>\n",
       "    </tr>\n",
       "    <tr>\n",
       "      <th>137</th>\n",
       "      <td>LPS_CD25_pos_CD4_pos_T_cells</td>\n",
       "      <td>0.071712</td>\n",
       "    </tr>\n",
       "    <tr>\n",
       "      <th>409</th>\n",
       "      <td>CD28_pos_CD4_pos_T_cells</td>\n",
       "      <td>0.068124</td>\n",
       "    </tr>\n",
       "    <tr>\n",
       "      <th>...</th>\n",
       "      <td>...</td>\n",
       "      <td>...</td>\n",
       "    </tr>\n",
       "    <tr>\n",
       "      <th>407</th>\n",
       "      <td>CXCR3_pos_CD4_pos_T_cells</td>\n",
       "      <td>-0.075959</td>\n",
       "    </tr>\n",
       "    <tr>\n",
       "      <th>249</th>\n",
       "      <td>LPS_IgA_pos_Ki67_pos_plasmablasts</td>\n",
       "      <td>-0.076454</td>\n",
       "    </tr>\n",
       "    <tr>\n",
       "      <th>410</th>\n",
       "      <td>CD314_pos_CD94_pos_CD8_pos_T_cells</td>\n",
       "      <td>-0.076684</td>\n",
       "    </tr>\n",
       "    <tr>\n",
       "      <th>404</th>\n",
       "      <td>CXCR3_pos_B_cells</td>\n",
       "      <td>-0.077994</td>\n",
       "    </tr>\n",
       "    <tr>\n",
       "      <th>274</th>\n",
       "      <td>PMA_Iono_IgA_neg_Ki67_neg_plasmablasts</td>\n",
       "      <td>-0.083249</td>\n",
       "    </tr>\n",
       "  </tbody>\n",
       "</table>\n",
       "<p>411 rows × 2 columns</p>\n",
       "</div>"
      ],
      "text/plain": [
       "                                  attribute  parameter_value\n",
       "244      IFNa_IgA_pos_Ki67_pos_plasmablasts         0.157703\n",
       "127     IL_neg_6_CD16_pos_CD56_neg_NK_cells         0.082250\n",
       "122             PMA_Iono_CD16_pos_monocytes         0.078759\n",
       "137            LPS_CD25_pos_CD4_pos_T_cells         0.071712\n",
       "409                CD28_pos_CD4_pos_T_cells         0.068124\n",
       "..                                      ...              ...\n",
       "407               CXCR3_pos_CD4_pos_T_cells        -0.075959\n",
       "249       LPS_IgA_pos_Ki67_pos_plasmablasts        -0.076454\n",
       "410      CD314_pos_CD94_pos_CD8_pos_T_cells        -0.076684\n",
       "404                       CXCR3_pos_B_cells        -0.077994\n",
       "274  PMA_Iono_IgA_neg_Ki67_neg_plasmablasts        -0.083249\n",
       "\n",
       "[411 rows x 2 columns]"
      ]
     },
     "execution_count": 27,
     "metadata": {},
     "output_type": "execute_result"
    }
   ],
   "source": [
    "model_parameters = model_parameters.sort_values(by=\"parameter_value\", ascending=False)\n",
    "model_parameters"
   ]
  },
  {
   "cell_type": "markdown",
   "id": "3c889259",
   "metadata": {
    "papermill": {
     "duration": 0.026934,
     "end_time": "2024-12-09T09:37:23.645202",
     "exception": false,
     "start_time": "2024-12-09T09:37:23.618268",
     "status": "completed"
    },
    "tags": []
   },
   "source": [
    "We are here mainly interested in the absolute value of the modelparameter. This can be computed with the python abs() function"
   ]
  },
  {
   "cell_type": "code",
   "execution_count": 28,
   "id": "329ebbe0",
   "metadata": {
    "execution": {
     "iopub.execute_input": "2024-12-09T09:37:23.702178Z",
     "iopub.status.busy": "2024-12-09T09:37:23.701768Z",
     "iopub.status.idle": "2024-12-09T09:37:23.716845Z",
     "shell.execute_reply": "2024-12-09T09:37:23.715581Z"
    },
    "papermill": {
     "duration": 0.046733,
     "end_time": "2024-12-09T09:37:23.719557",
     "exception": false,
     "start_time": "2024-12-09T09:37:23.672824",
     "status": "completed"
    },
    "tags": []
   },
   "outputs": [
    {
     "data": {
      "text/html": [
       "<div>\n",
       "<style scoped>\n",
       "    .dataframe tbody tr th:only-of-type {\n",
       "        vertical-align: middle;\n",
       "    }\n",
       "\n",
       "    .dataframe tbody tr th {\n",
       "        vertical-align: top;\n",
       "    }\n",
       "\n",
       "    .dataframe thead th {\n",
       "        text-align: right;\n",
       "    }\n",
       "</style>\n",
       "<table border=\"1\" class=\"dataframe\">\n",
       "  <thead>\n",
       "    <tr style=\"text-align: right;\">\n",
       "      <th></th>\n",
       "      <th>attribute</th>\n",
       "      <th>parameter_value</th>\n",
       "      <th>parameter_abs_value</th>\n",
       "    </tr>\n",
       "  </thead>\n",
       "  <tbody>\n",
       "    <tr>\n",
       "      <th>244</th>\n",
       "      <td>IFNa_IgA_pos_Ki67_pos_plasmablasts</td>\n",
       "      <td>0.157703</td>\n",
       "      <td>0.157703</td>\n",
       "    </tr>\n",
       "    <tr>\n",
       "      <th>127</th>\n",
       "      <td>IL_neg_6_CD16_pos_CD56_neg_NK_cells</td>\n",
       "      <td>0.082250</td>\n",
       "      <td>0.082250</td>\n",
       "    </tr>\n",
       "    <tr>\n",
       "      <th>122</th>\n",
       "      <td>PMA_Iono_CD16_pos_monocytes</td>\n",
       "      <td>0.078759</td>\n",
       "      <td>0.078759</td>\n",
       "    </tr>\n",
       "    <tr>\n",
       "      <th>137</th>\n",
       "      <td>LPS_CD25_pos_CD4_pos_T_cells</td>\n",
       "      <td>0.071712</td>\n",
       "      <td>0.071712</td>\n",
       "    </tr>\n",
       "    <tr>\n",
       "      <th>409</th>\n",
       "      <td>CD28_pos_CD4_pos_T_cells</td>\n",
       "      <td>0.068124</td>\n",
       "      <td>0.068124</td>\n",
       "    </tr>\n",
       "    <tr>\n",
       "      <th>...</th>\n",
       "      <td>...</td>\n",
       "      <td>...</td>\n",
       "      <td>...</td>\n",
       "    </tr>\n",
       "    <tr>\n",
       "      <th>407</th>\n",
       "      <td>CXCR3_pos_CD4_pos_T_cells</td>\n",
       "      <td>-0.075959</td>\n",
       "      <td>0.075959</td>\n",
       "    </tr>\n",
       "    <tr>\n",
       "      <th>249</th>\n",
       "      <td>LPS_IgA_pos_Ki67_pos_plasmablasts</td>\n",
       "      <td>-0.076454</td>\n",
       "      <td>0.076454</td>\n",
       "    </tr>\n",
       "    <tr>\n",
       "      <th>410</th>\n",
       "      <td>CD314_pos_CD94_pos_CD8_pos_T_cells</td>\n",
       "      <td>-0.076684</td>\n",
       "      <td>0.076684</td>\n",
       "    </tr>\n",
       "    <tr>\n",
       "      <th>404</th>\n",
       "      <td>CXCR3_pos_B_cells</td>\n",
       "      <td>-0.077994</td>\n",
       "      <td>0.077994</td>\n",
       "    </tr>\n",
       "    <tr>\n",
       "      <th>274</th>\n",
       "      <td>PMA_Iono_IgA_neg_Ki67_neg_plasmablasts</td>\n",
       "      <td>-0.083249</td>\n",
       "      <td>0.083249</td>\n",
       "    </tr>\n",
       "  </tbody>\n",
       "</table>\n",
       "<p>411 rows × 3 columns</p>\n",
       "</div>"
      ],
      "text/plain": [
       "                                  attribute  parameter_value  \\\n",
       "244      IFNa_IgA_pos_Ki67_pos_plasmablasts         0.157703   \n",
       "127     IL_neg_6_CD16_pos_CD56_neg_NK_cells         0.082250   \n",
       "122             PMA_Iono_CD16_pos_monocytes         0.078759   \n",
       "137            LPS_CD25_pos_CD4_pos_T_cells         0.071712   \n",
       "409                CD28_pos_CD4_pos_T_cells         0.068124   \n",
       "..                                      ...              ...   \n",
       "407               CXCR3_pos_CD4_pos_T_cells        -0.075959   \n",
       "249       LPS_IgA_pos_Ki67_pos_plasmablasts        -0.076454   \n",
       "410      CD314_pos_CD94_pos_CD8_pos_T_cells        -0.076684   \n",
       "404                       CXCR3_pos_B_cells        -0.077994   \n",
       "274  PMA_Iono_IgA_neg_Ki67_neg_plasmablasts        -0.083249   \n",
       "\n",
       "     parameter_abs_value  \n",
       "244             0.157703  \n",
       "127             0.082250  \n",
       "122             0.078759  \n",
       "137             0.071712  \n",
       "409             0.068124  \n",
       "..                   ...  \n",
       "407             0.075959  \n",
       "249             0.076454  \n",
       "410             0.076684  \n",
       "404             0.077994  \n",
       "274             0.083249  \n",
       "\n",
       "[411 rows x 3 columns]"
      ]
     },
     "execution_count": 28,
     "metadata": {},
     "output_type": "execute_result"
    }
   ],
   "source": [
    "model_parameters[\"parameter_abs_value\"] = model_parameters[\"parameter_value\"].map(abs)\n",
    "model_parameters"
   ]
  },
  {
   "cell_type": "markdown",
   "id": "de88ef15",
   "metadata": {
    "papermill": {
     "duration": 0.026822,
     "end_time": "2024-12-09T09:37:23.772105",
     "exception": false,
     "start_time": "2024-12-09T09:37:23.745283",
     "status": "completed"
    },
    "tags": []
   },
   "source": [
    "Sort by model_parameters by parameter_abs_value from high to low"
   ]
  },
  {
   "cell_type": "code",
   "execution_count": 29,
   "id": "7bab31eb",
   "metadata": {
    "execution": {
     "iopub.execute_input": "2024-12-09T09:37:23.829459Z",
     "iopub.status.busy": "2024-12-09T09:37:23.828968Z",
     "iopub.status.idle": "2024-12-09T09:37:23.846982Z",
     "shell.execute_reply": "2024-12-09T09:37:23.845507Z"
    },
    "papermill": {
     "duration": 0.052733,
     "end_time": "2024-12-09T09:37:23.851034",
     "exception": false,
     "start_time": "2024-12-09T09:37:23.798301",
     "status": "completed"
    },
    "tags": []
   },
   "outputs": [
    {
     "data": {
      "text/html": [
       "<div>\n",
       "<style scoped>\n",
       "    .dataframe tbody tr th:only-of-type {\n",
       "        vertical-align: middle;\n",
       "    }\n",
       "\n",
       "    .dataframe tbody tr th {\n",
       "        vertical-align: top;\n",
       "    }\n",
       "\n",
       "    .dataframe thead th {\n",
       "        text-align: right;\n",
       "    }\n",
       "</style>\n",
       "<table border=\"1\" class=\"dataframe\">\n",
       "  <thead>\n",
       "    <tr style=\"text-align: right;\">\n",
       "      <th></th>\n",
       "      <th>attribute</th>\n",
       "      <th>parameter_value</th>\n",
       "      <th>parameter_abs_value</th>\n",
       "    </tr>\n",
       "  </thead>\n",
       "  <tbody>\n",
       "    <tr>\n",
       "      <th>244</th>\n",
       "      <td>IFNa_IgA_pos_Ki67_pos_plasmablasts</td>\n",
       "      <td>0.157703</td>\n",
       "      <td>0.157703</td>\n",
       "    </tr>\n",
       "    <tr>\n",
       "      <th>127</th>\n",
       "      <td>IL_neg_6_CD16_pos_CD56_neg_NK_cells</td>\n",
       "      <td>0.082250</td>\n",
       "      <td>0.082250</td>\n",
       "    </tr>\n",
       "    <tr>\n",
       "      <th>122</th>\n",
       "      <td>PMA_Iono_CD16_pos_monocytes</td>\n",
       "      <td>0.078759</td>\n",
       "      <td>0.078759</td>\n",
       "    </tr>\n",
       "    <tr>\n",
       "      <th>137</th>\n",
       "      <td>LPS_CD25_pos_CD4_pos_T_cells</td>\n",
       "      <td>0.071712</td>\n",
       "      <td>0.071712</td>\n",
       "    </tr>\n",
       "    <tr>\n",
       "      <th>409</th>\n",
       "      <td>CD28_pos_CD4_pos_T_cells</td>\n",
       "      <td>0.068124</td>\n",
       "      <td>0.068124</td>\n",
       "    </tr>\n",
       "    <tr>\n",
       "      <th>...</th>\n",
       "      <td>...</td>\n",
       "      <td>...</td>\n",
       "      <td>...</td>\n",
       "    </tr>\n",
       "    <tr>\n",
       "      <th>407</th>\n",
       "      <td>CXCR3_pos_CD4_pos_T_cells</td>\n",
       "      <td>-0.075959</td>\n",
       "      <td>0.075959</td>\n",
       "    </tr>\n",
       "    <tr>\n",
       "      <th>249</th>\n",
       "      <td>LPS_IgA_pos_Ki67_pos_plasmablasts</td>\n",
       "      <td>-0.076454</td>\n",
       "      <td>0.076454</td>\n",
       "    </tr>\n",
       "    <tr>\n",
       "      <th>410</th>\n",
       "      <td>CD314_pos_CD94_pos_CD8_pos_T_cells</td>\n",
       "      <td>-0.076684</td>\n",
       "      <td>0.076684</td>\n",
       "    </tr>\n",
       "    <tr>\n",
       "      <th>404</th>\n",
       "      <td>CXCR3_pos_B_cells</td>\n",
       "      <td>-0.077994</td>\n",
       "      <td>0.077994</td>\n",
       "    </tr>\n",
       "    <tr>\n",
       "      <th>274</th>\n",
       "      <td>PMA_Iono_IgA_neg_Ki67_neg_plasmablasts</td>\n",
       "      <td>-0.083249</td>\n",
       "      <td>0.083249</td>\n",
       "    </tr>\n",
       "  </tbody>\n",
       "</table>\n",
       "<p>411 rows × 3 columns</p>\n",
       "</div>"
      ],
      "text/plain": [
       "                                  attribute  parameter_value  \\\n",
       "244      IFNa_IgA_pos_Ki67_pos_plasmablasts         0.157703   \n",
       "127     IL_neg_6_CD16_pos_CD56_neg_NK_cells         0.082250   \n",
       "122             PMA_Iono_CD16_pos_monocytes         0.078759   \n",
       "137            LPS_CD25_pos_CD4_pos_T_cells         0.071712   \n",
       "409                CD28_pos_CD4_pos_T_cells         0.068124   \n",
       "..                                      ...              ...   \n",
       "407               CXCR3_pos_CD4_pos_T_cells        -0.075959   \n",
       "249       LPS_IgA_pos_Ki67_pos_plasmablasts        -0.076454   \n",
       "410      CD314_pos_CD94_pos_CD8_pos_T_cells        -0.076684   \n",
       "404                       CXCR3_pos_B_cells        -0.077994   \n",
       "274  PMA_Iono_IgA_neg_Ki67_neg_plasmablasts        -0.083249   \n",
       "\n",
       "     parameter_abs_value  \n",
       "244             0.157703  \n",
       "127             0.082250  \n",
       "122             0.078759  \n",
       "137             0.071712  \n",
       "409             0.068124  \n",
       "..                   ...  \n",
       "407             0.075959  \n",
       "249             0.076454  \n",
       "410             0.076684  \n",
       "404             0.077994  \n",
       "274             0.083249  \n",
       "\n",
       "[411 rows x 3 columns]"
      ]
     },
     "execution_count": 29,
     "metadata": {},
     "output_type": "execute_result"
    }
   ],
   "source": [
    "model_parameters.sort_values(by = \"parameter_abs_value\", ascending=False)\n",
    "model_parameters"
   ]
  },
  {
   "cell_type": "markdown",
   "id": "a7a29aa6",
   "metadata": {
    "papermill": {
     "duration": 0.032533,
     "end_time": "2024-12-09T09:37:23.914823",
     "exception": false,
     "start_time": "2024-12-09T09:37:23.882290",
     "status": "completed"
    },
    "tags": []
   },
   "source": [
    "We will select the top 20 most important cell types from model_parameters"
   ]
  },
  {
   "cell_type": "code",
   "execution_count": 30,
   "id": "d04665a1",
   "metadata": {
    "execution": {
     "iopub.execute_input": "2024-12-09T09:37:23.975876Z",
     "iopub.status.busy": "2024-12-09T09:37:23.975430Z",
     "iopub.status.idle": "2024-12-09T09:37:23.984965Z",
     "shell.execute_reply": "2024-12-09T09:37:23.983388Z"
    },
    "papermill": {
     "duration": 0.043037,
     "end_time": "2024-12-09T09:37:23.987763",
     "exception": false,
     "start_time": "2024-12-09T09:37:23.944726",
     "status": "completed"
    },
    "tags": []
   },
   "outputs": [
    {
     "data": {
      "text/plain": [
       "244        IFNa_IgA_pos_Ki67_pos_plasmablasts\n",
       "127       IL_neg_6_CD16_pos_CD56_neg_NK_cells\n",
       "122               PMA_Iono_CD16_pos_monocytes\n",
       "137              LPS_CD25_pos_CD4_pos_T_cells\n",
       "409                  CD28_pos_CD4_pos_T_cells\n",
       "248    IL_neg_7_IgA_pos_Ki67_pos_plasmablasts\n",
       "242                  PMA_Iono_IgA_pos_B_cells\n",
       "399               CD314_neg_CD94_neg_NK_cells\n",
       "130       PMA_Iono_CD16_pos_CD56_neg_NK_cells\n",
       "287         IL_neg_6_IgD_neg_CD27_neg_B_cells\n",
       "394        CD314_pos_CD94_neg_CD8_pos_T_cells\n",
       "75                   Th17_TFH_CD8_pos_T_cells\n",
       "162       PMA_Iono_CD56_pos_CD16_pos_NK_cells\n",
       "240                  IL_neg_7_IgA_pos_B_cells\n",
       "266    PMA_Iono_IgA_neg_Ki67_pos_plasmablasts\n",
       "402                        CD33_pos_monocytes\n",
       "290         PMA_Iono_IgD_neg_CD27_neg_B_cells\n",
       "124           IFNa_CD16_pos_CD56_neg_NK_cells\n",
       "239                  IL_neg_6_IgA_pos_B_cells\n",
       "200         IL_neg_7_effector_CD4_pos_T_cells\n",
       "Name: attribute, dtype: object"
      ]
     },
     "execution_count": 30,
     "metadata": {},
     "output_type": "execute_result"
    }
   ],
   "source": [
    "selected_attributes = model_parameters.iloc[0:20, 0]\n",
    "selected_attributes"
   ]
  },
  {
   "cell_type": "markdown",
   "id": "52ef8302",
   "metadata": {
    "papermill": {
     "duration": 0.026917,
     "end_time": "2024-12-09T09:37:24.045534",
     "exception": false,
     "start_time": "2024-12-09T09:37:24.018617",
     "status": "completed"
    },
    "tags": []
   },
   "source": [
    "Convert them into a list (here a dataframe). We can use this list then to make an another logistic regression model on the train set that contains only the standardized features for the cell types in selected_attributes."
   ]
  },
  {
   "cell_type": "code",
   "execution_count": 31,
   "id": "73b4b4ef",
   "metadata": {
    "execution": {
     "iopub.execute_input": "2024-12-09T09:37:24.101225Z",
     "iopub.status.busy": "2024-12-09T09:37:24.100805Z",
     "iopub.status.idle": "2024-12-09T09:37:24.108805Z",
     "shell.execute_reply": "2024-12-09T09:37:24.107561Z"
    },
    "papermill": {
     "duration": 0.038972,
     "end_time": "2024-12-09T09:37:24.111224",
     "exception": false,
     "start_time": "2024-12-09T09:37:24.072252",
     "status": "completed"
    },
    "tags": []
   },
   "outputs": [
    {
     "data": {
      "text/plain": [
       "['IFNa_IgA_pos_Ki67_pos_plasmablasts',\n",
       " 'IL_neg_6_CD16_pos_CD56_neg_NK_cells',\n",
       " 'PMA_Iono_CD16_pos_monocytes',\n",
       " 'LPS_CD25_pos_CD4_pos_T_cells',\n",
       " 'CD28_pos_CD4_pos_T_cells',\n",
       " 'IL_neg_7_IgA_pos_Ki67_pos_plasmablasts',\n",
       " 'PMA_Iono_IgA_pos_B_cells',\n",
       " 'CD314_neg_CD94_neg_NK_cells',\n",
       " 'PMA_Iono_CD16_pos_CD56_neg_NK_cells',\n",
       " 'IL_neg_6_IgD_neg_CD27_neg_B_cells',\n",
       " 'CD314_pos_CD94_neg_CD8_pos_T_cells',\n",
       " 'Th17_TFH_CD8_pos_T_cells',\n",
       " 'PMA_Iono_CD56_pos_CD16_pos_NK_cells',\n",
       " 'IL_neg_7_IgA_pos_B_cells',\n",
       " 'PMA_Iono_IgA_neg_Ki67_pos_plasmablasts',\n",
       " 'CD33_pos_monocytes',\n",
       " 'PMA_Iono_IgD_neg_CD27_neg_B_cells',\n",
       " 'IFNa_CD16_pos_CD56_neg_NK_cells',\n",
       " 'IL_neg_6_IgA_pos_B_cells',\n",
       " 'IL_neg_7_effector_CD4_pos_T_cells']"
      ]
     },
     "execution_count": 31,
     "metadata": {},
     "output_type": "execute_result"
    }
   ],
   "source": [
    "selected_attributes = list(selected_attributes)\n",
    "selected_attributes"
   ]
  },
  {
   "cell_type": "markdown",
   "id": "35c0e2bf",
   "metadata": {
    "papermill": {
     "duration": 0.026682,
     "end_time": "2024-12-09T09:37:24.164473",
     "exception": false,
     "start_time": "2024-12-09T09:37:24.137791",
     "status": "completed"
    },
    "tags": []
   },
   "source": [
    "Now making the logistic regression model"
   ]
  },
  {
   "cell_type": "code",
   "execution_count": 32,
   "id": "e1ea8169",
   "metadata": {
    "execution": {
     "iopub.execute_input": "2024-12-09T09:37:24.220385Z",
     "iopub.status.busy": "2024-12-09T09:37:24.219490Z",
     "iopub.status.idle": "2024-12-09T09:37:24.239652Z",
     "shell.execute_reply": "2024-12-09T09:37:24.238329Z"
    },
    "papermill": {
     "duration": 0.051515,
     "end_time": "2024-12-09T09:37:24.241942",
     "exception": false,
     "start_time": "2024-12-09T09:37:24.190427",
     "status": "completed"
    },
    "tags": []
   },
   "outputs": [
    {
     "data": {
      "text/html": [
       "<style>#sk-container-id-2 {color: black;background-color: white;}#sk-container-id-2 pre{padding: 0;}#sk-container-id-2 div.sk-toggleable {background-color: white;}#sk-container-id-2 label.sk-toggleable__label {cursor: pointer;display: block;width: 100%;margin-bottom: 0;padding: 0.3em;box-sizing: border-box;text-align: center;}#sk-container-id-2 label.sk-toggleable__label-arrow:before {content: \"▸\";float: left;margin-right: 0.25em;color: #696969;}#sk-container-id-2 label.sk-toggleable__label-arrow:hover:before {color: black;}#sk-container-id-2 div.sk-estimator:hover label.sk-toggleable__label-arrow:before {color: black;}#sk-container-id-2 div.sk-toggleable__content {max-height: 0;max-width: 0;overflow: hidden;text-align: left;background-color: #f0f8ff;}#sk-container-id-2 div.sk-toggleable__content pre {margin: 0.2em;color: black;border-radius: 0.25em;background-color: #f0f8ff;}#sk-container-id-2 input.sk-toggleable__control:checked~div.sk-toggleable__content {max-height: 200px;max-width: 100%;overflow: auto;}#sk-container-id-2 input.sk-toggleable__control:checked~label.sk-toggleable__label-arrow:before {content: \"▾\";}#sk-container-id-2 div.sk-estimator input.sk-toggleable__control:checked~label.sk-toggleable__label {background-color: #d4ebff;}#sk-container-id-2 div.sk-label input.sk-toggleable__control:checked~label.sk-toggleable__label {background-color: #d4ebff;}#sk-container-id-2 input.sk-hidden--visually {border: 0;clip: rect(1px 1px 1px 1px);clip: rect(1px, 1px, 1px, 1px);height: 1px;margin: -1px;overflow: hidden;padding: 0;position: absolute;width: 1px;}#sk-container-id-2 div.sk-estimator {font-family: monospace;background-color: #f0f8ff;border: 1px dotted black;border-radius: 0.25em;box-sizing: border-box;margin-bottom: 0.5em;}#sk-container-id-2 div.sk-estimator:hover {background-color: #d4ebff;}#sk-container-id-2 div.sk-parallel-item::after {content: \"\";width: 100%;border-bottom: 1px solid gray;flex-grow: 1;}#sk-container-id-2 div.sk-label:hover label.sk-toggleable__label {background-color: #d4ebff;}#sk-container-id-2 div.sk-serial::before {content: \"\";position: absolute;border-left: 1px solid gray;box-sizing: border-box;top: 0;bottom: 0;left: 50%;z-index: 0;}#sk-container-id-2 div.sk-serial {display: flex;flex-direction: column;align-items: center;background-color: white;padding-right: 0.2em;padding-left: 0.2em;position: relative;}#sk-container-id-2 div.sk-item {position: relative;z-index: 1;}#sk-container-id-2 div.sk-parallel {display: flex;align-items: stretch;justify-content: center;background-color: white;position: relative;}#sk-container-id-2 div.sk-item::before, #sk-container-id-2 div.sk-parallel-item::before {content: \"\";position: absolute;border-left: 1px solid gray;box-sizing: border-box;top: 0;bottom: 0;left: 50%;z-index: -1;}#sk-container-id-2 div.sk-parallel-item {display: flex;flex-direction: column;z-index: 1;position: relative;background-color: white;}#sk-container-id-2 div.sk-parallel-item:first-child::after {align-self: flex-end;width: 50%;}#sk-container-id-2 div.sk-parallel-item:last-child::after {align-self: flex-start;width: 50%;}#sk-container-id-2 div.sk-parallel-item:only-child::after {width: 0;}#sk-container-id-2 div.sk-dashed-wrapped {border: 1px dashed gray;margin: 0 0.4em 0.5em 0.4em;box-sizing: border-box;padding-bottom: 0.4em;background-color: white;}#sk-container-id-2 div.sk-label label {font-family: monospace;font-weight: bold;display: inline-block;line-height: 1.2em;}#sk-container-id-2 div.sk-label-container {text-align: center;}#sk-container-id-2 div.sk-container {/* jupyter's `normalize.less` sets `[hidden] { display: none; }` but bootstrap.min.css set `[hidden] { display: none !important; }` so we also need the `!important` here to be able to override the default hidden behavior on the sphinx rendered scikit-learn.org. See: https://github.com/scikit-learn/scikit-learn/issues/21755 */display: inline-block !important;position: relative;}#sk-container-id-2 div.sk-text-repr-fallback {display: none;}</style><div id=\"sk-container-id-2\" class=\"sk-top-container\"><div class=\"sk-text-repr-fallback\"><pre>LogisticRegression()</pre><b>In a Jupyter environment, please rerun this cell to show the HTML representation or trust the notebook. <br />On GitHub, the HTML representation is unable to render, please try loading this page with nbviewer.org.</b></div><div class=\"sk-container\" hidden><div class=\"sk-item\"><div class=\"sk-estimator sk-toggleable\"><input class=\"sk-toggleable__control sk-hidden--visually\" id=\"sk-estimator-id-2\" type=\"checkbox\" checked><label for=\"sk-estimator-id-2\" class=\"sk-toggleable__label sk-toggleable__label-arrow\">LogisticRegression</label><div class=\"sk-toggleable__content\"><pre>LogisticRegression()</pre></div></div></div></div></div>"
      ],
      "text/plain": [
       "LogisticRegression()"
      ]
     },
     "execution_count": 32,
     "metadata": {},
     "output_type": "execute_result"
    }
   ],
   "source": [
    "cls_std.fit(X_train_std[selected_attributes],y_train)"
   ]
  },
  {
   "cell_type": "markdown",
   "id": "dffcbcfd",
   "metadata": {
    "papermill": {
     "duration": 0.026757,
     "end_time": "2024-12-09T09:37:24.295915",
     "exception": false,
     "start_time": "2024-12-09T09:37:24.269158",
     "status": "completed"
    },
    "tags": []
   },
   "source": [
    "The prediction accuracy"
   ]
  },
  {
   "cell_type": "code",
   "execution_count": 33,
   "id": "204d1413",
   "metadata": {
    "execution": {
     "iopub.execute_input": "2024-12-09T09:37:24.351871Z",
     "iopub.status.busy": "2024-12-09T09:37:24.351484Z",
     "iopub.status.idle": "2024-12-09T09:37:24.366542Z",
     "shell.execute_reply": "2024-12-09T09:37:24.364831Z"
    },
    "papermill": {
     "duration": 0.046888,
     "end_time": "2024-12-09T09:37:24.369211",
     "exception": false,
     "start_time": "2024-12-09T09:37:24.322323",
     "status": "completed"
    },
    "tags": []
   },
   "outputs": [
    {
     "name": "stdout",
     "output_type": "stream",
     "text": [
      "Accuracy: 0.9891304347826086\n"
     ]
    },
    {
     "data": {
      "text/plain": [
       "247    0\n",
       "298    0\n",
       "258    1\n",
       "293    0\n",
       "64     0\n",
       "      ..\n",
       "65     0\n",
       "116    1\n",
       "24     0\n",
       "91     1\n",
       "8      0\n",
       "Name: vaccine_response, Length: 92, dtype: int64"
      ]
     },
     "execution_count": 33,
     "metadata": {},
     "output_type": "execute_result"
    }
   ],
   "source": [
    "print(\"Accuracy: {}\".format(cls_std.score(X_test_std[selected_attributes],y_test)))\n",
    "X_test_std\n",
    "y_test"
   ]
  },
  {
   "cell_type": "markdown",
   "id": "40be12ef",
   "metadata": {
    "papermill": {
     "duration": 0.026916,
     "end_time": "2024-12-09T09:37:24.422598",
     "exception": false,
     "start_time": "2024-12-09T09:37:24.395682",
     "status": "completed"
    },
    "tags": []
   },
   "source": [
    "The accuracy is almost 99%. One reason can again be the class imbalance of the dataset."
   ]
  },
  {
   "cell_type": "markdown",
   "id": "d9007433",
   "metadata": {
    "papermill": {
     "duration": 0.026428,
     "end_time": "2024-12-09T09:37:24.476595",
     "exception": false,
     "start_time": "2024-12-09T09:37:24.450167",
     "status": "completed"
    },
    "tags": []
   },
   "source": [
    "For-loop that prints the prediction accuracy for the top-x most important cell types."
   ]
  },
  {
   "cell_type": "code",
   "execution_count": 34,
   "id": "09ac206b",
   "metadata": {
    "execution": {
     "iopub.execute_input": "2024-12-09T09:37:24.532267Z",
     "iopub.status.busy": "2024-12-09T09:37:24.531844Z",
     "iopub.status.idle": "2024-12-09T09:37:25.174442Z",
     "shell.execute_reply": "2024-12-09T09:37:25.171030Z"
    },
    "papermill": {
     "duration": 0.676914,
     "end_time": "2024-12-09T09:37:25.179910",
     "exception": false,
     "start_time": "2024-12-09T09:37:24.502996",
     "status": "completed"
    },
    "tags": []
   },
   "outputs": [
    {
     "name": "stdout",
     "output_type": "stream",
     "text": [
      "Accuracy: 0.9456521739130435\n",
      "Accuracy: 0.967391304347826\n",
      "Accuracy: 0.967391304347826\n",
      "Accuracy: 0.9565217391304348\n",
      "Accuracy: 0.967391304347826\n",
      "Accuracy: 0.9782608695652174\n",
      "Accuracy: 0.9782608695652174\n",
      "Accuracy: 0.9782608695652174\n",
      "Accuracy: 0.9782608695652174\n",
      "Accuracy: 0.9782608695652174\n",
      "Accuracy: 0.9782608695652174\n",
      "Accuracy: 0.9891304347826086\n",
      "Accuracy: 0.9891304347826086\n",
      "Accuracy: 0.9891304347826086\n",
      "Accuracy: 0.9891304347826086\n",
      "Accuracy: 0.9891304347826086\n",
      "Accuracy: 0.9891304347826086\n",
      "Accuracy: 1.0\n",
      "Accuracy: 1.0\n",
      "Accuracy: 0.9891304347826086\n",
      "Accuracy: 0.9891304347826086\n",
      "Accuracy: 0.9891304347826086\n",
      "Accuracy: 0.9891304347826086\n",
      "Accuracy: 0.9891304347826086\n",
      "Accuracy: 0.9891304347826086\n",
      "Accuracy: 1.0\n",
      "Accuracy: 1.0\n",
      "Accuracy: 0.9891304347826086\n",
      "Accuracy: 1.0\n",
      "Accuracy: 1.0\n",
      "Accuracy: 0.9891304347826086\n",
      "Accuracy: 0.9891304347826086\n",
      "Accuracy: 0.9891304347826086\n",
      "Accuracy: 0.9891304347826086\n",
      "Accuracy: 0.9891304347826086\n",
      "Accuracy: 0.9891304347826086\n",
      "Accuracy: 0.9891304347826086\n",
      "Accuracy: 0.9891304347826086\n",
      "Accuracy: 0.9891304347826086\n",
      "Accuracy: 0.9891304347826086\n",
      "Accuracy: 0.9891304347826086\n",
      "Accuracy: 0.9782608695652174\n",
      "Accuracy: 0.9891304347826086\n",
      "Accuracy: 0.9891304347826086\n",
      "Accuracy: 0.9782608695652174\n",
      "Accuracy: 0.9782608695652174\n",
      "Accuracy: 1.0\n",
      "Accuracy: 0.9891304347826086\n",
      "Accuracy: 0.9891304347826086\n"
     ]
    }
   ],
   "source": [
    "for s in range(1,50):\n",
    "    attribute = model_parameters.head(s)[\"attribute\"]\n",
    "    cls_std.fit(X_train_std[attribute], y_train)\n",
    "    print(\"Accuracy: {}\".format(cls_std.score(X_test_std[attribute],y_test)))"
   ]
  },
  {
   "cell_type": "markdown",
   "id": "8d2fb4a1",
   "metadata": {
    "papermill": {
     "duration": 0.04087,
     "end_time": "2024-12-09T09:37:25.303782",
     "exception": false,
     "start_time": "2024-12-09T09:37:25.262912",
     "status": "completed"
    },
    "tags": []
   },
   "source": [
    "We can see that after the use of the top 19 cell types that the accuracy is already 1.0. The 18th line gives 1.0, but started to count from the second celtype (index 1), so +1 because the first celtype (index 0) must be included. \n",
    "\n",
    "So the model can make a 100% correct prediction based in these 19 cell types. When we include more cell types we see that the accuracy changes. This could be due to overfitting."
   ]
  },
  {
   "cell_type": "markdown",
   "id": "6b5810c1",
   "metadata": {
    "papermill": {
     "duration": 0.02946,
     "end_time": "2024-12-09T09:37:25.361382",
     "exception": false,
     "start_time": "2024-12-09T09:37:25.331922",
     "status": "completed"
    },
    "tags": []
   },
   "source": [
    "What are these 19 cell types?"
   ]
  },
  {
   "cell_type": "code",
   "execution_count": 35,
   "id": "a4bf6848",
   "metadata": {
    "execution": {
     "iopub.execute_input": "2024-12-09T09:37:25.424477Z",
     "iopub.status.busy": "2024-12-09T09:37:25.422728Z",
     "iopub.status.idle": "2024-12-09T09:37:25.430857Z",
     "shell.execute_reply": "2024-12-09T09:37:25.429202Z"
    },
    "papermill": {
     "duration": 0.043567,
     "end_time": "2024-12-09T09:37:25.433463",
     "exception": false,
     "start_time": "2024-12-09T09:37:25.389896",
     "status": "completed"
    },
    "tags": []
   },
   "outputs": [
    {
     "name": "stdout",
     "output_type": "stream",
     "text": [
      "['IFNa_IgA_pos_Ki67_pos_plasmablasts', 'IL_neg_6_CD16_pos_CD56_neg_NK_cells', 'PMA_Iono_CD16_pos_monocytes', 'LPS_CD25_pos_CD4_pos_T_cells', 'CD28_pos_CD4_pos_T_cells', 'IL_neg_7_IgA_pos_Ki67_pos_plasmablasts', 'PMA_Iono_IgA_pos_B_cells', 'CD314_neg_CD94_neg_NK_cells', 'PMA_Iono_CD16_pos_CD56_neg_NK_cells', 'IL_neg_6_IgD_neg_CD27_neg_B_cells', 'CD314_pos_CD94_neg_CD8_pos_T_cells', 'Th17_TFH_CD8_pos_T_cells', 'PMA_Iono_CD56_pos_CD16_pos_NK_cells', 'IL_neg_7_IgA_pos_B_cells', 'PMA_Iono_IgA_neg_Ki67_pos_plasmablasts', 'CD33_pos_monocytes', 'PMA_Iono_IgD_neg_CD27_neg_B_cells', 'IFNa_CD16_pos_CD56_neg_NK_cells', 'IL_neg_6_IgA_pos_B_cells']\n"
     ]
    }
   ],
   "source": [
    "TOP_19_cells = selected_attributes[0:19]\n",
    "print(TOP_19_cells)"
   ]
  },
  {
   "cell_type": "markdown",
   "id": "005f0e87",
   "metadata": {
    "papermill": {
     "duration": 0.03019,
     "end_time": "2024-12-09T09:37:25.493767",
     "exception": false,
     "start_time": "2024-12-09T09:37:25.463577",
     "status": "completed"
    },
    "tags": []
   },
   "source": [
    "Making the model again with the top 19 cell types."
   ]
  },
  {
   "cell_type": "code",
   "execution_count": 36,
   "id": "48706de1",
   "metadata": {
    "execution": {
     "iopub.execute_input": "2024-12-09T09:37:25.559472Z",
     "iopub.status.busy": "2024-12-09T09:37:25.558797Z",
     "iopub.status.idle": "2024-12-09T09:37:25.582823Z",
     "shell.execute_reply": "2024-12-09T09:37:25.580282Z"
    },
    "papermill": {
     "duration": 0.059216,
     "end_time": "2024-12-09T09:37:25.585378",
     "exception": false,
     "start_time": "2024-12-09T09:37:25.526162",
     "status": "completed"
    },
    "tags": []
   },
   "outputs": [
    {
     "data": {
      "text/html": [
       "<style>#sk-container-id-3 {color: black;background-color: white;}#sk-container-id-3 pre{padding: 0;}#sk-container-id-3 div.sk-toggleable {background-color: white;}#sk-container-id-3 label.sk-toggleable__label {cursor: pointer;display: block;width: 100%;margin-bottom: 0;padding: 0.3em;box-sizing: border-box;text-align: center;}#sk-container-id-3 label.sk-toggleable__label-arrow:before {content: \"▸\";float: left;margin-right: 0.25em;color: #696969;}#sk-container-id-3 label.sk-toggleable__label-arrow:hover:before {color: black;}#sk-container-id-3 div.sk-estimator:hover label.sk-toggleable__label-arrow:before {color: black;}#sk-container-id-3 div.sk-toggleable__content {max-height: 0;max-width: 0;overflow: hidden;text-align: left;background-color: #f0f8ff;}#sk-container-id-3 div.sk-toggleable__content pre {margin: 0.2em;color: black;border-radius: 0.25em;background-color: #f0f8ff;}#sk-container-id-3 input.sk-toggleable__control:checked~div.sk-toggleable__content {max-height: 200px;max-width: 100%;overflow: auto;}#sk-container-id-3 input.sk-toggleable__control:checked~label.sk-toggleable__label-arrow:before {content: \"▾\";}#sk-container-id-3 div.sk-estimator input.sk-toggleable__control:checked~label.sk-toggleable__label {background-color: #d4ebff;}#sk-container-id-3 div.sk-label input.sk-toggleable__control:checked~label.sk-toggleable__label {background-color: #d4ebff;}#sk-container-id-3 input.sk-hidden--visually {border: 0;clip: rect(1px 1px 1px 1px);clip: rect(1px, 1px, 1px, 1px);height: 1px;margin: -1px;overflow: hidden;padding: 0;position: absolute;width: 1px;}#sk-container-id-3 div.sk-estimator {font-family: monospace;background-color: #f0f8ff;border: 1px dotted black;border-radius: 0.25em;box-sizing: border-box;margin-bottom: 0.5em;}#sk-container-id-3 div.sk-estimator:hover {background-color: #d4ebff;}#sk-container-id-3 div.sk-parallel-item::after {content: \"\";width: 100%;border-bottom: 1px solid gray;flex-grow: 1;}#sk-container-id-3 div.sk-label:hover label.sk-toggleable__label {background-color: #d4ebff;}#sk-container-id-3 div.sk-serial::before {content: \"\";position: absolute;border-left: 1px solid gray;box-sizing: border-box;top: 0;bottom: 0;left: 50%;z-index: 0;}#sk-container-id-3 div.sk-serial {display: flex;flex-direction: column;align-items: center;background-color: white;padding-right: 0.2em;padding-left: 0.2em;position: relative;}#sk-container-id-3 div.sk-item {position: relative;z-index: 1;}#sk-container-id-3 div.sk-parallel {display: flex;align-items: stretch;justify-content: center;background-color: white;position: relative;}#sk-container-id-3 div.sk-item::before, #sk-container-id-3 div.sk-parallel-item::before {content: \"\";position: absolute;border-left: 1px solid gray;box-sizing: border-box;top: 0;bottom: 0;left: 50%;z-index: -1;}#sk-container-id-3 div.sk-parallel-item {display: flex;flex-direction: column;z-index: 1;position: relative;background-color: white;}#sk-container-id-3 div.sk-parallel-item:first-child::after {align-self: flex-end;width: 50%;}#sk-container-id-3 div.sk-parallel-item:last-child::after {align-self: flex-start;width: 50%;}#sk-container-id-3 div.sk-parallel-item:only-child::after {width: 0;}#sk-container-id-3 div.sk-dashed-wrapped {border: 1px dashed gray;margin: 0 0.4em 0.5em 0.4em;box-sizing: border-box;padding-bottom: 0.4em;background-color: white;}#sk-container-id-3 div.sk-label label {font-family: monospace;font-weight: bold;display: inline-block;line-height: 1.2em;}#sk-container-id-3 div.sk-label-container {text-align: center;}#sk-container-id-3 div.sk-container {/* jupyter's `normalize.less` sets `[hidden] { display: none; }` but bootstrap.min.css set `[hidden] { display: none !important; }` so we also need the `!important` here to be able to override the default hidden behavior on the sphinx rendered scikit-learn.org. See: https://github.com/scikit-learn/scikit-learn/issues/21755 */display: inline-block !important;position: relative;}#sk-container-id-3 div.sk-text-repr-fallback {display: none;}</style><div id=\"sk-container-id-3\" class=\"sk-top-container\"><div class=\"sk-text-repr-fallback\"><pre>LogisticRegression()</pre><b>In a Jupyter environment, please rerun this cell to show the HTML representation or trust the notebook. <br />On GitHub, the HTML representation is unable to render, please try loading this page with nbviewer.org.</b></div><div class=\"sk-container\" hidden><div class=\"sk-item\"><div class=\"sk-estimator sk-toggleable\"><input class=\"sk-toggleable__control sk-hidden--visually\" id=\"sk-estimator-id-3\" type=\"checkbox\" checked><label for=\"sk-estimator-id-3\" class=\"sk-toggleable__label sk-toggleable__label-arrow\">LogisticRegression</label><div class=\"sk-toggleable__content\"><pre>LogisticRegression()</pre></div></div></div></div></div>"
      ],
      "text/plain": [
       "LogisticRegression()"
      ]
     },
     "execution_count": 36,
     "metadata": {},
     "output_type": "execute_result"
    }
   ],
   "source": [
    "cls_std.fit(X_train_std[TOP_19_cells],y_train)"
   ]
  },
  {
   "cell_type": "code",
   "execution_count": 37,
   "id": "0f1a8d7f",
   "metadata": {
    "execution": {
     "iopub.execute_input": "2024-12-09T09:37:25.648296Z",
     "iopub.status.busy": "2024-12-09T09:37:25.647033Z",
     "iopub.status.idle": "2024-12-09T09:37:25.657966Z",
     "shell.execute_reply": "2024-12-09T09:37:25.656418Z"
    },
    "papermill": {
     "duration": 0.043154,
     "end_time": "2024-12-09T09:37:25.660621",
     "exception": false,
     "start_time": "2024-12-09T09:37:25.617467",
     "status": "completed"
    },
    "tags": []
   },
   "outputs": [
    {
     "name": "stdout",
     "output_type": "stream",
     "text": [
      "Accuracy: 1.0\n"
     ]
    }
   ],
   "source": [
    "print(\"Accuracy: {}\".format(cls_std.score(X_test_std[TOP_19_cells],y_test)))"
   ]
  },
  {
   "cell_type": "markdown",
   "id": "6e39770f",
   "metadata": {
    "papermill": {
     "duration": 0.02808,
     "end_time": "2024-12-09T09:37:25.719844",
     "exception": false,
     "start_time": "2024-12-09T09:37:25.691764",
     "status": "completed"
    },
    "tags": []
   },
   "source": [
    "Creating a heatmap based on the scoring matrix (confusion matrix), making it easier to see the distribution of true positives, false positives, true negatives, and false negatives."
   ]
  },
  {
   "cell_type": "code",
   "execution_count": 38,
   "id": "5fe90e01",
   "metadata": {
    "execution": {
     "iopub.execute_input": "2024-12-09T09:37:25.777672Z",
     "iopub.status.busy": "2024-12-09T09:37:25.777138Z",
     "iopub.status.idle": "2024-12-09T09:37:26.796740Z",
     "shell.execute_reply": "2024-12-09T09:37:26.795182Z"
    },
    "papermill": {
     "duration": 1.052228,
     "end_time": "2024-12-09T09:37:26.799243",
     "exception": false,
     "start_time": "2024-12-09T09:37:25.747015",
     "status": "completed"
    },
    "tags": []
   },
   "outputs": [
    {
     "data": {
      "image/png": "[encoded data removed]",
      "text/plain": [
       "<Figure size 800x600 with 2 Axes>"
      ]
     },
     "metadata": {},
     "output_type": "display_data"
    }
   ],
   "source": [
    "from sklearn.metrics import confusion_matrix\n",
    "import seaborn as sns\n",
    "\n",
    "# Predict on the test set\n",
    "y_pred = cls_std.predict(X_test_std[TOP_19_cells])\n",
    "\n",
    "# Generate the confusion matrix\n",
    "cm = confusion_matrix(y_test, y_pred)\n",
    "\n",
    "# Plot the heatmap\n",
    "plt.figure(figsize=(8, 6))\n",
    "sns.heatmap(cm, annot=True, fmt='d', cmap='Blues', xticklabels=['Predicted Negative', 'Predicted Positive'], yticklabels=['Actual Negative', 'Actual Positive'])\n",
    "plt.xlabel('Predicted')\n",
    "plt.ylabel('Actual')\n",
    "plt.title('Confusion Matrix Heatmap')\n",
    "plt.show()"
   ]
  },
  {
   "cell_type": "markdown",
   "id": "d13ba947",
   "metadata": {
    "papermill": {
     "duration": 0.027805,
     "end_time": "2024-12-09T09:37:26.854663",
     "exception": false,
     "start_time": "2024-12-09T09:37:26.826858",
     "status": "completed"
    },
    "tags": []
   },
   "source": [
    "When the model uses only the 19 most important cell types, the model can predict with a 100% accuracy the vaccine respons.\n",
    "\n",
    "Importantly, keep in mind that there is a class imbalance in the dataset and the there are a lot of missing values that were imputated by the mean (see Preprosessing in R). This could lead to a mispresentation of the real world situation."
   ]
  },
  {
   "cell_type": "markdown",
   "id": "3e05db4f",
   "metadata": {
    "papermill": {
     "duration": 0.028312,
     "end_time": "2024-12-09T09:37:26.913704",
     "exception": false,
     "start_time": "2024-12-09T09:37:26.885392",
     "status": "completed"
    },
    "tags": []
   },
   "source": [
    "### Dimensionality reduction with t-SNE"
   ]
  },
  {
   "cell_type": "markdown",
   "id": "313d6e5c",
   "metadata": {
    "papermill": {
     "duration": 0.02757,
     "end_time": "2024-12-09T09:37:26.970157",
     "exception": false,
     "start_time": "2024-12-09T09:37:26.942587",
     "status": "completed"
    },
    "tags": []
   },
   "source": [
    "Reducing the train set from 412 columns to just two columns with t-SNE algorithm\n",
    "\n",
    "Initialize a t-SNE model. Because our dataset is quite small for machine learning, we will initialize the t-SNE model with different perplexities. Then we can see which perplexity caputures the data's structure best."
   ]
  },
  {
   "cell_type": "code",
   "execution_count": 39,
   "id": "bdb2664a",
   "metadata": {
    "execution": {
     "iopub.execute_input": "2024-12-09T09:37:27.031190Z",
     "iopub.status.busy": "2024-12-09T09:37:27.030624Z",
     "iopub.status.idle": "2024-12-09T09:37:31.590838Z",
     "shell.execute_reply": "2024-12-09T09:37:31.589635Z"
    },
    "papermill": {
     "duration": 4.596103,
     "end_time": "2024-12-09T09:37:31.593612",
     "exception": false,
     "start_time": "2024-12-09T09:37:26.997509",
     "status": "completed"
    },
    "tags": []
   },
   "outputs": [
    {
     "data": {
      "image/png": "[encoded data removed]",
      "text/plain": [
       "<Figure size 640x480 with 1 Axes>"
      ]
     },
     "metadata": {},
     "output_type": "display_data"
    },
    {
     "data": {
      "image/png": "[encoded data removed]",
      "text/plain": [
       "<Figure size 640x480 with 1 Axes>"
      ]
     },
     "metadata": {},
     "output_type": "display_data"
    },
    {
     "data": {
      "image/png": "[encoded data removed]",
      "text/plain": [
       "<Figure size 640x480 with 1 Axes>"
      ]
     },
     "metadata": {},
     "output_type": "display_data"
    },
    {
     "data": {
      "image/png": "[encoded data removed]",
      "text/plain": [
       "<Figure size 640x480 with 1 Axes>"
      ]
     },
     "metadata": {},
     "output_type": "display_data"
    }
   ],
   "source": [
    "from sklearn.manifold import TSNE\n",
    "perplexities = [5, 10, 20,30]\n",
    "\n",
    "for perplexity in perplexities:\n",
    "    tsne = TSNE(perplexity=perplexity, random_state=42, n_components=2)\n",
    "    X_embedded = tsne.fit_transform(X_train_std)\n",
    "#Random_state=42 By using a fixed number, we get always the same distribution if we run our code again from the beginning.\n",
    "    \n",
    "# Plot the results\n",
    "    plt.figure()\n",
    "    plt.scatter(X_embedded[:, 0], X_embedded[:, 1], c=y_train)\n",
    "    plt.title(f't-SNE with Perplexity={perplexity}')\n",
    "    plt.show()"
   ]
  },
  {
   "cell_type": "markdown",
   "id": "ad3af76c",
   "metadata": {
    "papermill": {
     "duration": 0.032098,
     "end_time": "2024-12-09T09:37:31.659183",
     "exception": false,
     "start_time": "2024-12-09T09:37:31.627085",
     "status": "completed"
    },
    "tags": []
   },
   "source": [
    "We are going with perplexity 20. Here the seperation of the clusters is the clearest. Only 1 point is misplaced here."
   ]
  },
  {
   "cell_type": "code",
   "execution_count": 40,
   "id": "73372a4c",
   "metadata": {
    "execution": {
     "iopub.execute_input": "2024-12-09T09:37:31.725605Z",
     "iopub.status.busy": "2024-12-09T09:37:31.725211Z",
     "iopub.status.idle": "2024-12-09T09:37:32.624665Z",
     "shell.execute_reply": "2024-12-09T09:37:32.623743Z"
    },
    "papermill": {
     "duration": 0.934951,
     "end_time": "2024-12-09T09:37:32.627279",
     "exception": false,
     "start_time": "2024-12-09T09:37:31.692328",
     "status": "completed"
    },
    "tags": []
   },
   "outputs": [],
   "source": [
    "model_tSNE = TSNE(n_components=2, perplexity=20, random_state=42)\n",
    "X_embedded = model_tSNE.fit_transform(X_train_std)"
   ]
  },
  {
   "cell_type": "markdown",
   "id": "90eb857a",
   "metadata": {
    "papermill": {
     "duration": 0.032883,
     "end_time": "2024-12-09T09:37:32.695159",
     "exception": false,
     "start_time": "2024-12-09T09:37:32.662276",
     "status": "completed"
    },
    "tags": []
   },
   "source": [
    "Make X_embedded into a Pandas DataFrame with columns t-SNE_1, t-SNE_2 and the vaccine_response label"
   ]
  },
  {
   "cell_type": "code",
   "execution_count": 41,
   "id": "d54a91b1",
   "metadata": {
    "execution": {
     "iopub.execute_input": "2024-12-09T09:37:32.761283Z",
     "iopub.status.busy": "2024-12-09T09:37:32.760841Z",
     "iopub.status.idle": "2024-12-09T09:37:32.776412Z",
     "shell.execute_reply": "2024-12-09T09:37:32.775030Z"
    },
    "papermill": {
     "duration": 0.052382,
     "end_time": "2024-12-09T09:37:32.778830",
     "exception": false,
     "start_time": "2024-12-09T09:37:32.726448",
     "status": "completed"
    },
    "tags": []
   },
   "outputs": [
    {
     "data": {
      "text/html": [
       "<div>\n",
       "<style scoped>\n",
       "    .dataframe tbody tr th:only-of-type {\n",
       "        vertical-align: middle;\n",
       "    }\n",
       "\n",
       "    .dataframe tbody tr th {\n",
       "        vertical-align: top;\n",
       "    }\n",
       "\n",
       "    .dataframe thead th {\n",
       "        text-align: right;\n",
       "    }\n",
       "</style>\n",
       "<table border=\"1\" class=\"dataframe\">\n",
       "  <thead>\n",
       "    <tr style=\"text-align: right;\">\n",
       "      <th></th>\n",
       "      <th>t-SNE_1</th>\n",
       "      <th>t-SNE_2</th>\n",
       "      <th>vaccine_response</th>\n",
       "    </tr>\n",
       "  </thead>\n",
       "  <tbody>\n",
       "    <tr>\n",
       "      <th>0</th>\n",
       "      <td>-0.844486</td>\n",
       "      <td>37.697502</td>\n",
       "      <td>1</td>\n",
       "    </tr>\n",
       "    <tr>\n",
       "      <th>1</th>\n",
       "      <td>-1.297488</td>\n",
       "      <td>-4.989097</td>\n",
       "      <td>0</td>\n",
       "    </tr>\n",
       "    <tr>\n",
       "      <th>2</th>\n",
       "      <td>-0.242978</td>\n",
       "      <td>-11.182236</td>\n",
       "      <td>0</td>\n",
       "    </tr>\n",
       "    <tr>\n",
       "      <th>3</th>\n",
       "      <td>-10.736916</td>\n",
       "      <td>-2.050235</td>\n",
       "      <td>0</td>\n",
       "    </tr>\n",
       "    <tr>\n",
       "      <th>4</th>\n",
       "      <td>-1.121756</td>\n",
       "      <td>38.629444</td>\n",
       "      <td>1</td>\n",
       "    </tr>\n",
       "    <tr>\n",
       "      <th>...</th>\n",
       "      <td>...</td>\n",
       "      <td>...</td>\n",
       "      <td>...</td>\n",
       "    </tr>\n",
       "    <tr>\n",
       "      <th>207</th>\n",
       "      <td>2.321195</td>\n",
       "      <td>-9.033773</td>\n",
       "      <td>0</td>\n",
       "    </tr>\n",
       "    <tr>\n",
       "      <th>208</th>\n",
       "      <td>-1.900424</td>\n",
       "      <td>-5.427563</td>\n",
       "      <td>0</td>\n",
       "    </tr>\n",
       "    <tr>\n",
       "      <th>209</th>\n",
       "      <td>1.901963</td>\n",
       "      <td>-19.598827</td>\n",
       "      <td>0</td>\n",
       "    </tr>\n",
       "    <tr>\n",
       "      <th>210</th>\n",
       "      <td>7.845675</td>\n",
       "      <td>33.098515</td>\n",
       "      <td>1</td>\n",
       "    </tr>\n",
       "    <tr>\n",
       "      <th>211</th>\n",
       "      <td>8.823336</td>\n",
       "      <td>-12.611880</td>\n",
       "      <td>0</td>\n",
       "    </tr>\n",
       "  </tbody>\n",
       "</table>\n",
       "<p>212 rows × 3 columns</p>\n",
       "</div>"
      ],
      "text/plain": [
       "       t-SNE_1    t-SNE_2  vaccine_response\n",
       "0    -0.844486  37.697502                 1\n",
       "1    -1.297488  -4.989097                 0\n",
       "2    -0.242978 -11.182236                 0\n",
       "3   -10.736916  -2.050235                 0\n",
       "4    -1.121756  38.629444                 1\n",
       "..         ...        ...               ...\n",
       "207   2.321195  -9.033773                 0\n",
       "208  -1.900424  -5.427563                 0\n",
       "209   1.901963 -19.598827                 0\n",
       "210   7.845675  33.098515                 1\n",
       "211   8.823336 -12.611880                 0\n",
       "\n",
       "[212 rows x 3 columns]"
      ]
     },
     "execution_count": 41,
     "metadata": {},
     "output_type": "execute_result"
    }
   ],
   "source": [
    "# Convert to DataFrame and reset index\n",
    "tsne_result = pd.DataFrame(X_embedded, columns=[\"t-SNE_1\", \"t-SNE_2\"])\n",
    "tsne_result.reset_index(drop=True, inplace=True)\n",
    "\n",
    "# Ensure y_train has the same index\n",
    "y_train_reset = y_train.reset_index(drop=True)\n",
    "#I had the problem of NaN values in the vaccine_response column. By resetting the indexes this issue is resolved.\n",
    "\n",
    "# Add the target column to the t-SNE result\n",
    "tsne_result[\"vaccine_response\"] = y_train_reset\n",
    "\n",
    "# Check the result\n",
    "tsne_result"
   ]
  },
  {
   "cell_type": "markdown",
   "id": "eefa21eb",
   "metadata": {
    "papermill": {
     "duration": 0.032644,
     "end_time": "2024-12-09T09:37:32.844270",
     "exception": false,
     "start_time": "2024-12-09T09:37:32.811626",
     "status": "completed"
    },
    "tags": []
   },
   "source": [
    "> Visualization of t-SNE dimensions"
   ]
  },
  {
   "cell_type": "code",
   "execution_count": 42,
   "id": "41493eca",
   "metadata": {
    "execution": {
     "iopub.execute_input": "2024-12-09T09:37:32.910704Z",
     "iopub.status.busy": "2024-12-09T09:37:32.910279Z",
     "iopub.status.idle": "2024-12-09T09:37:33.166077Z",
     "shell.execute_reply": "2024-12-09T09:37:33.164807Z"
    },
    "papermill": {
     "duration": 0.291675,
     "end_time": "2024-12-09T09:37:33.168339",
     "exception": false,
     "start_time": "2024-12-09T09:37:32.876664",
     "status": "completed"
    },
    "tags": []
   },
   "outputs": [
    {
     "data": {
      "image/png": "[encoded data removed]",
      "text/plain": [
       "<Figure size 640x480 with 1 Axes>"
      ]
     },
     "metadata": {},
     "output_type": "display_data"
    }
   ],
   "source": [
    "fig, ax = plt.subplots()\n",
    "tmp = tsne_result[tsne_result[\"vaccine_response\"]==1]\n",
    "ax.plot(tmp[\"t-SNE_1\"], tmp[\"t-SNE_2\"], marker='o', linestyle='', ms=3, label=\"vaccine responder\")\n",
    "tmp = tsne_result[tsne_result[\"vaccine_response\"]==0]\n",
    "ax.plot(tmp[\"t-SNE_1\"], tmp[\"t-SNE_2\"], marker='o', linestyle='', ms=3, label=\"no vaccine responder\")\n",
    "ax.legend()\n",
    "plt.show()"
   ]
  },
  {
   "cell_type": "markdown",
   "id": "17c31f66",
   "metadata": {
    "papermill": {
     "duration": 0.032055,
     "end_time": "2024-12-09T09:37:33.233805",
     "exception": false,
     "start_time": "2024-12-09T09:37:33.201750",
     "status": "completed"
    },
    "tags": []
   },
   "source": [
    "## Model training 2: DecisionTreeClassifier model"
   ]
  },
  {
   "cell_type": "markdown",
   "id": "2bd9f51a",
   "metadata": {
    "papermill": {
     "duration": 0.032296,
     "end_time": "2024-12-09T09:37:33.300026",
     "exception": false,
     "start_time": "2024-12-09T09:37:33.267730",
     "status": "completed"
    },
    "tags": []
   },
   "source": [
    "### Fit a DecisionTreeClassifier model"
   ]
  },
  {
   "cell_type": "markdown",
   "id": "0471391b",
   "metadata": {
    "papermill": {
     "duration": 0.031966,
     "end_time": "2024-12-09T09:37:33.364195",
     "exception": false,
     "start_time": "2024-12-09T09:37:33.332229",
     "status": "completed"
    },
    "tags": []
   },
   "source": [
    "Here we choose for a DecisionTreeClassifier instead of a DecisionTreeRegressor model, because the DecisionTreeClassifier is a better choice for predicting a categorical binary variable (vaccine_response)."
   ]
  },
  {
   "cell_type": "code",
   "execution_count": 43,
   "id": "a024edad",
   "metadata": {
    "execution": {
     "iopub.execute_input": "2024-12-09T09:37:33.431977Z",
     "iopub.status.busy": "2024-12-09T09:37:33.431522Z",
     "iopub.status.idle": "2024-12-09T09:37:33.436891Z",
     "shell.execute_reply": "2024-12-09T09:37:33.435623Z"
    },
    "papermill": {
     "duration": 0.041234,
     "end_time": "2024-12-09T09:37:33.438896",
     "exception": false,
     "start_time": "2024-12-09T09:37:33.397662",
     "status": "completed"
    },
    "tags": []
   },
   "outputs": [],
   "source": [
    "from sklearn.tree import DecisionTreeClassifier"
   ]
  },
  {
   "cell_type": "code",
   "execution_count": 44,
   "id": "1a343e78",
   "metadata": {
    "execution": {
     "iopub.execute_input": "2024-12-09T09:37:33.505557Z",
     "iopub.status.busy": "2024-12-09T09:37:33.505155Z",
     "iopub.status.idle": "2024-12-09T09:37:33.526603Z",
     "shell.execute_reply": "2024-12-09T09:37:33.525434Z"
    },
    "papermill": {
     "duration": 0.057696,
     "end_time": "2024-12-09T09:37:33.528996",
     "exception": false,
     "start_time": "2024-12-09T09:37:33.471300",
     "status": "completed"
    },
    "tags": []
   },
   "outputs": [
    {
     "data": {
      "text/html": [
       "<style>#sk-container-id-4 {color: black;background-color: white;}#sk-container-id-4 pre{padding: 0;}#sk-container-id-4 div.sk-toggleable {background-color: white;}#sk-container-id-4 label.sk-toggleable__label {cursor: pointer;display: block;width: 100%;margin-bottom: 0;padding: 0.3em;box-sizing: border-box;text-align: center;}#sk-container-id-4 label.sk-toggleable__label-arrow:before {content: \"▸\";float: left;margin-right: 0.25em;color: #696969;}#sk-container-id-4 label.sk-toggleable__label-arrow:hover:before {color: black;}#sk-container-id-4 div.sk-estimator:hover label.sk-toggleable__label-arrow:before {color: black;}#sk-container-id-4 div.sk-toggleable__content {max-height: 0;max-width: 0;overflow: hidden;text-align: left;background-color: #f0f8ff;}#sk-container-id-4 div.sk-toggleable__content pre {margin: 0.2em;color: black;border-radius: 0.25em;background-color: #f0f8ff;}#sk-container-id-4 input.sk-toggleable__control:checked~div.sk-toggleable__content {max-height: 200px;max-width: 100%;overflow: auto;}#sk-container-id-4 input.sk-toggleable__control:checked~label.sk-toggleable__label-arrow:before {content: \"▾\";}#sk-container-id-4 div.sk-estimator input.sk-toggleable__control:checked~label.sk-toggleable__label {background-color: #d4ebff;}#sk-container-id-4 div.sk-label input.sk-toggleable__control:checked~label.sk-toggleable__label {background-color: #d4ebff;}#sk-container-id-4 input.sk-hidden--visually {border: 0;clip: rect(1px 1px 1px 1px);clip: rect(1px, 1px, 1px, 1px);height: 1px;margin: -1px;overflow: hidden;padding: 0;position: absolute;width: 1px;}#sk-container-id-4 div.sk-estimator {font-family: monospace;background-color: #f0f8ff;border: 1px dotted black;border-radius: 0.25em;box-sizing: border-box;margin-bottom: 0.5em;}#sk-container-id-4 div.sk-estimator:hover {background-color: #d4ebff;}#sk-container-id-4 div.sk-parallel-item::after {content: \"\";width: 100%;border-bottom: 1px solid gray;flex-grow: 1;}#sk-container-id-4 div.sk-label:hover label.sk-toggleable__label {background-color: #d4ebff;}#sk-container-id-4 div.sk-serial::before {content: \"\";position: absolute;border-left: 1px solid gray;box-sizing: border-box;top: 0;bottom: 0;left: 50%;z-index: 0;}#sk-container-id-4 div.sk-serial {display: flex;flex-direction: column;align-items: center;background-color: white;padding-right: 0.2em;padding-left: 0.2em;position: relative;}#sk-container-id-4 div.sk-item {position: relative;z-index: 1;}#sk-container-id-4 div.sk-parallel {display: flex;align-items: stretch;justify-content: center;background-color: white;position: relative;}#sk-container-id-4 div.sk-item::before, #sk-container-id-4 div.sk-parallel-item::before {content: \"\";position: absolute;border-left: 1px solid gray;box-sizing: border-box;top: 0;bottom: 0;left: 50%;z-index: -1;}#sk-container-id-4 div.sk-parallel-item {display: flex;flex-direction: column;z-index: 1;position: relative;background-color: white;}#sk-container-id-4 div.sk-parallel-item:first-child::after {align-self: flex-end;width: 50%;}#sk-container-id-4 div.sk-parallel-item:last-child::after {align-self: flex-start;width: 50%;}#sk-container-id-4 div.sk-parallel-item:only-child::after {width: 0;}#sk-container-id-4 div.sk-dashed-wrapped {border: 1px dashed gray;margin: 0 0.4em 0.5em 0.4em;box-sizing: border-box;padding-bottom: 0.4em;background-color: white;}#sk-container-id-4 div.sk-label label {font-family: monospace;font-weight: bold;display: inline-block;line-height: 1.2em;}#sk-container-id-4 div.sk-label-container {text-align: center;}#sk-container-id-4 div.sk-container {/* jupyter's `normalize.less` sets `[hidden] { display: none; }` but bootstrap.min.css set `[hidden] { display: none !important; }` so we also need the `!important` here to be able to override the default hidden behavior on the sphinx rendered scikit-learn.org. See: https://github.com/scikit-learn/scikit-learn/issues/21755 */display: inline-block !important;position: relative;}#sk-container-id-4 div.sk-text-repr-fallback {display: none;}</style><div id=\"sk-container-id-4\" class=\"sk-top-container\"><div class=\"sk-text-repr-fallback\"><pre>DecisionTreeClassifier(random_state=42)</pre><b>In a Jupyter environment, please rerun this cell to show the HTML representation or trust the notebook. <br />On GitHub, the HTML representation is unable to render, please try loading this page with nbviewer.org.</b></div><div class=\"sk-container\" hidden><div class=\"sk-item\"><div class=\"sk-estimator sk-toggleable\"><input class=\"sk-toggleable__control sk-hidden--visually\" id=\"sk-estimator-id-4\" type=\"checkbox\" checked><label for=\"sk-estimator-id-4\" class=\"sk-toggleable__label sk-toggleable__label-arrow\">DecisionTreeClassifier</label><div class=\"sk-toggleable__content\"><pre>DecisionTreeClassifier(random_state=42)</pre></div></div></div></div></div>"
      ],
      "text/plain": [
       "DecisionTreeClassifier(random_state=42)"
      ]
     },
     "execution_count": 44,
     "metadata": {},
     "output_type": "execute_result"
    }
   ],
   "source": [
    "iowa_model = DecisionTreeClassifier(random_state = 42)\n",
    "\n",
    "#fit the model\n",
    "iowa_model.fit(X_train_std, y_train)\n",
    "iowa_model"
   ]
  },
  {
   "cell_type": "markdown",
   "id": "3096f76d",
   "metadata": {
    "papermill": {
     "duration": 0.032048,
     "end_time": "2024-12-09T09:37:33.593838",
     "exception": false,
     "start_time": "2024-12-09T09:37:33.561790",
     "status": "completed"
    },
    "tags": []
   },
   "source": [
    "Predictions for the datapoints in the test set (X_test_std)"
   ]
  },
  {
   "cell_type": "code",
   "execution_count": 45,
   "id": "0ee74bde",
   "metadata": {
    "execution": {
     "iopub.execute_input": "2024-12-09T09:37:33.660178Z",
     "iopub.status.busy": "2024-12-09T09:37:33.659780Z",
     "iopub.status.idle": "2024-12-09T09:37:33.671329Z",
     "shell.execute_reply": "2024-12-09T09:37:33.670101Z"
    },
    "papermill": {
     "duration": 0.048196,
     "end_time": "2024-12-09T09:37:33.674098",
     "exception": false,
     "start_time": "2024-12-09T09:37:33.625902",
     "status": "completed"
    },
    "tags": []
   },
   "outputs": [
    {
     "name": "stdout",
     "output_type": "stream",
     "text": [
      "[0 0 1 0 0 0 0 0 0 0 0 0 0 1 1 0 0 0 0 1 0 0 0 1 1 1 0 1 0 0 0 0 1 0 0 0 0\n",
      " 0 0 0 1 1 0 1 0 1 0 0 0 0 1 0 0 0 0 1 0 1 0 0 0 1 1 1 0 0 1 1 0 0 1 0 0 0\n",
      " 0 0 0 1 1 0 0 0 1 0 1 0 0 0 1 0 1 0]\n"
     ]
    }
   ],
   "source": [
    "predictions = iowa_model.predict(X_test_std)\n",
    "print(predictions)"
   ]
  },
  {
   "cell_type": "markdown",
   "id": "561bba5b",
   "metadata": {
    "papermill": {
     "duration": 0.031864,
     "end_time": "2024-12-09T09:37:33.738439",
     "exception": false,
     "start_time": "2024-12-09T09:37:33.706575",
     "status": "completed"
    },
    "tags": []
   },
   "source": [
    "Are these correct?"
   ]
  },
  {
   "cell_type": "code",
   "execution_count": 46,
   "id": "aa0e39c1",
   "metadata": {
    "execution": {
     "iopub.execute_input": "2024-12-09T09:37:33.807282Z",
     "iopub.status.busy": "2024-12-09T09:37:33.806818Z",
     "iopub.status.idle": "2024-12-09T09:37:33.822965Z",
     "shell.execute_reply": "2024-12-09T09:37:33.821542Z"
    },
    "papermill": {
     "duration": 0.053919,
     "end_time": "2024-12-09T09:37:33.825352",
     "exception": false,
     "start_time": "2024-12-09T09:37:33.771433",
     "status": "completed"
    },
    "tags": []
   },
   "outputs": [
    {
     "name": "stdout",
     "output_type": "stream",
     "text": [
      "[0 0 1 0 0]\n"
     ]
    },
    {
     "data": {
      "text/plain": [
       "247    0\n",
       "298    0\n",
       "258    1\n",
       "293    0\n",
       "64     0\n",
       "Name: vaccine_response, dtype: int64"
      ]
     },
     "execution_count": 46,
     "metadata": {},
     "output_type": "execute_result"
    }
   ],
   "source": [
    "predictions = iowa_model.predict(X_test_std.head())\n",
    "print(predictions)\n",
    "y_test.head()"
   ]
  },
  {
   "cell_type": "markdown",
   "id": "07048c9e",
   "metadata": {
    "papermill": {
     "duration": 0.033157,
     "end_time": "2024-12-09T09:37:33.890958",
     "exception": false,
     "start_time": "2024-12-09T09:37:33.857801",
     "status": "completed"
    },
    "tags": []
   },
   "source": [
    "We can see that for the first few results, the prediction was correct."
   ]
  },
  {
   "cell_type": "markdown",
   "id": "6eef542a",
   "metadata": {
    "papermill": {
     "duration": 0.033716,
     "end_time": "2024-12-09T09:37:33.957498",
     "exception": false,
     "start_time": "2024-12-09T09:37:33.923782",
     "status": "completed"
    },
    "tags": []
   },
   "source": [
    "### Method Validation"
   ]
  },
  {
   "cell_type": "code",
   "execution_count": 47,
   "id": "57664a93",
   "metadata": {
    "execution": {
     "iopub.execute_input": "2024-12-09T09:37:34.027237Z",
     "iopub.status.busy": "2024-12-09T09:37:34.026075Z",
     "iopub.status.idle": "2024-12-09T09:37:34.040791Z",
     "shell.execute_reply": "2024-12-09T09:37:34.039533Z"
    },
    "papermill": {
     "duration": 0.053244,
     "end_time": "2024-12-09T09:37:34.043118",
     "exception": false,
     "start_time": "2024-12-09T09:37:33.989874",
     "status": "completed"
    },
    "tags": []
   },
   "outputs": [
    {
     "data": {
      "text/plain": [
       "0.010869565217391304"
      ]
     },
     "execution_count": 47,
     "metadata": {},
     "output_type": "execute_result"
    }
   ],
   "source": [
    "from sklearn.metrics import mean_absolute_error\n",
    "\n",
    "predictions = iowa_model.predict(X_test_std)\n",
    "mean_absolute_error(y_test, predictions)"
   ]
  },
  {
   "cell_type": "markdown",
   "id": "50bfeacd",
   "metadata": {
    "papermill": {
     "duration": 0.033662,
     "end_time": "2024-12-09T09:37:34.110793",
     "exception": false,
     "start_time": "2024-12-09T09:37:34.077131",
     "status": "completed"
    },
    "tags": []
   },
   "source": [
    "With the MAE metric, we take the absolute value of each error. This converts each error to a positive number. We then take the average of those absolute errors. This is our measure of model quality. So on average, our predictions are off by about 0.01. This is quite low and can again be due to the class imbalance in the dataset."
   ]
  },
  {
   "cell_type": "code",
   "execution_count": 48,
   "id": "70824366",
   "metadata": {
    "execution": {
     "iopub.execute_input": "2024-12-09T09:37:34.180099Z",
     "iopub.status.busy": "2024-12-09T09:37:34.179689Z",
     "iopub.status.idle": "2024-12-09T09:37:34.186338Z",
     "shell.execute_reply": "2024-12-09T09:37:34.184945Z"
    },
    "papermill": {
     "duration": 0.043982,
     "end_time": "2024-12-09T09:37:34.189177",
     "exception": false,
     "start_time": "2024-12-09T09:37:34.145195",
     "status": "completed"
    },
    "tags": []
   },
   "outputs": [],
   "source": [
    "def get_mae(max_leaf_nodes, X_train_std, X_test_std, y_train, y_test):\n",
    "    model = DecisionTreeClassifier(max_leaf_nodes=max_leaf_nodes, random_state=42)\n",
    "    model.fit(X_train_std, y_train)\n",
    "    preds_val = model.predict(X_test_std)\n",
    "    mae = mean_absolute_error(y_test, preds_val)\n",
    "    return mae"
   ]
  },
  {
   "cell_type": "code",
   "execution_count": 49,
   "id": "a58d965c",
   "metadata": {
    "execution": {
     "iopub.execute_input": "2024-12-09T09:37:34.258447Z",
     "iopub.status.busy": "2024-12-09T09:37:34.258001Z",
     "iopub.status.idle": "2024-12-09T09:37:34.354004Z",
     "shell.execute_reply": "2024-12-09T09:37:34.352286Z"
    },
    "papermill": {
     "duration": 0.134296,
     "end_time": "2024-12-09T09:37:34.357005",
     "exception": false,
     "start_time": "2024-12-09T09:37:34.222709",
     "status": "completed"
    },
    "tags": []
   },
   "outputs": [
    {
     "name": "stdout",
     "output_type": "stream",
     "text": [
      "Max leaf nodes: 2  \t\t Mean Absolute Error:  0.010870\n",
      "Max leaf nodes: 3  \t\t Mean Absolute Error:  0.010870\n",
      "Max leaf nodes: 4  \t\t Mean Absolute Error:  0.010870\n",
      "Max leaf nodes: 5  \t\t Mean Absolute Error:  0.010870\n",
      "Max leaf nodes: 10  \t\t Mean Absolute Error:  0.010870\n",
      "Max leaf nodes: 100  \t\t Mean Absolute Error:  0.010870\n"
     ]
    }
   ],
   "source": [
    "for max_leaf_nodes in [2, 3, 4, 5, 10, 100]:\n",
    "    my_mae = get_mae(max_leaf_nodes, X_train_std, X_test_std, y_train, y_test)\n",
    "    print(\"Max leaf nodes: %d  \\t\\t Mean Absolute Error:  %f\" % (max_leaf_nodes, my_mae))"
   ]
  },
  {
   "cell_type": "markdown",
   "id": "1ee2df05",
   "metadata": {
    "papermill": {
     "duration": 0.035132,
     "end_time": "2024-12-09T09:37:34.426687",
     "exception": false,
     "start_time": "2024-12-09T09:37:34.391555",
     "status": "completed"
    },
    "tags": []
   },
   "source": [
    "We can see that after 2 leaves the mean absolute error stays the same. So 2 is the optimal number of leaves."
   ]
  },
  {
   "cell_type": "code",
   "execution_count": 50,
   "id": "86a5ce6f",
   "metadata": {
    "execution": {
     "iopub.execute_input": "2024-12-09T09:37:34.498820Z",
     "iopub.status.busy": "2024-12-09T09:37:34.498435Z",
     "iopub.status.idle": "2024-12-09T09:37:34.600094Z",
     "shell.execute_reply": "2024-12-09T09:37:34.598632Z"
    },
    "papermill": {
     "duration": 0.139516,
     "end_time": "2024-12-09T09:37:34.602450",
     "exception": false,
     "start_time": "2024-12-09T09:37:34.462934",
     "status": "completed"
    },
    "tags": []
   },
   "outputs": [
    {
     "name": "stdout",
     "output_type": "stream",
     "text": [
      "Predictions: [0 0 1 0 0 0 0 0 0 0 0 0 0 1 1 0 0 0 0 1 0 0 0 1 1 1 0 1 0 0 0 0 1 0 0 0 0\n",
      " 0 0 0 1 1 0 1 0 1 0 0 0 0 1 0 0 0 0 1 0 1 0 0 0 1 1 1 0 0 1 1 0 0 1 0 0 0\n",
      " 0 0 0 1 1 0 0 0 1 0 1 0 0 0 1 0 1 0]\n",
      "Actual values: [0 0 1 0 0 0 0 0 0 0 0 0 0 1 1 0 0 0 0 1 0 0 0 1 1 1 0 0 0 0 0 0 1 0 0 0 0\n",
      " 0 0 0 1 1 0 1 0 1 0 0 0 0 1 0 0 0 0 1 0 1 0 0 0 1 1 1 0 0 1 1 0 0 1 0 0 0\n",
      " 0 0 0 1 1 0 0 0 1 0 1 0 0 0 1 0 1 0]\n",
      "Cross-validation scores: [0.         0.02325581 0.04761905 0.02380952 0.        ]\n",
      "Mean cross-validation score: 0.018936877076411958\n"
     ]
    }
   ],
   "source": [
    "from sklearn.model_selection import cross_val_score\n",
    "# Control the predictions with 2 leaves\n",
    "iowa_model = DecisionTreeClassifier(max_leaf_nodes=2, random_state=42)\n",
    "iowa_model.fit(X_train_std, y_train)\n",
    "preds_val = iowa_model.predict(X_test_std)\n",
    "print(\"Predictions:\", preds_val)\n",
    "print(\"Actual values:\", y_test.values)\n",
    "\n",
    "# Cross-validation\n",
    "scores = cross_val_score(iowa_model, X_train_std, y_train, cv=5, scoring='neg_mean_absolute_error')\n",
    "print(\"Cross-validation scores:\", -scores)\n",
    "print(\"Mean cross-validation score:\", -scores.mean())"
   ]
  },
  {
   "cell_type": "markdown",
   "id": "ad78248f",
   "metadata": {
    "papermill": {
     "duration": 0.035014,
     "end_time": "2024-12-09T09:37:34.670771",
     "exception": false,
     "start_time": "2024-12-09T09:37:34.635757",
     "status": "completed"
    },
    "tags": []
   },
   "source": [
    "Creating a heatmap based on the scoring matrix (confusion matrix), making it easier to see the distribution of true positives, false positives, true negatives, and false negatives."
   ]
  },
  {
   "cell_type": "code",
   "execution_count": 51,
   "id": "14c407bb",
   "metadata": {
    "execution": {
     "iopub.execute_input": "2024-12-09T09:37:34.744118Z",
     "iopub.status.busy": "2024-12-09T09:37:34.743672Z",
     "iopub.status.idle": "2024-12-09T09:37:35.044262Z",
     "shell.execute_reply": "2024-12-09T09:37:35.042801Z"
    },
    "papermill": {
     "duration": 0.340279,
     "end_time": "2024-12-09T09:37:35.046808",
     "exception": false,
     "start_time": "2024-12-09T09:37:34.706529",
     "status": "completed"
    },
    "tags": []
   },
   "outputs": [
    {
     "data": {
      "image/png": "[encoded data removed]",
      "text/plain": [
       "<Figure size 800x600 with 2 Axes>"
      ]
     },
     "metadata": {},
     "output_type": "display_data"
    }
   ],
   "source": [
    "# Generate the confusion matrix\n",
    "from sklearn.metrics import confusion_matrix\n",
    "cm = confusion_matrix(y_test, preds_val)\n",
    "\n",
    "# Plot the heatmap\n",
    "plt.figure(figsize=(8, 6))\n",
    "sns.heatmap(cm, annot=True, fmt='d', cmap='Blues', xticklabels=['Predicted Negative', 'Predicted Positive'], yticklabels=['Actual Negative', 'Actual Positive'])\n",
    "plt.xlabel('Predicted')\n",
    "plt.ylabel('Actual')\n",
    "plt.title('Confusion Matrix Heatmap')\n",
    "plt.show()"
   ]
  },
  {
   "cell_type": "markdown",
   "id": "8667c29e",
   "metadata": {
    "papermill": {
     "duration": 0.032836,
     "end_time": "2024-12-09T09:37:35.112697",
     "exception": false,
     "start_time": "2024-12-09T09:37:35.079861",
     "status": "completed"
    },
    "tags": []
   },
   "source": [
    "We can see that only 1 value is misclassified (false positive)."
   ]
  },
  {
   "cell_type": "markdown",
   "id": "0d0e6468",
   "metadata": {
    "papermill": {
     "duration": 0.033343,
     "end_time": "2024-12-09T09:37:35.178982",
     "exception": false,
     "start_time": "2024-12-09T09:37:35.145639",
     "status": "completed"
    },
    "tags": []
   },
   "source": [
    "> Visualization of the dicision tree"
   ]
  },
  {
   "cell_type": "code",
   "execution_count": 52,
   "id": "5bb66e26",
   "metadata": {
    "execution": {
     "iopub.execute_input": "2024-12-09T09:37:35.250010Z",
     "iopub.status.busy": "2024-12-09T09:37:35.249588Z",
     "iopub.status.idle": "2024-12-09T09:37:35.532500Z",
     "shell.execute_reply": "2024-12-09T09:37:35.531188Z"
    },
    "papermill": {
     "duration": 0.323677,
     "end_time": "2024-12-09T09:37:35.535621",
     "exception": false,
     "start_time": "2024-12-09T09:37:35.211944",
     "status": "completed"
    },
    "tags": []
   },
   "outputs": [
    {
     "data": {
      "image/png": "[encoded data removed]",
      "text/plain": [
       "<Figure size 2000x1000 with 1 Axes>"
      ]
     },
     "metadata": {},
     "output_type": "display_data"
    }
   ],
   "source": [
    "from sklearn.tree import plot_tree\n",
    "plt.figure(figsize=(20,10))\n",
    "plot_tree(iowa_model, filled=True, feature_names=X.columns, rounded=True)\n",
    "plt.show()"
   ]
  },
  {
   "cell_type": "markdown",
   "id": "4a4c8320",
   "metadata": {
    "papermill": {
     "duration": 0.035073,
     "end_time": "2024-12-09T09:37:35.609437",
     "exception": false,
     "start_time": "2024-12-09T09:37:35.574364",
     "status": "completed"
    },
    "tags": []
   },
   "source": [
    "The Gini index, also known as Gini impurity, is a measure used in decision trees to determine the quality of a split. It helps the algorithm decide which feature and threshold to use for splitting the data at each node. \n",
    "\n",
    "Gini impurity measures the likelihood of incorrectly classifying a randomly chosen element if it was randomly labeled according to the distribution of labels in the dataset. This is a value between 0 (perfect purity, where all elements belong to a single class) and 1 (maximum impurity, where elements are randomly distributed across various classes."
   ]
  },
  {
   "cell_type": "markdown",
   "id": "52204c67",
   "metadata": {
    "papermill": {
     "duration": 0.036608,
     "end_time": "2024-12-09T09:37:35.681852",
     "exception": false,
     "start_time": "2024-12-09T09:37:35.645244",
     "status": "completed"
    },
    "tags": []
   },
   "source": [
    "If we look back at the missing values in the experimental data in R (missing_values_exp), we see that for both these cell types there are 96% missing values. We splitted the dataset into responders and non-responders and imputated the mean values of all celtypes in both of these datasets. We can asssume here that all the missing in one of the groups, leading to an easy prediction."
   ]
  }
 ],
 "metadata": {
  "kaggle": {
   "accelerator": "none",
   "dataSources": [
    {
     "datasetId": 6249369,
     "sourceId": 10126892,
     "sourceType": "datasetVersion"
    }
   ],
   "dockerImageVersionId": 30804,
   "isGpuEnabled": false,
   "isInternetEnabled": false,
   "language": "python",
   "sourceType": "notebook"
  },
  "kernelspec": {
   "display_name": "Python 3",
   "language": "python",
   "name": "python3"
  },
  "language_info": {
   "codemirror_mode": {
    "name": "ipython",
    "version": 3
   },
   "file_extension": ".py",
   "mimetype": "text/x-python",
   "name": "python",
   "nbconvert_exporter": "python",
   "pygments_lexer": "ipython3",
   "version": "3.10.14"
  },
  "papermill": {
   "default_parameters": {},
   "duration": 25.655603,
   "end_time": "2024-12-09T09:37:36.440482",
   "environment_variables": {},
   "exception": null,
   "input_path": "__notebook__.ipynb",
   "output_path": "__notebook__.ipynb",
   "parameters": {},
   "start_time": "2024-12-09T09:37:10.784879",
   "version": "2.6.0"
  }
 },
 "nbformat": 4,
 "nbformat_minor": 5
}
