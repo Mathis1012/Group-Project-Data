{
 "cells": [
  {
   "cell_type": "markdown",
   "id": "59aeb817",
   "metadata": {
    "papermill": {
     "duration": 0.017481,
     "end_time": "2024-12-08T10:17:01.655413",
     "exception": false,
     "start_time": "2024-12-08T10:17:01.637932",
     "status": "completed"
    },
    "tags": []
   },
   "source": [
    "# Machine learing"
   ]
  },
  {
   "cell_type": "markdown",
   "id": "f7fb3851",
   "metadata": {
    "papermill": {
     "duration": 0.018901,
     "end_time": "2024-12-08T10:17:01.689531",
     "exception": false,
     "start_time": "2024-12-08T10:17:01.670630",
     "status": "completed"
    },
    "tags": []
   },
   "source": [
    "## Further preprocessing"
   ]
  },
  {
   "cell_type": "markdown",
   "id": "e356d684",
   "metadata": {
    "papermill": {
     "duration": 0.014767,
     "end_time": "2024-12-08T10:17:01.719595",
     "exception": false,
     "start_time": "2024-12-08T10:17:01.704828",
     "status": "completed"
    },
    "tags": []
   },
   "source": [
    "### Reading the necessary libraries and import data"
   ]
  },
  {
   "cell_type": "code",
   "execution_count": 1,
   "id": "469770a5",
   "metadata": {
    "execution": {
     "iopub.execute_input": "2024-12-08T10:17:01.751366Z",
     "iopub.status.busy": "2024-12-08T10:17:01.750932Z",
     "iopub.status.idle": "2024-12-08T10:17:02.783425Z",
     "shell.execute_reply": "2024-12-08T10:17:02.782157Z"
    },
    "papermill": {
     "duration": 1.051212,
     "end_time": "2024-12-08T10:17:02.785927",
     "exception": false,
     "start_time": "2024-12-08T10:17:01.734715",
     "status": "completed"
    },
    "tags": []
   },
   "outputs": [],
   "source": [
    "import pandas as pd\n",
    "import matplotlib.pyplot as plt\n",
    "\n",
    "import warnings;\n",
    "warnings.filterwarnings('ignore');"
   ]
  },
  {
   "cell_type": "markdown",
   "id": "665d63e3",
   "metadata": {
    "papermill": {
     "duration": 0.015172,
     "end_time": "2024-12-08T10:17:02.816481",
     "exception": false,
     "start_time": "2024-12-08T10:17:02.801309",
     "status": "completed"
    },
    "tags": []
   },
   "source": [
    "Reading the preprocessed machine learning data formed in R\n",
    "And removing the unnamed:0 kolom that will be inserted."
   ]
  },
  {
   "cell_type": "code",
   "execution_count": 2,
   "id": "08defe59",
   "metadata": {
    "execution": {
     "iopub.execute_input": "2024-12-08T10:17:02.848470Z",
     "iopub.status.busy": "2024-12-08T10:17:02.847903Z",
     "iopub.status.idle": "2024-12-08T10:17:02.967786Z",
     "shell.execute_reply": "2024-12-08T10:17:02.966402Z"
    },
    "papermill": {
     "duration": 0.139702,
     "end_time": "2024-12-08T10:17:02.971308",
     "exception": false,
     "start_time": "2024-12-08T10:17:02.831606",
     "status": "completed"
    },
    "tags": []
   },
   "outputs": [
    {
     "name": "stdout",
     "output_type": "stream",
     "text": [
      "     B_cells  basophils  CD16_pos_monocytes  CD16_pos_CD14_pos_monocytes  \\\n",
      "1       34.4       1.45                5.85                         1.55   \n",
      "2       41.0       0.19                7.78                         1.33   \n",
      "3       34.6       0.21                4.10                         0.58   \n",
      "4       34.8       0.29                1.64                         1.29   \n",
      "5       40.8       0.64                3.45                         0.55   \n",
      "..       ...        ...                 ...                          ...   \n",
      "300     84.5       0.61               12.90                         4.48   \n",
      "301     71.2       0.56               20.00                         8.72   \n",
      "302     74.2       0.30               11.30                         3.41   \n",
      "303     57.7       0.44                3.10                         1.14   \n",
      "304     73.2       0.67                3.89                         3.05   \n",
      "\n",
      "     CD16_pos_CD14_neg_monocytes  CD16_neg_CD56bright_NK_cells  \\\n",
      "1                           4.46                          3.79   \n",
      "2                           6.69                          1.96   \n",
      "3                           3.59                          2.26   \n",
      "4                           0.40                          2.66   \n",
      "5                           3.04                          0.72   \n",
      "..                           ...                           ...   \n",
      "300                         8.68                          0.62   \n",
      "301                        12.20                          0.89   \n",
      "302                         8.08                          0.87   \n",
      "303                         2.00                          2.71   \n",
      "304                         1.04                          1.67   \n",
      "\n",
      "     CD161_pos_NK_cells  CD161_pos_NKT_cells  CD161_pos_CD4_pos_T_cells  \\\n",
      "1                  65.6                 62.6                      11.40   \n",
      "2                  48.3                 41.5                       4.71   \n",
      "3                  80.8                 61.5                       8.31   \n",
      "4                  49.9                 64.6                      12.50   \n",
      "5                  69.0                 24.4                      13.70   \n",
      "..                  ...                  ...                        ...   \n",
      "300                62.8                 22.9                       4.36   \n",
      "301                89.2                 74.6                       4.70   \n",
      "302                82.8                 82.6                      12.90   \n",
      "303                71.7                 74.8                       5.55   \n",
      "304                40.7                 83.9                       3.55   \n",
      "\n",
      "     CD161_pos_CD45RA_pos_Tregs  ...  CD33_pos_monocytes  CD8_neg_T_cells  \\\n",
      "1                          1.66  ...           89.691667        61.479167   \n",
      "2                          0.43  ...           89.691667        61.479167   \n",
      "3                          0.51  ...           89.691667        61.479167   \n",
      "4                          0.17  ...           89.691667        61.479167   \n",
      "5                          0.20  ...           89.691667        61.479167   \n",
      "..                          ...  ...                 ...              ...   \n",
      "300                        0.08  ...           89.691667        61.479167   \n",
      "301                        0.08  ...           89.691667        61.479167   \n",
      "302                        0.24  ...           89.691667        61.479167   \n",
      "303                        0.11  ...           89.691667        61.479167   \n",
      "304                        0.30  ...           89.691667        61.479167   \n",
      "\n",
      "     CXCR3_pos_B_cells  CXCR3_pos_CD33_pos_monocytes  CXCR3_pos_NK_cells  \\\n",
      "1             6.999583                     16.940833             34.1875   \n",
      "2             6.999583                     16.940833             34.1875   \n",
      "3             6.999583                     16.940833             34.1875   \n",
      "4             6.999583                     16.940833             34.1875   \n",
      "5             6.999583                     16.940833             34.1875   \n",
      "..                 ...                           ...                 ...   \n",
      "300           6.999583                     16.940833             34.1875   \n",
      "301           6.999583                     16.940833             34.1875   \n",
      "302           6.999583                     16.940833             34.1875   \n",
      "303           6.999583                     16.940833             34.1875   \n",
      "304           6.999583                     16.940833             34.1875   \n",
      "\n",
      "     CXCR3_pos_CD4_pos_T_cells  CXCR3_pos_CD8_pos_T_cells  \\\n",
      "1                    35.566667                    72.5625   \n",
      "2                    35.566667                    72.5625   \n",
      "3                    35.566667                    72.5625   \n",
      "4                    35.566667                    72.5625   \n",
      "5                    35.566667                    72.5625   \n",
      "..                         ...                        ...   \n",
      "300                  35.566667                    72.5625   \n",
      "301                  35.566667                    72.5625   \n",
      "302                  35.566667                    72.5625   \n",
      "303                  35.566667                    72.5625   \n",
      "304                  35.566667                    72.5625   \n",
      "\n",
      "     CD28_pos_CD4_pos_T_cells  CD314_pos_CD94_pos_CD8_pos_T_cells  \\\n",
      "1                   97.745833                             5.99125   \n",
      "2                   97.745833                             5.99125   \n",
      "3                   97.745833                             5.99125   \n",
      "4                   97.745833                             5.99125   \n",
      "5                   97.745833                             5.99125   \n",
      "..                        ...                                 ...   \n",
      "300                 97.745833                             5.99125   \n",
      "301                 97.745833                             5.99125   \n",
      "302                 97.745833                             5.99125   \n",
      "303                 97.745833                             5.99125   \n",
      "304                 97.745833                             5.99125   \n",
      "\n",
      "     vaccine_response  \n",
      "1                   0  \n",
      "2                   0  \n",
      "3                   0  \n",
      "4                   0  \n",
      "5                   0  \n",
      "..                ...  \n",
      "300                 0  \n",
      "301                 0  \n",
      "302                 0  \n",
      "303                 0  \n",
      "304                 0  \n",
      "\n",
      "[304 rows x 412 columns]\n"
     ]
    }
   ],
   "source": [
    "Influ_data_P = pd.read_csv(\"/kaggle/input/combined-data-p/combined_data_P.csv\", index_col=0)\n",
    "#Drop the donor IDs. These can't be used to make the machine learning model.\n",
    "Influ_data_P = Influ_data_P.drop(\"donor_id\", axis = 1)\n",
    "print(Influ_data_P)"
   ]
  },
  {
   "cell_type": "markdown",
   "id": "997ba00d",
   "metadata": {
    "papermill": {
     "duration": 0.015184,
     "end_time": "2024-12-08T10:17:03.002236",
     "exception": false,
     "start_time": "2024-12-08T10:17:02.987052",
     "status": "completed"
    },
    "tags": []
   },
   "source": [
    "### Dividing the data in a trainset and testset"
   ]
  },
  {
   "cell_type": "code",
   "execution_count": 3,
   "id": "ad53a263",
   "metadata": {
    "execution": {
     "iopub.execute_input": "2024-12-08T10:17:03.035899Z",
     "iopub.status.busy": "2024-12-08T10:17:03.035342Z",
     "iopub.status.idle": "2024-12-08T10:17:04.680162Z",
     "shell.execute_reply": "2024-12-08T10:17:04.678449Z"
    },
    "papermill": {
     "duration": 1.6648,
     "end_time": "2024-12-08T10:17:04.682479",
     "exception": false,
     "start_time": "2024-12-08T10:17:03.017679",
     "status": "completed"
    },
    "tags": []
   },
   "outputs": [
    {
     "name": "stdout",
     "output_type": "stream",
     "text": [
      "Train set: (212, 411), (212,)\n",
      "Test set: (92, 411), (92,)\n"
     ]
    }
   ],
   "source": [
    "from sklearn.model_selection import train_test_split\n",
    "\n",
    "# Difining the features (X) and target (y)\n",
    "X = Influ_data_P.drop('vaccine_response', axis=1)\n",
    "y = Influ_data_P['vaccine_response']\n",
    "\n",
    "# Dividing the data in train- en testdatasets\n",
    "X_train, X_test, y_train, y_test = train_test_split(X, y, test_size=0.3, random_state=42, stratify=y)\n",
    "#test_size=0,30 means that we use 30% as test data and 70% as traindata.\n",
    "#Random_state=42 ensures that the distribution, between the train and testdata,is reproducible. By using a fixed number, we get always the same distribution if we run our code again from the beginning.\n",
    "#Stratify=y is ensuring that both the training and test sets have a similar proportion of each class by stratified splitting. This helps maintain the class distribution in both sets.\n",
    "\n",
    "# Control the split up of both datasets\n",
    "print(f'Train set: {X_train.shape}, {y_train.shape}')\n",
    "print(f'Test set: {X_test.shape}, {y_test.shape}')"
   ]
  },
  {
   "cell_type": "markdown",
   "id": "cf360cff",
   "metadata": {
    "papermill": {
     "duration": 0.016223,
     "end_time": "2024-12-08T10:17:04.714725",
     "exception": false,
     "start_time": "2024-12-08T10:17:04.698502",
     "status": "completed"
    },
    "tags": []
   },
   "source": [
    "Control if vaccine_response is out the X dataframe."
   ]
  },
  {
   "cell_type": "code",
   "execution_count": 4,
   "id": "b2159892",
   "metadata": {
    "execution": {
     "iopub.execute_input": "2024-12-08T10:17:04.747896Z",
     "iopub.status.busy": "2024-12-08T10:17:04.747328Z",
     "iopub.status.idle": "2024-12-08T10:17:04.765241Z",
     "shell.execute_reply": "2024-12-08T10:17:04.763985Z"
    },
    "papermill": {
     "duration": 0.037613,
     "end_time": "2024-12-08T10:17:04.767743",
     "exception": false,
     "start_time": "2024-12-08T10:17:04.730130",
     "status": "completed"
    },
    "tags": []
   },
   "outputs": [
    {
     "name": "stdout",
     "output_type": "stream",
     "text": [
      "     B_cells  basophils  CD16_pos_monocytes  CD16_pos_CD14_pos_monocytes  \\\n",
      "1       34.4       1.45                5.85                         1.55   \n",
      "2       41.0       0.19                7.78                         1.33   \n",
      "3       34.6       0.21                4.10                         0.58   \n",
      "4       34.8       0.29                1.64                         1.29   \n",
      "5       40.8       0.64                3.45                         0.55   \n",
      "..       ...        ...                 ...                          ...   \n",
      "300     84.5       0.61               12.90                         4.48   \n",
      "301     71.2       0.56               20.00                         8.72   \n",
      "302     74.2       0.30               11.30                         3.41   \n",
      "303     57.7       0.44                3.10                         1.14   \n",
      "304     73.2       0.67                3.89                         3.05   \n",
      "\n",
      "     CD16_pos_CD14_neg_monocytes  CD16_neg_CD56bright_NK_cells  \\\n",
      "1                           4.46                          3.79   \n",
      "2                           6.69                          1.96   \n",
      "3                           3.59                          2.26   \n",
      "4                           0.40                          2.66   \n",
      "5                           3.04                          0.72   \n",
      "..                           ...                           ...   \n",
      "300                         8.68                          0.62   \n",
      "301                        12.20                          0.89   \n",
      "302                         8.08                          0.87   \n",
      "303                         2.00                          2.71   \n",
      "304                         1.04                          1.67   \n",
      "\n",
      "     CD161_pos_NK_cells  CD161_pos_NKT_cells  CD161_pos_CD4_pos_T_cells  \\\n",
      "1                  65.6                 62.6                      11.40   \n",
      "2                  48.3                 41.5                       4.71   \n",
      "3                  80.8                 61.5                       8.31   \n",
      "4                  49.9                 64.6                      12.50   \n",
      "5                  69.0                 24.4                      13.70   \n",
      "..                  ...                  ...                        ...   \n",
      "300                62.8                 22.9                       4.36   \n",
      "301                89.2                 74.6                       4.70   \n",
      "302                82.8                 82.6                      12.90   \n",
      "303                71.7                 74.8                       5.55   \n",
      "304                40.7                 83.9                       3.55   \n",
      "\n",
      "     CD161_pos_CD45RA_pos_Tregs  ...  CD314_neg_CD94_neg_CD8_neg_T_cells  \\\n",
      "1                          1.66  ...                               86.85   \n",
      "2                          0.43  ...                               86.85   \n",
      "3                          0.51  ...                               86.85   \n",
      "4                          0.17  ...                               86.85   \n",
      "5                          0.20  ...                               86.85   \n",
      "..                          ...  ...                                 ...   \n",
      "300                        0.08  ...                               86.85   \n",
      "301                        0.08  ...                               86.85   \n",
      "302                        0.24  ...                               86.85   \n",
      "303                        0.11  ...                               86.85   \n",
      "304                        0.30  ...                               86.85   \n",
      "\n",
      "     CD33_pos_monocytes  CD8_neg_T_cells  CXCR3_pos_B_cells  \\\n",
      "1             89.691667        61.479167           6.999583   \n",
      "2             89.691667        61.479167           6.999583   \n",
      "3             89.691667        61.479167           6.999583   \n",
      "4             89.691667        61.479167           6.999583   \n",
      "5             89.691667        61.479167           6.999583   \n",
      "..                  ...              ...                ...   \n",
      "300           89.691667        61.479167           6.999583   \n",
      "301           89.691667        61.479167           6.999583   \n",
      "302           89.691667        61.479167           6.999583   \n",
      "303           89.691667        61.479167           6.999583   \n",
      "304           89.691667        61.479167           6.999583   \n",
      "\n",
      "     CXCR3_pos_CD33_pos_monocytes  CXCR3_pos_NK_cells  \\\n",
      "1                       16.940833             34.1875   \n",
      "2                       16.940833             34.1875   \n",
      "3                       16.940833             34.1875   \n",
      "4                       16.940833             34.1875   \n",
      "5                       16.940833             34.1875   \n",
      "..                            ...                 ...   \n",
      "300                     16.940833             34.1875   \n",
      "301                     16.940833             34.1875   \n",
      "302                     16.940833             34.1875   \n",
      "303                     16.940833             34.1875   \n",
      "304                     16.940833             34.1875   \n",
      "\n",
      "     CXCR3_pos_CD4_pos_T_cells  CXCR3_pos_CD8_pos_T_cells  \\\n",
      "1                    35.566667                    72.5625   \n",
      "2                    35.566667                    72.5625   \n",
      "3                    35.566667                    72.5625   \n",
      "4                    35.566667                    72.5625   \n",
      "5                    35.566667                    72.5625   \n",
      "..                         ...                        ...   \n",
      "300                  35.566667                    72.5625   \n",
      "301                  35.566667                    72.5625   \n",
      "302                  35.566667                    72.5625   \n",
      "303                  35.566667                    72.5625   \n",
      "304                  35.566667                    72.5625   \n",
      "\n",
      "     CD28_pos_CD4_pos_T_cells  CD314_pos_CD94_pos_CD8_pos_T_cells  \n",
      "1                   97.745833                             5.99125  \n",
      "2                   97.745833                             5.99125  \n",
      "3                   97.745833                             5.99125  \n",
      "4                   97.745833                             5.99125  \n",
      "5                   97.745833                             5.99125  \n",
      "..                        ...                                 ...  \n",
      "300                 97.745833                             5.99125  \n",
      "301                 97.745833                             5.99125  \n",
      "302                 97.745833                             5.99125  \n",
      "303                 97.745833                             5.99125  \n",
      "304                 97.745833                             5.99125  \n",
      "\n",
      "[304 rows x 411 columns]\n"
     ]
    }
   ],
   "source": [
    "print(X)"
   ]
  },
  {
   "cell_type": "code",
   "execution_count": 5,
   "id": "e67f4d44",
   "metadata": {
    "execution": {
     "iopub.execute_input": "2024-12-08T10:17:04.800311Z",
     "iopub.status.busy": "2024-12-08T10:17:04.799883Z",
     "iopub.status.idle": "2024-12-08T10:17:04.813238Z",
     "shell.execute_reply": "2024-12-08T10:17:04.811813Z"
    },
    "papermill": {
     "duration": 0.032224,
     "end_time": "2024-12-08T10:17:04.815398",
     "exception": false,
     "start_time": "2024-12-08T10:17:04.783174",
     "status": "completed"
    },
    "tags": []
   },
   "outputs": [
    {
     "data": {
      "text/plain": [
       "vaccine_response\n",
       "0    150\n",
       "1     62\n",
       "Name: count, dtype: int64"
      ]
     },
     "execution_count": 5,
     "metadata": {},
     "output_type": "execute_result"
    }
   ],
   "source": [
    "y_train.value_counts()"
   ]
  },
  {
   "cell_type": "code",
   "execution_count": 6,
   "id": "7529ef74",
   "metadata": {
    "execution": {
     "iopub.execute_input": "2024-12-08T10:17:04.848525Z",
     "iopub.status.busy": "2024-12-08T10:17:04.848147Z",
     "iopub.status.idle": "2024-12-08T10:17:04.856289Z",
     "shell.execute_reply": "2024-12-08T10:17:04.855180Z"
    },
    "papermill": {
     "duration": 0.027292,
     "end_time": "2024-12-08T10:17:04.858337",
     "exception": false,
     "start_time": "2024-12-08T10:17:04.831045",
     "status": "completed"
    },
    "tags": []
   },
   "outputs": [
    {
     "data": {
      "text/plain": [
       "vaccine_response\n",
       "0    65\n",
       "1    27\n",
       "Name: count, dtype: int64"
      ]
     },
     "execution_count": 6,
     "metadata": {},
     "output_type": "execute_result"
    }
   ],
   "source": [
    "y_test.value_counts()"
   ]
  },
  {
   "cell_type": "markdown",
   "id": "fd111f65",
   "metadata": {
    "papermill": {
     "duration": 0.015586,
     "end_time": "2024-12-08T10:17:04.890849",
     "exception": false,
     "start_time": "2024-12-08T10:17:04.875263",
     "status": "completed"
    },
    "tags": []
   },
   "source": [
    "We can see that the amount of non-vaccine responders is double the  amount of vaccine responders. Thus we have a class imbalance."
   ]
  },
  {
   "cell_type": "markdown",
   "id": "33133e1e",
   "metadata": {
    "papermill": {
     "duration": 0.015595,
     "end_time": "2024-12-08T10:17:04.922493",
     "exception": false,
     "start_time": "2024-12-08T10:17:04.906898",
     "status": "completed"
    },
    "tags": []
   },
   "source": [
    "### Standardization of the data"
   ]
  },
  {
   "cell_type": "markdown",
   "id": "3c1a6401",
   "metadata": {
    "papermill": {
     "duration": 0.015425,
     "end_time": "2024-12-08T10:17:04.953465",
     "exception": false,
     "start_time": "2024-12-08T10:17:04.938040",
     "status": "completed"
    },
    "tags": []
   },
   "source": [
    "**Using StandardScaler()**"
   ]
  },
  {
   "cell_type": "markdown",
   "id": "db8bfc8e",
   "metadata": {
    "papermill": {
     "duration": 0.016796,
     "end_time": "2024-12-08T10:17:04.988602",
     "exception": false,
     "start_time": "2024-12-08T10:17:04.971806",
     "status": "completed"
    },
    "tags": []
   },
   "source": [
    "*A) The train set (X_train)*"
   ]
  },
  {
   "cell_type": "markdown",
   "id": "69872817",
   "metadata": {
    "papermill": {
     "duration": 0.015608,
     "end_time": "2024-12-08T10:17:05.020675",
     "exception": false,
     "start_time": "2024-12-08T10:17:05.005067",
     "status": "completed"
    },
    "tags": []
   },
   "source": [
    "First looking at the summary of alle the features. They are all expressed in the same units,% of Parent, see preprocessing in R. But the numbers are not on the same scale. Some are 0.-numbers and others are 80+-numbers."
   ]
  },
  {
   "cell_type": "code",
   "execution_count": 7,
   "id": "a3b9301f",
   "metadata": {
    "execution": {
     "iopub.execute_input": "2024-12-08T10:17:05.055310Z",
     "iopub.status.busy": "2024-12-08T10:17:05.054883Z",
     "iopub.status.idle": "2024-12-08T10:17:05.819263Z",
     "shell.execute_reply": "2024-12-08T10:17:05.818017Z"
    },
    "papermill": {
     "duration": 0.786114,
     "end_time": "2024-12-08T10:17:05.822551",
     "exception": false,
     "start_time": "2024-12-08T10:17:05.036437",
     "status": "completed"
    },
    "tags": []
   },
   "outputs": [
    {
     "name": "stdout",
     "output_type": "stream",
     "text": [
      "          B_cells   basophils  CD16_pos_monocytes  \\\n",
      "count  304.000000  304.000000          304.000000   \n",
      "mean    47.801902    0.460686            4.979733   \n",
      "std     13.592041    0.265305            3.891695   \n",
      "min      8.586667    0.020000            0.000000   \n",
      "25%     38.683333    0.327500            2.377500   \n",
      "50%     47.500000    0.453684            4.430000   \n",
      "75%     56.425000    0.477600            6.042500   \n",
      "max     86.600000    1.800000           25.700000   \n",
      "\n",
      "       CD16_pos_CD14_pos_monocytes  CD16_pos_CD14_neg_monocytes  \\\n",
      "count                   304.000000                   304.000000   \n",
      "mean                      2.419688                     2.760503   \n",
      "std                       1.740978                     2.962802   \n",
      "min                       0.000000                     0.000000   \n",
      "25%                       1.782500                     0.807500   \n",
      "50%                       2.035575                     2.275000   \n",
      "75%                       3.347600                     3.176404   \n",
      "max                      15.100000                    22.300000   \n",
      "\n",
      "       CD16_neg_CD56bright_NK_cells  CD161_pos_NK_cells  CD161_pos_NKT_cells  \\\n",
      "count                    304.000000          304.000000           304.000000   \n",
      "mean                       1.783250           63.645001            47.327939   \n",
      "std                        0.744752           16.252526            14.287502   \n",
      "min                        0.250000            8.680000             6.560000   \n",
      "25%                        1.502500           53.600000            43.504200   \n",
      "50%                        1.754211           64.428696            48.910789   \n",
      "75%                        1.853400           75.600000            49.008092   \n",
      "max                        5.970000           96.600000            92.600000   \n",
      "\n",
      "       CD161_pos_CD4_pos_T_cells  CD161_pos_CD45RA_pos_Tregs  ...  \\\n",
      "count                 304.000000                  304.000000  ...   \n",
      "mean                    9.430807                    0.417451  ...   \n",
      "std                     4.268972                    0.480581  ...   \n",
      "min                     1.490000                    0.000000  ...   \n",
      "25%                     6.155000                    0.037500  ...   \n",
      "50%                     9.195000                    0.225000  ...   \n",
      "75%                    11.925000                    0.670000  ...   \n",
      "max                    27.000000                    2.180000  ...   \n",
      "\n",
      "       CD314_neg_CD94_neg_CD8_neg_T_cells  CD33_pos_monocytes  \\\n",
      "count                          304.000000          304.000000   \n",
      "mean                            87.699013           90.155208   \n",
      "std                              2.679654            1.190060   \n",
      "min                             56.600000           82.250000   \n",
      "25%                             86.850000           89.691667   \n",
      "50%                             86.850000           89.691667   \n",
      "75%                             89.750000           91.275000   \n",
      "max                             96.800000           96.450000   \n",
      "\n",
      "       CD8_neg_T_cells  CXCR3_pos_B_cells  CXCR3_pos_CD33_pos_monocytes  \\\n",
      "count       304.000000         304.000000                    304.000000   \n",
      "mean         62.334279           5.721794                     13.720195   \n",
      "std           2.928314           2.595241                      5.933097   \n",
      "min          34.200000           1.700000                      1.600000   \n",
      "25%          61.479167           2.635000                      5.940000   \n",
      "50%          61.479167           6.999583                     16.940833   \n",
      "75%          64.400000           6.999583                     16.940833   \n",
      "max          74.400000          26.500000                     38.300000   \n",
      "\n",
      "       CXCR3_pos_NK_cells  CXCR3_pos_CD4_pos_T_cells  \\\n",
      "count          304.000000                 304.000000   \n",
      "mean            31.146423                  31.975439   \n",
      "std              6.003382                   6.830199   \n",
      "min             14.500000                  15.300000   \n",
      "25%             23.800000                  23.300000   \n",
      "50%             34.187500                  35.566667   \n",
      "75%             34.187500                  35.566667   \n",
      "max             69.400000                  77.100000   \n",
      "\n",
      "       CXCR3_pos_CD8_pos_T_cells  CD28_pos_CD4_pos_T_cells  \\\n",
      "count                 304.000000                304.000000   \n",
      "mean                   70.099630                 98.244751   \n",
      "std                     4.986273                  1.187345   \n",
      "min                    45.600000                 86.500000   \n",
      "25%                    64.150000                 97.745833   \n",
      "50%                    72.562500                 97.745833   \n",
      "75%                    72.562500                 99.450000   \n",
      "max                    94.900000                100.000000   \n",
      "\n",
      "       CD314_pos_CD94_pos_CD8_pos_T_cells  \n",
      "count                          304.000000  \n",
      "mean                             4.914979  \n",
      "std                              2.546697  \n",
      "min                              0.390000  \n",
      "25%                              2.315000  \n",
      "50%                              5.991250  \n",
      "75%                              5.991250  \n",
      "max                             34.400000  \n",
      "\n",
      "[8 rows x 411 columns]\n"
     ]
    }
   ],
   "source": [
    "print(X.describe())"
   ]
  },
  {
   "cell_type": "markdown",
   "id": "d807c9c3",
   "metadata": {
    "papermill": {
     "duration": 0.015394,
     "end_time": "2024-12-08T10:17:05.854981",
     "exception": false,
     "start_time": "2024-12-08T10:17:05.839587",
     "status": "completed"
    },
    "tags": []
   },
   "source": [
    "> Visualize the data in boxplots."
   ]
  },
  {
   "cell_type": "code",
   "execution_count": 8,
   "id": "967cf199",
   "metadata": {
    "execution": {
     "iopub.execute_input": "2024-12-08T10:17:05.888640Z",
     "iopub.status.busy": "2024-12-08T10:17:05.888210Z",
     "iopub.status.idle": "2024-12-08T10:17:06.331552Z",
     "shell.execute_reply": "2024-12-08T10:17:06.330317Z"
    },
    "papermill": {
     "duration": 0.463105,
     "end_time": "2024-12-08T10:17:06.334043",
     "exception": false,
     "start_time": "2024-12-08T10:17:05.870938",
     "status": "completed"
    },
    "tags": []
   },
   "outputs": [
    {
     "data": {
      "image/png": "[encoded data removed]",
      "text/plain": [
       "<Figure size 1800x600 with 1 Axes>"
      ]
     },
     "metadata": {},
     "output_type": "display_data"
    }
   ],
   "source": [
    "plt.figure(figsize=(18,6)) #set the size of the plot\n",
    "X_train.sample(10, axis=\"columns\").boxplot()\n",
    "plt.xticks(rotation=90) #rotate the gene names on the x-axis\n",
    "plt.show() #show the plot"
   ]
  },
  {
   "cell_type": "markdown",
   "id": "535295c6",
   "metadata": {
    "papermill": {
     "duration": 0.016927,
     "end_time": "2024-12-08T10:17:06.368868",
     "exception": false,
     "start_time": "2024-12-08T10:17:06.351941",
     "status": "completed"
    },
    "tags": []
   },
   "source": [
    "We can see that the features have clearly different scales and there are some outliers. We will normalize the features using StandardScaler."
   ]
  },
  {
   "cell_type": "code",
   "execution_count": 9,
   "id": "68d6e15c",
   "metadata": {
    "execution": {
     "iopub.execute_input": "2024-12-08T10:17:06.459784Z",
     "iopub.status.busy": "2024-12-08T10:17:06.459374Z",
     "iopub.status.idle": "2024-12-08T10:17:06.464570Z",
     "shell.execute_reply": "2024-12-08T10:17:06.463521Z"
    },
    "papermill": {
     "duration": 0.081021,
     "end_time": "2024-12-08T10:17:06.466799",
     "exception": false,
     "start_time": "2024-12-08T10:17:06.385778",
     "status": "completed"
    },
    "tags": []
   },
   "outputs": [],
   "source": [
    "from sklearn.preprocessing import StandardScaler\n",
    "scaler_std = StandardScaler()"
   ]
  },
  {
   "cell_type": "code",
   "execution_count": 10,
   "id": "3f166175",
   "metadata": {
    "execution": {
     "iopub.execute_input": "2024-12-08T10:17:06.502976Z",
     "iopub.status.busy": "2024-12-08T10:17:06.502002Z",
     "iopub.status.idle": "2024-12-08T10:17:06.522486Z",
     "shell.execute_reply": "2024-12-08T10:17:06.521049Z"
    },
    "papermill": {
     "duration": 0.042121,
     "end_time": "2024-12-08T10:17:06.525872",
     "exception": false,
     "start_time": "2024-12-08T10:17:06.483751",
     "status": "completed"
    },
    "tags": []
   },
   "outputs": [
    {
     "name": "stdout",
     "output_type": "stream",
     "text": [
      "Means:\n",
      "[4.66561407e+01 4.73234260e-01 4.96995085e+00 2.47604630e+00\n",
      " 2.71825119e+00 1.82005546e+00 6.36977289e+01 4.66239087e+01\n",
      " 9.37417243e+00 4.18897036e-01 3.25989545e+00 1.00815123e+01\n",
      " 2.94754417e+01 8.33347760e+01 7.43649623e+01 5.59100255e+01\n",
      " 9.04196515e+01 9.55987388e+01 4.74745288e+01 2.72156912e+00\n",
      " 1.65602542e+01 3.10378762e+01 3.52487606e+00 1.54872827e+01\n",
      " 8.27846185e+01 1.17618357e+00 6.47701910e+00 3.24423008e+01\n",
      " 6.13594517e+00 2.90585157e+00 1.84209367e+01 1.28729348e+01\n",
      " 2.12840628e+01 3.13327628e+00 2.25978860e+00 4.35041685e-01\n",
      " 1.42372952e+00 2.28270463e+00 2.30562331e+00 9.88676883e+00\n",
      " 8.38652845e+00 2.59640700e+01 1.40086558e+01 9.81710857e+00\n",
      " 6.86960129e+01 1.19142719e+01 9.57175992e+00 2.31815736e+01\n",
      " 1.63885051e+01 1.69716588e+01 8.00194500e+01 5.17811190e+01\n",
      " 5.41719441e+01 1.82663552e+01 3.97613695e+00 1.14484312e+01\n",
      " 1.36197266e+01 1.05779278e+01 1.39312025e+00 6.78783688e+01\n",
      " 1.59365560e+01 3.29712790e+00 3.86791539e+01 5.06715531e+01\n",
      " 3.67109007e+01 5.46078798e+01 3.39332637e+00 2.84771529e+00\n",
      " 5.79262637e+00 5.40624300e+01 4.28504915e+01 5.35446503e+01\n",
      " 2.66970953e+01 2.54081653e+00 4.40466922e+00 6.25110247e+00\n",
      " 1.73693396e+00 1.66582075e+00 1.65462264e+00 1.76883962e+00\n",
      " 1.77820755e+00 1.47468868e+00 1.59296226e+00 1.52804717e+00\n",
      " 2.07308491e+00 2.07842453e+00 1.96609434e+00 2.07789623e+00\n",
      " 2.17499057e+00 1.88941509e+00 2.08516038e+00 1.94287736e+00\n",
      " 6.59333019e+01 6.51774528e+01 6.63203774e+01 6.46233019e+01\n",
      " 6.38283962e+01 6.85754717e+01 6.56300943e+01 6.52716981e+01\n",
      " 7.75558491e+00 7.71623585e+00 7.75711321e+00 2.74192453e+00\n",
      " 2.69683962e+00 7.46612264e+00 2.48720755e+00 7.82767925e+00\n",
      " 6.41088679e+01 6.33310377e+01 6.30367925e+01 6.10631132e+01\n",
      " 6.03285849e+01 6.13133019e+01 5.79937736e+01 6.21796226e+01\n",
      " 2.48935377e+01 2.41946226e+01 2.35236321e+01 2.04400943e+01\n",
      " 2.04475472e+01 1.99925943e+01 1.88904245e+01 2.42175472e+01\n",
      " 3.33223585e+01 3.24436792e+01 3.23971698e+01 3.01556604e+01\n",
      " 3.00647170e+01 3.10463208e+01 2.95733019e+01 3.34350943e+01\n",
      " 8.73038679e+00 8.34559434e+00 8.18074528e+00 9.12970755e+00\n",
      " 1.04287453e+01 8.61116981e+00 9.02831132e+00 8.38435849e+00\n",
      " 5.91881132e+01 5.95765094e+01 5.96471698e+01 5.97368868e+01\n",
      " 5.96428302e+01 5.97559434e+01 5.94317925e+01 5.94357547e+01\n",
      " 1.00746321e+01 1.05623679e+01 9.97205660e+00 5.07324528e+00\n",
      " 4.78175472e+00 1.02049717e+01 5.03079245e+00 9.63476415e+00\n",
      " 4.48917925e+01 4.37583962e+01 4.22422642e+01 3.99618868e+01\n",
      " 4.07395283e+01 4.28629245e+01 3.95257547e+01 4.24255660e+01\n",
      " 1.38986887e+01 1.48015849e+01 1.46706226e+01 1.00231792e+01\n",
      " 9.54894340e+00 1.49433019e+01 9.61236792e+00 1.45157830e+01\n",
      " 3.14534906e+01 3.11860377e+01 3.10992453e+01 3.09469811e+01\n",
      " 3.09066038e+01 3.08990566e+01 3.11999057e+01 3.09700000e+01\n",
      " 5.02512264e+00 4.82490566e+00 4.76494340e+00 4.75475472e+00\n",
      " 4.95322642e+00 4.68778302e+00 4.92049057e+00 4.50903774e+00\n",
      " 2.60618868e+00 2.59621698e+00 2.42826415e+00 2.51929245e+00\n",
      " 2.57693396e+00 2.37412264e+00 2.49218868e+00 2.32881132e+00\n",
      " 2.16778302e+00 2.13601887e+00 2.08495283e+00 2.12733962e+00\n",
      " 2.15199057e+00 2.08823585e+00 2.17438679e+00 2.21737736e+00\n",
      " 5.50801887e+00 4.69514151e+00 4.49150000e+00 4.64004717e+00\n",
      " 4.80210377e+00 4.41462264e+00 4.96933019e+00 4.81551887e+00\n",
      " 8.99792453e-01 7.83264151e-01 7.48820755e-01 7.56386792e-01\n",
      " 7.58386792e-01 7.25283019e-01 8.19415094e-01 7.79528302e-01\n",
      " 6.29896226e-01 4.84915094e-01 4.29858491e-01 4.17688679e-01\n",
      " 4.37792453e-01 3.84396226e-01 4.07547170e-01 4.25160377e-01\n",
      " 4.39349057e+01 4.29607547e+01 4.22685849e+01 4.21266981e+01\n",
      " 4.28722642e+01 3.98576415e+01 4.26418868e+01 4.48700943e+01\n",
      " 6.76667925e+00 6.67336792e+00 6.87153774e+00 2.02838679e+00\n",
      " 1.80368868e+00 7.22433962e+00 1.88278302e+00 6.79853774e+00\n",
      " 1.90937075e+01 2.02066981e+01 1.90861792e+01 1.61241509e+01\n",
      " 1.59557547e+01 2.00505660e+01 1.53640566e+01 1.71599717e+01\n",
      " 8.65240566e+00 8.72670755e+00 8.38445283e+00 4.71411321e+00\n",
      " 4.57962264e+00 8.41268868e+00 2.88830189e+00 8.72401887e+00\n",
      " 4.62505660e+01 4.80429717e+01 4.64802830e+01 4.32276415e+01\n",
      " 4.32170755e+01 4.68883019e+01 4.59785849e+01 4.72656604e+01\n",
      " 4.15874528e+01 3.85941038e+01 4.16183491e+01 3.59217925e+01\n",
      " 3.62609434e+01 4.02349057e+01 3.57551887e+01 4.23983019e+01\n",
      " 7.11445283e+01 7.21135849e+01 7.19131132e+01 7.00652830e+01\n",
      " 7.03483019e+01 7.26133962e+01 7.07968868e+01 7.15283019e+01\n",
      " 7.07883962e+00 6.97779245e+00 6.86906604e+00 1.94088679e+00\n",
      " 1.87933019e+00 6.87143396e+00 1.78253774e+00 7.16395283e+00\n",
      " 3.87996226e+01 3.83217925e+01 3.52433019e+01 3.15383113e+01\n",
      " 3.51088302e+01 3.16539623e+01 2.96518491e+01 3.83321887e+01\n",
      " 1.80625283e+01 1.70621509e+01 1.72867264e+01 1.32381887e+01\n",
      " 1.33073208e+01 1.70027642e+01 1.25237075e+01 1.73596415e+01\n",
      " 8.67232547e+01 8.70657075e+01 8.72186321e+01 9.23575472e+01\n",
      " 9.21586792e+01 8.73009906e+01 9.20934906e+01 8.73128774e+01\n",
      " 8.60666981e+01 8.70351887e+01 8.74488679e+01 9.24289623e+01\n",
      " 9.21814151e+01 8.76425472e+01 9.21432075e+01 8.72440566e+01\n",
      " 2.39062453e+01 2.31639623e+01 2.34850377e+01 1.96970377e+01\n",
      " 1.95337642e+01 2.44524340e+01 2.14864340e+01 2.49506038e+01\n",
      " 6.03617925e+00 6.08759434e+00 6.13118868e+00 1.01201887e+00\n",
      " 9.17632075e-01 6.19345283e+00 9.54669811e-01 6.18002830e+00\n",
      " 7.10776415e+00 7.05969811e+00 7.14876415e+00 2.00022642e+00\n",
      " 1.92976415e+00 7.15490566e+00 2.00820755e+00 7.16729245e+00\n",
      " 1.92808868e+01 1.94242264e+01 1.94909811e+01 1.47481981e+01\n",
      " 1.44794717e+01 1.90846415e+01 1.48910943e+01 1.95004151e+01\n",
      " 6.29221698e+01 6.04748113e+01 5.64163208e+01 5.56505660e+01\n",
      " 5.60986792e+01 5.51612264e+01 5.04655660e+01 6.13584906e+01\n",
      " 6.38016038e+01 6.32767925e+01 6.32331132e+01 6.37197170e+01\n",
      " 6.37661321e+01 6.38229245e+01 6.42222642e+01 6.46927358e+01\n",
      " 9.51121698e+00 9.34418868e+00 9.60020755e+00 4.71603774e+00\n",
      " 4.02994340e+00 9.49124528e+00 4.54837736e+00 9.69935849e+00\n",
      " 5.25709434e+00 5.25292453e+00 5.27540566e+00 7.22924528e-02\n",
      " 9.06603774e-02 5.26183962e+00 8.91886792e-02 5.26099057e+00\n",
      " 5.17474057e+01 6.84346698e+01 3.13197524e+01 4.81547170e+01\n",
      " 3.22580189e+00 4.65224057e+01 8.87629717e+01 8.97301887e+00\n",
      " 8.55212264e-01 6.12735849e-02 6.29009434e-02 4.45816038e+00\n",
      " 6.35044811e+00 8.77330189e+01 9.02143868e+01 6.24441038e+01\n",
      " 5.64181604e+00 1.37165094e+01 3.09483491e+01 3.17801887e+01\n",
      " 7.01271226e+01 9.82903302e+01 4.83686321e+00]\n",
      "Variances:\n",
      "[1.67230981e+02 7.73227556e-02 1.33047794e+01 2.95147742e+00\n",
      " 7.98693830e+00 5.22546155e-01 2.61295816e+02 2.09184763e+02\n",
      " 1.86922826e+01 2.35645641e-01 7.47657837e+00 3.68043384e+01\n",
      " 3.04728566e+02 1.87761741e+02 2.12160091e+02 7.40482093e+01\n",
      " 5.44336779e+01 1.97176166e+01 1.05057013e+02 4.17022862e+00\n",
      " 1.13800406e+02 5.67203604e+01 7.67448699e+00 1.25952835e+02\n",
      " 1.03521682e+02 1.20990385e+00 1.62240048e+01 1.08547557e+02\n",
      " 1.42255869e+01 6.51322865e+00 1.77722120e+02 5.16877642e+01\n",
      " 1.23353830e+02 4.57901268e+00 6.62355140e+00 5.24379535e-01\n",
      " 7.98329318e+00 1.78741638e+00 9.18018780e+00 3.28555524e+02\n",
      " 2.22270515e+02 4.36492641e+01 1.28220593e+01 2.08168049e+01\n",
      " 1.02891552e+02 3.77794331e+01 3.19760957e+01 9.30284684e+01\n",
      " 6.85359339e+01 9.22482123e+01 6.77026152e+01 2.23772682e+02\n",
      " 3.46758310e+02 1.28393874e+02 8.59193613e+00 2.58913105e+01\n",
      " 4.03662464e+01 4.55694344e+01 2.16290197e+00 1.49829146e+02\n",
      " 1.94775360e+01 1.68639086e+00 6.97057397e+01 1.55490794e+02\n",
      " 3.89899856e+01 2.70028997e+02 2.33577849e+00 2.80548992e+00\n",
      " 7.44018410e+00 8.86299667e+01 1.76510276e+02 5.86924019e+01\n",
      " 2.37440018e+02 3.69506725e+00 2.24716392e+00 1.72893870e+01\n",
      " 8.43360639e-02 9.54385905e-02 9.92202132e-02 1.03728019e-01\n",
      " 1.21092288e-01 9.38471788e-02 1.13194610e-01 7.75766552e-02\n",
      " 4.40770343e-01 3.80283458e-01 3.15764038e-01 4.41450092e-01\n",
      " 5.47090518e-01 4.84194648e-01 4.62624609e-01 3.51843354e-01\n",
      " 6.92027894e+00 7.19827348e+00 5.18626285e+00 7.40886675e+00\n",
      " 8.02838770e+00 4.82018211e+00 6.63058591e+00 7.34741381e+00\n",
      " 1.33967258e+01 1.35373503e+01 1.38438218e+01 7.98228884e-02\n",
      " 7.47442573e-02 1.42611192e+01 6.63603038e-02 1.38758039e+01\n",
      " 9.62021483e+00 6.19504638e+00 8.99495981e+00 3.34245751e+00\n",
      " 7.68865359e+00 1.95859242e+01 1.01498672e+01 1.19169595e+01\n",
      " 1.08284184e+01 9.24179155e+00 8.81764933e+00 2.58722046e+00\n",
      " 1.83814594e+00 8.59123706e+00 1.28220871e+00 1.03779478e+01\n",
      " 5.30172550e+00 4.41476310e+00 5.02479605e+00 4.55598030e+00\n",
      " 1.92360010e+00 4.12008617e+00 1.99930506e+00 5.63479567e+00\n",
      " 4.74606153e-02 1.10031291e-01 5.53823720e-02 1.63939068e-01\n",
      " 3.07826340e-01 6.22792440e-02 4.59681759e-01 6.63759499e-02\n",
      " 2.02963191e+01 1.95665508e+01 1.88279637e+01 1.72718537e+01\n",
      " 1.85749946e+01 1.87355732e+01 1.87064904e+01 1.84816355e+01\n",
      " 1.23506328e+01 1.21121368e+01 1.33550019e+01 3.01631721e-01\n",
      " 3.81334079e-01 1.52773797e+01 3.90409186e-01 1.51936568e+01\n",
      " 4.65344105e+00 4.97122080e+00 4.51523232e+00 4.17903389e+00\n",
      " 4.79561560e+00 5.83572454e+00 4.21799896e+00 6.12512098e+00\n",
      " 1.85982796e+01 2.07276621e+01 1.61454423e+01 1.98124151e+00\n",
      " 1.47362303e+00 1.63905324e+01 1.32354371e+00 1.70154500e+01\n",
      " 1.03534832e+01 9.95048691e+00 9.83017331e+00 8.97447173e+00\n",
      " 1.00646951e+01 9.64546355e+00 9.51739143e+00 9.59916502e+00\n",
      " 4.48000954e+00 3.78434379e+00 3.79011337e+00 3.88009551e+00\n",
      " 4.16515313e+00 3.57430876e+00 3.90387192e+00 3.29947991e+00\n",
      " 1.35950337e+00 1.35571907e+00 1.24216073e+00 1.35176035e+00\n",
      " 1.56338425e+00 1.17548743e+00 1.23130869e+00 1.07363904e+00\n",
      " 2.94259417e-01 3.40229445e-01 3.18640310e-01 2.89229189e-01\n",
      " 2.87614988e-01 3.32810187e-01 2.11223463e-01 2.93918823e-01\n",
      " 3.64563875e+00 3.78370684e+00 3.52409217e+00 3.60338828e+00\n",
      " 3.59305208e+00 3.54828683e+00 3.70358013e+00 3.92647009e+00\n",
      " 1.99184192e-01 1.15974326e-01 1.06939357e-01 1.21796093e-01\n",
      " 1.02636595e-01 9.09186064e-02 1.18184793e-01 1.29074016e-01\n",
      " 1.66435602e-01 1.10319901e-01 9.19259959e-02 8.31312688e-02\n",
      " 8.11897305e-02 7.28189780e-02 6.59452173e-02 6.41127363e-02\n",
      " 2.33351096e+01 1.75103280e+01 1.74081543e+01 1.91081831e+01\n",
      " 1.92634168e+01 1.77112198e+01 1.67881747e+01 1.67157781e+01\n",
      " 1.10669700e+01 1.09148901e+01 1.13020634e+01 1.06756406e-01\n",
      " 7.85021368e-02 1.28444715e+01 9.93041198e-02 1.06609531e+01\n",
      " 2.29907751e+00 2.39154657e+00 5.22609625e+00 2.02843937e+00\n",
      " 4.31679620e+00 5.09946187e+00 8.86486446e+00 1.17136916e+01\n",
      " 1.05694675e+01 8.91690405e+00 1.00630901e+01 1.03472005e+00\n",
      " 1.23237649e+00 1.10428973e+01 4.21022370e-01 1.84446655e+01\n",
      " 3.08955856e+01 4.30206236e+01 4.32290738e+01 1.52600834e+01\n",
      " 2.46791332e+01 3.16545470e+01 1.08410803e+01 1.17299720e+01\n",
      " 1.15372683e+01 8.04502964e+00 9.75191683e+00 1.86959847e+01\n",
      " 1.69834546e+01 7.36513138e+00 8.98885015e+00 5.92088797e+00\n",
      " 6.88067296e+00 9.79877510e+00 8.91542267e+00 5.66230387e+00\n",
      " 5.45976388e+00 8.90371140e+00 4.05747550e+00 9.64259523e+00\n",
      " 1.24166386e+01 1.21592358e+01 1.14079702e+01 7.71423805e-02\n",
      " 7.34241334e-02 1.11546932e+01 5.26845135e-02 1.12756840e+01\n",
      " 1.29237781e+02 1.44619294e+02 1.15971252e+02 9.34522682e+01\n",
      " 1.20667194e+02 1.40227092e+02 7.88910491e+01 1.12904833e+02\n",
      " 4.76811268e+00 3.35061017e+00 3.62743506e+00 6.80626894e+00\n",
      " 7.08112655e+00 3.65224379e+00 6.11453606e+00 3.68986631e+00\n",
      " 3.21951553e+01 2.89083865e+01 2.83735949e+01 4.80685523e+00\n",
      " 5.20658693e+00 2.75050759e+01 5.36117490e+00 2.84502987e+01\n",
      " 2.75961956e+01 2.37444516e+01 2.28467902e+01 5.56492650e+00\n",
      " 6.17080743e+00 2.13698151e+01 5.54054791e+00 2.09945843e+01\n",
      " 2.43186650e+01 2.42619910e+01 2.20642835e+01 7.73917650e+00\n",
      " 7.48969697e+00 2.46783097e+01 8.28840114e+00 2.07582496e+01\n",
      " 1.33964541e+01 1.36089314e+01 1.35307221e+01 3.14292798e-02\n",
      " 2.20684960e-02 1.34610654e+01 3.23048619e-02 1.37094001e+01\n",
      " 1.47077756e+01 1.55361852e+01 1.53268402e+01 2.22487470e-01\n",
      " 2.29726541e-01 1.59626111e+01 1.89338224e-01 1.59802747e+01\n",
      " 1.80401170e+01 1.67262763e+01 2.02156826e+01 1.90651840e+00\n",
      " 2.05353878e+00 1.90459145e+01 2.42071621e+00 1.71647851e+01\n",
      " 1.24072604e+02 1.44508685e+02 9.91752421e+01 1.18932535e+02\n",
      " 1.24809939e+02 1.35364605e+02 7.83508499e+01 1.28231739e+02\n",
      " 6.83348988e+00 5.66328753e+00 5.79442122e+00 5.63489528e+00\n",
      " 6.15046646e+00 4.99001627e+00 5.45216207e+00 6.44494041e+00\n",
      " 1.87484786e+01 2.20725082e+01 2.11445029e+01 1.91110970e+00\n",
      " 1.59533646e+00 2.12389455e+01 1.81809670e+00 2.09218439e+01\n",
      " 1.29990376e+01 1.29624943e+01 1.29527959e+01 2.01294733e-04\n",
      " 1.23076238e-04 1.29579549e+01 2.14293863e-04 1.30384655e+01\n",
      " 3.59801613e+01 9.86205567e+00 1.01622373e+01 6.05263771e+01\n",
      " 1.65531618e+00 4.67233689e+01 1.15592058e+01 2.82753743e+00\n",
      " 1.10975535e-01 1.98135754e-03 8.56944197e-04 2.28915837e+00\n",
      " 4.00918293e+00 8.24872108e+00 1.31889286e+00 6.53304208e+00\n",
      " 5.33013973e+00 3.63263548e+01 3.63175710e+01 4.35107710e+01\n",
      " 2.72736777e+01 1.00074278e+00 3.83831708e+00]\n"
     ]
    }
   ],
   "source": [
    "scaler_std.fit(X_train)\n",
    "#fit computes the mean and the standard deviation for each attribute.\n",
    "\n",
    "print(\"Means:\")\n",
    "print(scaler_std.mean_)\n",
    "print(\"Variances:\")\n",
    "print(scaler_std.var_)"
   ]
  },
  {
   "cell_type": "markdown",
   "id": "a528ef96",
   "metadata": {
    "papermill": {
     "duration": 0.017329,
     "end_time": "2024-12-08T10:17:06.562350",
     "exception": false,
     "start_time": "2024-12-08T10:17:06.545021",
     "status": "completed"
    },
    "tags": []
   },
   "source": [
    "Now, Normalize the features in the train set\n",
    "The scaler object has a function transform() that uses the means and variances computed by the fit() function to normalize the feature"
   ]
  },
  {
   "cell_type": "code",
   "execution_count": 11,
   "id": "2504bf5f",
   "metadata": {
    "execution": {
     "iopub.execute_input": "2024-12-08T10:17:06.600853Z",
     "iopub.status.busy": "2024-12-08T10:17:06.600184Z",
     "iopub.status.idle": "2024-12-08T10:17:06.614979Z",
     "shell.execute_reply": "2024-12-08T10:17:06.613668Z"
    },
    "papermill": {
     "duration": 0.03659,
     "end_time": "2024-12-08T10:17:06.617489",
     "exception": false,
     "start_time": "2024-12-08T10:17:06.580899",
     "status": "completed"
    },
    "tags": []
   },
   "outputs": [
    {
     "data": {
      "text/plain": [
       "array([[-1.17974003,  0.70761303, -0.56474581, ..., -1.14451191,\n",
       "         1.15923936, -1.28721503],\n",
       "       [-0.82402726, -0.08355553,  0.05758602, ...,  0.46633113,\n",
       "        -0.54429475,  0.58922467],\n",
       "       [-0.94002055, -0.07030629, -0.71004796, ...,  0.46633113,\n",
       "        -0.54429475,  0.58922467],\n",
       "       ...,\n",
       "       [-0.27499232, -1.62993044, -1.35979529, ...,  0.46633113,\n",
       "        -0.54429475,  0.58922467],\n",
       "       [-1.43492528,  0.01570016, -0.78681136, ..., -1.14451191,\n",
       "         1.15923936, -1.28721503],\n",
       "       [ 0.54469364, -1.01857291, -0.41670212, ...,  0.46633113,\n",
       "        -0.54429475,  0.58922467]])"
      ]
     },
     "execution_count": 11,
     "metadata": {},
     "output_type": "execute_result"
    }
   ],
   "source": [
    "X_train_std = scaler_std.transform(X_train)\n",
    "\n",
    "X_train_std"
   ]
  },
  {
   "cell_type": "markdown",
   "id": "f2d4dc7c",
   "metadata": {
    "papermill": {
     "duration": 0.017225,
     "end_time": "2024-12-08T10:17:06.652668",
     "exception": false,
     "start_time": "2024-12-08T10:17:06.635443",
     "status": "completed"
    },
    "tags": []
   },
   "source": [
    "The column names are missing after the transform() function. So we add them back by making a new panda dataframe."
   ]
  },
  {
   "cell_type": "code",
   "execution_count": 12,
   "id": "1210ebe0",
   "metadata": {
    "execution": {
     "iopub.execute_input": "2024-12-08T10:17:06.692268Z",
     "iopub.status.busy": "2024-12-08T10:17:06.691830Z",
     "iopub.status.idle": "2024-12-08T10:17:06.721300Z",
     "shell.execute_reply": "2024-12-08T10:17:06.720174Z"
    },
    "papermill": {
     "duration": 0.051023,
     "end_time": "2024-12-08T10:17:06.723691",
     "exception": false,
     "start_time": "2024-12-08T10:17:06.672668",
     "status": "completed"
    },
    "tags": []
   },
   "outputs": [
    {
     "data": {
      "text/html": [
       "<div>\n",
       "<style scoped>\n",
       "    .dataframe tbody tr th:only-of-type {\n",
       "        vertical-align: middle;\n",
       "    }\n",
       "\n",
       "    .dataframe tbody tr th {\n",
       "        vertical-align: top;\n",
       "    }\n",
       "\n",
       "    .dataframe thead th {\n",
       "        text-align: right;\n",
       "    }\n",
       "</style>\n",
       "<table border=\"1\" class=\"dataframe\">\n",
       "  <thead>\n",
       "    <tr style=\"text-align: right;\">\n",
       "      <th></th>\n",
       "      <th>B_cells</th>\n",
       "      <th>basophils</th>\n",
       "      <th>CD16_pos_monocytes</th>\n",
       "      <th>CD16_pos_CD14_pos_monocytes</th>\n",
       "      <th>CD16_pos_CD14_neg_monocytes</th>\n",
       "      <th>CD16_neg_CD56bright_NK_cells</th>\n",
       "      <th>CD161_pos_NK_cells</th>\n",
       "      <th>CD161_pos_NKT_cells</th>\n",
       "      <th>CD161_pos_CD4_pos_T_cells</th>\n",
       "      <th>CD161_pos_CD45RA_pos_Tregs</th>\n",
       "      <th>...</th>\n",
       "      <th>CD314_neg_CD94_neg_CD8_neg_T_cells</th>\n",
       "      <th>CD33_pos_monocytes</th>\n",
       "      <th>CD8_neg_T_cells</th>\n",
       "      <th>CXCR3_pos_B_cells</th>\n",
       "      <th>CXCR3_pos_CD33_pos_monocytes</th>\n",
       "      <th>CXCR3_pos_NK_cells</th>\n",
       "      <th>CXCR3_pos_CD4_pos_T_cells</th>\n",
       "      <th>CXCR3_pos_CD8_pos_T_cells</th>\n",
       "      <th>CD28_pos_CD4_pos_T_cells</th>\n",
       "      <th>CD314_pos_CD94_pos_CD8_pos_T_cells</th>\n",
       "    </tr>\n",
       "  </thead>\n",
       "  <tbody>\n",
       "    <tr>\n",
       "      <th>0</th>\n",
       "      <td>-1.179740</td>\n",
       "      <td>0.707613</td>\n",
       "      <td>-0.564746</td>\n",
       "      <td>0.124537</td>\n",
       "      <td>-0.901679</td>\n",
       "      <td>0.138260</td>\n",
       "      <td>-0.667984</td>\n",
       "      <td>-1.121736</td>\n",
       "      <td>0.103118</td>\n",
       "      <td>0.826278</td>\n",
       "      <td>...</td>\n",
       "      <td>0.702277</td>\n",
       "      <td>0.923533</td>\n",
       "      <td>0.765223</td>\n",
       "      <td>-1.302380</td>\n",
       "      <td>-1.290250</td>\n",
       "      <td>-1.186171</td>\n",
       "      <td>-1.285604</td>\n",
       "      <td>-1.144512</td>\n",
       "      <td>1.159239</td>\n",
       "      <td>-1.287215</td>\n",
       "    </tr>\n",
       "    <tr>\n",
       "      <th>1</th>\n",
       "      <td>-0.824027</td>\n",
       "      <td>-0.083556</td>\n",
       "      <td>0.057586</td>\n",
       "      <td>1.661220</td>\n",
       "      <td>-0.710604</td>\n",
       "      <td>-1.826122</td>\n",
       "      <td>0.878601</td>\n",
       "      <td>0.427020</td>\n",
       "      <td>0.607344</td>\n",
       "      <td>2.721491</td>\n",
       "      <td>...</td>\n",
       "      <td>-0.307452</td>\n",
       "      <td>-0.455160</td>\n",
       "      <td>-0.377521</td>\n",
       "      <td>0.588107</td>\n",
       "      <td>0.534968</td>\n",
       "      <td>0.537493</td>\n",
       "      <td>0.574033</td>\n",
       "      <td>0.466331</td>\n",
       "      <td>-0.544295</td>\n",
       "      <td>0.589225</td>\n",
       "    </tr>\n",
       "    <tr>\n",
       "      <th>2</th>\n",
       "      <td>-0.940021</td>\n",
       "      <td>-0.070306</td>\n",
       "      <td>-0.710048</td>\n",
       "      <td>-0.256388</td>\n",
       "      <td>0.162114</td>\n",
       "      <td>-0.091088</td>\n",
       "      <td>0.606402</td>\n",
       "      <td>0.158117</td>\n",
       "      <td>0.630474</td>\n",
       "      <td>-0.739333</td>\n",
       "      <td>...</td>\n",
       "      <td>-0.307452</td>\n",
       "      <td>-0.455160</td>\n",
       "      <td>-0.377521</td>\n",
       "      <td>0.588107</td>\n",
       "      <td>0.534968</td>\n",
       "      <td>0.537493</td>\n",
       "      <td>0.574033</td>\n",
       "      <td>0.466331</td>\n",
       "      <td>-0.544295</td>\n",
       "      <td>0.589225</td>\n",
       "    </tr>\n",
       "    <tr>\n",
       "      <th>3</th>\n",
       "      <td>-0.932288</td>\n",
       "      <td>-0.946648</td>\n",
       "      <td>-0.238501</td>\n",
       "      <td>-1.103645</td>\n",
       "      <td>0.308462</td>\n",
       "      <td>0.608605</td>\n",
       "      <td>1.058005</td>\n",
       "      <td>1.028546</td>\n",
       "      <td>-0.246139</td>\n",
       "      <td>0.187673</td>\n",
       "      <td>...</td>\n",
       "      <td>-0.307452</td>\n",
       "      <td>-0.455160</td>\n",
       "      <td>-0.377521</td>\n",
       "      <td>0.588107</td>\n",
       "      <td>0.534968</td>\n",
       "      <td>0.537493</td>\n",
       "      <td>0.574033</td>\n",
       "      <td>0.466331</td>\n",
       "      <td>-0.544295</td>\n",
       "      <td>0.589225</td>\n",
       "    </tr>\n",
       "    <tr>\n",
       "      <th>4</th>\n",
       "      <td>-1.999426</td>\n",
       "      <td>-1.378195</td>\n",
       "      <td>-0.715531</td>\n",
       "      <td>0.473784</td>\n",
       "      <td>-0.901679</td>\n",
       "      <td>2.088809</td>\n",
       "      <td>-0.896879</td>\n",
       "      <td>0.019089</td>\n",
       "      <td>0.792382</td>\n",
       "      <td>0.620276</td>\n",
       "      <td>...</td>\n",
       "      <td>0.702277</td>\n",
       "      <td>0.923533</td>\n",
       "      <td>0.765223</td>\n",
       "      <td>-1.302380</td>\n",
       "      <td>-1.290250</td>\n",
       "      <td>-1.186171</td>\n",
       "      <td>-1.285604</td>\n",
       "      <td>-1.144512</td>\n",
       "      <td>1.159239</td>\n",
       "      <td>-1.287215</td>\n",
       "    </tr>\n",
       "    <tr>\n",
       "      <th>...</th>\n",
       "      <td>...</td>\n",
       "      <td>...</td>\n",
       "      <td>...</td>\n",
       "      <td>...</td>\n",
       "      <td>...</td>\n",
       "      <td>...</td>\n",
       "      <td>...</td>\n",
       "      <td>...</td>\n",
       "      <td>...</td>\n",
       "      <td>...</td>\n",
       "      <td>...</td>\n",
       "      <td>...</td>\n",
       "      <td>...</td>\n",
       "      <td>...</td>\n",
       "      <td>...</td>\n",
       "      <td>...</td>\n",
       "      <td>...</td>\n",
       "      <td>...</td>\n",
       "      <td>...</td>\n",
       "      <td>...</td>\n",
       "      <td>...</td>\n",
       "    </tr>\n",
       "    <tr>\n",
       "      <th>207</th>\n",
       "      <td>-1.318932</td>\n",
       "      <td>-0.070306</td>\n",
       "      <td>-0.397511</td>\n",
       "      <td>-0.256388</td>\n",
       "      <td>0.162114</td>\n",
       "      <td>-0.091088</td>\n",
       "      <td>0.074377</td>\n",
       "      <td>0.158117</td>\n",
       "      <td>0.445437</td>\n",
       "      <td>-0.739333</td>\n",
       "      <td>...</td>\n",
       "      <td>-0.307452</td>\n",
       "      <td>-0.455160</td>\n",
       "      <td>-0.377521</td>\n",
       "      <td>0.588107</td>\n",
       "      <td>0.534968</td>\n",
       "      <td>0.537493</td>\n",
       "      <td>0.574033</td>\n",
       "      <td>0.466331</td>\n",
       "      <td>-0.544295</td>\n",
       "      <td>0.589225</td>\n",
       "    </tr>\n",
       "    <tr>\n",
       "      <th>208</th>\n",
       "      <td>-1.272535</td>\n",
       "      <td>-0.982611</td>\n",
       "      <td>1.625753</td>\n",
       "      <td>4.082660</td>\n",
       "      <td>0.152771</td>\n",
       "      <td>-1.272775</td>\n",
       "      <td>-0.581375</td>\n",
       "      <td>-0.520210</td>\n",
       "      <td>-0.000965</td>\n",
       "      <td>2.309488</td>\n",
       "      <td>...</td>\n",
       "      <td>-0.307452</td>\n",
       "      <td>-0.455160</td>\n",
       "      <td>-0.377521</td>\n",
       "      <td>0.588107</td>\n",
       "      <td>0.534968</td>\n",
       "      <td>0.537493</td>\n",
       "      <td>0.574033</td>\n",
       "      <td>0.466331</td>\n",
       "      <td>-0.544295</td>\n",
       "      <td>0.589225</td>\n",
       "    </tr>\n",
       "    <tr>\n",
       "      <th>209</th>\n",
       "      <td>-0.274992</td>\n",
       "      <td>-1.629930</td>\n",
       "      <td>-1.359795</td>\n",
       "      <td>-1.435428</td>\n",
       "      <td>-0.961832</td>\n",
       "      <td>-1.839956</td>\n",
       "      <td>1.614775</td>\n",
       "      <td>2.114058</td>\n",
       "      <td>1.740697</td>\n",
       "      <td>1.382482</td>\n",
       "      <td>...</td>\n",
       "      <td>-0.307452</td>\n",
       "      <td>-0.455160</td>\n",
       "      <td>-0.377521</td>\n",
       "      <td>0.588107</td>\n",
       "      <td>0.534968</td>\n",
       "      <td>0.537493</td>\n",
       "      <td>0.574033</td>\n",
       "      <td>0.466331</td>\n",
       "      <td>-0.544295</td>\n",
       "      <td>0.589225</td>\n",
       "    </tr>\n",
       "    <tr>\n",
       "      <th>210</th>\n",
       "      <td>-1.434925</td>\n",
       "      <td>0.015700</td>\n",
       "      <td>-0.786811</td>\n",
       "      <td>0.507311</td>\n",
       "      <td>-0.340556</td>\n",
       "      <td>0.046128</td>\n",
       "      <td>-0.222568</td>\n",
       "      <td>-0.215699</td>\n",
       "      <td>-0.051850</td>\n",
       "      <td>-0.862934</td>\n",
       "      <td>...</td>\n",
       "      <td>0.702277</td>\n",
       "      <td>0.923533</td>\n",
       "      <td>0.765223</td>\n",
       "      <td>-1.302380</td>\n",
       "      <td>-1.290250</td>\n",
       "      <td>-1.186171</td>\n",
       "      <td>-1.285604</td>\n",
       "      <td>-1.144512</td>\n",
       "      <td>1.159239</td>\n",
       "      <td>-1.287215</td>\n",
       "    </tr>\n",
       "    <tr>\n",
       "      <th>211</th>\n",
       "      <td>0.544694</td>\n",
       "      <td>-1.018573</td>\n",
       "      <td>-0.416702</td>\n",
       "      <td>-1.336475</td>\n",
       "      <td>0.237693</td>\n",
       "      <td>0.304264</td>\n",
       "      <td>-0.587562</td>\n",
       "      <td>0.841866</td>\n",
       "      <td>1.116196</td>\n",
       "      <td>-0.656933</td>\n",
       "      <td>...</td>\n",
       "      <td>-0.307452</td>\n",
       "      <td>-0.455160</td>\n",
       "      <td>-0.377521</td>\n",
       "      <td>0.588107</td>\n",
       "      <td>0.534968</td>\n",
       "      <td>0.537493</td>\n",
       "      <td>0.574033</td>\n",
       "      <td>0.466331</td>\n",
       "      <td>-0.544295</td>\n",
       "      <td>0.589225</td>\n",
       "    </tr>\n",
       "  </tbody>\n",
       "</table>\n",
       "<p>212 rows × 411 columns</p>\n",
       "</div>"
      ],
      "text/plain": [
       "      B_cells  basophils  CD16_pos_monocytes  CD16_pos_CD14_pos_monocytes  \\\n",
       "0   -1.179740   0.707613           -0.564746                     0.124537   \n",
       "1   -0.824027  -0.083556            0.057586                     1.661220   \n",
       "2   -0.940021  -0.070306           -0.710048                    -0.256388   \n",
       "3   -0.932288  -0.946648           -0.238501                    -1.103645   \n",
       "4   -1.999426  -1.378195           -0.715531                     0.473784   \n",
       "..        ...        ...                 ...                          ...   \n",
       "207 -1.318932  -0.070306           -0.397511                    -0.256388   \n",
       "208 -1.272535  -0.982611            1.625753                     4.082660   \n",
       "209 -0.274992  -1.629930           -1.359795                    -1.435428   \n",
       "210 -1.434925   0.015700           -0.786811                     0.507311   \n",
       "211  0.544694  -1.018573           -0.416702                    -1.336475   \n",
       "\n",
       "     CD16_pos_CD14_neg_monocytes  CD16_neg_CD56bright_NK_cells  \\\n",
       "0                      -0.901679                      0.138260   \n",
       "1                      -0.710604                     -1.826122   \n",
       "2                       0.162114                     -0.091088   \n",
       "3                       0.308462                      0.608605   \n",
       "4                      -0.901679                      2.088809   \n",
       "..                           ...                           ...   \n",
       "207                     0.162114                     -0.091088   \n",
       "208                     0.152771                     -1.272775   \n",
       "209                    -0.961832                     -1.839956   \n",
       "210                    -0.340556                      0.046128   \n",
       "211                     0.237693                      0.304264   \n",
       "\n",
       "     CD161_pos_NK_cells  CD161_pos_NKT_cells  CD161_pos_CD4_pos_T_cells  \\\n",
       "0             -0.667984            -1.121736                   0.103118   \n",
       "1              0.878601             0.427020                   0.607344   \n",
       "2              0.606402             0.158117                   0.630474   \n",
       "3              1.058005             1.028546                  -0.246139   \n",
       "4             -0.896879             0.019089                   0.792382   \n",
       "..                  ...                  ...                        ...   \n",
       "207            0.074377             0.158117                   0.445437   \n",
       "208           -0.581375            -0.520210                  -0.000965   \n",
       "209            1.614775             2.114058                   1.740697   \n",
       "210           -0.222568            -0.215699                  -0.051850   \n",
       "211           -0.587562             0.841866                   1.116196   \n",
       "\n",
       "     CD161_pos_CD45RA_pos_Tregs  ...  CD314_neg_CD94_neg_CD8_neg_T_cells  \\\n",
       "0                      0.826278  ...                            0.702277   \n",
       "1                      2.721491  ...                           -0.307452   \n",
       "2                     -0.739333  ...                           -0.307452   \n",
       "3                      0.187673  ...                           -0.307452   \n",
       "4                      0.620276  ...                            0.702277   \n",
       "..                          ...  ...                                 ...   \n",
       "207                   -0.739333  ...                           -0.307452   \n",
       "208                    2.309488  ...                           -0.307452   \n",
       "209                    1.382482  ...                           -0.307452   \n",
       "210                   -0.862934  ...                            0.702277   \n",
       "211                   -0.656933  ...                           -0.307452   \n",
       "\n",
       "     CD33_pos_monocytes  CD8_neg_T_cells  CXCR3_pos_B_cells  \\\n",
       "0              0.923533         0.765223          -1.302380   \n",
       "1             -0.455160        -0.377521           0.588107   \n",
       "2             -0.455160        -0.377521           0.588107   \n",
       "3             -0.455160        -0.377521           0.588107   \n",
       "4              0.923533         0.765223          -1.302380   \n",
       "..                  ...              ...                ...   \n",
       "207           -0.455160        -0.377521           0.588107   \n",
       "208           -0.455160        -0.377521           0.588107   \n",
       "209           -0.455160        -0.377521           0.588107   \n",
       "210            0.923533         0.765223          -1.302380   \n",
       "211           -0.455160        -0.377521           0.588107   \n",
       "\n",
       "     CXCR3_pos_CD33_pos_monocytes  CXCR3_pos_NK_cells  \\\n",
       "0                       -1.290250           -1.186171   \n",
       "1                        0.534968            0.537493   \n",
       "2                        0.534968            0.537493   \n",
       "3                        0.534968            0.537493   \n",
       "4                       -1.290250           -1.186171   \n",
       "..                            ...                 ...   \n",
       "207                      0.534968            0.537493   \n",
       "208                      0.534968            0.537493   \n",
       "209                      0.534968            0.537493   \n",
       "210                     -1.290250           -1.186171   \n",
       "211                      0.534968            0.537493   \n",
       "\n",
       "     CXCR3_pos_CD4_pos_T_cells  CXCR3_pos_CD8_pos_T_cells  \\\n",
       "0                    -1.285604                  -1.144512   \n",
       "1                     0.574033                   0.466331   \n",
       "2                     0.574033                   0.466331   \n",
       "3                     0.574033                   0.466331   \n",
       "4                    -1.285604                  -1.144512   \n",
       "..                         ...                        ...   \n",
       "207                   0.574033                   0.466331   \n",
       "208                   0.574033                   0.466331   \n",
       "209                   0.574033                   0.466331   \n",
       "210                  -1.285604                  -1.144512   \n",
       "211                   0.574033                   0.466331   \n",
       "\n",
       "     CD28_pos_CD4_pos_T_cells  CD314_pos_CD94_pos_CD8_pos_T_cells  \n",
       "0                    1.159239                           -1.287215  \n",
       "1                   -0.544295                            0.589225  \n",
       "2                   -0.544295                            0.589225  \n",
       "3                   -0.544295                            0.589225  \n",
       "4                    1.159239                           -1.287215  \n",
       "..                        ...                                 ...  \n",
       "207                 -0.544295                            0.589225  \n",
       "208                 -0.544295                            0.589225  \n",
       "209                 -0.544295                            0.589225  \n",
       "210                  1.159239                           -1.287215  \n",
       "211                 -0.544295                            0.589225  \n",
       "\n",
       "[212 rows x 411 columns]"
      ]
     },
     "execution_count": 12,
     "metadata": {},
     "output_type": "execute_result"
    }
   ],
   "source": [
    "X_train_std = pd.DataFrame(X_train_std, columns=X_train.columns)\n",
    "\n",
    "X_train_std"
   ]
  },
  {
   "cell_type": "markdown",
   "id": "87d080d1",
   "metadata": {
    "papermill": {
     "duration": 0.017887,
     "end_time": "2024-12-08T10:17:06.759892",
     "exception": false,
     "start_time": "2024-12-08T10:17:06.742005",
     "status": "completed"
    },
    "tags": []
   },
   "source": [
    "> Visualization of the features after normalization"
   ]
  },
  {
   "cell_type": "code",
   "execution_count": 13,
   "id": "e7fafd90",
   "metadata": {
    "execution": {
     "iopub.execute_input": "2024-12-08T10:17:06.798680Z",
     "iopub.status.busy": "2024-12-08T10:17:06.798294Z",
     "iopub.status.idle": "2024-12-08T10:17:07.200865Z",
     "shell.execute_reply": "2024-12-08T10:17:07.199638Z"
    },
    "papermill": {
     "duration": 0.425575,
     "end_time": "2024-12-08T10:17:07.203430",
     "exception": false,
     "start_time": "2024-12-08T10:17:06.777855",
     "status": "completed"
    },
    "tags": []
   },
   "outputs": [
    {
     "data": {
      "image/png": "[encoded data removed]",
      "text/plain": [
       "<Figure size 1800x600 with 1 Axes>"
      ]
     },
     "metadata": {},
     "output_type": "display_data"
    }
   ],
   "source": [
    "plt.figure(figsize=(18,6))\n",
    "X_train_std.sample(10, axis=\"columns\").boxplot()\n",
    "plt.xticks(rotation=90)\n",
    "plt.show()"
   ]
  },
  {
   "cell_type": "markdown",
   "id": "a8a6976e",
   "metadata": {
    "papermill": {
     "duration": 0.018869,
     "end_time": "2024-12-08T10:17:07.242522",
     "exception": false,
     "start_time": "2024-12-08T10:17:07.223653",
     "status": "completed"
    },
    "tags": []
   },
   "source": [
    "We can see that the boxplots are now on the same scale. However there are still some outliers. We will keep them, because we can't know it these were measured wrong."
   ]
  },
  {
   "cell_type": "markdown",
   "id": "25ce5703",
   "metadata": {
    "papermill": {
     "duration": 0.018976,
     "end_time": "2024-12-08T10:17:07.280929",
     "exception": false,
     "start_time": "2024-12-08T10:17:07.261953",
     "status": "completed"
    },
    "tags": []
   },
   "source": [
    "*B) The test set (X_test)*"
   ]
  },
  {
   "cell_type": "markdown",
   "id": "2bf57200",
   "metadata": {
    "papermill": {
     "duration": 0.019049,
     "end_time": "2024-12-08T10:17:07.319647",
     "exception": false,
     "start_time": "2024-12-08T10:17:07.300598",
     "status": "completed"
    },
    "tags": []
   },
   "source": [
    "Here we do exactly these, only we so everything in one line of code."
   ]
  },
  {
   "cell_type": "code",
   "execution_count": 14,
   "id": "264b3536",
   "metadata": {
    "execution": {
     "iopub.execute_input": "2024-12-08T10:17:07.361378Z",
     "iopub.status.busy": "2024-12-08T10:17:07.360928Z",
     "iopub.status.idle": "2024-12-08T10:17:07.374848Z",
     "shell.execute_reply": "2024-12-08T10:17:07.373604Z"
    },
    "papermill": {
     "duration": 0.037899,
     "end_time": "2024-12-08T10:17:07.377453",
     "exception": false,
     "start_time": "2024-12-08T10:17:07.339554",
     "status": "completed"
    },
    "tags": []
   },
   "outputs": [],
   "source": [
    "X_test_std = pd.DataFrame(scaler_std.transform(X_test),columns=X_test.columns)"
   ]
  },
  {
   "cell_type": "markdown",
   "id": "0878b9c3",
   "metadata": {
    "papermill": {
     "duration": 0.019646,
     "end_time": "2024-12-08T10:17:07.417275",
     "exception": false,
     "start_time": "2024-12-08T10:17:07.397629",
     "status": "completed"
    },
    "tags": []
   },
   "source": [
    "> Visualization after normalization"
   ]
  },
  {
   "cell_type": "code",
   "execution_count": 15,
   "id": "d96d9d4c",
   "metadata": {
    "execution": {
     "iopub.execute_input": "2024-12-08T10:17:07.459296Z",
     "iopub.status.busy": "2024-12-08T10:17:07.458869Z",
     "iopub.status.idle": "2024-12-08T10:17:07.870910Z",
     "shell.execute_reply": "2024-12-08T10:17:07.869849Z"
    },
    "papermill": {
     "duration": 0.436771,
     "end_time": "2024-12-08T10:17:07.874233",
     "exception": false,
     "start_time": "2024-12-08T10:17:07.437462",
     "status": "completed"
    },
    "tags": []
   },
   "outputs": [
    {
     "data": {
      "image/png": "[encoded data removed]",
      "text/plain": [
       "<Figure size 1800x600 with 1 Axes>"
      ]
     },
     "metadata": {},
     "output_type": "display_data"
    }
   ],
   "source": [
    "plt.figure(figsize=(18,6))\n",
    "X_test_std.sample(10, axis=\"columns\").boxplot()\n",
    "plt.xticks(rotation=90)\n",
    "plt.show()"
   ]
  },
  {
   "cell_type": "markdown",
   "id": "ce7217ed",
   "metadata": {
    "papermill": {
     "duration": 0.021759,
     "end_time": "2024-12-08T10:17:07.916641",
     "exception": false,
     "start_time": "2024-12-08T10:17:07.894882",
     "status": "completed"
    },
    "tags": []
   },
   "source": [
    "**Standardization with MinMaxScaler()**"
   ]
  },
  {
   "cell_type": "code",
   "execution_count": 16,
   "id": "5e7ecf60",
   "metadata": {
    "execution": {
     "iopub.execute_input": "2024-12-08T10:17:07.970368Z",
     "iopub.status.busy": "2024-12-08T10:17:07.969926Z",
     "iopub.status.idle": "2024-12-08T10:17:07.975955Z",
     "shell.execute_reply": "2024-12-08T10:17:07.974749Z"
    },
    "papermill": {
     "duration": 0.033947,
     "end_time": "2024-12-08T10:17:07.979302",
     "exception": false,
     "start_time": "2024-12-08T10:17:07.945355",
     "status": "completed"
    },
    "tags": []
   },
   "outputs": [],
   "source": [
    "from sklearn.preprocessing import MinMaxScaler\n",
    "\n",
    "scaler_minmax = MinMaxScaler()"
   ]
  },
  {
   "cell_type": "code",
   "execution_count": 17,
   "id": "15c0b7be",
   "metadata": {
    "execution": {
     "iopub.execute_input": "2024-12-08T10:17:08.043275Z",
     "iopub.status.busy": "2024-12-08T10:17:08.042843Z",
     "iopub.status.idle": "2024-12-08T10:17:08.081642Z",
     "shell.execute_reply": "2024-12-08T10:17:08.080218Z"
    },
    "papermill": {
     "duration": 0.075561,
     "end_time": "2024-12-08T10:17:08.083869",
     "exception": false,
     "start_time": "2024-12-08T10:17:08.008308",
     "status": "completed"
    },
    "tags": []
   },
   "outputs": [
    {
     "data": {
      "text/html": [
       "<div>\n",
       "<style scoped>\n",
       "    .dataframe tbody tr th:only-of-type {\n",
       "        vertical-align: middle;\n",
       "    }\n",
       "\n",
       "    .dataframe tbody tr th {\n",
       "        vertical-align: top;\n",
       "    }\n",
       "\n",
       "    .dataframe thead th {\n",
       "        text-align: right;\n",
       "    }\n",
       "</style>\n",
       "<table border=\"1\" class=\"dataframe\">\n",
       "  <thead>\n",
       "    <tr style=\"text-align: right;\">\n",
       "      <th></th>\n",
       "      <th>B_cells</th>\n",
       "      <th>basophils</th>\n",
       "      <th>CD16_pos_monocytes</th>\n",
       "      <th>CD16_pos_CD14_pos_monocytes</th>\n",
       "      <th>CD16_pos_CD14_neg_monocytes</th>\n",
       "      <th>CD16_neg_CD56bright_NK_cells</th>\n",
       "      <th>CD161_pos_NK_cells</th>\n",
       "      <th>CD161_pos_NKT_cells</th>\n",
       "      <th>CD161_pos_CD4_pos_T_cells</th>\n",
       "      <th>CD161_pos_CD45RA_pos_Tregs</th>\n",
       "      <th>...</th>\n",
       "      <th>CD314_neg_CD94_neg_CD8_neg_T_cells</th>\n",
       "      <th>CD33_pos_monocytes</th>\n",
       "      <th>CD8_neg_T_cells</th>\n",
       "      <th>CXCR3_pos_B_cells</th>\n",
       "      <th>CXCR3_pos_CD33_pos_monocytes</th>\n",
       "      <th>CXCR3_pos_NK_cells</th>\n",
       "      <th>CXCR3_pos_CD4_pos_T_cells</th>\n",
       "      <th>CXCR3_pos_CD8_pos_T_cells</th>\n",
       "      <th>CD28_pos_CD4_pos_T_cells</th>\n",
       "      <th>CD314_pos_CD94_pos_CD8_pos_T_cells</th>\n",
       "    </tr>\n",
       "  </thead>\n",
       "  <tbody>\n",
       "    <tr>\n",
       "      <th>0</th>\n",
       "      <td>0.269902</td>\n",
       "      <td>0.365169</td>\n",
       "      <td>0.141951</td>\n",
       "      <td>0.178146</td>\n",
       "      <td>0.009290</td>\n",
       "      <td>0.272890</td>\n",
       "      <td>0.502957</td>\n",
       "      <td>0.283674</td>\n",
       "      <td>0.326539</td>\n",
       "      <td>0.377880</td>\n",
       "      <td>...</td>\n",
       "      <td>0.824627</td>\n",
       "      <td>0.603448</td>\n",
       "      <td>0.679487</td>\n",
       "      <td>0.05500</td>\n",
       "      <td>0.118256</td>\n",
       "      <td>0.169399</td>\n",
       "      <td>0.12945</td>\n",
       "      <td>0.376268</td>\n",
       "      <td>0.929487</td>\n",
       "      <td>0.088286</td>\n",
       "    </tr>\n",
       "    <tr>\n",
       "      <th>1</th>\n",
       "      <td>0.333150</td>\n",
       "      <td>0.241573</td>\n",
       "      <td>0.252683</td>\n",
       "      <td>0.352980</td>\n",
       "      <td>0.038798</td>\n",
       "      <td>0.017953</td>\n",
       "      <td>0.787307</td>\n",
       "      <td>0.550214</td>\n",
       "      <td>0.411995</td>\n",
       "      <td>0.801843</td>\n",
       "      <td>...</td>\n",
       "      <td>0.752488</td>\n",
       "      <td>0.482120</td>\n",
       "      <td>0.585871</td>\n",
       "      <td>0.31174</td>\n",
       "      <td>0.418006</td>\n",
       "      <td>0.358607</td>\n",
       "      <td>0.32794</td>\n",
       "      <td>0.546907</td>\n",
       "      <td>0.711004</td>\n",
       "      <td>0.404931</td>\n",
       "    </tr>\n",
       "    <tr>\n",
       "      <th>2</th>\n",
       "      <td>0.312526</td>\n",
       "      <td>0.243643</td>\n",
       "      <td>0.116098</td>\n",
       "      <td>0.134806</td>\n",
       "      <td>0.173574</td>\n",
       "      <td>0.243126</td>\n",
       "      <td>0.737261</td>\n",
       "      <td>0.503936</td>\n",
       "      <td>0.415915</td>\n",
       "      <td>0.027650</td>\n",
       "      <td>...</td>\n",
       "      <td>0.752488</td>\n",
       "      <td>0.482120</td>\n",
       "      <td>0.585871</td>\n",
       "      <td>0.31174</td>\n",
       "      <td>0.418006</td>\n",
       "      <td>0.358607</td>\n",
       "      <td>0.32794</td>\n",
       "      <td>0.546907</td>\n",
       "      <td>0.711004</td>\n",
       "      <td>0.404931</td>\n",
       "    </tr>\n",
       "    <tr>\n",
       "      <th>3</th>\n",
       "      <td>0.313901</td>\n",
       "      <td>0.106742</td>\n",
       "      <td>0.200000</td>\n",
       "      <td>0.038411</td>\n",
       "      <td>0.196175</td>\n",
       "      <td>0.333932</td>\n",
       "      <td>0.820291</td>\n",
       "      <td>0.653736</td>\n",
       "      <td>0.267346</td>\n",
       "      <td>0.235023</td>\n",
       "      <td>...</td>\n",
       "      <td>0.752488</td>\n",
       "      <td>0.482120</td>\n",
       "      <td>0.585871</td>\n",
       "      <td>0.31174</td>\n",
       "      <td>0.418006</td>\n",
       "      <td>0.358607</td>\n",
       "      <td>0.32794</td>\n",
       "      <td>0.546907</td>\n",
       "      <td>0.711004</td>\n",
       "      <td>0.404931</td>\n",
       "    </tr>\n",
       "    <tr>\n",
       "      <th>4</th>\n",
       "      <td>0.124158</td>\n",
       "      <td>0.039326</td>\n",
       "      <td>0.115122</td>\n",
       "      <td>0.217881</td>\n",
       "      <td>0.009290</td>\n",
       "      <td>0.526032</td>\n",
       "      <td>0.460874</td>\n",
       "      <td>0.480010</td>\n",
       "      <td>0.443356</td>\n",
       "      <td>0.331797</td>\n",
       "      <td>...</td>\n",
       "      <td>0.824627</td>\n",
       "      <td>0.603448</td>\n",
       "      <td>0.679487</td>\n",
       "      <td>0.05500</td>\n",
       "      <td>0.118256</td>\n",
       "      <td>0.169399</td>\n",
       "      <td>0.12945</td>\n",
       "      <td>0.376268</td>\n",
       "      <td>0.929487</td>\n",
       "      <td>0.088286</td>\n",
       "    </tr>\n",
       "    <tr>\n",
       "      <th>...</th>\n",
       "      <td>...</td>\n",
       "      <td>...</td>\n",
       "      <td>...</td>\n",
       "      <td>...</td>\n",
       "      <td>...</td>\n",
       "      <td>...</td>\n",
       "      <td>...</td>\n",
       "      <td>...</td>\n",
       "      <td>...</td>\n",
       "      <td>...</td>\n",
       "      <td>...</td>\n",
       "      <td>...</td>\n",
       "      <td>...</td>\n",
       "      <td>...</td>\n",
       "      <td>...</td>\n",
       "      <td>...</td>\n",
       "      <td>...</td>\n",
       "      <td>...</td>\n",
       "      <td>...</td>\n",
       "      <td>...</td>\n",
       "      <td>...</td>\n",
       "    </tr>\n",
       "    <tr>\n",
       "      <th>207</th>\n",
       "      <td>0.245153</td>\n",
       "      <td>0.243643</td>\n",
       "      <td>0.171707</td>\n",
       "      <td>0.134806</td>\n",
       "      <td>0.173574</td>\n",
       "      <td>0.243126</td>\n",
       "      <td>0.639445</td>\n",
       "      <td>0.503936</td>\n",
       "      <td>0.384555</td>\n",
       "      <td>0.027650</td>\n",
       "      <td>...</td>\n",
       "      <td>0.752488</td>\n",
       "      <td>0.482120</td>\n",
       "      <td>0.585871</td>\n",
       "      <td>0.31174</td>\n",
       "      <td>0.418006</td>\n",
       "      <td>0.358607</td>\n",
       "      <td>0.32794</td>\n",
       "      <td>0.546907</td>\n",
       "      <td>0.711004</td>\n",
       "      <td>0.404931</td>\n",
       "    </tr>\n",
       "    <tr>\n",
       "      <th>208</th>\n",
       "      <td>0.253403</td>\n",
       "      <td>0.101124</td>\n",
       "      <td>0.531707</td>\n",
       "      <td>0.628477</td>\n",
       "      <td>0.172131</td>\n",
       "      <td>0.089767</td>\n",
       "      <td>0.518881</td>\n",
       "      <td>0.387197</td>\n",
       "      <td>0.308898</td>\n",
       "      <td>0.709677</td>\n",
       "      <td>...</td>\n",
       "      <td>0.752488</td>\n",
       "      <td>0.482120</td>\n",
       "      <td>0.585871</td>\n",
       "      <td>0.31174</td>\n",
       "      <td>0.418006</td>\n",
       "      <td>0.358607</td>\n",
       "      <td>0.32794</td>\n",
       "      <td>0.546907</td>\n",
       "      <td>0.711004</td>\n",
       "      <td>0.404931</td>\n",
       "    </tr>\n",
       "    <tr>\n",
       "      <th>209</th>\n",
       "      <td>0.430771</td>\n",
       "      <td>0.000000</td>\n",
       "      <td>0.000488</td>\n",
       "      <td>0.000662</td>\n",
       "      <td>0.000000</td>\n",
       "      <td>0.016158</td>\n",
       "      <td>0.922657</td>\n",
       "      <td>0.840552</td>\n",
       "      <td>0.604077</td>\n",
       "      <td>0.502304</td>\n",
       "      <td>...</td>\n",
       "      <td>0.752488</td>\n",
       "      <td>0.482120</td>\n",
       "      <td>0.585871</td>\n",
       "      <td>0.31174</td>\n",
       "      <td>0.418006</td>\n",
       "      <td>0.358607</td>\n",
       "      <td>0.32794</td>\n",
       "      <td>0.546907</td>\n",
       "      <td>0.711004</td>\n",
       "      <td>0.404931</td>\n",
       "    </tr>\n",
       "    <tr>\n",
       "      <th>210</th>\n",
       "      <td>0.224529</td>\n",
       "      <td>0.257079</td>\n",
       "      <td>0.102439</td>\n",
       "      <td>0.221695</td>\n",
       "      <td>0.095945</td>\n",
       "      <td>0.260934</td>\n",
       "      <td>0.584850</td>\n",
       "      <td>0.439603</td>\n",
       "      <td>0.300274</td>\n",
       "      <td>0.000000</td>\n",
       "      <td>...</td>\n",
       "      <td>0.824627</td>\n",
       "      <td>0.603448</td>\n",
       "      <td>0.679487</td>\n",
       "      <td>0.05500</td>\n",
       "      <td>0.118256</td>\n",
       "      <td>0.169399</td>\n",
       "      <td>0.12945</td>\n",
       "      <td>0.376268</td>\n",
       "      <td>0.929487</td>\n",
       "      <td>0.088286</td>\n",
       "    </tr>\n",
       "    <tr>\n",
       "      <th>211</th>\n",
       "      <td>0.576516</td>\n",
       "      <td>0.095506</td>\n",
       "      <td>0.168293</td>\n",
       "      <td>0.011921</td>\n",
       "      <td>0.185246</td>\n",
       "      <td>0.294434</td>\n",
       "      <td>0.517743</td>\n",
       "      <td>0.621609</td>\n",
       "      <td>0.498236</td>\n",
       "      <td>0.046083</td>\n",
       "      <td>...</td>\n",
       "      <td>0.752488</td>\n",
       "      <td>0.482120</td>\n",
       "      <td>0.585871</td>\n",
       "      <td>0.31174</td>\n",
       "      <td>0.418006</td>\n",
       "      <td>0.358607</td>\n",
       "      <td>0.32794</td>\n",
       "      <td>0.546907</td>\n",
       "      <td>0.711004</td>\n",
       "      <td>0.404931</td>\n",
       "    </tr>\n",
       "  </tbody>\n",
       "</table>\n",
       "<p>212 rows × 411 columns</p>\n",
       "</div>"
      ],
      "text/plain": [
       "      B_cells  basophils  CD16_pos_monocytes  CD16_pos_CD14_pos_monocytes  \\\n",
       "0    0.269902   0.365169            0.141951                     0.178146   \n",
       "1    0.333150   0.241573            0.252683                     0.352980   \n",
       "2    0.312526   0.243643            0.116098                     0.134806   \n",
       "3    0.313901   0.106742            0.200000                     0.038411   \n",
       "4    0.124158   0.039326            0.115122                     0.217881   \n",
       "..        ...        ...                 ...                          ...   \n",
       "207  0.245153   0.243643            0.171707                     0.134806   \n",
       "208  0.253403   0.101124            0.531707                     0.628477   \n",
       "209  0.430771   0.000000            0.000488                     0.000662   \n",
       "210  0.224529   0.257079            0.102439                     0.221695   \n",
       "211  0.576516   0.095506            0.168293                     0.011921   \n",
       "\n",
       "     CD16_pos_CD14_neg_monocytes  CD16_neg_CD56bright_NK_cells  \\\n",
       "0                       0.009290                      0.272890   \n",
       "1                       0.038798                      0.017953   \n",
       "2                       0.173574                      0.243126   \n",
       "3                       0.196175                      0.333932   \n",
       "4                       0.009290                      0.526032   \n",
       "..                           ...                           ...   \n",
       "207                     0.173574                      0.243126   \n",
       "208                     0.172131                      0.089767   \n",
       "209                     0.000000                      0.016158   \n",
       "210                     0.095945                      0.260934   \n",
       "211                     0.185246                      0.294434   \n",
       "\n",
       "     CD161_pos_NK_cells  CD161_pos_NKT_cells  CD161_pos_CD4_pos_T_cells  \\\n",
       "0              0.502957             0.283674                   0.326539   \n",
       "1              0.787307             0.550214                   0.411995   \n",
       "2              0.737261             0.503936                   0.415915   \n",
       "3              0.820291             0.653736                   0.267346   \n",
       "4              0.460874             0.480010                   0.443356   \n",
       "..                  ...                  ...                        ...   \n",
       "207            0.639445             0.503936                   0.384555   \n",
       "208            0.518881             0.387197                   0.308898   \n",
       "209            0.922657             0.840552                   0.604077   \n",
       "210            0.584850             0.439603                   0.300274   \n",
       "211            0.517743             0.621609                   0.498236   \n",
       "\n",
       "     CD161_pos_CD45RA_pos_Tregs  ...  CD314_neg_CD94_neg_CD8_neg_T_cells  \\\n",
       "0                      0.377880  ...                            0.824627   \n",
       "1                      0.801843  ...                            0.752488   \n",
       "2                      0.027650  ...                            0.752488   \n",
       "3                      0.235023  ...                            0.752488   \n",
       "4                      0.331797  ...                            0.824627   \n",
       "..                          ...  ...                                 ...   \n",
       "207                    0.027650  ...                            0.752488   \n",
       "208                    0.709677  ...                            0.752488   \n",
       "209                    0.502304  ...                            0.752488   \n",
       "210                    0.000000  ...                            0.824627   \n",
       "211                    0.046083  ...                            0.752488   \n",
       "\n",
       "     CD33_pos_monocytes  CD8_neg_T_cells  CXCR3_pos_B_cells  \\\n",
       "0              0.603448         0.679487            0.05500   \n",
       "1              0.482120         0.585871            0.31174   \n",
       "2              0.482120         0.585871            0.31174   \n",
       "3              0.482120         0.585871            0.31174   \n",
       "4              0.603448         0.679487            0.05500   \n",
       "..                  ...              ...                ...   \n",
       "207            0.482120         0.585871            0.31174   \n",
       "208            0.482120         0.585871            0.31174   \n",
       "209            0.482120         0.585871            0.31174   \n",
       "210            0.603448         0.679487            0.05500   \n",
       "211            0.482120         0.585871            0.31174   \n",
       "\n",
       "     CXCR3_pos_CD33_pos_monocytes  CXCR3_pos_NK_cells  \\\n",
       "0                        0.118256            0.169399   \n",
       "1                        0.418006            0.358607   \n",
       "2                        0.418006            0.358607   \n",
       "3                        0.418006            0.358607   \n",
       "4                        0.118256            0.169399   \n",
       "..                            ...                 ...   \n",
       "207                      0.418006            0.358607   \n",
       "208                      0.418006            0.358607   \n",
       "209                      0.418006            0.358607   \n",
       "210                      0.118256            0.169399   \n",
       "211                      0.418006            0.358607   \n",
       "\n",
       "     CXCR3_pos_CD4_pos_T_cells  CXCR3_pos_CD8_pos_T_cells  \\\n",
       "0                      0.12945                   0.376268   \n",
       "1                      0.32794                   0.546907   \n",
       "2                      0.32794                   0.546907   \n",
       "3                      0.32794                   0.546907   \n",
       "4                      0.12945                   0.376268   \n",
       "..                         ...                        ...   \n",
       "207                    0.32794                   0.546907   \n",
       "208                    0.32794                   0.546907   \n",
       "209                    0.32794                   0.546907   \n",
       "210                    0.12945                   0.376268   \n",
       "211                    0.32794                   0.546907   \n",
       "\n",
       "     CD28_pos_CD4_pos_T_cells  CD314_pos_CD94_pos_CD8_pos_T_cells  \n",
       "0                    0.929487                            0.088286  \n",
       "1                    0.711004                            0.404931  \n",
       "2                    0.711004                            0.404931  \n",
       "3                    0.711004                            0.404931  \n",
       "4                    0.929487                            0.088286  \n",
       "..                        ...                                 ...  \n",
       "207                  0.711004                            0.404931  \n",
       "208                  0.711004                            0.404931  \n",
       "209                  0.711004                            0.404931  \n",
       "210                  0.929487                            0.088286  \n",
       "211                  0.711004                            0.404931  \n",
       "\n",
       "[212 rows x 411 columns]"
      ]
     },
     "execution_count": 17,
     "metadata": {},
     "output_type": "execute_result"
    }
   ],
   "source": [
    "scaler_minmax.fit(X_train)\n",
    "X_train_minmax = pd.DataFrame(scaler_minmax.transform(X_train), columns = X_train.columns)\n",
    "X_train_minmax"
   ]
  },
  {
   "cell_type": "code",
   "execution_count": 18,
   "id": "52385c29",
   "metadata": {
    "execution": {
     "iopub.execute_input": "2024-12-08T10:17:08.127639Z",
     "iopub.status.busy": "2024-12-08T10:17:08.127271Z",
     "iopub.status.idle": "2024-12-08T10:17:08.507334Z",
     "shell.execute_reply": "2024-12-08T10:17:08.506155Z"
    },
    "papermill": {
     "duration": 0.405287,
     "end_time": "2024-12-08T10:17:08.510318",
     "exception": false,
     "start_time": "2024-12-08T10:17:08.105031",
     "status": "completed"
    },
    "tags": []
   },
   "outputs": [
    {
     "data": {
      "image/png": "[encoded data removed]",
      "text/plain": [
       "<Figure size 1800x600 with 1 Axes>"
      ]
     },
     "metadata": {},
     "output_type": "display_data"
    }
   ],
   "source": [
    "plt.figure(figsize=(18,6))\n",
    "X_train_minmax.sample(10, axis=\"columns\").boxplot()\n",
    "plt.xticks(rotation=90)\n",
    "plt.show()"
   ]
  },
  {
   "cell_type": "markdown",
   "id": "3fa18648",
   "metadata": {
    "papermill": {
     "duration": 0.022446,
     "end_time": "2024-12-08T10:17:08.554450",
     "exception": false,
     "start_time": "2024-12-08T10:17:08.532004",
     "status": "completed"
    },
    "tags": []
   },
   "source": [
    "After this we see that the minmax scaling is less good for our dataset. Hereby we use the data with the Standardscaler()"
   ]
  },
  {
   "cell_type": "markdown",
   "id": "98e49b8d",
   "metadata": {
    "papermill": {
     "duration": 0.022301,
     "end_time": "2024-12-08T10:17:08.598750",
     "exception": false,
     "start_time": "2024-12-08T10:17:08.576449",
     "status": "completed"
    },
    "tags": []
   },
   "source": [
    "## Model Training 1: logistic regression"
   ]
  },
  {
   "cell_type": "markdown",
   "id": "2e3874d2",
   "metadata": {
    "papermill": {
     "duration": 0.021977,
     "end_time": "2024-12-08T10:17:08.644860",
     "exception": false,
     "start_time": "2024-12-08T10:17:08.622883",
     "status": "completed"
    },
    "tags": []
   },
   "source": [
    "### Fit a logistic regression model"
   ]
  },
  {
   "cell_type": "code",
   "execution_count": 19,
   "id": "3293d2ce",
   "metadata": {
    "execution": {
     "iopub.execute_input": "2024-12-08T10:17:08.692141Z",
     "iopub.status.busy": "2024-12-08T10:17:08.691698Z",
     "iopub.status.idle": "2024-12-08T10:17:08.812933Z",
     "shell.execute_reply": "2024-12-08T10:17:08.812029Z"
    },
    "papermill": {
     "duration": 0.147899,
     "end_time": "2024-12-08T10:17:08.815586",
     "exception": false,
     "start_time": "2024-12-08T10:17:08.667687",
     "status": "completed"
    },
    "tags": []
   },
   "outputs": [],
   "source": [
    "from sklearn.linear_model import LogisticRegression\n",
    "cls_std = LogisticRegression()"
   ]
  },
  {
   "cell_type": "markdown",
   "id": "cb0eee45",
   "metadata": {
    "papermill": {
     "duration": 0.021531,
     "end_time": "2024-12-08T10:17:08.859439",
     "exception": false,
     "start_time": "2024-12-08T10:17:08.837908",
     "status": "completed"
    },
    "tags": []
   },
   "source": [
    "Train the model on the normalized train data"
   ]
  },
  {
   "cell_type": "code",
   "execution_count": 20,
   "id": "b61c26e1",
   "metadata": {
    "execution": {
     "iopub.execute_input": "2024-12-08T10:17:08.906277Z",
     "iopub.status.busy": "2024-12-08T10:17:08.905850Z",
     "iopub.status.idle": "2024-12-08T10:17:08.966577Z",
     "shell.execute_reply": "2024-12-08T10:17:08.963852Z"
    },
    "papermill": {
     "duration": 0.088877,
     "end_time": "2024-12-08T10:17:08.970714",
     "exception": false,
     "start_time": "2024-12-08T10:17:08.881837",
     "status": "completed"
    },
    "tags": []
   },
   "outputs": [
    {
     "data": {
      "text/html": [
       "<style>#sk-container-id-1 {color: black;background-color: white;}#sk-container-id-1 pre{padding: 0;}#sk-container-id-1 div.sk-toggleable {background-color: white;}#sk-container-id-1 label.sk-toggleable__label {cursor: pointer;display: block;width: 100%;margin-bottom: 0;padding: 0.3em;box-sizing: border-box;text-align: center;}#sk-container-id-1 label.sk-toggleable__label-arrow:before {content: \"▸\";float: left;margin-right: 0.25em;color: #696969;}#sk-container-id-1 label.sk-toggleable__label-arrow:hover:before {color: black;}#sk-container-id-1 div.sk-estimator:hover label.sk-toggleable__label-arrow:before {color: black;}#sk-container-id-1 div.sk-toggleable__content {max-height: 0;max-width: 0;overflow: hidden;text-align: left;background-color: #f0f8ff;}#sk-container-id-1 div.sk-toggleable__content pre {margin: 0.2em;color: black;border-radius: 0.25em;background-color: #f0f8ff;}#sk-container-id-1 input.sk-toggleable__control:checked~div.sk-toggleable__content {max-height: 200px;max-width: 100%;overflow: auto;}#sk-container-id-1 input.sk-toggleable__control:checked~label.sk-toggleable__label-arrow:before {content: \"▾\";}#sk-container-id-1 div.sk-estimator input.sk-toggleable__control:checked~label.sk-toggleable__label {background-color: #d4ebff;}#sk-container-id-1 div.sk-label input.sk-toggleable__control:checked~label.sk-toggleable__label {background-color: #d4ebff;}#sk-container-id-1 input.sk-hidden--visually {border: 0;clip: rect(1px 1px 1px 1px);clip: rect(1px, 1px, 1px, 1px);height: 1px;margin: -1px;overflow: hidden;padding: 0;position: absolute;width: 1px;}#sk-container-id-1 div.sk-estimator {font-family: monospace;background-color: #f0f8ff;border: 1px dotted black;border-radius: 0.25em;box-sizing: border-box;margin-bottom: 0.5em;}#sk-container-id-1 div.sk-estimator:hover {background-color: #d4ebff;}#sk-container-id-1 div.sk-parallel-item::after {content: \"\";width: 100%;border-bottom: 1px solid gray;flex-grow: 1;}#sk-container-id-1 div.sk-label:hover label.sk-toggleable__label {background-color: #d4ebff;}#sk-container-id-1 div.sk-serial::before {content: \"\";position: absolute;border-left: 1px solid gray;box-sizing: border-box;top: 0;bottom: 0;left: 50%;z-index: 0;}#sk-container-id-1 div.sk-serial {display: flex;flex-direction: column;align-items: center;background-color: white;padding-right: 0.2em;padding-left: 0.2em;position: relative;}#sk-container-id-1 div.sk-item {position: relative;z-index: 1;}#sk-container-id-1 div.sk-parallel {display: flex;align-items: stretch;justify-content: center;background-color: white;position: relative;}#sk-container-id-1 div.sk-item::before, #sk-container-id-1 div.sk-parallel-item::before {content: \"\";position: absolute;border-left: 1px solid gray;box-sizing: border-box;top: 0;bottom: 0;left: 50%;z-index: -1;}#sk-container-id-1 div.sk-parallel-item {display: flex;flex-direction: column;z-index: 1;position: relative;background-color: white;}#sk-container-id-1 div.sk-parallel-item:first-child::after {align-self: flex-end;width: 50%;}#sk-container-id-1 div.sk-parallel-item:last-child::after {align-self: flex-start;width: 50%;}#sk-container-id-1 div.sk-parallel-item:only-child::after {width: 0;}#sk-container-id-1 div.sk-dashed-wrapped {border: 1px dashed gray;margin: 0 0.4em 0.5em 0.4em;box-sizing: border-box;padding-bottom: 0.4em;background-color: white;}#sk-container-id-1 div.sk-label label {font-family: monospace;font-weight: bold;display: inline-block;line-height: 1.2em;}#sk-container-id-1 div.sk-label-container {text-align: center;}#sk-container-id-1 div.sk-container {/* jupyter's `normalize.less` sets `[hidden] { display: none; }` but bootstrap.min.css set `[hidden] { display: none !important; }` so we also need the `!important` here to be able to override the default hidden behavior on the sphinx rendered scikit-learn.org. See: https://github.com/scikit-learn/scikit-learn/issues/21755 */display: inline-block !important;position: relative;}#sk-container-id-1 div.sk-text-repr-fallback {display: none;}</style><div id=\"sk-container-id-1\" class=\"sk-top-container\"><div class=\"sk-text-repr-fallback\"><pre>LogisticRegression()</pre><b>In a Jupyter environment, please rerun this cell to show the HTML representation or trust the notebook. <br />On GitHub, the HTML representation is unable to render, please try loading this page with nbviewer.org.</b></div><div class=\"sk-container\" hidden><div class=\"sk-item\"><div class=\"sk-estimator sk-toggleable\"><input class=\"sk-toggleable__control sk-hidden--visually\" id=\"sk-estimator-id-1\" type=\"checkbox\" checked><label for=\"sk-estimator-id-1\" class=\"sk-toggleable__label sk-toggleable__label-arrow\">LogisticRegression</label><div class=\"sk-toggleable__content\"><pre>LogisticRegression()</pre></div></div></div></div></div>"
      ],
      "text/plain": [
       "LogisticRegression()"
      ]
     },
     "execution_count": 20,
     "metadata": {},
     "output_type": "execute_result"
    }
   ],
   "source": [
    "cls_std.fit(X_train_std, y_train)"
   ]
  },
  {
   "cell_type": "markdown",
   "id": "d84fcfe6",
   "metadata": {
    "papermill": {
     "duration": 0.050323,
     "end_time": "2024-12-08T10:17:09.083710",
     "exception": false,
     "start_time": "2024-12-08T10:17:09.033387",
     "status": "completed"
    },
    "tags": []
   },
   "source": [
    "The fitted modelparameters"
   ]
  },
  {
   "cell_type": "code",
   "execution_count": 21,
   "id": "280abf18",
   "metadata": {
    "execution": {
     "iopub.execute_input": "2024-12-08T10:17:09.132168Z",
     "iopub.status.busy": "2024-12-08T10:17:09.131186Z",
     "iopub.status.idle": "2024-12-08T10:17:09.141969Z",
     "shell.execute_reply": "2024-12-08T10:17:09.140854Z"
    },
    "papermill": {
     "duration": 0.036643,
     "end_time": "2024-12-08T10:17:09.143921",
     "exception": false,
     "start_time": "2024-12-08T10:17:09.107278",
     "status": "completed"
    },
    "tags": []
   },
   "outputs": [
    {
     "data": {
      "text/plain": [
       "array([-4.78525088e-03,  1.25201911e-03,  1.32317728e-02,  2.80340577e-02,\n",
       "        3.54104463e-04,  5.75562185e-03,  4.16669402e-03, -2.17752543e-02,\n",
       "        5.18447621e-03,  1.47303250e-02,  1.26484744e-02,  6.05261490e-03,\n",
       "       -3.41514313e-03, -1.04952359e-02,  4.72903749e-03, -1.62636090e-03,\n",
       "       -7.78666286e-03, -6.52875360e-03,  6.58211809e-03,  1.34437304e-03,\n",
       "        5.20855135e-03,  4.39933701e-03,  1.62997997e-02,  9.56012647e-03,\n",
       "       -1.09210815e-02,  6.50055057e-03,  9.18053210e-03,  6.10542982e-03,\n",
       "        9.24477135e-03, -2.27866856e-04, -2.40453145e-03,  6.44688349e-03,\n",
       "        1.04640579e-02, -4.27097090e-03,  7.78142853e-03, -4.91513830e-03,\n",
       "       -2.29661894e-03,  1.28462695e-02,  1.29910421e-03, -9.55566622e-03,\n",
       "       -6.95001749e-03,  4.40017027e-03,  9.91865813e-03, -2.59946864e-02,\n",
       "        5.87279272e-03, -2.94097601e-04,  1.07970531e-02,  1.69364312e-02,\n",
       "        5.12474749e-05,  7.57556772e-03, -8.30951889e-04, -7.53225979e-03,\n",
       "       -6.43089742e-03,  3.52713684e-03,  4.31428549e-03, -6.44088239e-03,\n",
       "       -5.26801151e-03, -3.44492846e-03,  1.62716064e-03, -8.44743343e-04,\n",
       "       -2.64675694e-02,  1.60607682e-02,  2.79709918e-03, -2.27473341e-02,\n",
       "       -3.57433768e-03, -4.18341150e-02, -3.19173032e-02,  1.59000438e-03,\n",
       "       -1.28933047e-02,  3.96096644e-03,  2.30419817e-02,  9.75520785e-03,\n",
       "        2.56518787e-02,  2.98563115e-03, -9.72589383e-03,  6.20460259e-02,\n",
       "       -3.94497757e-02, -4.32719457e-02, -4.13418348e-02, -3.90016969e-02,\n",
       "       -4.76885415e-02, -6.11059668e-02, -4.95418214e-02, -4.03539819e-02,\n",
       "       -4.15724568e-02, -4.21958121e-02, -4.10297897e-02, -3.82147907e-02,\n",
       "       -4.81849309e-02, -4.74874296e-02, -3.63103661e-02, -3.35220219e-02,\n",
       "       -5.89554299e-02, -4.65560846e-02, -5.81043653e-02, -3.56535599e-02,\n",
       "       -1.86725532e-02, -4.10729069e-02, -3.13197898e-02, -5.55154724e-02,\n",
       "       -2.62864418e-02, -2.57867953e-02, -2.64469512e-02,  1.23481072e-02,\n",
       "        2.67058077e-03, -2.81650111e-02,  5.25910747e-03, -2.61753502e-02,\n",
       "       -3.36900878e-02, -4.07122391e-03, -2.99484595e-02, -1.57510545e-02,\n",
       "       -6.48821410e-02, -7.45057308e-02, -7.38197785e-02, -2.64089135e-02,\n",
       "       -2.19981937e-02, -1.25227020e-02, -1.01601310e-02, -3.21426197e-02,\n",
       "       -6.69973547e-03,  3.24094376e-03,  7.87593010e-02, -2.09946082e-02,\n",
       "        5.35767573e-02,  3.84849087e-02,  3.22487680e-02,  8.22502212e-02,\n",
       "        4.74933966e-02,  1.43804168e-02,  6.46559851e-02, -1.11276296e-02,\n",
       "        3.67917792e-03, -2.68872656e-02,  1.30624163e-02, -1.94104169e-02,\n",
       "       -2.54833327e-02,  7.17117150e-02, -3.75033656e-02,  1.20716846e-02,\n",
       "        4.90548317e-02,  4.59485533e-02,  4.88969943e-02,  4.66603660e-02,\n",
       "        4.80581518e-02,  4.85255776e-02,  4.86141942e-02,  4.99013257e-02,\n",
       "       -3.37203744e-02, -3.14318487e-02, -3.12395444e-02, -5.23366602e-02,\n",
       "       -1.48943968e-02, -4.38981095e-02, -2.21868924e-02, -4.21526689e-02,\n",
       "       -3.67896460e-03,  1.64061337e-03,  3.01410003e-02,  3.00734083e-02,\n",
       "        4.32042907e-02, -1.14715926e-02,  6.09026387e-02, -2.53571686e-03,\n",
       "       -3.83119297e-02, -3.10846265e-02, -3.17356987e-02, -3.37106496e-02,\n",
       "       -2.97198868e-02, -1.84752024e-02, -2.35331881e-02, -1.83020949e-02,\n",
       "       -5.52909684e-02, -5.22865792e-02, -5.52334537e-02, -5.00224650e-02,\n",
       "       -5.40770526e-02, -5.68612595e-02, -5.34955475e-02, -5.61385657e-02,\n",
       "       -4.24347488e-02, -4.36420518e-02, -4.20300524e-02, -4.10921708e-02,\n",
       "       -4.23007411e-02, -3.81039238e-02, -4.43071467e-02, -4.36460886e-02,\n",
       "       -3.79119655e-02, -3.82610137e-02, -3.70480241e-02, -3.51245008e-02,\n",
       "       -3.70889573e-02, -3.92014038e-02, -3.73539809e-02, -3.84385241e-02,\n",
       "        4.79308150e-02,  4.97756414e-02,  4.59706000e-02,  4.99684312e-02,\n",
       "        5.05213330e-02,  4.46262313e-02,  4.31029240e-02,  4.35277748e-02,\n",
       "        2.80329734e-02,  3.32988382e-02,  3.39598990e-02,  3.36773008e-02,\n",
       "        3.13340118e-02,  3.73122354e-02,  3.23369704e-02,  3.51606454e-02,\n",
       "       -4.07637659e-02, -2.85434646e-02, -3.20645341e-02, -2.69278782e-02,\n",
       "       -3.82377401e-02, -2.25804303e-02, -2.61934852e-02, -3.50313095e-02,\n",
       "       -2.82412034e-02, -2.26849150e-02, -2.06245559e-02, -1.90893166e-02,\n",
       "       -2.10592505e-02, -2.16136791e-02, -2.47060535e-02, -1.98101857e-02,\n",
       "       -2.17075187e-02, -2.33921844e-02, -1.87359167e-02, -2.44400721e-02,\n",
       "       -2.94907578e-02, -2.10585676e-02, -2.62656489e-02, -2.61636999e-02,\n",
       "       -2.06915035e-02, -2.14279146e-02, -2.29161503e-02,  5.18228775e-02,\n",
       "        6.04382642e-02, -2.40435142e-02,  6.73044780e-02, -1.93426672e-02,\n",
       "        1.57702950e-01, -2.68199791e-05, -4.21680702e-02, -1.50156673e-02,\n",
       "        6.78353895e-02, -7.64535606e-02,  2.99047574e-02, -5.35586366e-02,\n",
       "       -2.81650220e-02, -2.55388583e-02, -5.09327051e-02, -7.14711779e-02,\n",
       "        1.62810792e-02, -3.72750393e-02, -3.05877565e-02, -2.70427034e-02,\n",
       "       -4.90684034e-02, -2.26913339e-02, -6.12596289e-03, -2.35104775e-02,\n",
       "       -6.24201440e-02, -2.08085530e-02,  5.49882512e-02, -2.09592691e-02,\n",
       "       -5.14591595e-02, -2.46048726e-02, -2.46592418e-04,  4.28609786e-02,\n",
       "        3.65136792e-02,  4.28861499e-02, -8.32486278e-02,  3.00129440e-02,\n",
       "       -1.57548922e-02, -3.09767939e-02, -1.39116489e-02, -3.23264680e-02,\n",
       "       -2.79966433e-02, -2.27077803e-02, -2.75460298e-02, -2.48868785e-02,\n",
       "       -2.50428899e-02, -2.72977766e-02, -2.63089828e-02,  6.39760968e-02,\n",
       "        3.85220405e-02, -2.46092313e-02,  5.47387217e-02, -2.34863956e-02,\n",
       "       -4.01992211e-02, -3.74573507e-02, -3.49223662e-02, -3.14901296e-02,\n",
       "       -4.43028143e-02, -3.91916894e-02, -2.78374020e-02, -4.01907526e-02,\n",
       "       -9.99344822e-03,  1.21459744e-02,  1.13651363e-03,  3.74656819e-02,\n",
       "        4.12036303e-02,  4.46014688e-03,  4.50119475e-02, -5.55626223e-03,\n",
       "        3.17269301e-02,  3.04753734e-02,  3.13925249e-02,  2.95892015e-02,\n",
       "        3.16457000e-02,  2.89835159e-02,  3.27752138e-02,  3.16287371e-02,\n",
       "        1.93399962e-02,  1.76876268e-02,  1.76994183e-02, -7.66576593e-03,\n",
       "       -2.85168251e-03,  1.67761608e-02, -5.90808442e-03,  1.67672409e-02,\n",
       "       -9.67361359e-03, -1.20559970e-02, -3.71908179e-03,  9.87063119e-03,\n",
       "        8.94320020e-03, -6.08023663e-03,  2.20300374e-02, -7.53790821e-03,\n",
       "       -2.72612902e-02, -2.73745424e-02, -2.65947498e-02, -3.14732302e-02,\n",
       "       -1.75213195e-02, -2.70063752e-02, -3.44819093e-02, -2.74427147e-02,\n",
       "       -2.66467171e-02, -2.77030274e-02, -2.77410205e-02, -2.34642294e-02,\n",
       "       -2.97105404e-02, -2.88758975e-02, -1.94524911e-02, -2.73561124e-02,\n",
       "       -3.40457727e-02, -3.18751123e-02, -3.83421468e-02, -2.76632845e-02,\n",
       "       -3.82430107e-02, -3.63386864e-02, -4.41319629e-02, -3.18555396e-02,\n",
       "       -2.86115915e-02, -3.65015927e-02, -3.07493871e-02, -3.67815419e-02,\n",
       "       -4.29592714e-02, -2.94992198e-02, -1.12203510e-02, -3.01802004e-02,\n",
       "        2.20328832e-02,  2.12917930e-02,  3.96481042e-02,  1.91895146e-02,\n",
       "        3.54748645e-02,  3.73134008e-02,  3.73142672e-02,  2.72721174e-02,\n",
       "       -2.96908980e-02, -2.96410492e-02, -2.75329623e-02, -3.54699424e-02,\n",
       "       -4.35240376e-02, -3.16173893e-02, -3.12418945e-02, -3.21478135e-02,\n",
       "       -2.75432433e-02, -2.74233000e-02, -2.72793145e-02, -3.64671101e-02,\n",
       "        3.14883092e-02, -2.75021067e-02, -3.46789855e-02, -2.74628112e-02,\n",
       "       -6.95009313e-02, -4.47137954e-02,  2.74910251e-02, -5.32821387e-02,\n",
       "       -4.03491398e-02,  4.55770459e-02,  6.28506179e-02, -3.55859502e-02,\n",
       "        1.10315234e-02, -6.00566310e-02, -5.39814903e-02,  6.54296748e-02,\n",
       "       -3.07073755e-02,  3.96825506e-02,  5.48910095e-02,  4.38400708e-02,\n",
       "       -7.79943327e-02, -7.52502615e-02, -6.90846780e-02, -7.59585704e-02,\n",
       "       -6.61418455e-02,  6.81237127e-02, -7.66843756e-02])"
      ]
     },
     "execution_count": 21,
     "metadata": {},
     "output_type": "execute_result"
    }
   ],
   "source": [
    "cls_std.coef_[0]"
   ]
  },
  {
   "cell_type": "markdown",
   "id": "2ca8b059",
   "metadata": {
    "papermill": {
     "duration": 0.022836,
     "end_time": "2024-12-08T10:17:09.189354",
     "exception": false,
     "start_time": "2024-12-08T10:17:09.166518",
     "status": "completed"
    },
    "tags": []
   },
   "source": [
    "Predictions for the datapoints in the test set (X_test_std)"
   ]
  },
  {
   "cell_type": "code",
   "execution_count": 22,
   "id": "57e92040",
   "metadata": {
    "execution": {
     "iopub.execute_input": "2024-12-08T10:17:09.238558Z",
     "iopub.status.busy": "2024-12-08T10:17:09.238171Z",
     "iopub.status.idle": "2024-12-08T10:17:09.255986Z",
     "shell.execute_reply": "2024-12-08T10:17:09.254296Z"
    },
    "papermill": {
     "duration": 0.047506,
     "end_time": "2024-12-08T10:17:09.260527",
     "exception": false,
     "start_time": "2024-12-08T10:17:09.213021",
     "status": "completed"
    },
    "tags": []
   },
   "outputs": [
    {
     "data": {
      "text/plain": [
       "array([0, 0, 1, 0, 0, 0, 0, 0, 0, 0, 0, 0, 0, 1, 1, 0, 0, 0, 0, 1, 0, 0,\n",
       "       0, 1, 1, 1, 0, 0, 0, 0, 0, 0, 1, 0, 0, 0, 0, 0, 0, 0, 1, 1, 0, 1,\n",
       "       0, 1, 0, 0, 0, 0, 1, 0, 0, 0, 0, 1, 0, 1, 0, 0, 0, 1, 1, 1, 0, 0,\n",
       "       1, 1, 0, 0, 1, 0, 0, 0, 0, 0, 0, 1, 1, 0, 0, 0, 1, 0, 1, 0, 0, 0,\n",
       "       1, 0, 1, 0])"
      ]
     },
     "execution_count": 22,
     "metadata": {},
     "output_type": "execute_result"
    }
   ],
   "source": [
    "predictions_std = cls_std.predict(X_test_std)\n",
    "predictions_std"
   ]
  },
  {
   "cell_type": "markdown",
   "id": "0acc9706",
   "metadata": {
    "papermill": {
     "duration": 0.049413,
     "end_time": "2024-12-08T10:17:09.377186",
     "exception": false,
     "start_time": "2024-12-08T10:17:09.327773",
     "status": "completed"
    },
    "tags": []
   },
   "source": [
    "0 represents no vaccine respons and 1 represents vaccine respons.\n",
    "Here showing the predicted class label for each row in the X_test_std (normalized test set)."
   ]
  },
  {
   "cell_type": "markdown",
   "id": "24479738",
   "metadata": {
    "papermill": {
     "duration": 0.02258,
     "end_time": "2024-12-08T10:17:09.423204",
     "exception": false,
     "start_time": "2024-12-08T10:17:09.400624",
     "status": "completed"
    },
    "tags": []
   },
   "source": [
    "Now looking at the class probabilities in stead of classes. (Using the predict_proba() function."
   ]
  },
  {
   "cell_type": "code",
   "execution_count": 23,
   "id": "edce1285",
   "metadata": {
    "execution": {
     "iopub.execute_input": "2024-12-08T10:17:09.470641Z",
     "iopub.status.busy": "2024-12-08T10:17:09.470217Z",
     "iopub.status.idle": "2024-12-08T10:17:09.489614Z",
     "shell.execute_reply": "2024-12-08T10:17:09.488204Z"
    },
    "papermill": {
     "duration": 0.050636,
     "end_time": "2024-12-08T10:17:09.496831",
     "exception": false,
     "start_time": "2024-12-08T10:17:09.446195",
     "status": "completed"
    },
    "tags": []
   },
   "outputs": [
    {
     "data": {
      "text/plain": [
       "array([[9.99867504e-01, 1.32495593e-04],\n",
       "       [9.99965919e-01, 3.40809563e-05],\n",
       "       [4.99303299e-04, 9.99500697e-01],\n",
       "       [9.99947564e-01, 5.24355802e-05],\n",
       "       [9.99927238e-01, 7.27620300e-05],\n",
       "       [9.99916862e-01, 8.31378471e-05],\n",
       "       [9.89603347e-01, 1.03966535e-02],\n",
       "       [9.99924764e-01, 7.52356207e-05],\n",
       "       [9.99931895e-01, 6.81054845e-05],\n",
       "       [9.99918969e-01, 8.10306790e-05]])"
      ]
     },
     "execution_count": 23,
     "metadata": {},
     "output_type": "execute_result"
    }
   ],
   "source": [
    "predictions_std = cls_std.predict_proba(X_test_std)\n",
    "predictions_std[:10]"
   ]
  },
  {
   "cell_type": "markdown",
   "id": "c60c57d9",
   "metadata": {
    "papermill": {
     "duration": 0.04854,
     "end_time": "2024-12-08T10:17:09.611756",
     "exception": false,
     "start_time": "2024-12-08T10:17:09.563216",
     "status": "completed"
    },
    "tags": []
   },
   "source": [
    "These are the probability that the datapoint belongs to class 0 (first number) and class 1 (second number) respectively. "
   ]
  },
  {
   "cell_type": "markdown",
   "id": "857d24dc",
   "metadata": {
    "papermill": {
     "duration": 0.023118,
     "end_time": "2024-12-08T10:17:09.659566",
     "exception": false,
     "start_time": "2024-12-08T10:17:09.636448",
     "status": "completed"
    },
    "tags": []
   },
   "source": [
    "What is the accuracy of the predictions?"
   ]
  },
  {
   "cell_type": "code",
   "execution_count": 24,
   "id": "92216d6e",
   "metadata": {
    "execution": {
     "iopub.execute_input": "2024-12-08T10:17:09.708171Z",
     "iopub.status.busy": "2024-12-08T10:17:09.707783Z",
     "iopub.status.idle": "2024-12-08T10:17:09.725849Z",
     "shell.execute_reply": "2024-12-08T10:17:09.722268Z"
    },
    "papermill": {
     "duration": 0.05053,
     "end_time": "2024-12-08T10:17:09.733268",
     "exception": false,
     "start_time": "2024-12-08T10:17:09.682738",
     "status": "completed"
    },
    "tags": []
   },
   "outputs": [
    {
     "name": "stdout",
     "output_type": "stream",
     "text": [
      "Accuracy: 1.0\n"
     ]
    }
   ],
   "source": [
    "print(\"Accuracy: {}\".format(cls_std.score(X_test_std,y_test)))"
   ]
  },
  {
   "cell_type": "markdown",
   "id": "27520afb",
   "metadata": {
    "papermill": {
     "duration": 0.048982,
     "end_time": "2024-12-08T10:17:09.848959",
     "exception": false,
     "start_time": "2024-12-08T10:17:09.799977",
     "status": "completed"
    },
    "tags": []
   },
   "source": [
    "The accuracy of 1.0 can be due to that the dataset contains a class imbalance, becausethere are more non-responders then responders int the dataset. Eventhough we used a stratified splitting this cannot be rules out."
   ]
  },
  {
   "cell_type": "code",
   "execution_count": 25,
   "id": "bc2a9f2f",
   "metadata": {
    "execution": {
     "iopub.execute_input": "2024-12-08T10:17:09.898115Z",
     "iopub.status.busy": "2024-12-08T10:17:09.897687Z",
     "iopub.status.idle": "2024-12-08T10:17:09.912563Z",
     "shell.execute_reply": "2024-12-08T10:17:09.910346Z"
    },
    "papermill": {
     "duration": 0.044044,
     "end_time": "2024-12-08T10:17:09.916986",
     "exception": false,
     "start_time": "2024-12-08T10:17:09.872942",
     "status": "completed"
    },
    "tags": []
   },
   "outputs": [
    {
     "name": "stdout",
     "output_type": "stream",
     "text": [
      "Accuracy: 0.717391304347826\n"
     ]
    }
   ],
   "source": [
    "print(\"Accuracy: {}\".format(cls_std.score(X_test,y_test)))"
   ]
  },
  {
   "cell_type": "markdown",
   "id": "a111176f",
   "metadata": {
    "papermill": {
     "duration": 0.051745,
     "end_time": "2024-12-08T10:17:10.036227",
     "exception": false,
     "start_time": "2024-12-08T10:17:09.984482",
     "status": "completed"
    },
    "tags": []
   },
   "source": [
    "We can see that the normalization of the data had a good effect, because the accurary improved quite a lot."
   ]
  },
  {
   "cell_type": "markdown",
   "id": "50729122",
   "metadata": {
    "papermill": {
     "duration": 0.024363,
     "end_time": "2024-12-08T10:17:10.084893",
     "exception": false,
     "start_time": "2024-12-08T10:17:10.060530",
     "status": "completed"
    },
    "tags": []
   },
   "source": [
    "### Modelparameters and celtype importance"
   ]
  },
  {
   "cell_type": "code",
   "execution_count": 26,
   "id": "a562c5f8",
   "metadata": {
    "execution": {
     "iopub.execute_input": "2024-12-08T10:17:10.136896Z",
     "iopub.status.busy": "2024-12-08T10:17:10.136522Z",
     "iopub.status.idle": "2024-12-08T10:17:10.150989Z",
     "shell.execute_reply": "2024-12-08T10:17:10.150002Z"
    },
    "papermill": {
     "duration": 0.044858,
     "end_time": "2024-12-08T10:17:10.153260",
     "exception": false,
     "start_time": "2024-12-08T10:17:10.108402",
     "status": "completed"
    },
    "tags": []
   },
   "outputs": [
    {
     "data": {
      "text/html": [
       "<div>\n",
       "<style scoped>\n",
       "    .dataframe tbody tr th:only-of-type {\n",
       "        vertical-align: middle;\n",
       "    }\n",
       "\n",
       "    .dataframe tbody tr th {\n",
       "        vertical-align: top;\n",
       "    }\n",
       "\n",
       "    .dataframe thead th {\n",
       "        text-align: right;\n",
       "    }\n",
       "</style>\n",
       "<table border=\"1\" class=\"dataframe\">\n",
       "  <thead>\n",
       "    <tr style=\"text-align: right;\">\n",
       "      <th></th>\n",
       "      <th>attribute</th>\n",
       "      <th>parameter_value</th>\n",
       "    </tr>\n",
       "  </thead>\n",
       "  <tbody>\n",
       "    <tr>\n",
       "      <th>0</th>\n",
       "      <td>B_cells</td>\n",
       "      <td>-0.004785</td>\n",
       "    </tr>\n",
       "    <tr>\n",
       "      <th>1</th>\n",
       "      <td>basophils</td>\n",
       "      <td>0.001252</td>\n",
       "    </tr>\n",
       "    <tr>\n",
       "      <th>2</th>\n",
       "      <td>CD16_pos_monocytes</td>\n",
       "      <td>0.013232</td>\n",
       "    </tr>\n",
       "    <tr>\n",
       "      <th>3</th>\n",
       "      <td>CD16_pos_CD14_pos_monocytes</td>\n",
       "      <td>0.028034</td>\n",
       "    </tr>\n",
       "    <tr>\n",
       "      <th>4</th>\n",
       "      <td>CD16_pos_CD14_neg_monocytes</td>\n",
       "      <td>0.000354</td>\n",
       "    </tr>\n",
       "    <tr>\n",
       "      <th>...</th>\n",
       "      <td>...</td>\n",
       "      <td>...</td>\n",
       "    </tr>\n",
       "    <tr>\n",
       "      <th>406</th>\n",
       "      <td>CXCR3_pos_NK_cells</td>\n",
       "      <td>-0.069085</td>\n",
       "    </tr>\n",
       "    <tr>\n",
       "      <th>407</th>\n",
       "      <td>CXCR3_pos_CD4_pos_T_cells</td>\n",
       "      <td>-0.075959</td>\n",
       "    </tr>\n",
       "    <tr>\n",
       "      <th>408</th>\n",
       "      <td>CXCR3_pos_CD8_pos_T_cells</td>\n",
       "      <td>-0.066142</td>\n",
       "    </tr>\n",
       "    <tr>\n",
       "      <th>409</th>\n",
       "      <td>CD28_pos_CD4_pos_T_cells</td>\n",
       "      <td>0.068124</td>\n",
       "    </tr>\n",
       "    <tr>\n",
       "      <th>410</th>\n",
       "      <td>CD314_pos_CD94_pos_CD8_pos_T_cells</td>\n",
       "      <td>-0.076684</td>\n",
       "    </tr>\n",
       "  </tbody>\n",
       "</table>\n",
       "<p>411 rows × 2 columns</p>\n",
       "</div>"
      ],
      "text/plain": [
       "                              attribute  parameter_value\n",
       "0                               B_cells        -0.004785\n",
       "1                             basophils         0.001252\n",
       "2                    CD16_pos_monocytes         0.013232\n",
       "3           CD16_pos_CD14_pos_monocytes         0.028034\n",
       "4           CD16_pos_CD14_neg_monocytes         0.000354\n",
       "..                                  ...              ...\n",
       "406                  CXCR3_pos_NK_cells        -0.069085\n",
       "407           CXCR3_pos_CD4_pos_T_cells        -0.075959\n",
       "408           CXCR3_pos_CD8_pos_T_cells        -0.066142\n",
       "409            CD28_pos_CD4_pos_T_cells         0.068124\n",
       "410  CD314_pos_CD94_pos_CD8_pos_T_cells        -0.076684\n",
       "\n",
       "[411 rows x 2 columns]"
      ]
     },
     "execution_count": 26,
     "metadata": {},
     "output_type": "execute_result"
    }
   ],
   "source": [
    "model_parameters = pd.DataFrame({\"attribute\": X_train.columns, \n",
    "                                 \"parameter_value\" : cls_std.coef_[0]})\n",
    "model_parameters"
   ]
  },
  {
   "cell_type": "markdown",
   "id": "2073ff05",
   "metadata": {
    "papermill": {
     "duration": 0.02268,
     "end_time": "2024-12-08T10:17:10.198974",
     "exception": false,
     "start_time": "2024-12-08T10:17:10.176294",
     "status": "completed"
    },
    "tags": []
   },
   "source": [
    "Sorting them from high to low (using sort_values())"
   ]
  },
  {
   "cell_type": "code",
   "execution_count": 27,
   "id": "b364e28e",
   "metadata": {
    "execution": {
     "iopub.execute_input": "2024-12-08T10:17:10.247172Z",
     "iopub.status.busy": "2024-12-08T10:17:10.246784Z",
     "iopub.status.idle": "2024-12-08T10:17:10.258690Z",
     "shell.execute_reply": "2024-12-08T10:17:10.257671Z"
    },
    "papermill": {
     "duration": 0.039056,
     "end_time": "2024-12-08T10:17:10.260939",
     "exception": false,
     "start_time": "2024-12-08T10:17:10.221883",
     "status": "completed"
    },
    "tags": []
   },
   "outputs": [
    {
     "data": {
      "text/html": [
       "<div>\n",
       "<style scoped>\n",
       "    .dataframe tbody tr th:only-of-type {\n",
       "        vertical-align: middle;\n",
       "    }\n",
       "\n",
       "    .dataframe tbody tr th {\n",
       "        vertical-align: top;\n",
       "    }\n",
       "\n",
       "    .dataframe thead th {\n",
       "        text-align: right;\n",
       "    }\n",
       "</style>\n",
       "<table border=\"1\" class=\"dataframe\">\n",
       "  <thead>\n",
       "    <tr style=\"text-align: right;\">\n",
       "      <th></th>\n",
       "      <th>attribute</th>\n",
       "      <th>parameter_value</th>\n",
       "    </tr>\n",
       "  </thead>\n",
       "  <tbody>\n",
       "    <tr>\n",
       "      <th>274</th>\n",
       "      <td>PMA_Iono_IgA_neg_Ki67_neg_plasmablasts</td>\n",
       "      <td>-0.083249</td>\n",
       "    </tr>\n",
       "    <tr>\n",
       "      <th>404</th>\n",
       "      <td>CXCR3_pos_B_cells</td>\n",
       "      <td>-0.077994</td>\n",
       "    </tr>\n",
       "    <tr>\n",
       "      <th>410</th>\n",
       "      <td>CD314_pos_CD94_pos_CD8_pos_T_cells</td>\n",
       "      <td>-0.076684</td>\n",
       "    </tr>\n",
       "    <tr>\n",
       "      <th>249</th>\n",
       "      <td>LPS_IgA_pos_Ki67_pos_plasmablasts</td>\n",
       "      <td>-0.076454</td>\n",
       "    </tr>\n",
       "    <tr>\n",
       "      <th>407</th>\n",
       "      <td>CXCR3_pos_CD4_pos_T_cells</td>\n",
       "      <td>-0.075959</td>\n",
       "    </tr>\n",
       "    <tr>\n",
       "      <th>...</th>\n",
       "      <td>...</td>\n",
       "      <td>...</td>\n",
       "    </tr>\n",
       "    <tr>\n",
       "      <th>409</th>\n",
       "      <td>CD28_pos_CD4_pos_T_cells</td>\n",
       "      <td>0.068124</td>\n",
       "    </tr>\n",
       "    <tr>\n",
       "      <th>137</th>\n",
       "      <td>LPS_CD25_pos_CD4_pos_T_cells</td>\n",
       "      <td>0.071712</td>\n",
       "    </tr>\n",
       "    <tr>\n",
       "      <th>122</th>\n",
       "      <td>PMA_Iono_CD16_pos_monocytes</td>\n",
       "      <td>0.078759</td>\n",
       "    </tr>\n",
       "    <tr>\n",
       "      <th>127</th>\n",
       "      <td>IL_neg_6_CD16_pos_CD56_neg_NK_cells</td>\n",
       "      <td>0.082250</td>\n",
       "    </tr>\n",
       "    <tr>\n",
       "      <th>244</th>\n",
       "      <td>IFNa_IgA_pos_Ki67_pos_plasmablasts</td>\n",
       "      <td>0.157703</td>\n",
       "    </tr>\n",
       "  </tbody>\n",
       "</table>\n",
       "<p>411 rows × 2 columns</p>\n",
       "</div>"
      ],
      "text/plain": [
       "                                  attribute  parameter_value\n",
       "274  PMA_Iono_IgA_neg_Ki67_neg_plasmablasts        -0.083249\n",
       "404                       CXCR3_pos_B_cells        -0.077994\n",
       "410      CD314_pos_CD94_pos_CD8_pos_T_cells        -0.076684\n",
       "249       LPS_IgA_pos_Ki67_pos_plasmablasts        -0.076454\n",
       "407               CXCR3_pos_CD4_pos_T_cells        -0.075959\n",
       "..                                      ...              ...\n",
       "409                CD28_pos_CD4_pos_T_cells         0.068124\n",
       "137            LPS_CD25_pos_CD4_pos_T_cells         0.071712\n",
       "122             PMA_Iono_CD16_pos_monocytes         0.078759\n",
       "127     IL_neg_6_CD16_pos_CD56_neg_NK_cells         0.082250\n",
       "244      IFNa_IgA_pos_Ki67_pos_plasmablasts         0.157703\n",
       "\n",
       "[411 rows x 2 columns]"
      ]
     },
     "execution_count": 27,
     "metadata": {},
     "output_type": "execute_result"
    }
   ],
   "source": [
    "model_parameters = model_parameters.sort_values(by=\"parameter_value\")\n",
    "model_parameters"
   ]
  },
  {
   "cell_type": "markdown",
   "id": "95ba24d4",
   "metadata": {
    "papermill": {
     "duration": 0.023141,
     "end_time": "2024-12-08T10:17:10.307346",
     "exception": false,
     "start_time": "2024-12-08T10:17:10.284205",
     "status": "completed"
    },
    "tags": []
   },
   "source": [
    "We are here mainly interested in the absolute value of the modelparameter. This can be computed with the python abs() function"
   ]
  },
  {
   "cell_type": "code",
   "execution_count": 28,
   "id": "614dd208",
   "metadata": {
    "execution": {
     "iopub.execute_input": "2024-12-08T10:17:10.356733Z",
     "iopub.status.busy": "2024-12-08T10:17:10.356327Z",
     "iopub.status.idle": "2024-12-08T10:17:10.371268Z",
     "shell.execute_reply": "2024-12-08T10:17:10.370007Z"
    },
    "papermill": {
     "duration": 0.042082,
     "end_time": "2024-12-08T10:17:10.373620",
     "exception": false,
     "start_time": "2024-12-08T10:17:10.331538",
     "status": "completed"
    },
    "tags": []
   },
   "outputs": [
    {
     "data": {
      "text/html": [
       "<div>\n",
       "<style scoped>\n",
       "    .dataframe tbody tr th:only-of-type {\n",
       "        vertical-align: middle;\n",
       "    }\n",
       "\n",
       "    .dataframe tbody tr th {\n",
       "        vertical-align: top;\n",
       "    }\n",
       "\n",
       "    .dataframe thead th {\n",
       "        text-align: right;\n",
       "    }\n",
       "</style>\n",
       "<table border=\"1\" class=\"dataframe\">\n",
       "  <thead>\n",
       "    <tr style=\"text-align: right;\">\n",
       "      <th></th>\n",
       "      <th>attribute</th>\n",
       "      <th>parameter_value</th>\n",
       "      <th>parameter_abs_value</th>\n",
       "    </tr>\n",
       "  </thead>\n",
       "  <tbody>\n",
       "    <tr>\n",
       "      <th>274</th>\n",
       "      <td>PMA_Iono_IgA_neg_Ki67_neg_plasmablasts</td>\n",
       "      <td>-0.083249</td>\n",
       "      <td>0.083249</td>\n",
       "    </tr>\n",
       "    <tr>\n",
       "      <th>404</th>\n",
       "      <td>CXCR3_pos_B_cells</td>\n",
       "      <td>-0.077994</td>\n",
       "      <td>0.077994</td>\n",
       "    </tr>\n",
       "    <tr>\n",
       "      <th>410</th>\n",
       "      <td>CD314_pos_CD94_pos_CD8_pos_T_cells</td>\n",
       "      <td>-0.076684</td>\n",
       "      <td>0.076684</td>\n",
       "    </tr>\n",
       "    <tr>\n",
       "      <th>249</th>\n",
       "      <td>LPS_IgA_pos_Ki67_pos_plasmablasts</td>\n",
       "      <td>-0.076454</td>\n",
       "      <td>0.076454</td>\n",
       "    </tr>\n",
       "    <tr>\n",
       "      <th>407</th>\n",
       "      <td>CXCR3_pos_CD4_pos_T_cells</td>\n",
       "      <td>-0.075959</td>\n",
       "      <td>0.075959</td>\n",
       "    </tr>\n",
       "    <tr>\n",
       "      <th>...</th>\n",
       "      <td>...</td>\n",
       "      <td>...</td>\n",
       "      <td>...</td>\n",
       "    </tr>\n",
       "    <tr>\n",
       "      <th>409</th>\n",
       "      <td>CD28_pos_CD4_pos_T_cells</td>\n",
       "      <td>0.068124</td>\n",
       "      <td>0.068124</td>\n",
       "    </tr>\n",
       "    <tr>\n",
       "      <th>137</th>\n",
       "      <td>LPS_CD25_pos_CD4_pos_T_cells</td>\n",
       "      <td>0.071712</td>\n",
       "      <td>0.071712</td>\n",
       "    </tr>\n",
       "    <tr>\n",
       "      <th>122</th>\n",
       "      <td>PMA_Iono_CD16_pos_monocytes</td>\n",
       "      <td>0.078759</td>\n",
       "      <td>0.078759</td>\n",
       "    </tr>\n",
       "    <tr>\n",
       "      <th>127</th>\n",
       "      <td>IL_neg_6_CD16_pos_CD56_neg_NK_cells</td>\n",
       "      <td>0.082250</td>\n",
       "      <td>0.082250</td>\n",
       "    </tr>\n",
       "    <tr>\n",
       "      <th>244</th>\n",
       "      <td>IFNa_IgA_pos_Ki67_pos_plasmablasts</td>\n",
       "      <td>0.157703</td>\n",
       "      <td>0.157703</td>\n",
       "    </tr>\n",
       "  </tbody>\n",
       "</table>\n",
       "<p>411 rows × 3 columns</p>\n",
       "</div>"
      ],
      "text/plain": [
       "                                  attribute  parameter_value  \\\n",
       "274  PMA_Iono_IgA_neg_Ki67_neg_plasmablasts        -0.083249   \n",
       "404                       CXCR3_pos_B_cells        -0.077994   \n",
       "410      CD314_pos_CD94_pos_CD8_pos_T_cells        -0.076684   \n",
       "249       LPS_IgA_pos_Ki67_pos_plasmablasts        -0.076454   \n",
       "407               CXCR3_pos_CD4_pos_T_cells        -0.075959   \n",
       "..                                      ...              ...   \n",
       "409                CD28_pos_CD4_pos_T_cells         0.068124   \n",
       "137            LPS_CD25_pos_CD4_pos_T_cells         0.071712   \n",
       "122             PMA_Iono_CD16_pos_monocytes         0.078759   \n",
       "127     IL_neg_6_CD16_pos_CD56_neg_NK_cells         0.082250   \n",
       "244      IFNa_IgA_pos_Ki67_pos_plasmablasts         0.157703   \n",
       "\n",
       "     parameter_abs_value  \n",
       "274             0.083249  \n",
       "404             0.077994  \n",
       "410             0.076684  \n",
       "249             0.076454  \n",
       "407             0.075959  \n",
       "..                   ...  \n",
       "409             0.068124  \n",
       "137             0.071712  \n",
       "122             0.078759  \n",
       "127             0.082250  \n",
       "244             0.157703  \n",
       "\n",
       "[411 rows x 3 columns]"
      ]
     },
     "execution_count": 28,
     "metadata": {},
     "output_type": "execute_result"
    }
   ],
   "source": [
    "model_parameters[\"parameter_abs_value\"] = model_parameters[\"parameter_value\"].map(abs)\n",
    "model_parameters"
   ]
  },
  {
   "cell_type": "markdown",
   "id": "d9467477",
   "metadata": {
    "papermill": {
     "duration": 0.024344,
     "end_time": "2024-12-08T10:17:10.421859",
     "exception": false,
     "start_time": "2024-12-08T10:17:10.397515",
     "status": "completed"
    },
    "tags": []
   },
   "source": [
    "Sort by model_parameters by parameter_abs_value from high to low"
   ]
  },
  {
   "cell_type": "code",
   "execution_count": 29,
   "id": "8a07ba94",
   "metadata": {
    "execution": {
     "iopub.execute_input": "2024-12-08T10:17:10.473332Z",
     "iopub.status.busy": "2024-12-08T10:17:10.472923Z",
     "iopub.status.idle": "2024-12-08T10:17:10.486987Z",
     "shell.execute_reply": "2024-12-08T10:17:10.485776Z"
    },
    "papermill": {
     "duration": 0.043064,
     "end_time": "2024-12-08T10:17:10.489362",
     "exception": false,
     "start_time": "2024-12-08T10:17:10.446298",
     "status": "completed"
    },
    "tags": []
   },
   "outputs": [
    {
     "data": {
      "text/html": [
       "<div>\n",
       "<style scoped>\n",
       "    .dataframe tbody tr th:only-of-type {\n",
       "        vertical-align: middle;\n",
       "    }\n",
       "\n",
       "    .dataframe tbody tr th {\n",
       "        vertical-align: top;\n",
       "    }\n",
       "\n",
       "    .dataframe thead th {\n",
       "        text-align: right;\n",
       "    }\n",
       "</style>\n",
       "<table border=\"1\" class=\"dataframe\">\n",
       "  <thead>\n",
       "    <tr style=\"text-align: right;\">\n",
       "      <th></th>\n",
       "      <th>attribute</th>\n",
       "      <th>parameter_value</th>\n",
       "      <th>parameter_abs_value</th>\n",
       "    </tr>\n",
       "  </thead>\n",
       "  <tbody>\n",
       "    <tr>\n",
       "      <th>274</th>\n",
       "      <td>PMA_Iono_IgA_neg_Ki67_neg_plasmablasts</td>\n",
       "      <td>-0.083249</td>\n",
       "      <td>0.083249</td>\n",
       "    </tr>\n",
       "    <tr>\n",
       "      <th>404</th>\n",
       "      <td>CXCR3_pos_B_cells</td>\n",
       "      <td>-0.077994</td>\n",
       "      <td>0.077994</td>\n",
       "    </tr>\n",
       "    <tr>\n",
       "      <th>410</th>\n",
       "      <td>CD314_pos_CD94_pos_CD8_pos_T_cells</td>\n",
       "      <td>-0.076684</td>\n",
       "      <td>0.076684</td>\n",
       "    </tr>\n",
       "    <tr>\n",
       "      <th>249</th>\n",
       "      <td>LPS_IgA_pos_Ki67_pos_plasmablasts</td>\n",
       "      <td>-0.076454</td>\n",
       "      <td>0.076454</td>\n",
       "    </tr>\n",
       "    <tr>\n",
       "      <th>407</th>\n",
       "      <td>CXCR3_pos_CD4_pos_T_cells</td>\n",
       "      <td>-0.075959</td>\n",
       "      <td>0.075959</td>\n",
       "    </tr>\n",
       "    <tr>\n",
       "      <th>...</th>\n",
       "      <td>...</td>\n",
       "      <td>...</td>\n",
       "      <td>...</td>\n",
       "    </tr>\n",
       "    <tr>\n",
       "      <th>409</th>\n",
       "      <td>CD28_pos_CD4_pos_T_cells</td>\n",
       "      <td>0.068124</td>\n",
       "      <td>0.068124</td>\n",
       "    </tr>\n",
       "    <tr>\n",
       "      <th>137</th>\n",
       "      <td>LPS_CD25_pos_CD4_pos_T_cells</td>\n",
       "      <td>0.071712</td>\n",
       "      <td>0.071712</td>\n",
       "    </tr>\n",
       "    <tr>\n",
       "      <th>122</th>\n",
       "      <td>PMA_Iono_CD16_pos_monocytes</td>\n",
       "      <td>0.078759</td>\n",
       "      <td>0.078759</td>\n",
       "    </tr>\n",
       "    <tr>\n",
       "      <th>127</th>\n",
       "      <td>IL_neg_6_CD16_pos_CD56_neg_NK_cells</td>\n",
       "      <td>0.082250</td>\n",
       "      <td>0.082250</td>\n",
       "    </tr>\n",
       "    <tr>\n",
       "      <th>244</th>\n",
       "      <td>IFNa_IgA_pos_Ki67_pos_plasmablasts</td>\n",
       "      <td>0.157703</td>\n",
       "      <td>0.157703</td>\n",
       "    </tr>\n",
       "  </tbody>\n",
       "</table>\n",
       "<p>411 rows × 3 columns</p>\n",
       "</div>"
      ],
      "text/plain": [
       "                                  attribute  parameter_value  \\\n",
       "274  PMA_Iono_IgA_neg_Ki67_neg_plasmablasts        -0.083249   \n",
       "404                       CXCR3_pos_B_cells        -0.077994   \n",
       "410      CD314_pos_CD94_pos_CD8_pos_T_cells        -0.076684   \n",
       "249       LPS_IgA_pos_Ki67_pos_plasmablasts        -0.076454   \n",
       "407               CXCR3_pos_CD4_pos_T_cells        -0.075959   \n",
       "..                                      ...              ...   \n",
       "409                CD28_pos_CD4_pos_T_cells         0.068124   \n",
       "137            LPS_CD25_pos_CD4_pos_T_cells         0.071712   \n",
       "122             PMA_Iono_CD16_pos_monocytes         0.078759   \n",
       "127     IL_neg_6_CD16_pos_CD56_neg_NK_cells         0.082250   \n",
       "244      IFNa_IgA_pos_Ki67_pos_plasmablasts         0.157703   \n",
       "\n",
       "     parameter_abs_value  \n",
       "274             0.083249  \n",
       "404             0.077994  \n",
       "410             0.076684  \n",
       "249             0.076454  \n",
       "407             0.075959  \n",
       "..                   ...  \n",
       "409             0.068124  \n",
       "137             0.071712  \n",
       "122             0.078759  \n",
       "127             0.082250  \n",
       "244             0.157703  \n",
       "\n",
       "[411 rows x 3 columns]"
      ]
     },
     "execution_count": 29,
     "metadata": {},
     "output_type": "execute_result"
    }
   ],
   "source": [
    "model_parameters.sort_values(by = \"parameter_abs_value\")\n",
    "model_parameters"
   ]
  },
  {
   "cell_type": "markdown",
   "id": "f720b4bb",
   "metadata": {
    "papermill": {
     "duration": 0.023771,
     "end_time": "2024-12-08T10:17:10.537360",
     "exception": false,
     "start_time": "2024-12-08T10:17:10.513589",
     "status": "completed"
    },
    "tags": []
   },
   "source": [
    "We will select the top 20 most important cell types from model_parameters"
   ]
  },
  {
   "cell_type": "code",
   "execution_count": 30,
   "id": "4d51aa61",
   "metadata": {
    "execution": {
     "iopub.execute_input": "2024-12-08T10:17:10.587274Z",
     "iopub.status.busy": "2024-12-08T10:17:10.586846Z",
     "iopub.status.idle": "2024-12-08T10:17:10.595785Z",
     "shell.execute_reply": "2024-12-08T10:17:10.594636Z"
    },
    "papermill": {
     "duration": 0.03677,
     "end_time": "2024-12-08T10:17:10.598287",
     "exception": false,
     "start_time": "2024-12-08T10:17:10.561517",
     "status": "completed"
    },
    "tags": []
   },
   "outputs": [
    {
     "data": {
      "text/plain": [
       "274    PMA_Iono_IgA_neg_Ki67_neg_plasmablasts\n",
       "404                         CXCR3_pos_B_cells\n",
       "410        CD314_pos_CD94_pos_CD8_pos_T_cells\n",
       "249         LPS_IgA_pos_Ki67_pos_plasmablasts\n",
       "407                 CXCR3_pos_CD4_pos_T_cells\n",
       "405              CXCR3_pos_CD33_pos_monocytes\n",
       "113                    LPS_CD14_pos_monocytes\n",
       "114               PMA_Iono_CD14_pos_monocytes\n",
       "255    IL_neg_6_IgA_pos_Ki67_neg_plasmablasts\n",
       "388                    CD20_neg_CD3_neg_cells\n",
       "406                        CXCR3_pos_NK_cells\n",
       "408                 CXCR3_pos_CD8_pos_T_cells\n",
       "112               IL_neg_7_CD14_pos_monocytes\n",
       "264    IL_neg_7_IgA_neg_Ki67_pos_plasmablasts\n",
       "81              LPS_activated_CD4_pos_T_cells\n",
       "397        CD314_neg_CD94_pos_CD8_pos_T_cells\n",
       "92                               IFNa_B_cells\n",
       "94                          IL_neg_21_B_cells\n",
       "177                       LPS_CD8_pos_T_cells\n",
       "179                    Unstim_CD8_pos_T_cells\n",
       "Name: attribute, dtype: object"
      ]
     },
     "execution_count": 30,
     "metadata": {},
     "output_type": "execute_result"
    }
   ],
   "source": [
    "selected_attributes = model_parameters.iloc[0:20, 0]\n",
    "selected_attributes"
   ]
  },
  {
   "cell_type": "markdown",
   "id": "0f2a3e4f",
   "metadata": {
    "papermill": {
     "duration": 0.023607,
     "end_time": "2024-12-08T10:17:10.649213",
     "exception": false,
     "start_time": "2024-12-08T10:17:10.625606",
     "status": "completed"
    },
    "tags": []
   },
   "source": [
    "Convert them into a list (here a dataframe). We can use this list then to make an another logistic regression model on the train set that contains only the standardized features for the cell types in selected_attributes."
   ]
  },
  {
   "cell_type": "code",
   "execution_count": 31,
   "id": "8af66d53",
   "metadata": {
    "execution": {
     "iopub.execute_input": "2024-12-08T10:17:10.699405Z",
     "iopub.status.busy": "2024-12-08T10:17:10.698990Z",
     "iopub.status.idle": "2024-12-08T10:17:10.707207Z",
     "shell.execute_reply": "2024-12-08T10:17:10.705794Z"
    },
    "papermill": {
     "duration": 0.035896,
     "end_time": "2024-12-08T10:17:10.709462",
     "exception": false,
     "start_time": "2024-12-08T10:17:10.673566",
     "status": "completed"
    },
    "tags": []
   },
   "outputs": [
    {
     "data": {
      "text/plain": [
       "['PMA_Iono_IgA_neg_Ki67_neg_plasmablasts',\n",
       " 'CXCR3_pos_B_cells',\n",
       " 'CD314_pos_CD94_pos_CD8_pos_T_cells',\n",
       " 'LPS_IgA_pos_Ki67_pos_plasmablasts',\n",
       " 'CXCR3_pos_CD4_pos_T_cells',\n",
       " 'CXCR3_pos_CD33_pos_monocytes',\n",
       " 'LPS_CD14_pos_monocytes',\n",
       " 'PMA_Iono_CD14_pos_monocytes',\n",
       " 'IL_neg_6_IgA_pos_Ki67_neg_plasmablasts',\n",
       " 'CD20_neg_CD3_neg_cells',\n",
       " 'CXCR3_pos_NK_cells',\n",
       " 'CXCR3_pos_CD8_pos_T_cells',\n",
       " 'IL_neg_7_CD14_pos_monocytes',\n",
       " 'IL_neg_7_IgA_neg_Ki67_pos_plasmablasts',\n",
       " 'LPS_activated_CD4_pos_T_cells',\n",
       " 'CD314_neg_CD94_pos_CD8_pos_T_cells',\n",
       " 'IFNa_B_cells',\n",
       " 'IL_neg_21_B_cells',\n",
       " 'LPS_CD8_pos_T_cells',\n",
       " 'Unstim_CD8_pos_T_cells']"
      ]
     },
     "execution_count": 31,
     "metadata": {},
     "output_type": "execute_result"
    }
   ],
   "source": [
    "selected_attributes = list(selected_attributes)\n",
    "selected_attributes"
   ]
  },
  {
   "cell_type": "markdown",
   "id": "a1d83be3",
   "metadata": {
    "papermill": {
     "duration": 0.024274,
     "end_time": "2024-12-08T10:17:10.757895",
     "exception": false,
     "start_time": "2024-12-08T10:17:10.733621",
     "status": "completed"
    },
    "tags": []
   },
   "source": [
    "Now making the logistic regression model"
   ]
  },
  {
   "cell_type": "code",
   "execution_count": 32,
   "id": "8e9eeec0",
   "metadata": {
    "execution": {
     "iopub.execute_input": "2024-12-08T10:17:10.808497Z",
     "iopub.status.busy": "2024-12-08T10:17:10.807546Z",
     "iopub.status.idle": "2024-12-08T10:17:10.826845Z",
     "shell.execute_reply": "2024-12-08T10:17:10.825776Z"
    },
    "papermill": {
     "duration": 0.04766,
     "end_time": "2024-12-08T10:17:10.829383",
     "exception": false,
     "start_time": "2024-12-08T10:17:10.781723",
     "status": "completed"
    },
    "tags": []
   },
   "outputs": [
    {
     "data": {
      "text/html": [
       "<style>#sk-container-id-2 {color: black;background-color: white;}#sk-container-id-2 pre{padding: 0;}#sk-container-id-2 div.sk-toggleable {background-color: white;}#sk-container-id-2 label.sk-toggleable__label {cursor: pointer;display: block;width: 100%;margin-bottom: 0;padding: 0.3em;box-sizing: border-box;text-align: center;}#sk-container-id-2 label.sk-toggleable__label-arrow:before {content: \"▸\";float: left;margin-right: 0.25em;color: #696969;}#sk-container-id-2 label.sk-toggleable__label-arrow:hover:before {color: black;}#sk-container-id-2 div.sk-estimator:hover label.sk-toggleable__label-arrow:before {color: black;}#sk-container-id-2 div.sk-toggleable__content {max-height: 0;max-width: 0;overflow: hidden;text-align: left;background-color: #f0f8ff;}#sk-container-id-2 div.sk-toggleable__content pre {margin: 0.2em;color: black;border-radius: 0.25em;background-color: #f0f8ff;}#sk-container-id-2 input.sk-toggleable__control:checked~div.sk-toggleable__content {max-height: 200px;max-width: 100%;overflow: auto;}#sk-container-id-2 input.sk-toggleable__control:checked~label.sk-toggleable__label-arrow:before {content: \"▾\";}#sk-container-id-2 div.sk-estimator input.sk-toggleable__control:checked~label.sk-toggleable__label {background-color: #d4ebff;}#sk-container-id-2 div.sk-label input.sk-toggleable__control:checked~label.sk-toggleable__label {background-color: #d4ebff;}#sk-container-id-2 input.sk-hidden--visually {border: 0;clip: rect(1px 1px 1px 1px);clip: rect(1px, 1px, 1px, 1px);height: 1px;margin: -1px;overflow: hidden;padding: 0;position: absolute;width: 1px;}#sk-container-id-2 div.sk-estimator {font-family: monospace;background-color: #f0f8ff;border: 1px dotted black;border-radius: 0.25em;box-sizing: border-box;margin-bottom: 0.5em;}#sk-container-id-2 div.sk-estimator:hover {background-color: #d4ebff;}#sk-container-id-2 div.sk-parallel-item::after {content: \"\";width: 100%;border-bottom: 1px solid gray;flex-grow: 1;}#sk-container-id-2 div.sk-label:hover label.sk-toggleable__label {background-color: #d4ebff;}#sk-container-id-2 div.sk-serial::before {content: \"\";position: absolute;border-left: 1px solid gray;box-sizing: border-box;top: 0;bottom: 0;left: 50%;z-index: 0;}#sk-container-id-2 div.sk-serial {display: flex;flex-direction: column;align-items: center;background-color: white;padding-right: 0.2em;padding-left: 0.2em;position: relative;}#sk-container-id-2 div.sk-item {position: relative;z-index: 1;}#sk-container-id-2 div.sk-parallel {display: flex;align-items: stretch;justify-content: center;background-color: white;position: relative;}#sk-container-id-2 div.sk-item::before, #sk-container-id-2 div.sk-parallel-item::before {content: \"\";position: absolute;border-left: 1px solid gray;box-sizing: border-box;top: 0;bottom: 0;left: 50%;z-index: -1;}#sk-container-id-2 div.sk-parallel-item {display: flex;flex-direction: column;z-index: 1;position: relative;background-color: white;}#sk-container-id-2 div.sk-parallel-item:first-child::after {align-self: flex-end;width: 50%;}#sk-container-id-2 div.sk-parallel-item:last-child::after {align-self: flex-start;width: 50%;}#sk-container-id-2 div.sk-parallel-item:only-child::after {width: 0;}#sk-container-id-2 div.sk-dashed-wrapped {border: 1px dashed gray;margin: 0 0.4em 0.5em 0.4em;box-sizing: border-box;padding-bottom: 0.4em;background-color: white;}#sk-container-id-2 div.sk-label label {font-family: monospace;font-weight: bold;display: inline-block;line-height: 1.2em;}#sk-container-id-2 div.sk-label-container {text-align: center;}#sk-container-id-2 div.sk-container {/* jupyter's `normalize.less` sets `[hidden] { display: none; }` but bootstrap.min.css set `[hidden] { display: none !important; }` so we also need the `!important` here to be able to override the default hidden behavior on the sphinx rendered scikit-learn.org. See: https://github.com/scikit-learn/scikit-learn/issues/21755 */display: inline-block !important;position: relative;}#sk-container-id-2 div.sk-text-repr-fallback {display: none;}</style><div id=\"sk-container-id-2\" class=\"sk-top-container\"><div class=\"sk-text-repr-fallback\"><pre>LogisticRegression()</pre><b>In a Jupyter environment, please rerun this cell to show the HTML representation or trust the notebook. <br />On GitHub, the HTML representation is unable to render, please try loading this page with nbviewer.org.</b></div><div class=\"sk-container\" hidden><div class=\"sk-item\"><div class=\"sk-estimator sk-toggleable\"><input class=\"sk-toggleable__control sk-hidden--visually\" id=\"sk-estimator-id-2\" type=\"checkbox\" checked><label for=\"sk-estimator-id-2\" class=\"sk-toggleable__label sk-toggleable__label-arrow\">LogisticRegression</label><div class=\"sk-toggleable__content\"><pre>LogisticRegression()</pre></div></div></div></div></div>"
      ],
      "text/plain": [
       "LogisticRegression()"
      ]
     },
     "execution_count": 32,
     "metadata": {},
     "output_type": "execute_result"
    }
   ],
   "source": [
    "cls_std.fit(X_train_std[selected_attributes],y_train)"
   ]
  },
  {
   "cell_type": "markdown",
   "id": "7651d924",
   "metadata": {
    "papermill": {
     "duration": 0.024699,
     "end_time": "2024-12-08T10:17:10.878413",
     "exception": false,
     "start_time": "2024-12-08T10:17:10.853714",
     "status": "completed"
    },
    "tags": []
   },
   "source": [
    "The prediction accuracy"
   ]
  },
  {
   "cell_type": "code",
   "execution_count": 33,
   "id": "40f16d2e",
   "metadata": {
    "execution": {
     "iopub.execute_input": "2024-12-08T10:17:10.929689Z",
     "iopub.status.busy": "2024-12-08T10:17:10.929293Z",
     "iopub.status.idle": "2024-12-08T10:17:10.942367Z",
     "shell.execute_reply": "2024-12-08T10:17:10.941255Z"
    },
    "papermill": {
     "duration": 0.041063,
     "end_time": "2024-12-08T10:17:10.944696",
     "exception": false,
     "start_time": "2024-12-08T10:17:10.903633",
     "status": "completed"
    },
    "tags": []
   },
   "outputs": [
    {
     "name": "stdout",
     "output_type": "stream",
     "text": [
      "Accuracy: 1.0\n"
     ]
    },
    {
     "data": {
      "text/plain": [
       "247    0\n",
       "298    0\n",
       "258    1\n",
       "293    0\n",
       "64     0\n",
       "      ..\n",
       "65     0\n",
       "116    1\n",
       "24     0\n",
       "91     1\n",
       "8      0\n",
       "Name: vaccine_response, Length: 92, dtype: int64"
      ]
     },
     "execution_count": 33,
     "metadata": {},
     "output_type": "execute_result"
    }
   ],
   "source": [
    "print(\"Accuracy: {}\".format(cls_std.score(X_test_std[selected_attributes],y_test)))\n",
    "X_test_std\n",
    "y_test"
   ]
  },
  {
   "cell_type": "markdown",
   "id": "e276c55a",
   "metadata": {
    "papermill": {
     "duration": 0.024799,
     "end_time": "2024-12-08T10:17:10.993936",
     "exception": false,
     "start_time": "2024-12-08T10:17:10.969137",
     "status": "completed"
    },
    "tags": []
   },
   "source": [
    "The accuracy is again 1.0. One reason can again be the class imbalance of the dataset."
   ]
  },
  {
   "cell_type": "markdown",
   "id": "2b5d7b99",
   "metadata": {
    "papermill": {
     "duration": 0.024942,
     "end_time": "2024-12-08T10:17:11.043578",
     "exception": false,
     "start_time": "2024-12-08T10:17:11.018636",
     "status": "completed"
    },
    "tags": []
   },
   "source": [
    "For-loop that prints the prediction accuracy for the top-x most important cell types."
   ]
  },
  {
   "cell_type": "code",
   "execution_count": 34,
   "id": "cf217090",
   "metadata": {
    "execution": {
     "iopub.execute_input": "2024-12-08T10:17:11.098480Z",
     "iopub.status.busy": "2024-12-08T10:17:11.098035Z",
     "iopub.status.idle": "2024-12-08T10:17:11.652917Z",
     "shell.execute_reply": "2024-12-08T10:17:11.651279Z"
    },
    "papermill": {
     "duration": 0.588219,
     "end_time": "2024-12-08T10:17:11.656870",
     "exception": false,
     "start_time": "2024-12-08T10:17:11.068651",
     "status": "completed"
    },
    "tags": []
   },
   "outputs": [
    {
     "name": "stdout",
     "output_type": "stream",
     "text": [
      "Accuracy: 0.967391304347826\n",
      "Accuracy: 0.9782608695652174\n",
      "Accuracy: 0.967391304347826\n",
      "Accuracy: 0.967391304347826\n",
      "Accuracy: 0.9782608695652174\n",
      "Accuracy: 0.9782608695652174\n",
      "Accuracy: 0.9782608695652174\n",
      "Accuracy: 0.9782608695652174\n",
      "Accuracy: 0.9782608695652174\n",
      "Accuracy: 0.9782608695652174\n",
      "Accuracy: 0.9782608695652174\n",
      "Accuracy: 0.9782608695652174\n",
      "Accuracy: 1.0\n",
      "Accuracy: 1.0\n",
      "Accuracy: 1.0\n",
      "Accuracy: 1.0\n",
      "Accuracy: 1.0\n",
      "Accuracy: 1.0\n",
      "Accuracy: 1.0\n",
      "Accuracy: 1.0\n",
      "Accuracy: 1.0\n",
      "Accuracy: 1.0\n",
      "Accuracy: 1.0\n",
      "Accuracy: 1.0\n",
      "Accuracy: 1.0\n",
      "Accuracy: 1.0\n",
      "Accuracy: 1.0\n",
      "Accuracy: 1.0\n",
      "Accuracy: 1.0\n",
      "Accuracy: 1.0\n",
      "Accuracy: 1.0\n",
      "Accuracy: 1.0\n",
      "Accuracy: 1.0\n",
      "Accuracy: 1.0\n",
      "Accuracy: 1.0\n",
      "Accuracy: 1.0\n",
      "Accuracy: 1.0\n",
      "Accuracy: 1.0\n",
      "Accuracy: 1.0\n",
      "Accuracy: 1.0\n",
      "Accuracy: 1.0\n",
      "Accuracy: 1.0\n",
      "Accuracy: 1.0\n",
      "Accuracy: 1.0\n",
      "Accuracy: 1.0\n",
      "Accuracy: 1.0\n",
      "Accuracy: 1.0\n",
      "Accuracy: 1.0\n"
     ]
    }
   ],
   "source": [
    "for s in range(2,50):\n",
    "    attribute = model_parameters.head(s)[\"attribute\"]\n",
    "    cls_std.fit(X_train_std[attribute], y_train)\n",
    "    print(\"Accuracy: {}\".format(cls_std.score(X_test_std[attribute],y_test)))"
   ]
  },
  {
   "cell_type": "markdown",
   "id": "15b87932",
   "metadata": {
    "papermill": {
     "duration": 0.047087,
     "end_time": "2024-12-08T10:17:11.775498",
     "exception": false,
     "start_time": "2024-12-08T10:17:11.728411",
     "status": "completed"
    },
    "tags": []
   },
   "source": [
    "We can see that after the use of the top 14 cell types that the accuracy is already 1.0. So the model can make a 100% correct prediction based in these 14 cell types. "
   ]
  },
  {
   "cell_type": "markdown",
   "id": "f82bb4e7",
   "metadata": {
    "papermill": {
     "duration": 0.025039,
     "end_time": "2024-12-08T10:17:11.825502",
     "exception": false,
     "start_time": "2024-12-08T10:17:11.800463",
     "status": "completed"
    },
    "tags": []
   },
   "source": [
    "What are these 12 cell types?"
   ]
  },
  {
   "cell_type": "code",
   "execution_count": 35,
   "id": "fd9a93d5",
   "metadata": {
    "execution": {
     "iopub.execute_input": "2024-12-08T10:17:11.877867Z",
     "iopub.status.busy": "2024-12-08T10:17:11.877454Z",
     "iopub.status.idle": "2024-12-08T10:17:11.883567Z",
     "shell.execute_reply": "2024-12-08T10:17:11.882275Z"
    },
    "papermill": {
     "duration": 0.035824,
     "end_time": "2024-12-08T10:17:11.886257",
     "exception": false,
     "start_time": "2024-12-08T10:17:11.850433",
     "status": "completed"
    },
    "tags": []
   },
   "outputs": [
    {
     "name": "stdout",
     "output_type": "stream",
     "text": [
      "['PMA_Iono_IgA_neg_Ki67_neg_plasmablasts', 'CXCR3_pos_B_cells', 'CD314_pos_CD94_pos_CD8_pos_T_cells', 'LPS_IgA_pos_Ki67_pos_plasmablasts', 'CXCR3_pos_CD4_pos_T_cells', 'CXCR3_pos_CD33_pos_monocytes', 'LPS_CD14_pos_monocytes', 'PMA_Iono_CD14_pos_monocytes', 'IL_neg_6_IgA_pos_Ki67_neg_plasmablasts', 'CD20_neg_CD3_neg_cells', 'CXCR3_pos_NK_cells', 'CXCR3_pos_CD8_pos_T_cells', 'IL_neg_7_CD14_pos_monocytes', 'IL_neg_7_IgA_neg_Ki67_pos_plasmablasts']\n"
     ]
    }
   ],
   "source": [
    "print(selected_attributes[0:14])"
   ]
  },
  {
   "cell_type": "markdown",
   "id": "7cb819ab",
   "metadata": {
    "papermill": {
     "duration": 0.026715,
     "end_time": "2024-12-08T10:17:11.938016",
     "exception": false,
     "start_time": "2024-12-08T10:17:11.911301",
     "status": "completed"
    },
    "tags": []
   },
   "source": [
    "### Dimensionality reduction with t-SNE"
   ]
  },
  {
   "cell_type": "markdown",
   "id": "6e1f36f2",
   "metadata": {
    "papermill": {
     "duration": 0.025084,
     "end_time": "2024-12-08T10:17:11.988326",
     "exception": false,
     "start_time": "2024-12-08T10:17:11.963242",
     "status": "completed"
    },
    "tags": []
   },
   "source": [
    "Reducing the train set from 412 columns to just two columns with t-SNE algorithm\n",
    "\n",
    "Initialize a t-SNE model. Because our dataset is quite small for machine learning, we will initialize the t-SNE model with different perplexities. Then we can see which perplexity caputures the data's structure best."
   ]
  },
  {
   "cell_type": "code",
   "execution_count": 36,
   "id": "3857c589",
   "metadata": {
    "execution": {
     "iopub.execute_input": "2024-12-08T10:17:12.040604Z",
     "iopub.status.busy": "2024-12-08T10:17:12.040199Z",
     "iopub.status.idle": "2024-12-08T10:17:16.756965Z",
     "shell.execute_reply": "2024-12-08T10:17:16.755648Z"
    },
    "papermill": {
     "duration": 4.746614,
     "end_time": "2024-12-08T10:17:16.759567",
     "exception": false,
     "start_time": "2024-12-08T10:17:12.012953",
     "status": "completed"
    },
    "tags": []
   },
   "outputs": [
    {
     "data": {
      "image/png": "[encoded data removed]",
      "text/plain": [
       "<Figure size 640x480 with 1 Axes>"
      ]
     },
     "metadata": {},
     "output_type": "display_data"
    },
    {
     "data": {
      "image/png": "[encoded data removed]",
      "text/plain": [
       "<Figure size 640x480 with 1 Axes>"
      ]
     },
     "metadata": {},
     "output_type": "display_data"
    },
    {
     "data": {
      "image/png": "[encoded data removed]",
      "text/plain": [
       "<Figure size 640x480 with 1 Axes>"
      ]
     },
     "metadata": {},
     "output_type": "display_data"
    },
    {
     "data": {
      "image/png": "[encoded data removed]",
      "text/plain": [
       "<Figure size 640x480 with 1 Axes>"
      ]
     },
     "metadata": {},
     "output_type": "display_data"
    }
   ],
   "source": [
    "from sklearn.manifold import TSNE\n",
    "perplexities = [5, 10, 20,30]\n",
    "\n",
    "for perplexity in perplexities:\n",
    "    tsne = TSNE(perplexity=perplexity, random_state=42, n_components=2)\n",
    "    X_embedded = tsne.fit_transform(X_train_std)\n",
    "#Random_state=42 By using a fixed number, we get always the same distribution if we run our code again from the beginning.\n",
    "    \n",
    "# Plot the results\n",
    "    plt.figure()\n",
    "    plt.scatter(X_embedded[:, 0], X_embedded[:, 1], c=y_train)\n",
    "    plt.title(f't-SNE with Perplexity={perplexity}')\n",
    "    plt.show()"
   ]
  },
  {
   "cell_type": "markdown",
   "id": "4647e5d6",
   "metadata": {
    "papermill": {
     "duration": 0.031911,
     "end_time": "2024-12-08T10:17:16.821983",
     "exception": false,
     "start_time": "2024-12-08T10:17:16.790072",
     "status": "completed"
    },
    "tags": []
   },
   "source": [
    "We are going with perplexity 20. Here the seperation of the clusters is the clearest."
   ]
  },
  {
   "cell_type": "code",
   "execution_count": 37,
   "id": "e91521a9",
   "metadata": {
    "execution": {
     "iopub.execute_input": "2024-12-08T10:17:16.883731Z",
     "iopub.status.busy": "2024-12-08T10:17:16.883318Z",
     "iopub.status.idle": "2024-12-08T10:17:19.380023Z",
     "shell.execute_reply": "2024-12-08T10:17:19.379144Z"
    },
    "papermill": {
     "duration": 2.53091,
     "end_time": "2024-12-08T10:17:19.382986",
     "exception": false,
     "start_time": "2024-12-08T10:17:16.852076",
     "status": "completed"
    },
    "tags": []
   },
   "outputs": [],
   "source": [
    "model_tSNE = TSNE(n_components=2, perplexity=20, random_state=42)\n",
    "X_embedded = model_tSNE.fit_transform(X_train_std)"
   ]
  },
  {
   "cell_type": "markdown",
   "id": "5b1acab5",
   "metadata": {
    "papermill": {
     "duration": 0.030453,
     "end_time": "2024-12-08T10:17:19.447447",
     "exception": false,
     "start_time": "2024-12-08T10:17:19.416994",
     "status": "completed"
    },
    "tags": []
   },
   "source": [
    "Make X_embedded into a Pandas DataFrame with columns t-SNE_1, t-SNE_2 and the vaccine_response label"
   ]
  },
  {
   "cell_type": "code",
   "execution_count": 38,
   "id": "9ad05be6",
   "metadata": {
    "execution": {
     "iopub.execute_input": "2024-12-08T10:17:19.509034Z",
     "iopub.status.busy": "2024-12-08T10:17:19.508617Z",
     "iopub.status.idle": "2024-12-08T10:17:19.524811Z",
     "shell.execute_reply": "2024-12-08T10:17:19.523608Z"
    },
    "papermill": {
     "duration": 0.0505,
     "end_time": "2024-12-08T10:17:19.527479",
     "exception": false,
     "start_time": "2024-12-08T10:17:19.476979",
     "status": "completed"
    },
    "tags": []
   },
   "outputs": [
    {
     "data": {
      "text/html": [
       "<div>\n",
       "<style scoped>\n",
       "    .dataframe tbody tr th:only-of-type {\n",
       "        vertical-align: middle;\n",
       "    }\n",
       "\n",
       "    .dataframe tbody tr th {\n",
       "        vertical-align: top;\n",
       "    }\n",
       "\n",
       "    .dataframe thead th {\n",
       "        text-align: right;\n",
       "    }\n",
       "</style>\n",
       "<table border=\"1\" class=\"dataframe\">\n",
       "  <thead>\n",
       "    <tr style=\"text-align: right;\">\n",
       "      <th></th>\n",
       "      <th>t-SNE_1</th>\n",
       "      <th>t-SNE_2</th>\n",
       "      <th>vaccine_response</th>\n",
       "    </tr>\n",
       "  </thead>\n",
       "  <tbody>\n",
       "    <tr>\n",
       "      <th>0</th>\n",
       "      <td>-0.844486</td>\n",
       "      <td>37.697502</td>\n",
       "      <td>1</td>\n",
       "    </tr>\n",
       "    <tr>\n",
       "      <th>1</th>\n",
       "      <td>-1.297488</td>\n",
       "      <td>-4.989097</td>\n",
       "      <td>0</td>\n",
       "    </tr>\n",
       "    <tr>\n",
       "      <th>2</th>\n",
       "      <td>-0.242978</td>\n",
       "      <td>-11.182236</td>\n",
       "      <td>0</td>\n",
       "    </tr>\n",
       "    <tr>\n",
       "      <th>3</th>\n",
       "      <td>-10.736916</td>\n",
       "      <td>-2.050235</td>\n",
       "      <td>0</td>\n",
       "    </tr>\n",
       "    <tr>\n",
       "      <th>4</th>\n",
       "      <td>-1.121756</td>\n",
       "      <td>38.629444</td>\n",
       "      <td>1</td>\n",
       "    </tr>\n",
       "    <tr>\n",
       "      <th>...</th>\n",
       "      <td>...</td>\n",
       "      <td>...</td>\n",
       "      <td>...</td>\n",
       "    </tr>\n",
       "    <tr>\n",
       "      <th>207</th>\n",
       "      <td>2.321195</td>\n",
       "      <td>-9.033773</td>\n",
       "      <td>0</td>\n",
       "    </tr>\n",
       "    <tr>\n",
       "      <th>208</th>\n",
       "      <td>-1.900424</td>\n",
       "      <td>-5.427563</td>\n",
       "      <td>0</td>\n",
       "    </tr>\n",
       "    <tr>\n",
       "      <th>209</th>\n",
       "      <td>1.901963</td>\n",
       "      <td>-19.598827</td>\n",
       "      <td>0</td>\n",
       "    </tr>\n",
       "    <tr>\n",
       "      <th>210</th>\n",
       "      <td>7.845675</td>\n",
       "      <td>33.098515</td>\n",
       "      <td>1</td>\n",
       "    </tr>\n",
       "    <tr>\n",
       "      <th>211</th>\n",
       "      <td>8.823336</td>\n",
       "      <td>-12.611880</td>\n",
       "      <td>0</td>\n",
       "    </tr>\n",
       "  </tbody>\n",
       "</table>\n",
       "<p>212 rows × 3 columns</p>\n",
       "</div>"
      ],
      "text/plain": [
       "       t-SNE_1    t-SNE_2  vaccine_response\n",
       "0    -0.844486  37.697502                 1\n",
       "1    -1.297488  -4.989097                 0\n",
       "2    -0.242978 -11.182236                 0\n",
       "3   -10.736916  -2.050235                 0\n",
       "4    -1.121756  38.629444                 1\n",
       "..         ...        ...               ...\n",
       "207   2.321195  -9.033773                 0\n",
       "208  -1.900424  -5.427563                 0\n",
       "209   1.901963 -19.598827                 0\n",
       "210   7.845675  33.098515                 1\n",
       "211   8.823336 -12.611880                 0\n",
       "\n",
       "[212 rows x 3 columns]"
      ]
     },
     "execution_count": 38,
     "metadata": {},
     "output_type": "execute_result"
    }
   ],
   "source": [
    "# Convert to DataFrame and reset index\n",
    "tsne_result = pd.DataFrame(X_embedded, columns=[\"t-SNE_1\", \"t-SNE_2\"])\n",
    "tsne_result.reset_index(drop=True, inplace=True)\n",
    "\n",
    "# Ensure y_train has the same index\n",
    "y_train_reset = y_train.reset_index(drop=True)\n",
    "#I had the problem of NaN values in the vaccine_response column. By resetting the indexes this issue is resolved.\n",
    "\n",
    "# Add the target column to the t-SNE result\n",
    "tsne_result[\"vaccine_response\"] = y_train_reset\n",
    "\n",
    "# Check the result\n",
    "tsne_result"
   ]
  },
  {
   "cell_type": "markdown",
   "id": "d88a6a85",
   "metadata": {
    "papermill": {
     "duration": 0.03684,
     "end_time": "2024-12-08T10:17:19.594959",
     "exception": false,
     "start_time": "2024-12-08T10:17:19.558119",
     "status": "completed"
    },
    "tags": []
   },
   "source": [
    "> Visualization of t-SNE dimensions"
   ]
  },
  {
   "cell_type": "code",
   "execution_count": 39,
   "id": "0c5a7017",
   "metadata": {
    "execution": {
     "iopub.execute_input": "2024-12-08T10:17:19.661213Z",
     "iopub.status.busy": "2024-12-08T10:17:19.660768Z",
     "iopub.status.idle": "2024-12-08T10:17:19.914474Z",
     "shell.execute_reply": "2024-12-08T10:17:19.913266Z"
    },
    "papermill": {
     "duration": 0.289813,
     "end_time": "2024-12-08T10:17:19.916760",
     "exception": false,
     "start_time": "2024-12-08T10:17:19.626947",
     "status": "completed"
    },
    "tags": []
   },
   "outputs": [
    {
     "data": {
      "image/png": "[encoded data removed]",
      "text/plain": [
       "<Figure size 640x480 with 1 Axes>"
      ]
     },
     "metadata": {},
     "output_type": "display_data"
    }
   ],
   "source": [
    "fig, ax = plt.subplots()\n",
    "tmp = tsne_result[tsne_result[\"vaccine_response\"]==1]\n",
    "ax.plot(tmp[\"t-SNE_1\"], tmp[\"t-SNE_2\"], marker='o', linestyle='', ms=3, label=\"vaccine responder\")\n",
    "tmp = tsne_result[tsne_result[\"vaccine_response\"]==0]\n",
    "ax.plot(tmp[\"t-SNE_1\"], tmp[\"t-SNE_2\"], marker='o', linestyle='', ms=3, label=\"no vaccine responder\")\n",
    "ax.legend()\n",
    "plt.show()"
   ]
  },
  {
   "cell_type": "markdown",
   "id": "7093b533",
   "metadata": {
    "papermill": {
     "duration": 0.032276,
     "end_time": "2024-12-08T10:17:19.980641",
     "exception": false,
     "start_time": "2024-12-08T10:17:19.948365",
     "status": "completed"
    },
    "tags": []
   },
   "source": [
    "## Model training 2: DecisionTreeClassifier model"
   ]
  },
  {
   "cell_type": "markdown",
   "id": "ba46534a",
   "metadata": {
    "papermill": {
     "duration": 0.030845,
     "end_time": "2024-12-08T10:17:20.043671",
     "exception": false,
     "start_time": "2024-12-08T10:17:20.012826",
     "status": "completed"
    },
    "tags": []
   },
   "source": [
    "### Fit a DecisionTreeClassifier model"
   ]
  },
  {
   "cell_type": "markdown",
   "id": "bef1db5e",
   "metadata": {
    "papermill": {
     "duration": 0.029634,
     "end_time": "2024-12-08T10:17:20.103079",
     "exception": false,
     "start_time": "2024-12-08T10:17:20.073445",
     "status": "completed"
    },
    "tags": []
   },
   "source": [
    "Here we choose for a DecisionTreeClassifier instead of a DecisionTreeRegressor model, because the DecisionTreeClassifier is a better choice for predicting a categorical binary variable (vaccine_response)."
   ]
  },
  {
   "cell_type": "code",
   "execution_count": 40,
   "id": "7245cab2",
   "metadata": {
    "execution": {
     "iopub.execute_input": "2024-12-08T10:17:20.167355Z",
     "iopub.status.busy": "2024-12-08T10:17:20.166001Z",
     "iopub.status.idle": "2024-12-08T10:17:20.172025Z",
     "shell.execute_reply": "2024-12-08T10:17:20.170727Z"
    },
    "papermill": {
     "duration": 0.041023,
     "end_time": "2024-12-08T10:17:20.174681",
     "exception": false,
     "start_time": "2024-12-08T10:17:20.133658",
     "status": "completed"
    },
    "tags": []
   },
   "outputs": [],
   "source": [
    "from sklearn.tree import DecisionTreeClassifier"
   ]
  },
  {
   "cell_type": "code",
   "execution_count": 41,
   "id": "b59e69a4",
   "metadata": {
    "execution": {
     "iopub.execute_input": "2024-12-08T10:17:20.239341Z",
     "iopub.status.busy": "2024-12-08T10:17:20.238897Z",
     "iopub.status.idle": "2024-12-08T10:17:20.266006Z",
     "shell.execute_reply": "2024-12-08T10:17:20.264204Z"
    },
    "papermill": {
     "duration": 0.063236,
     "end_time": "2024-12-08T10:17:20.268632",
     "exception": false,
     "start_time": "2024-12-08T10:17:20.205396",
     "status": "completed"
    },
    "tags": []
   },
   "outputs": [
    {
     "data": {
      "text/html": [
       "<style>#sk-container-id-3 {color: black;background-color: white;}#sk-container-id-3 pre{padding: 0;}#sk-container-id-3 div.sk-toggleable {background-color: white;}#sk-container-id-3 label.sk-toggleable__label {cursor: pointer;display: block;width: 100%;margin-bottom: 0;padding: 0.3em;box-sizing: border-box;text-align: center;}#sk-container-id-3 label.sk-toggleable__label-arrow:before {content: \"▸\";float: left;margin-right: 0.25em;color: #696969;}#sk-container-id-3 label.sk-toggleable__label-arrow:hover:before {color: black;}#sk-container-id-3 div.sk-estimator:hover label.sk-toggleable__label-arrow:before {color: black;}#sk-container-id-3 div.sk-toggleable__content {max-height: 0;max-width: 0;overflow: hidden;text-align: left;background-color: #f0f8ff;}#sk-container-id-3 div.sk-toggleable__content pre {margin: 0.2em;color: black;border-radius: 0.25em;background-color: #f0f8ff;}#sk-container-id-3 input.sk-toggleable__control:checked~div.sk-toggleable__content {max-height: 200px;max-width: 100%;overflow: auto;}#sk-container-id-3 input.sk-toggleable__control:checked~label.sk-toggleable__label-arrow:before {content: \"▾\";}#sk-container-id-3 div.sk-estimator input.sk-toggleable__control:checked~label.sk-toggleable__label {background-color: #d4ebff;}#sk-container-id-3 div.sk-label input.sk-toggleable__control:checked~label.sk-toggleable__label {background-color: #d4ebff;}#sk-container-id-3 input.sk-hidden--visually {border: 0;clip: rect(1px 1px 1px 1px);clip: rect(1px, 1px, 1px, 1px);height: 1px;margin: -1px;overflow: hidden;padding: 0;position: absolute;width: 1px;}#sk-container-id-3 div.sk-estimator {font-family: monospace;background-color: #f0f8ff;border: 1px dotted black;border-radius: 0.25em;box-sizing: border-box;margin-bottom: 0.5em;}#sk-container-id-3 div.sk-estimator:hover {background-color: #d4ebff;}#sk-container-id-3 div.sk-parallel-item::after {content: \"\";width: 100%;border-bottom: 1px solid gray;flex-grow: 1;}#sk-container-id-3 div.sk-label:hover label.sk-toggleable__label {background-color: #d4ebff;}#sk-container-id-3 div.sk-serial::before {content: \"\";position: absolute;border-left: 1px solid gray;box-sizing: border-box;top: 0;bottom: 0;left: 50%;z-index: 0;}#sk-container-id-3 div.sk-serial {display: flex;flex-direction: column;align-items: center;background-color: white;padding-right: 0.2em;padding-left: 0.2em;position: relative;}#sk-container-id-3 div.sk-item {position: relative;z-index: 1;}#sk-container-id-3 div.sk-parallel {display: flex;align-items: stretch;justify-content: center;background-color: white;position: relative;}#sk-container-id-3 div.sk-item::before, #sk-container-id-3 div.sk-parallel-item::before {content: \"\";position: absolute;border-left: 1px solid gray;box-sizing: border-box;top: 0;bottom: 0;left: 50%;z-index: -1;}#sk-container-id-3 div.sk-parallel-item {display: flex;flex-direction: column;z-index: 1;position: relative;background-color: white;}#sk-container-id-3 div.sk-parallel-item:first-child::after {align-self: flex-end;width: 50%;}#sk-container-id-3 div.sk-parallel-item:last-child::after {align-self: flex-start;width: 50%;}#sk-container-id-3 div.sk-parallel-item:only-child::after {width: 0;}#sk-container-id-3 div.sk-dashed-wrapped {border: 1px dashed gray;margin: 0 0.4em 0.5em 0.4em;box-sizing: border-box;padding-bottom: 0.4em;background-color: white;}#sk-container-id-3 div.sk-label label {font-family: monospace;font-weight: bold;display: inline-block;line-height: 1.2em;}#sk-container-id-3 div.sk-label-container {text-align: center;}#sk-container-id-3 div.sk-container {/* jupyter's `normalize.less` sets `[hidden] { display: none; }` but bootstrap.min.css set `[hidden] { display: none !important; }` so we also need the `!important` here to be able to override the default hidden behavior on the sphinx rendered scikit-learn.org. See: https://github.com/scikit-learn/scikit-learn/issues/21755 */display: inline-block !important;position: relative;}#sk-container-id-3 div.sk-text-repr-fallback {display: none;}</style><div id=\"sk-container-id-3\" class=\"sk-top-container\"><div class=\"sk-text-repr-fallback\"><pre>DecisionTreeClassifier(random_state=42)</pre><b>In a Jupyter environment, please rerun this cell to show the HTML representation or trust the notebook. <br />On GitHub, the HTML representation is unable to render, please try loading this page with nbviewer.org.</b></div><div class=\"sk-container\" hidden><div class=\"sk-item\"><div class=\"sk-estimator sk-toggleable\"><input class=\"sk-toggleable__control sk-hidden--visually\" id=\"sk-estimator-id-3\" type=\"checkbox\" checked><label for=\"sk-estimator-id-3\" class=\"sk-toggleable__label sk-toggleable__label-arrow\">DecisionTreeClassifier</label><div class=\"sk-toggleable__content\"><pre>DecisionTreeClassifier(random_state=42)</pre></div></div></div></div></div>"
      ],
      "text/plain": [
       "DecisionTreeClassifier(random_state=42)"
      ]
     },
     "execution_count": 41,
     "metadata": {},
     "output_type": "execute_result"
    }
   ],
   "source": [
    "iowa_model = DecisionTreeClassifier(random_state = 42)\n",
    "\n",
    "#fit the model\n",
    "iowa_model.fit(X_train_std, y_train)\n",
    "iowa_model"
   ]
  },
  {
   "cell_type": "markdown",
   "id": "900a27b1",
   "metadata": {
    "papermill": {
     "duration": 0.031004,
     "end_time": "2024-12-08T10:17:20.329915",
     "exception": false,
     "start_time": "2024-12-08T10:17:20.298911",
     "status": "completed"
    },
    "tags": []
   },
   "source": [
    "Predictions for the datapoints in the test set (X_test_std)"
   ]
  },
  {
   "cell_type": "code",
   "execution_count": 42,
   "id": "cfe79173",
   "metadata": {
    "execution": {
     "iopub.execute_input": "2024-12-08T10:17:20.391573Z",
     "iopub.status.busy": "2024-12-08T10:17:20.391008Z",
     "iopub.status.idle": "2024-12-08T10:17:20.403449Z",
     "shell.execute_reply": "2024-12-08T10:17:20.402083Z"
    },
    "papermill": {
     "duration": 0.045707,
     "end_time": "2024-12-08T10:17:20.405675",
     "exception": false,
     "start_time": "2024-12-08T10:17:20.359968",
     "status": "completed"
    },
    "tags": []
   },
   "outputs": [
    {
     "name": "stdout",
     "output_type": "stream",
     "text": [
      "[0 0 1 0 0 0 0 0 0 0 0 0 0 1 1 0 0 0 0 1 0 0 0 1 1 1 0 1 0 0 0 0 1 0 0 0 0\n",
      " 0 0 0 1 1 0 1 0 1 0 0 0 0 1 0 0 0 0 1 0 1 0 0 0 1 1 1 0 0 1 1 0 0 1 0 0 0\n",
      " 0 0 0 1 1 0 0 0 1 0 1 0 0 0 1 0 1 0]\n"
     ]
    }
   ],
   "source": [
    "predictions = iowa_model.predict(X_test_std)\n",
    "print(predictions)"
   ]
  },
  {
   "cell_type": "markdown",
   "id": "32aac76b",
   "metadata": {
    "papermill": {
     "duration": 0.031015,
     "end_time": "2024-12-08T10:17:20.466995",
     "exception": false,
     "start_time": "2024-12-08T10:17:20.435980",
     "status": "completed"
    },
    "tags": []
   },
   "source": [
    "Are these correct?"
   ]
  },
  {
   "cell_type": "code",
   "execution_count": 43,
   "id": "026a9b16",
   "metadata": {
    "execution": {
     "iopub.execute_input": "2024-12-08T10:17:20.529697Z",
     "iopub.status.busy": "2024-12-08T10:17:20.529295Z",
     "iopub.status.idle": "2024-12-08T10:17:20.544527Z",
     "shell.execute_reply": "2024-12-08T10:17:20.543284Z"
    },
    "papermill": {
     "duration": 0.049668,
     "end_time": "2024-12-08T10:17:20.546992",
     "exception": false,
     "start_time": "2024-12-08T10:17:20.497324",
     "status": "completed"
    },
    "tags": []
   },
   "outputs": [
    {
     "name": "stdout",
     "output_type": "stream",
     "text": [
      "[0 0 1 0 0]\n"
     ]
    },
    {
     "data": {
      "text/plain": [
       "247    0\n",
       "298    0\n",
       "258    1\n",
       "293    0\n",
       "64     0\n",
       "Name: vaccine_response, dtype: int64"
      ]
     },
     "execution_count": 43,
     "metadata": {},
     "output_type": "execute_result"
    }
   ],
   "source": [
    "predictions = iowa_model.predict(X_test_std.head())\n",
    "print(predictions)\n",
    "y_test.head()"
   ]
  },
  {
   "cell_type": "markdown",
   "id": "048ab749",
   "metadata": {
    "papermill": {
     "duration": 0.032849,
     "end_time": "2024-12-08T10:17:20.610294",
     "exception": false,
     "start_time": "2024-12-08T10:17:20.577445",
     "status": "completed"
    },
    "tags": []
   },
   "source": [
    "We can see that for the first few results, the prediction was correct."
   ]
  },
  {
   "cell_type": "markdown",
   "id": "ba6ae6b3",
   "metadata": {
    "papermill": {
     "duration": 0.033026,
     "end_time": "2024-12-08T10:17:20.674232",
     "exception": false,
     "start_time": "2024-12-08T10:17:20.641206",
     "status": "completed"
    },
    "tags": []
   },
   "source": [
    "### Method Validation"
   ]
  },
  {
   "cell_type": "code",
   "execution_count": 44,
   "id": "608e1b4b",
   "metadata": {
    "execution": {
     "iopub.execute_input": "2024-12-08T10:17:20.736686Z",
     "iopub.status.busy": "2024-12-08T10:17:20.736234Z",
     "iopub.status.idle": "2024-12-08T10:17:20.750383Z",
     "shell.execute_reply": "2024-12-08T10:17:20.749372Z"
    },
    "papermill": {
     "duration": 0.048198,
     "end_time": "2024-12-08T10:17:20.752817",
     "exception": false,
     "start_time": "2024-12-08T10:17:20.704619",
     "status": "completed"
    },
    "tags": []
   },
   "outputs": [
    {
     "data": {
      "text/plain": [
       "0.010869565217391304"
      ]
     },
     "execution_count": 44,
     "metadata": {},
     "output_type": "execute_result"
    }
   ],
   "source": [
    "from sklearn.metrics import mean_absolute_error\n",
    "\n",
    "predictions = iowa_model.predict(X_test_std)\n",
    "mean_absolute_error(y_test, predictions)"
   ]
  },
  {
   "cell_type": "markdown",
   "id": "33c9922b",
   "metadata": {
    "papermill": {
     "duration": 0.030208,
     "end_time": "2024-12-08T10:17:20.813267",
     "exception": false,
     "start_time": "2024-12-08T10:17:20.783059",
     "status": "completed"
    },
    "tags": []
   },
   "source": [
    "With the MAE metric, we take the absolute value of each error. This converts each error to a positive number. We then take the average of those absolute errors. This is our measure of model quality. So on average, our predictions are off by about 0.01. This is quite low and can again be due to the class imbalance in the dataset."
   ]
  },
  {
   "cell_type": "code",
   "execution_count": 45,
   "id": "34c3bb71",
   "metadata": {
    "execution": {
     "iopub.execute_input": "2024-12-08T10:17:20.876352Z",
     "iopub.status.busy": "2024-12-08T10:17:20.875941Z",
     "iopub.status.idle": "2024-12-08T10:17:20.881971Z",
     "shell.execute_reply": "2024-12-08T10:17:20.880729Z"
    },
    "papermill": {
     "duration": 0.040965,
     "end_time": "2024-12-08T10:17:20.884531",
     "exception": false,
     "start_time": "2024-12-08T10:17:20.843566",
     "status": "completed"
    },
    "tags": []
   },
   "outputs": [],
   "source": [
    "def get_mae(max_leaf_nodes, X_train_std, X_test_std, y_train, y_test):\n",
    "    model = DecisionTreeClassifier(max_leaf_nodes=max_leaf_nodes, random_state=42)\n",
    "    model.fit(X_train_std, y_train)\n",
    "    preds_val = model.predict(X_test_std)\n",
    "    mae = mean_absolute_error(y_test, preds_val)\n",
    "    return mae"
   ]
  },
  {
   "cell_type": "code",
   "execution_count": 46,
   "id": "b869d4ce",
   "metadata": {
    "execution": {
     "iopub.execute_input": "2024-12-08T10:17:20.947629Z",
     "iopub.status.busy": "2024-12-08T10:17:20.947206Z",
     "iopub.status.idle": "2024-12-08T10:17:21.038963Z",
     "shell.execute_reply": "2024-12-08T10:17:21.037556Z"
    },
    "papermill": {
     "duration": 0.126784,
     "end_time": "2024-12-08T10:17:21.041580",
     "exception": false,
     "start_time": "2024-12-08T10:17:20.914796",
     "status": "completed"
    },
    "tags": []
   },
   "outputs": [
    {
     "name": "stdout",
     "output_type": "stream",
     "text": [
      "Max leaf nodes: 2  \t\t Mean Absolute Error:  0.010870\n",
      "Max leaf nodes: 3  \t\t Mean Absolute Error:  0.010870\n",
      "Max leaf nodes: 4  \t\t Mean Absolute Error:  0.010870\n",
      "Max leaf nodes: 5  \t\t Mean Absolute Error:  0.010870\n",
      "Max leaf nodes: 10  \t\t Mean Absolute Error:  0.010870\n",
      "Max leaf nodes: 100  \t\t Mean Absolute Error:  0.010870\n"
     ]
    }
   ],
   "source": [
    "for max_leaf_nodes in [2, 3, 4, 5, 10, 100]:\n",
    "    my_mae = get_mae(max_leaf_nodes, X_train_std, X_test_std, y_train, y_test)\n",
    "    print(\"Max leaf nodes: %d  \\t\\t Mean Absolute Error:  %f\" % (max_leaf_nodes, my_mae))"
   ]
  },
  {
   "cell_type": "markdown",
   "id": "35ddcba4",
   "metadata": {
    "papermill": {
     "duration": 0.030975,
     "end_time": "2024-12-08T10:17:21.104378",
     "exception": false,
     "start_time": "2024-12-08T10:17:21.073403",
     "status": "completed"
    },
    "tags": []
   },
   "source": [
    "We can see that after 2 leaves the mean absolute error stays the same. So 2 is the optimal number of leaves."
   ]
  },
  {
   "cell_type": "code",
   "execution_count": 47,
   "id": "555c2a0a",
   "metadata": {
    "execution": {
     "iopub.execute_input": "2024-12-08T10:17:21.169173Z",
     "iopub.status.busy": "2024-12-08T10:17:21.168700Z",
     "iopub.status.idle": "2024-12-08T10:17:21.266950Z",
     "shell.execute_reply": "2024-12-08T10:17:21.265656Z"
    },
    "papermill": {
     "duration": 0.132663,
     "end_time": "2024-12-08T10:17:21.269274",
     "exception": false,
     "start_time": "2024-12-08T10:17:21.136611",
     "status": "completed"
    },
    "tags": []
   },
   "outputs": [
    {
     "name": "stdout",
     "output_type": "stream",
     "text": [
      "Predictions: [0 0 1 0 0 0 0 0 0 0 0 0 0 1 1 0 0 0 0 1 0 0 0 1 1 1 0 1 0 0 0 0 1 0 0 0 0\n",
      " 0 0 0 1 1 0 1 0 1 0 0 0 0 1 0 0 0 0 1 0 1 0 0 0 1 1 1 0 0 1 1 0 0 1 0 0 0\n",
      " 0 0 0 1 1 0 0 0 1 0 1 0 0 0 1 0 1 0]\n",
      "Actual values: [0 0 1 0 0 0 0 0 0 0 0 0 0 1 1 0 0 0 0 1 0 0 0 1 1 1 0 0 0 0 0 0 1 0 0 0 0\n",
      " 0 0 0 1 1 0 1 0 1 0 0 0 0 1 0 0 0 0 1 0 1 0 0 0 1 1 1 0 0 1 1 0 0 1 0 0 0\n",
      " 0 0 0 1 1 0 0 0 1 0 1 0 0 0 1 0 1 0]\n",
      "Cross-validation scores: [0.         0.02325581 0.04761905 0.02380952 0.        ]\n",
      "Mean cross-validation score: 0.018936877076411958\n"
     ]
    }
   ],
   "source": [
    "from sklearn.model_selection import cross_val_score\n",
    "# Control the predictions with 2 leaves\n",
    "iowa_model = DecisionTreeClassifier(max_leaf_nodes=2, random_state=42)\n",
    "iowa_model.fit(X_train_std, y_train)\n",
    "preds_val = iowa_model.predict(X_test_std)\n",
    "print(\"Predictions:\", preds_val)\n",
    "print(\"Actual values:\", y_test.values)\n",
    "\n",
    "# Cross-validation\n",
    "scores = cross_val_score(iowa_model, X_train_std, y_train, cv=5, scoring='neg_mean_absolute_error')\n",
    "print(\"Cross-validation scores:\", -scores)\n",
    "print(\"Mean cross-validation score:\", -scores.mean())"
   ]
  },
  {
   "cell_type": "markdown",
   "id": "346618ed",
   "metadata": {
    "papermill": {
     "duration": 0.030513,
     "end_time": "2024-12-08T10:17:21.330979",
     "exception": false,
     "start_time": "2024-12-08T10:17:21.300466",
     "status": "completed"
    },
    "tags": []
   },
   "source": [
    "Visualization of the dicision tree"
   ]
  },
  {
   "cell_type": "code",
   "execution_count": 48,
   "id": "0dcab512",
   "metadata": {
    "execution": {
     "iopub.execute_input": "2024-12-08T10:17:21.394953Z",
     "iopub.status.busy": "2024-12-08T10:17:21.394562Z",
     "iopub.status.idle": "2024-12-08T10:17:21.729690Z",
     "shell.execute_reply": "2024-12-08T10:17:21.728432Z"
    },
    "papermill": {
     "duration": 0.370701,
     "end_time": "2024-12-08T10:17:21.732564",
     "exception": false,
     "start_time": "2024-12-08T10:17:21.361863",
     "status": "completed"
    },
    "tags": []
   },
   "outputs": [
    {
     "data": {
      "image/png": "[encoded data removed]",
      "text/plain": [
       "<Figure size 2000x1000 with 1 Axes>"
      ]
     },
     "metadata": {},
     "output_type": "display_data"
    }
   ],
   "source": [
    "from sklearn.tree import plot_tree\n",
    "plt.figure(figsize=(20,10))\n",
    "plot_tree(iowa_model, filled=True, feature_names=X.columns, rounded=True)\n",
    "plt.show()"
   ]
  },
  {
   "cell_type": "markdown",
   "id": "8d3c76ce",
   "metadata": {
    "papermill": {
     "duration": 0.033312,
     "end_time": "2024-12-08T10:17:21.800452",
     "exception": false,
     "start_time": "2024-12-08T10:17:21.767140",
     "status": "completed"
    },
    "tags": []
   },
   "source": [
    "The Gini index, also known as Gini impurity, is a measure used in decision trees to determine the quality of a split. It helps the algorithm decide which feature and threshold to use for splitting the data at each node. \n",
    "\n",
    "Gini impurity measures the likelihood of incorrectly classifying a randomly chosen element if it was randomly labeled according to the distribution of labels in the dataset. This is a value between 0 (perfect purity, where all elements belong to a single class) and 1 (maximum impurity, where elements are randomly distributed across various classes."
   ]
  },
  {
   "cell_type": "markdown",
   "id": "12a4fc72",
   "metadata": {
    "papermill": {
     "duration": 0.037591,
     "end_time": "2024-12-08T10:17:21.873491",
     "exception": false,
     "start_time": "2024-12-08T10:17:21.835900",
     "status": "completed"
    },
    "tags": []
   },
   "source": [
    "If we look back at the missing values in the experimental data in R (missing_values_exp), we see that for both these cell types there are 96% missing values. We splitted the dataset into responders and non-responders and imputated the mean values of all celtypes in both of these datasets. We can asssume here that all the missing in one of the groups, leading to an easy prediction."
   ]
  }
 ],
 "metadata": {
  "kaggle": {
   "accelerator": "none",
   "dataSources": [
    {
     "datasetId": 6249369,
     "sourceId": 10126892,
     "sourceType": "datasetVersion"
    }
   ],
   "dockerImageVersionId": 30804,
   "isGpuEnabled": false,
   "isInternetEnabled": false,
   "language": "python",
   "sourceType": "notebook"
  },
  "kernelspec": {
   "display_name": "Python 3",
   "language": "python",
   "name": "python3"
  },
  "language_info": {
   "codemirror_mode": {
    "name": "ipython",
    "version": 3
   },
   "file_extension": ".py",
   "mimetype": "text/x-python",
   "name": "python",
   "nbconvert_exporter": "python",
   "pygments_lexer": "ipython3",
   "version": "3.10.14"
  },
  "papermill": {
   "default_parameters": {},
   "duration": 23.937939,
   "end_time": "2024-12-08T10:17:22.632289",
   "environment_variables": {},
   "exception": null,
   "input_path": "__notebook__.ipynb",
   "output_path": "__notebook__.ipynb",
   "parameters": {},
   "start_time": "2024-12-08T10:16:58.694350",
   "version": "2.6.0"
  }
 },
 "nbformat": 4,
 "nbformat_minor": 5
}
